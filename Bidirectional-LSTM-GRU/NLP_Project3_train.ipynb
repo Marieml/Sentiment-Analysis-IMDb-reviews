{
  "cells": [
    {
      "cell_type": "markdown",
      "metadata": {
        "id": "o0Xluc0RwrTS"
      },
      "source": [
        "# Artificial Intelligence II (Deep Learning for Natural Language Processing)\n",
        "# Homework 3\n",
        "\n",
        "Name: Maria Miliou \\\n",
        "ID: 1115201300101 "
      ]
    },
    {
      "cell_type": "markdown",
      "metadata": {
        "id": "8hiL2rnuE5ry"
      },
      "source": [
        "## Import and install usefull packages"
      ]
    },
    {
      "cell_type": "markdown",
      "metadata": {
        "id": "QbCdL4UGFaLU"
      },
      "source": [
        "### Pandas, Numpy, Pytorch, sklearn, matplotlib"
      ]
    },
    {
      "cell_type": "code",
      "execution_count": 9,
      "metadata": {
        "id": "lhe-voDmwZxJ"
      },
      "outputs": [],
      "source": [
        "# Importing useful libraries\n",
        "import pandas as pd\n",
        "import numpy as np\n",
        "import matplotlib.pyplot as plt\n",
        "import torch\n",
        "import torch.nn as nn\n",
        "import string\n",
        "import random\n",
        "import os\n",
        "\n",
        "import re\n",
        "from sklearn.feature_extraction.text import ENGLISH_STOP_WORDS\n",
        "from scipy.linalg.decomp import empty\n",
        "from sklearn.metrics import f1_score, classification_report, recall_score,precision_score,confusion_matrix, ConfusionMatrixDisplay, accuracy_score, roc_auc_score, roc_curve, auc, RocCurveDisplay\n",
        "from sklearn.model_selection import train_test_split, cross_val_score\n",
        "from torchtext import data\n",
        "from nltk.lm import Vocabulary\n",
        "from torchtext.vocab import build_vocab_from_iterator\n"
      ]
    },
    {
      "cell_type": "code",
      "execution_count": 10,
      "metadata": {
        "colab": {
          "base_uri": "https://localhost:8080/"
        },
        "id": "YDozl4A3rn3T",
        "outputId": "fb170b81-a7d7-4c8c-b2a7-f9f87f984371"
      },
      "outputs": [
        {
          "output_type": "stream",
          "name": "stdout",
          "text": [
            "Working on: cpu\n"
          ]
        }
      ],
      "source": [
        "def set_seed(seed = 1234):\n",
        "    '''Sets the seed of the entire notebook so results are the same every time we run. This is for REPRODUCIBILITY.\n",
        "    '''\n",
        "    np.random.seed(seed)\n",
        "    random.seed(seed)\n",
        "    torch.manual_seed(seed)\n",
        "    torch.cuda.manual_seed(seed)\n",
        "    # When running on the CuDNN backend, two further options must be set\n",
        "    torch.backends.cudnn.deterministic = True\n",
        "    # Set a fixed value for the hash seed\n",
        "    os.environ['PYTHONHASHSEED'] = str(seed)\n",
        "    \n",
        "set_seed()\n",
        "\n",
        "device = 'cpu'\n",
        "print('Working on:', device)"
      ]
    },
    {
      "cell_type": "markdown",
      "metadata": {
        "id": "74QJkz6XFbt9"
      },
      "source": [
        "### NLTK (Natural Language Toolkit)\n",
        "To tokenize, lemmatize and remove stop words"
      ]
    },
    {
      "cell_type": "code",
      "execution_count": 11,
      "metadata": {
        "colab": {
          "base_uri": "https://localhost:8080/"
        },
        "id": "NmBZnbiMjubS",
        "outputId": "8fefd081-cb3f-42dc-9dad-ade97f50e268"
      },
      "outputs": [
        {
          "output_type": "stream",
          "name": "stdout",
          "text": [
            "Looking in indexes: https://pypi.org/simple, https://us-python.pkg.dev/colab-wheels/public/simple/\n",
            "Requirement already satisfied: nltk in /usr/local/lib/python3.8/dist-packages (3.7)\n",
            "Requirement already satisfied: joblib in /usr/local/lib/python3.8/dist-packages (from nltk) (1.2.0)\n",
            "Requirement already satisfied: click in /usr/local/lib/python3.8/dist-packages (from nltk) (7.1.2)\n",
            "Requirement already satisfied: tqdm in /usr/local/lib/python3.8/dist-packages (from nltk) (4.64.1)\n",
            "Requirement already satisfied: regex>=2021.8.3 in /usr/local/lib/python3.8/dist-packages (from nltk) (2022.6.2)\n"
          ]
        }
      ],
      "source": [
        "!pip install nltk"
      ]
    },
    {
      "cell_type": "code",
      "execution_count": 12,
      "metadata": {
        "colab": {
          "base_uri": "https://localhost:8080/"
        },
        "id": "kceeFyDemTpK",
        "outputId": "772bca6f-f397-4376-e8b1-baba5292fe51"
      },
      "outputs": [
        {
          "output_type": "stream",
          "name": "stderr",
          "text": [
            "[nltk_data] Downloading package stopwords to /root/nltk_data...\n",
            "[nltk_data]   Package stopwords is already up-to-date!\n",
            "[nltk_data] Downloading package omw-1.4 to /root/nltk_data...\n",
            "[nltk_data]   Package omw-1.4 is already up-to-date!\n",
            "[nltk_data] Downloading package wordnet to /root/nltk_data...\n",
            "[nltk_data]   Package wordnet is already up-to-date!\n"
          ]
        },
        {
          "output_type": "execute_result",
          "data": {
            "text/plain": [
              "True"
            ]
          },
          "metadata": {},
          "execution_count": 12
        }
      ],
      "source": [
        "import nltk\n",
        "from nltk.corpus import stopwords\n",
        "from nltk.tokenize import RegexpTokenizer\n",
        "from nltk.stem import WordNetLemmatizer\n",
        "\n",
        "nltk.download('stopwords')\n",
        "nltk.download('omw-1.4')\n",
        "nltk.download('wordnet')"
      ]
    },
    {
      "cell_type": "markdown",
      "metadata": {
        "id": "7lb6JuDoFxrR"
      },
      "source": [
        "### GloVE "
      ]
    },
    {
      "cell_type": "code",
      "execution_count": 13,
      "metadata": {
        "id": "6zO5i7HRxYoW"
      },
      "outputs": [],
      "source": [
        "#!wget http://nlp.stanford.edu/data/glove.6B.zip"
      ]
    },
    {
      "cell_type": "code",
      "execution_count": 14,
      "metadata": {
        "id": "9-WW-cx0yXVG"
      },
      "outputs": [],
      "source": [
        "#!ls -l\n",
        "#!unzip glove*.zip"
      ]
    },
    {
      "cell_type": "markdown",
      "source": [
        "### Optuna"
      ],
      "metadata": {
        "id": "3Y_qWdXdZW5q"
      }
    },
    {
      "cell_type": "code",
      "source": [
        "%pip install optuna"
      ],
      "metadata": {
        "colab": {
          "base_uri": "https://localhost:8080/"
        },
        "id": "hzUbKEWnZf0P",
        "outputId": "2b18d9a2-c312-4b19-f340-20175f688488"
      },
      "execution_count": 15,
      "outputs": [
        {
          "output_type": "stream",
          "name": "stdout",
          "text": [
            "Looking in indexes: https://pypi.org/simple, https://us-python.pkg.dev/colab-wheels/public/simple/\n",
            "Requirement already satisfied: optuna in /usr/local/lib/python3.8/dist-packages (3.1.0)\n",
            "Requirement already satisfied: PyYAML in /usr/local/lib/python3.8/dist-packages (from optuna) (6.0)\n",
            "Requirement already satisfied: colorlog in /usr/local/lib/python3.8/dist-packages (from optuna) (6.7.0)\n",
            "Requirement already satisfied: numpy in /usr/local/lib/python3.8/dist-packages (from optuna) (1.21.6)\n",
            "Requirement already satisfied: sqlalchemy>=1.3.0 in /usr/local/lib/python3.8/dist-packages (from optuna) (1.4.46)\n",
            "Requirement already satisfied: tqdm in /usr/local/lib/python3.8/dist-packages (from optuna) (4.64.1)\n",
            "Requirement already satisfied: alembic>=1.5.0 in /usr/local/lib/python3.8/dist-packages (from optuna) (1.9.2)\n",
            "Requirement already satisfied: cmaes>=0.9.1 in /usr/local/lib/python3.8/dist-packages (from optuna) (0.9.1)\n",
            "Requirement already satisfied: packaging>=20.0 in /usr/local/lib/python3.8/dist-packages (from optuna) (21.3)\n",
            "Requirement already satisfied: importlib-resources in /usr/local/lib/python3.8/dist-packages (from alembic>=1.5.0->optuna) (5.10.2)\n",
            "Requirement already satisfied: importlib-metadata in /usr/local/lib/python3.8/dist-packages (from alembic>=1.5.0->optuna) (6.0.0)\n",
            "Requirement already satisfied: Mako in /usr/local/lib/python3.8/dist-packages (from alembic>=1.5.0->optuna) (1.2.4)\n",
            "Requirement already satisfied: pyparsing!=3.0.5,>=2.0.2 in /usr/local/lib/python3.8/dist-packages (from packaging>=20.0->optuna) (3.0.9)\n",
            "Requirement already satisfied: greenlet!=0.4.17 in /usr/local/lib/python3.8/dist-packages (from sqlalchemy>=1.3.0->optuna) (2.0.1)\n",
            "Requirement already satisfied: zipp>=0.5 in /usr/local/lib/python3.8/dist-packages (from importlib-metadata->alembic>=1.5.0->optuna) (3.11.0)\n",
            "Requirement already satisfied: MarkupSafe>=0.9.2 in /usr/local/lib/python3.8/dist-packages (from Mako->alembic>=1.5.0->optuna) (2.0.1)\n"
          ]
        }
      ]
    },
    {
      "cell_type": "markdown",
      "metadata": {
        "id": "n3AfzzLtwwP-"
      },
      "source": [
        "## Loading and Exploring Dataset\n"
      ]
    },
    {
      "cell_type": "code",
      "execution_count": 16,
      "metadata": {
        "colab": {
          "base_uri": "https://localhost:8080/"
        },
        "id": "helqhXMVwvre",
        "outputId": "d3ed0c84-d28b-4df4-e411-c9ead2dbfa03"
      },
      "outputs": [
        {
          "output_type": "stream",
          "name": "stdout",
          "text": [
            "Mounted at /content/drive\n"
          ]
        }
      ],
      "source": [
        "# Data file located at git\n",
        "from google.colab import drive\n",
        "drive.mount('/content/drive')"
      ]
    },
    {
      "cell_type": "markdown",
      "metadata": {
        "id": "37yJeYBIh03e"
      },
      "source": [
        "### Loading train set"
      ]
    },
    {
      "cell_type": "code",
      "execution_count": 17,
      "metadata": {
        "colab": {
          "base_uri": "https://localhost:8080/",
          "height": 0
        },
        "id": "J51ZlGbFw01d",
        "outputId": "5de53d43-9468-48c6-bd0a-be74eecc9b15"
      },
      "outputs": [
        {
          "output_type": "stream",
          "name": "stdout",
          "text": [
            "             rating\n",
            "count  45008.000000\n",
            "mean       5.481914\n",
            "std        3.494293\n",
            "min        1.000000\n",
            "25%        2.000000\n",
            "50%        7.000000\n",
            "75%        9.000000\n",
            "max       10.000000\n"
          ]
        },
        {
          "output_type": "execute_result",
          "data": {
            "text/plain": [
              "                                                url  rating  \\\n",
              "0  http://www.imdb.com/title/tt0120623/usercomments    10.0   \n",
              "1  http://www.imdb.com/title/tt0043117/usercomments     9.0   \n",
              "2  http://www.imdb.com/title/tt0043117/usercomments    10.0   \n",
              "3  http://www.imdb.com/title/tt0835204/usercomments     4.0   \n",
              "4  http://www.imdb.com/title/tt0499603/usercomments    10.0   \n",
              "\n",
              "                                              review  \n",
              "0  I thought this was a quiet good movie. It was ...  \n",
              "1  Wagon Master is a very unique film amongst Joh...  \n",
              "2  This film has to be as near to perfect a film ...  \n",
              "3  I gave this 4 stars because it has a lot of in...  \n",
              "4  This movie is really genuine and random. It's ...  "
            ],
            "text/html": [
              "\n",
              "  <div id=\"df-f7b63772-a437-42c2-9b0c-115ae533beee\">\n",
              "    <div class=\"colab-df-container\">\n",
              "      <div>\n",
              "<style scoped>\n",
              "    .dataframe tbody tr th:only-of-type {\n",
              "        vertical-align: middle;\n",
              "    }\n",
              "\n",
              "    .dataframe tbody tr th {\n",
              "        vertical-align: top;\n",
              "    }\n",
              "\n",
              "    .dataframe thead th {\n",
              "        text-align: right;\n",
              "    }\n",
              "</style>\n",
              "<table border=\"1\" class=\"dataframe\">\n",
              "  <thead>\n",
              "    <tr style=\"text-align: right;\">\n",
              "      <th></th>\n",
              "      <th>url</th>\n",
              "      <th>rating</th>\n",
              "      <th>review</th>\n",
              "    </tr>\n",
              "  </thead>\n",
              "  <tbody>\n",
              "    <tr>\n",
              "      <th>0</th>\n",
              "      <td>http://www.imdb.com/title/tt0120623/usercomments</td>\n",
              "      <td>10.0</td>\n",
              "      <td>I thought this was a quiet good movie. It was ...</td>\n",
              "    </tr>\n",
              "    <tr>\n",
              "      <th>1</th>\n",
              "      <td>http://www.imdb.com/title/tt0043117/usercomments</td>\n",
              "      <td>9.0</td>\n",
              "      <td>Wagon Master is a very unique film amongst Joh...</td>\n",
              "    </tr>\n",
              "    <tr>\n",
              "      <th>2</th>\n",
              "      <td>http://www.imdb.com/title/tt0043117/usercomments</td>\n",
              "      <td>10.0</td>\n",
              "      <td>This film has to be as near to perfect a film ...</td>\n",
              "    </tr>\n",
              "    <tr>\n",
              "      <th>3</th>\n",
              "      <td>http://www.imdb.com/title/tt0835204/usercomments</td>\n",
              "      <td>4.0</td>\n",
              "      <td>I gave this 4 stars because it has a lot of in...</td>\n",
              "    </tr>\n",
              "    <tr>\n",
              "      <th>4</th>\n",
              "      <td>http://www.imdb.com/title/tt0499603/usercomments</td>\n",
              "      <td>10.0</td>\n",
              "      <td>This movie is really genuine and random. It's ...</td>\n",
              "    </tr>\n",
              "  </tbody>\n",
              "</table>\n",
              "</div>\n",
              "      <button class=\"colab-df-convert\" onclick=\"convertToInteractive('df-f7b63772-a437-42c2-9b0c-115ae533beee')\"\n",
              "              title=\"Convert this dataframe to an interactive table.\"\n",
              "              style=\"display:none;\">\n",
              "        \n",
              "  <svg xmlns=\"http://www.w3.org/2000/svg\" height=\"24px\"viewBox=\"0 0 24 24\"\n",
              "       width=\"24px\">\n",
              "    <path d=\"M0 0h24v24H0V0z\" fill=\"none\"/>\n",
              "    <path d=\"M18.56 5.44l.94 2.06.94-2.06 2.06-.94-2.06-.94-.94-2.06-.94 2.06-2.06.94zm-11 1L8.5 8.5l.94-2.06 2.06-.94-2.06-.94L8.5 2.5l-.94 2.06-2.06.94zm10 10l.94 2.06.94-2.06 2.06-.94-2.06-.94-.94-2.06-.94 2.06-2.06.94z\"/><path d=\"M17.41 7.96l-1.37-1.37c-.4-.4-.92-.59-1.43-.59-.52 0-1.04.2-1.43.59L10.3 9.45l-7.72 7.72c-.78.78-.78 2.05 0 2.83L4 21.41c.39.39.9.59 1.41.59.51 0 1.02-.2 1.41-.59l7.78-7.78 2.81-2.81c.8-.78.8-2.07 0-2.86zM5.41 20L4 18.59l7.72-7.72 1.47 1.35L5.41 20z\"/>\n",
              "  </svg>\n",
              "      </button>\n",
              "      \n",
              "  <style>\n",
              "    .colab-df-container {\n",
              "      display:flex;\n",
              "      flex-wrap:wrap;\n",
              "      gap: 12px;\n",
              "    }\n",
              "\n",
              "    .colab-df-convert {\n",
              "      background-color: #E8F0FE;\n",
              "      border: none;\n",
              "      border-radius: 50%;\n",
              "      cursor: pointer;\n",
              "      display: none;\n",
              "      fill: #1967D2;\n",
              "      height: 32px;\n",
              "      padding: 0 0 0 0;\n",
              "      width: 32px;\n",
              "    }\n",
              "\n",
              "    .colab-df-convert:hover {\n",
              "      background-color: #E2EBFA;\n",
              "      box-shadow: 0px 1px 2px rgba(60, 64, 67, 0.3), 0px 1px 3px 1px rgba(60, 64, 67, 0.15);\n",
              "      fill: #174EA6;\n",
              "    }\n",
              "\n",
              "    [theme=dark] .colab-df-convert {\n",
              "      background-color: #3B4455;\n",
              "      fill: #D2E3FC;\n",
              "    }\n",
              "\n",
              "    [theme=dark] .colab-df-convert:hover {\n",
              "      background-color: #434B5C;\n",
              "      box-shadow: 0px 1px 3px 1px rgba(0, 0, 0, 0.15);\n",
              "      filter: drop-shadow(0px 1px 2px rgba(0, 0, 0, 0.3));\n",
              "      fill: #FFFFFF;\n",
              "    }\n",
              "  </style>\n",
              "\n",
              "      <script>\n",
              "        const buttonEl =\n",
              "          document.querySelector('#df-f7b63772-a437-42c2-9b0c-115ae533beee button.colab-df-convert');\n",
              "        buttonEl.style.display =\n",
              "          google.colab.kernel.accessAllowed ? 'block' : 'none';\n",
              "\n",
              "        async function convertToInteractive(key) {\n",
              "          const element = document.querySelector('#df-f7b63772-a437-42c2-9b0c-115ae533beee');\n",
              "          const dataTable =\n",
              "            await google.colab.kernel.invokeFunction('convertToInteractive',\n",
              "                                                     [key], {});\n",
              "          if (!dataTable) return;\n",
              "\n",
              "          const docLinkHtml = 'Like what you see? Visit the ' +\n",
              "            '<a target=\"_blank\" href=https://colab.research.google.com/notebooks/data_table.ipynb>data table notebook</a>'\n",
              "            + ' to learn more about interactive tables.';\n",
              "          element.innerHTML = '';\n",
              "          dataTable['output_type'] = 'display_data';\n",
              "          await google.colab.output.renderOutput(dataTable, element);\n",
              "          const docLink = document.createElement('div');\n",
              "          docLink.innerHTML = docLinkHtml;\n",
              "          element.appendChild(docLink);\n",
              "        }\n",
              "      </script>\n",
              "    </div>\n",
              "  </div>\n",
              "  "
            ]
          },
          "metadata": {},
          "execution_count": 17
        }
      ],
      "source": [
        "train_df = pd.read_csv(\"/content/drive/MyDrive/imdb-reviews.csv\", sep='\\t')\n",
        "\n",
        "print(train_df.describe())\n",
        "train_df.head()"
      ]
    },
    {
      "cell_type": "markdown",
      "metadata": {
        "id": "feFNUIpWh9ys"
      },
      "source": [
        "### Loading test set"
      ]
    },
    {
      "cell_type": "code",
      "execution_count": 18,
      "metadata": {
        "colab": {
          "base_uri": "https://localhost:8080/",
          "height": 367
        },
        "id": "ba3LhfhVh883",
        "outputId": "0ee8be91-784f-4c42-cb23-93a02ea4e917"
      },
      "outputs": [
        {
          "output_type": "stream",
          "name": "stdout",
          "text": [
            "            rating\n",
            "count  5401.000000\n",
            "mean      5.447695\n",
            "std       3.495698\n",
            "min       1.000000\n",
            "25%       2.000000\n",
            "50%       4.000000\n",
            "75%       9.000000\n",
            "max      10.000000\n"
          ]
        },
        {
          "output_type": "execute_result",
          "data": {
            "text/plain": [
              "                                              review  rating\n",
              "0  I saw this film at the 2002 Toronto Internatio...     9.0\n",
              "1  The Stock Market Crash of 1929 and the Depress...    10.0\n",
              "2  Basically this is an overlong, unfunny, action...     1.0\n",
              "3  And I am afraid that I cannot imagine why. It ...     1.0\n",
              "4  Bubbling just beneath the surface of Showtime ...     4.0"
            ],
            "text/html": [
              "\n",
              "  <div id=\"df-5ec09523-d70d-4114-b1a0-d74b05b31e64\">\n",
              "    <div class=\"colab-df-container\">\n",
              "      <div>\n",
              "<style scoped>\n",
              "    .dataframe tbody tr th:only-of-type {\n",
              "        vertical-align: middle;\n",
              "    }\n",
              "\n",
              "    .dataframe tbody tr th {\n",
              "        vertical-align: top;\n",
              "    }\n",
              "\n",
              "    .dataframe thead th {\n",
              "        text-align: right;\n",
              "    }\n",
              "</style>\n",
              "<table border=\"1\" class=\"dataframe\">\n",
              "  <thead>\n",
              "    <tr style=\"text-align: right;\">\n",
              "      <th></th>\n",
              "      <th>review</th>\n",
              "      <th>rating</th>\n",
              "    </tr>\n",
              "  </thead>\n",
              "  <tbody>\n",
              "    <tr>\n",
              "      <th>0</th>\n",
              "      <td>I saw this film at the 2002 Toronto Internatio...</td>\n",
              "      <td>9.0</td>\n",
              "    </tr>\n",
              "    <tr>\n",
              "      <th>1</th>\n",
              "      <td>The Stock Market Crash of 1929 and the Depress...</td>\n",
              "      <td>10.0</td>\n",
              "    </tr>\n",
              "    <tr>\n",
              "      <th>2</th>\n",
              "      <td>Basically this is an overlong, unfunny, action...</td>\n",
              "      <td>1.0</td>\n",
              "    </tr>\n",
              "    <tr>\n",
              "      <th>3</th>\n",
              "      <td>And I am afraid that I cannot imagine why. It ...</td>\n",
              "      <td>1.0</td>\n",
              "    </tr>\n",
              "    <tr>\n",
              "      <th>4</th>\n",
              "      <td>Bubbling just beneath the surface of Showtime ...</td>\n",
              "      <td>4.0</td>\n",
              "    </tr>\n",
              "  </tbody>\n",
              "</table>\n",
              "</div>\n",
              "      <button class=\"colab-df-convert\" onclick=\"convertToInteractive('df-5ec09523-d70d-4114-b1a0-d74b05b31e64')\"\n",
              "              title=\"Convert this dataframe to an interactive table.\"\n",
              "              style=\"display:none;\">\n",
              "        \n",
              "  <svg xmlns=\"http://www.w3.org/2000/svg\" height=\"24px\"viewBox=\"0 0 24 24\"\n",
              "       width=\"24px\">\n",
              "    <path d=\"M0 0h24v24H0V0z\" fill=\"none\"/>\n",
              "    <path d=\"M18.56 5.44l.94 2.06.94-2.06 2.06-.94-2.06-.94-.94-2.06-.94 2.06-2.06.94zm-11 1L8.5 8.5l.94-2.06 2.06-.94-2.06-.94L8.5 2.5l-.94 2.06-2.06.94zm10 10l.94 2.06.94-2.06 2.06-.94-2.06-.94-.94-2.06-.94 2.06-2.06.94z\"/><path d=\"M17.41 7.96l-1.37-1.37c-.4-.4-.92-.59-1.43-.59-.52 0-1.04.2-1.43.59L10.3 9.45l-7.72 7.72c-.78.78-.78 2.05 0 2.83L4 21.41c.39.39.9.59 1.41.59.51 0 1.02-.2 1.41-.59l7.78-7.78 2.81-2.81c.8-.78.8-2.07 0-2.86zM5.41 20L4 18.59l7.72-7.72 1.47 1.35L5.41 20z\"/>\n",
              "  </svg>\n",
              "      </button>\n",
              "      \n",
              "  <style>\n",
              "    .colab-df-container {\n",
              "      display:flex;\n",
              "      flex-wrap:wrap;\n",
              "      gap: 12px;\n",
              "    }\n",
              "\n",
              "    .colab-df-convert {\n",
              "      background-color: #E8F0FE;\n",
              "      border: none;\n",
              "      border-radius: 50%;\n",
              "      cursor: pointer;\n",
              "      display: none;\n",
              "      fill: #1967D2;\n",
              "      height: 32px;\n",
              "      padding: 0 0 0 0;\n",
              "      width: 32px;\n",
              "    }\n",
              "\n",
              "    .colab-df-convert:hover {\n",
              "      background-color: #E2EBFA;\n",
              "      box-shadow: 0px 1px 2px rgba(60, 64, 67, 0.3), 0px 1px 3px 1px rgba(60, 64, 67, 0.15);\n",
              "      fill: #174EA6;\n",
              "    }\n",
              "\n",
              "    [theme=dark] .colab-df-convert {\n",
              "      background-color: #3B4455;\n",
              "      fill: #D2E3FC;\n",
              "    }\n",
              "\n",
              "    [theme=dark] .colab-df-convert:hover {\n",
              "      background-color: #434B5C;\n",
              "      box-shadow: 0px 1px 3px 1px rgba(0, 0, 0, 0.15);\n",
              "      filter: drop-shadow(0px 1px 2px rgba(0, 0, 0, 0.3));\n",
              "      fill: #FFFFFF;\n",
              "    }\n",
              "  </style>\n",
              "\n",
              "      <script>\n",
              "        const buttonEl =\n",
              "          document.querySelector('#df-5ec09523-d70d-4114-b1a0-d74b05b31e64 button.colab-df-convert');\n",
              "        buttonEl.style.display =\n",
              "          google.colab.kernel.accessAllowed ? 'block' : 'none';\n",
              "\n",
              "        async function convertToInteractive(key) {\n",
              "          const element = document.querySelector('#df-5ec09523-d70d-4114-b1a0-d74b05b31e64');\n",
              "          const dataTable =\n",
              "            await google.colab.kernel.invokeFunction('convertToInteractive',\n",
              "                                                     [key], {});\n",
              "          if (!dataTable) return;\n",
              "\n",
              "          const docLinkHtml = 'Like what you see? Visit the ' +\n",
              "            '<a target=\"_blank\" href=https://colab.research.google.com/notebooks/data_table.ipynb>data table notebook</a>'\n",
              "            + ' to learn more about interactive tables.';\n",
              "          element.innerHTML = '';\n",
              "          dataTable['output_type'] = 'display_data';\n",
              "          await google.colab.output.renderOutput(dataTable, element);\n",
              "          const docLink = document.createElement('div');\n",
              "          docLink.innerHTML = docLinkHtml;\n",
              "          element.appendChild(docLink);\n",
              "        }\n",
              "      </script>\n",
              "    </div>\n",
              "  </div>\n",
              "  "
            ]
          },
          "metadata": {},
          "execution_count": 18
        }
      ],
      "source": [
        "test_df = pd.read_csv(\"/content/drive/MyDrive/imdb-reviews-test.csv\", sep='\\t') \n",
        "\n",
        "print(test_df.describe())\n",
        "test_df.head()"
      ]
    },
    {
      "cell_type": "markdown",
      "metadata": {
        "id": "kOvQGhsJiein"
      },
      "source": [
        "### Find sentiment"
      ]
    },
    {
      "cell_type": "code",
      "execution_count": 19,
      "metadata": {
        "colab": {
          "base_uri": "https://localhost:8080/",
          "height": 206
        },
        "id": "Rp-qZCZsw4dB",
        "outputId": "8ea9f577-57c1-4e62-ab41-e86c5eeead15"
      },
      "outputs": [
        {
          "output_type": "execute_result",
          "data": {
            "text/plain": [
              "                                                url  rating  \\\n",
              "0  http://www.imdb.com/title/tt0120623/usercomments    10.0   \n",
              "1  http://www.imdb.com/title/tt0043117/usercomments     9.0   \n",
              "2  http://www.imdb.com/title/tt0043117/usercomments    10.0   \n",
              "3  http://www.imdb.com/title/tt0835204/usercomments     4.0   \n",
              "4  http://www.imdb.com/title/tt0499603/usercomments    10.0   \n",
              "\n",
              "                                              review  sentiment  \n",
              "0  I thought this was a quiet good movie. It was ...          1  \n",
              "1  Wagon Master is a very unique film amongst Joh...          1  \n",
              "2  This film has to be as near to perfect a film ...          1  \n",
              "3  I gave this 4 stars because it has a lot of in...          0  \n",
              "4  This movie is really genuine and random. It's ...          1  "
            ],
            "text/html": [
              "\n",
              "  <div id=\"df-2ce310d5-98cd-4f63-8808-a89ba91e14fb\">\n",
              "    <div class=\"colab-df-container\">\n",
              "      <div>\n",
              "<style scoped>\n",
              "    .dataframe tbody tr th:only-of-type {\n",
              "        vertical-align: middle;\n",
              "    }\n",
              "\n",
              "    .dataframe tbody tr th {\n",
              "        vertical-align: top;\n",
              "    }\n",
              "\n",
              "    .dataframe thead th {\n",
              "        text-align: right;\n",
              "    }\n",
              "</style>\n",
              "<table border=\"1\" class=\"dataframe\">\n",
              "  <thead>\n",
              "    <tr style=\"text-align: right;\">\n",
              "      <th></th>\n",
              "      <th>url</th>\n",
              "      <th>rating</th>\n",
              "      <th>review</th>\n",
              "      <th>sentiment</th>\n",
              "    </tr>\n",
              "  </thead>\n",
              "  <tbody>\n",
              "    <tr>\n",
              "      <th>0</th>\n",
              "      <td>http://www.imdb.com/title/tt0120623/usercomments</td>\n",
              "      <td>10.0</td>\n",
              "      <td>I thought this was a quiet good movie. It was ...</td>\n",
              "      <td>1</td>\n",
              "    </tr>\n",
              "    <tr>\n",
              "      <th>1</th>\n",
              "      <td>http://www.imdb.com/title/tt0043117/usercomments</td>\n",
              "      <td>9.0</td>\n",
              "      <td>Wagon Master is a very unique film amongst Joh...</td>\n",
              "      <td>1</td>\n",
              "    </tr>\n",
              "    <tr>\n",
              "      <th>2</th>\n",
              "      <td>http://www.imdb.com/title/tt0043117/usercomments</td>\n",
              "      <td>10.0</td>\n",
              "      <td>This film has to be as near to perfect a film ...</td>\n",
              "      <td>1</td>\n",
              "    </tr>\n",
              "    <tr>\n",
              "      <th>3</th>\n",
              "      <td>http://www.imdb.com/title/tt0835204/usercomments</td>\n",
              "      <td>4.0</td>\n",
              "      <td>I gave this 4 stars because it has a lot of in...</td>\n",
              "      <td>0</td>\n",
              "    </tr>\n",
              "    <tr>\n",
              "      <th>4</th>\n",
              "      <td>http://www.imdb.com/title/tt0499603/usercomments</td>\n",
              "      <td>10.0</td>\n",
              "      <td>This movie is really genuine and random. It's ...</td>\n",
              "      <td>1</td>\n",
              "    </tr>\n",
              "  </tbody>\n",
              "</table>\n",
              "</div>\n",
              "      <button class=\"colab-df-convert\" onclick=\"convertToInteractive('df-2ce310d5-98cd-4f63-8808-a89ba91e14fb')\"\n",
              "              title=\"Convert this dataframe to an interactive table.\"\n",
              "              style=\"display:none;\">\n",
              "        \n",
              "  <svg xmlns=\"http://www.w3.org/2000/svg\" height=\"24px\"viewBox=\"0 0 24 24\"\n",
              "       width=\"24px\">\n",
              "    <path d=\"M0 0h24v24H0V0z\" fill=\"none\"/>\n",
              "    <path d=\"M18.56 5.44l.94 2.06.94-2.06 2.06-.94-2.06-.94-.94-2.06-.94 2.06-2.06.94zm-11 1L8.5 8.5l.94-2.06 2.06-.94-2.06-.94L8.5 2.5l-.94 2.06-2.06.94zm10 10l.94 2.06.94-2.06 2.06-.94-2.06-.94-.94-2.06-.94 2.06-2.06.94z\"/><path d=\"M17.41 7.96l-1.37-1.37c-.4-.4-.92-.59-1.43-.59-.52 0-1.04.2-1.43.59L10.3 9.45l-7.72 7.72c-.78.78-.78 2.05 0 2.83L4 21.41c.39.39.9.59 1.41.59.51 0 1.02-.2 1.41-.59l7.78-7.78 2.81-2.81c.8-.78.8-2.07 0-2.86zM5.41 20L4 18.59l7.72-7.72 1.47 1.35L5.41 20z\"/>\n",
              "  </svg>\n",
              "      </button>\n",
              "      \n",
              "  <style>\n",
              "    .colab-df-container {\n",
              "      display:flex;\n",
              "      flex-wrap:wrap;\n",
              "      gap: 12px;\n",
              "    }\n",
              "\n",
              "    .colab-df-convert {\n",
              "      background-color: #E8F0FE;\n",
              "      border: none;\n",
              "      border-radius: 50%;\n",
              "      cursor: pointer;\n",
              "      display: none;\n",
              "      fill: #1967D2;\n",
              "      height: 32px;\n",
              "      padding: 0 0 0 0;\n",
              "      width: 32px;\n",
              "    }\n",
              "\n",
              "    .colab-df-convert:hover {\n",
              "      background-color: #E2EBFA;\n",
              "      box-shadow: 0px 1px 2px rgba(60, 64, 67, 0.3), 0px 1px 3px 1px rgba(60, 64, 67, 0.15);\n",
              "      fill: #174EA6;\n",
              "    }\n",
              "\n",
              "    [theme=dark] .colab-df-convert {\n",
              "      background-color: #3B4455;\n",
              "      fill: #D2E3FC;\n",
              "    }\n",
              "\n",
              "    [theme=dark] .colab-df-convert:hover {\n",
              "      background-color: #434B5C;\n",
              "      box-shadow: 0px 1px 3px 1px rgba(0, 0, 0, 0.15);\n",
              "      filter: drop-shadow(0px 1px 2px rgba(0, 0, 0, 0.3));\n",
              "      fill: #FFFFFF;\n",
              "    }\n",
              "  </style>\n",
              "\n",
              "      <script>\n",
              "        const buttonEl =\n",
              "          document.querySelector('#df-2ce310d5-98cd-4f63-8808-a89ba91e14fb button.colab-df-convert');\n",
              "        buttonEl.style.display =\n",
              "          google.colab.kernel.accessAllowed ? 'block' : 'none';\n",
              "\n",
              "        async function convertToInteractive(key) {\n",
              "          const element = document.querySelector('#df-2ce310d5-98cd-4f63-8808-a89ba91e14fb');\n",
              "          const dataTable =\n",
              "            await google.colab.kernel.invokeFunction('convertToInteractive',\n",
              "                                                     [key], {});\n",
              "          if (!dataTable) return;\n",
              "\n",
              "          const docLinkHtml = 'Like what you see? Visit the ' +\n",
              "            '<a target=\"_blank\" href=https://colab.research.google.com/notebooks/data_table.ipynb>data table notebook</a>'\n",
              "            + ' to learn more about interactive tables.';\n",
              "          element.innerHTML = '';\n",
              "          dataTable['output_type'] = 'display_data';\n",
              "          await google.colab.output.renderOutput(dataTable, element);\n",
              "          const docLink = document.createElement('div');\n",
              "          docLink.innerHTML = docLinkHtml;\n",
              "          element.appendChild(docLink);\n",
              "        }\n",
              "      </script>\n",
              "    </div>\n",
              "  </div>\n",
              "  "
            ]
          },
          "metadata": {},
          "execution_count": 19
        }
      ],
      "source": [
        "#Train set\n",
        "train_df['sentiment'] = train_df['rating'].apply(lambda x:0 if x<=4.0 else 1)\n",
        "train_df.head()\n"
      ]
    },
    {
      "cell_type": "code",
      "execution_count": 20,
      "metadata": {
        "colab": {
          "base_uri": "https://localhost:8080/"
        },
        "id": "myz8A9X2ia9P",
        "outputId": "23aa177d-e4e1-4717-a6fd-06a11b867119"
      },
      "outputs": [
        {
          "output_type": "stream",
          "name": "stdout",
          "text": [
            "                                              review  rating  sentiment\n",
            "0  I saw this film at the 2002 Toronto Internatio...     9.0          1\n",
            "1  The Stock Market Crash of 1929 and the Depress...    10.0          1\n",
            "2  Basically this is an overlong, unfunny, action...     1.0          0\n",
            "3  And I am afraid that I cannot imagine why. It ...     1.0          0\n",
            "4  Bubbling just beneath the surface of Showtime ...     4.0          0\n"
          ]
        }
      ],
      "source": [
        "# Test set\n",
        "if not(test_df.empty):\n",
        "  test_df['sentiment'] = test_df['rating'].apply(lambda x:0 if x<=4.0 else 1)\n",
        "  print(test_df.head())"
      ]
    },
    {
      "cell_type": "markdown",
      "metadata": {
        "id": "Tts5jt_Xw7iR"
      },
      "source": [
        "##Data Pre-processing\n"
      ]
    },
    {
      "cell_type": "markdown",
      "metadata": {
        "id": "jv1NeYSED-hH"
      },
      "source": [
        "### Cleaning data from urls, email, digits and punctation and covert to lower case"
      ]
    },
    {
      "cell_type": "code",
      "execution_count": 21,
      "metadata": {
        "colab": {
          "base_uri": "https://localhost:8080/",
          "height": 0
        },
        "id": "dsmIzYhk1IYG",
        "outputId": "0a8056a6-7b42-4656-ca87-23ddcaccceac"
      },
      "outputs": [
        {
          "output_type": "execute_result",
          "data": {
            "text/plain": [
              "                                                url  rating  \\\n",
              "0  http://www.imdb.com/title/tt0120623/usercomments    10.0   \n",
              "1  http://www.imdb.com/title/tt0043117/usercomments     9.0   \n",
              "2  http://www.imdb.com/title/tt0043117/usercomments    10.0   \n",
              "3  http://www.imdb.com/title/tt0835204/usercomments     4.0   \n",
              "4  http://www.imdb.com/title/tt0499603/usercomments    10.0   \n",
              "\n",
              "                                              review  sentiment  \n",
              "0  i thought this was a quiet good movie it was f...          1  \n",
              "1  wagon master is a very unique film amongst joh...          1  \n",
              "2  this film has to be as near to perfect a film ...          1  \n",
              "3  i gave this  stars because it has a lot of int...          0  \n",
              "4  this movie is really genuine and random its re...          1  "
            ],
            "text/html": [
              "\n",
              "  <div id=\"df-1cb8fecb-0bcb-4b8e-a718-53ffd5edc413\">\n",
              "    <div class=\"colab-df-container\">\n",
              "      <div>\n",
              "<style scoped>\n",
              "    .dataframe tbody tr th:only-of-type {\n",
              "        vertical-align: middle;\n",
              "    }\n",
              "\n",
              "    .dataframe tbody tr th {\n",
              "        vertical-align: top;\n",
              "    }\n",
              "\n",
              "    .dataframe thead th {\n",
              "        text-align: right;\n",
              "    }\n",
              "</style>\n",
              "<table border=\"1\" class=\"dataframe\">\n",
              "  <thead>\n",
              "    <tr style=\"text-align: right;\">\n",
              "      <th></th>\n",
              "      <th>url</th>\n",
              "      <th>rating</th>\n",
              "      <th>review</th>\n",
              "      <th>sentiment</th>\n",
              "    </tr>\n",
              "  </thead>\n",
              "  <tbody>\n",
              "    <tr>\n",
              "      <th>0</th>\n",
              "      <td>http://www.imdb.com/title/tt0120623/usercomments</td>\n",
              "      <td>10.0</td>\n",
              "      <td>i thought this was a quiet good movie it was f...</td>\n",
              "      <td>1</td>\n",
              "    </tr>\n",
              "    <tr>\n",
              "      <th>1</th>\n",
              "      <td>http://www.imdb.com/title/tt0043117/usercomments</td>\n",
              "      <td>9.0</td>\n",
              "      <td>wagon master is a very unique film amongst joh...</td>\n",
              "      <td>1</td>\n",
              "    </tr>\n",
              "    <tr>\n",
              "      <th>2</th>\n",
              "      <td>http://www.imdb.com/title/tt0043117/usercomments</td>\n",
              "      <td>10.0</td>\n",
              "      <td>this film has to be as near to perfect a film ...</td>\n",
              "      <td>1</td>\n",
              "    </tr>\n",
              "    <tr>\n",
              "      <th>3</th>\n",
              "      <td>http://www.imdb.com/title/tt0835204/usercomments</td>\n",
              "      <td>4.0</td>\n",
              "      <td>i gave this  stars because it has a lot of int...</td>\n",
              "      <td>0</td>\n",
              "    </tr>\n",
              "    <tr>\n",
              "      <th>4</th>\n",
              "      <td>http://www.imdb.com/title/tt0499603/usercomments</td>\n",
              "      <td>10.0</td>\n",
              "      <td>this movie is really genuine and random its re...</td>\n",
              "      <td>1</td>\n",
              "    </tr>\n",
              "  </tbody>\n",
              "</table>\n",
              "</div>\n",
              "      <button class=\"colab-df-convert\" onclick=\"convertToInteractive('df-1cb8fecb-0bcb-4b8e-a718-53ffd5edc413')\"\n",
              "              title=\"Convert this dataframe to an interactive table.\"\n",
              "              style=\"display:none;\">\n",
              "        \n",
              "  <svg xmlns=\"http://www.w3.org/2000/svg\" height=\"24px\"viewBox=\"0 0 24 24\"\n",
              "       width=\"24px\">\n",
              "    <path d=\"M0 0h24v24H0V0z\" fill=\"none\"/>\n",
              "    <path d=\"M18.56 5.44l.94 2.06.94-2.06 2.06-.94-2.06-.94-.94-2.06-.94 2.06-2.06.94zm-11 1L8.5 8.5l.94-2.06 2.06-.94-2.06-.94L8.5 2.5l-.94 2.06-2.06.94zm10 10l.94 2.06.94-2.06 2.06-.94-2.06-.94-.94-2.06-.94 2.06-2.06.94z\"/><path d=\"M17.41 7.96l-1.37-1.37c-.4-.4-.92-.59-1.43-.59-.52 0-1.04.2-1.43.59L10.3 9.45l-7.72 7.72c-.78.78-.78 2.05 0 2.83L4 21.41c.39.39.9.59 1.41.59.51 0 1.02-.2 1.41-.59l7.78-7.78 2.81-2.81c.8-.78.8-2.07 0-2.86zM5.41 20L4 18.59l7.72-7.72 1.47 1.35L5.41 20z\"/>\n",
              "  </svg>\n",
              "      </button>\n",
              "      \n",
              "  <style>\n",
              "    .colab-df-container {\n",
              "      display:flex;\n",
              "      flex-wrap:wrap;\n",
              "      gap: 12px;\n",
              "    }\n",
              "\n",
              "    .colab-df-convert {\n",
              "      background-color: #E8F0FE;\n",
              "      border: none;\n",
              "      border-radius: 50%;\n",
              "      cursor: pointer;\n",
              "      display: none;\n",
              "      fill: #1967D2;\n",
              "      height: 32px;\n",
              "      padding: 0 0 0 0;\n",
              "      width: 32px;\n",
              "    }\n",
              "\n",
              "    .colab-df-convert:hover {\n",
              "      background-color: #E2EBFA;\n",
              "      box-shadow: 0px 1px 2px rgba(60, 64, 67, 0.3), 0px 1px 3px 1px rgba(60, 64, 67, 0.15);\n",
              "      fill: #174EA6;\n",
              "    }\n",
              "\n",
              "    [theme=dark] .colab-df-convert {\n",
              "      background-color: #3B4455;\n",
              "      fill: #D2E3FC;\n",
              "    }\n",
              "\n",
              "    [theme=dark] .colab-df-convert:hover {\n",
              "      background-color: #434B5C;\n",
              "      box-shadow: 0px 1px 3px 1px rgba(0, 0, 0, 0.15);\n",
              "      filter: drop-shadow(0px 1px 2px rgba(0, 0, 0, 0.3));\n",
              "      fill: #FFFFFF;\n",
              "    }\n",
              "  </style>\n",
              "\n",
              "      <script>\n",
              "        const buttonEl =\n",
              "          document.querySelector('#df-1cb8fecb-0bcb-4b8e-a718-53ffd5edc413 button.colab-df-convert');\n",
              "        buttonEl.style.display =\n",
              "          google.colab.kernel.accessAllowed ? 'block' : 'none';\n",
              "\n",
              "        async function convertToInteractive(key) {\n",
              "          const element = document.querySelector('#df-1cb8fecb-0bcb-4b8e-a718-53ffd5edc413');\n",
              "          const dataTable =\n",
              "            await google.colab.kernel.invokeFunction('convertToInteractive',\n",
              "                                                     [key], {});\n",
              "          if (!dataTable) return;\n",
              "\n",
              "          const docLinkHtml = 'Like what you see? Visit the ' +\n",
              "            '<a target=\"_blank\" href=https://colab.research.google.com/notebooks/data_table.ipynb>data table notebook</a>'\n",
              "            + ' to learn more about interactive tables.';\n",
              "          element.innerHTML = '';\n",
              "          dataTable['output_type'] = 'display_data';\n",
              "          await google.colab.output.renderOutput(dataTable, element);\n",
              "          const docLink = document.createElement('div');\n",
              "          docLink.innerHTML = docLinkHtml;\n",
              "          element.appendChild(docLink);\n",
              "        }\n",
              "      </script>\n",
              "    </div>\n",
              "  </div>\n",
              "  "
            ]
          },
          "metadata": {},
          "execution_count": 21
        }
      ],
      "source": [
        "def clean_data(df):\n",
        "  df['review'] = df['review'].replace(r'http\\S+', '', regex=True).replace(r'www\\S+', '', regex=True)\n",
        "  df['review'] = df['review'].replace(r'\\S*@\\S*\\s?', '', regex=True)\n",
        "  df['review'] = df['review'].str.replace('\\d+', '', regex=True)\n",
        "  df['review'] = df['review'].str.lower()\n",
        "  df['review'] = df['review'].apply(lambda x:''.join([i for i in x  if i not in string.punctuation]))\n",
        "\n",
        "clean_data(train_df)\n",
        "if not(test_df.empty):\n",
        "  clean_data(test_df)\n",
        "\n",
        "train_df.head()\n"
      ]
    },
    {
      "cell_type": "code",
      "execution_count": 22,
      "metadata": {
        "colab": {
          "base_uri": "https://localhost:8080/",
          "height": 0
        },
        "id": "daVYP8j3fFJb",
        "outputId": "c70e1137-1177-4928-d20c-3181e007c7b7"
      },
      "outputs": [
        {
          "output_type": "execute_result",
          "data": {
            "text/plain": [
              "                                              review  rating  sentiment\n",
              "0  i saw this film at the  toronto international ...     9.0          1\n",
              "1  the stock market crash of  and the depression ...    10.0          1\n",
              "2  basically this is an overlong unfunny actionco...     1.0          0\n",
              "3  and i am afraid that i cannot imagine why it r...     1.0          0\n",
              "4  bubbling just beneath the surface of showtime ...     4.0          0"
            ],
            "text/html": [
              "\n",
              "  <div id=\"df-2a415190-1488-4b7e-984e-4f51b612c829\">\n",
              "    <div class=\"colab-df-container\">\n",
              "      <div>\n",
              "<style scoped>\n",
              "    .dataframe tbody tr th:only-of-type {\n",
              "        vertical-align: middle;\n",
              "    }\n",
              "\n",
              "    .dataframe tbody tr th {\n",
              "        vertical-align: top;\n",
              "    }\n",
              "\n",
              "    .dataframe thead th {\n",
              "        text-align: right;\n",
              "    }\n",
              "</style>\n",
              "<table border=\"1\" class=\"dataframe\">\n",
              "  <thead>\n",
              "    <tr style=\"text-align: right;\">\n",
              "      <th></th>\n",
              "      <th>review</th>\n",
              "      <th>rating</th>\n",
              "      <th>sentiment</th>\n",
              "    </tr>\n",
              "  </thead>\n",
              "  <tbody>\n",
              "    <tr>\n",
              "      <th>0</th>\n",
              "      <td>i saw this film at the  toronto international ...</td>\n",
              "      <td>9.0</td>\n",
              "      <td>1</td>\n",
              "    </tr>\n",
              "    <tr>\n",
              "      <th>1</th>\n",
              "      <td>the stock market crash of  and the depression ...</td>\n",
              "      <td>10.0</td>\n",
              "      <td>1</td>\n",
              "    </tr>\n",
              "    <tr>\n",
              "      <th>2</th>\n",
              "      <td>basically this is an overlong unfunny actionco...</td>\n",
              "      <td>1.0</td>\n",
              "      <td>0</td>\n",
              "    </tr>\n",
              "    <tr>\n",
              "      <th>3</th>\n",
              "      <td>and i am afraid that i cannot imagine why it r...</td>\n",
              "      <td>1.0</td>\n",
              "      <td>0</td>\n",
              "    </tr>\n",
              "    <tr>\n",
              "      <th>4</th>\n",
              "      <td>bubbling just beneath the surface of showtime ...</td>\n",
              "      <td>4.0</td>\n",
              "      <td>0</td>\n",
              "    </tr>\n",
              "  </tbody>\n",
              "</table>\n",
              "</div>\n",
              "      <button class=\"colab-df-convert\" onclick=\"convertToInteractive('df-2a415190-1488-4b7e-984e-4f51b612c829')\"\n",
              "              title=\"Convert this dataframe to an interactive table.\"\n",
              "              style=\"display:none;\">\n",
              "        \n",
              "  <svg xmlns=\"http://www.w3.org/2000/svg\" height=\"24px\"viewBox=\"0 0 24 24\"\n",
              "       width=\"24px\">\n",
              "    <path d=\"M0 0h24v24H0V0z\" fill=\"none\"/>\n",
              "    <path d=\"M18.56 5.44l.94 2.06.94-2.06 2.06-.94-2.06-.94-.94-2.06-.94 2.06-2.06.94zm-11 1L8.5 8.5l.94-2.06 2.06-.94-2.06-.94L8.5 2.5l-.94 2.06-2.06.94zm10 10l.94 2.06.94-2.06 2.06-.94-2.06-.94-.94-2.06-.94 2.06-2.06.94z\"/><path d=\"M17.41 7.96l-1.37-1.37c-.4-.4-.92-.59-1.43-.59-.52 0-1.04.2-1.43.59L10.3 9.45l-7.72 7.72c-.78.78-.78 2.05 0 2.83L4 21.41c.39.39.9.59 1.41.59.51 0 1.02-.2 1.41-.59l7.78-7.78 2.81-2.81c.8-.78.8-2.07 0-2.86zM5.41 20L4 18.59l7.72-7.72 1.47 1.35L5.41 20z\"/>\n",
              "  </svg>\n",
              "      </button>\n",
              "      \n",
              "  <style>\n",
              "    .colab-df-container {\n",
              "      display:flex;\n",
              "      flex-wrap:wrap;\n",
              "      gap: 12px;\n",
              "    }\n",
              "\n",
              "    .colab-df-convert {\n",
              "      background-color: #E8F0FE;\n",
              "      border: none;\n",
              "      border-radius: 50%;\n",
              "      cursor: pointer;\n",
              "      display: none;\n",
              "      fill: #1967D2;\n",
              "      height: 32px;\n",
              "      padding: 0 0 0 0;\n",
              "      width: 32px;\n",
              "    }\n",
              "\n",
              "    .colab-df-convert:hover {\n",
              "      background-color: #E2EBFA;\n",
              "      box-shadow: 0px 1px 2px rgba(60, 64, 67, 0.3), 0px 1px 3px 1px rgba(60, 64, 67, 0.15);\n",
              "      fill: #174EA6;\n",
              "    }\n",
              "\n",
              "    [theme=dark] .colab-df-convert {\n",
              "      background-color: #3B4455;\n",
              "      fill: #D2E3FC;\n",
              "    }\n",
              "\n",
              "    [theme=dark] .colab-df-convert:hover {\n",
              "      background-color: #434B5C;\n",
              "      box-shadow: 0px 1px 3px 1px rgba(0, 0, 0, 0.15);\n",
              "      filter: drop-shadow(0px 1px 2px rgba(0, 0, 0, 0.3));\n",
              "      fill: #FFFFFF;\n",
              "    }\n",
              "  </style>\n",
              "\n",
              "      <script>\n",
              "        const buttonEl =\n",
              "          document.querySelector('#df-2a415190-1488-4b7e-984e-4f51b612c829 button.colab-df-convert');\n",
              "        buttonEl.style.display =\n",
              "          google.colab.kernel.accessAllowed ? 'block' : 'none';\n",
              "\n",
              "        async function convertToInteractive(key) {\n",
              "          const element = document.querySelector('#df-2a415190-1488-4b7e-984e-4f51b612c829');\n",
              "          const dataTable =\n",
              "            await google.colab.kernel.invokeFunction('convertToInteractive',\n",
              "                                                     [key], {});\n",
              "          if (!dataTable) return;\n",
              "\n",
              "          const docLinkHtml = 'Like what you see? Visit the ' +\n",
              "            '<a target=\"_blank\" href=https://colab.research.google.com/notebooks/data_table.ipynb>data table notebook</a>'\n",
              "            + ' to learn more about interactive tables.';\n",
              "          element.innerHTML = '';\n",
              "          dataTable['output_type'] = 'display_data';\n",
              "          await google.colab.output.renderOutput(dataTable, element);\n",
              "          const docLink = document.createElement('div');\n",
              "          docLink.innerHTML = docLinkHtml;\n",
              "          element.appendChild(docLink);\n",
              "        }\n",
              "      </script>\n",
              "    </div>\n",
              "  </div>\n",
              "  "
            ]
          },
          "metadata": {},
          "execution_count": 22
        }
      ],
      "source": [
        "test_df.head()"
      ]
    },
    {
      "cell_type": "markdown",
      "metadata": {
        "id": "yzXju_EaUag4"
      },
      "source": [
        "### Tokenization, lemmatization and remove stopwords"
      ]
    },
    {
      "cell_type": "code",
      "execution_count": 23,
      "metadata": {
        "id": "cwTSmKJOUuid"
      },
      "outputs": [],
      "source": [
        "# Define stop words\n",
        "def stopwrds():\n",
        "  mywords=frozenset(['not', 'no', 'didnt','cannot', 'couldnt', 'never'])\n",
        "  stopw = ENGLISH_STOP_WORDS.union(['br'])\n",
        "  stopw = stopw.difference(mywords)\n",
        "  return list(stopw)"
      ]
    },
    {
      "cell_type": "code",
      "execution_count": 24,
      "metadata": {
        "id": "9xQWwaMJUvhw"
      },
      "outputs": [],
      "source": [
        "def process_data(data):\n",
        "  tokenizer = RegexpTokenizer(r'\\w+')\n",
        "  wnl = WordNetLemmatizer()\n",
        "\n",
        "  # Tokenize\n",
        "  print(\"\\nTokenization\")\n",
        "  reviews=[]\n",
        "  for i in range(len(data)):\n",
        "    reviews.append(tokenizer.tokenize(data.iloc[i]))\n",
        "    \n",
        "  # Removing stop words\n",
        "  print(\"Removing stop words\")\n",
        "  reviews_stop=[]\n",
        "  for i in range(len(reviews)):\n",
        "    reviews_stop.append([word for word in reviews[i] if not word in stopwrds()])\n",
        "\n",
        "  # Lemmatize\n",
        "  print(\"Lemmatizing\")\n",
        "  reviews=[]\n",
        "  for i in range(len(reviews_stop)):\n",
        "    reviews.append([wnl.lemmatize(x) for x in reviews_stop[i]])\n",
        "  return reviews"
      ]
    },
    {
      "cell_type": "markdown",
      "metadata": {
        "id": "xJUie5ugE0pT"
      },
      "source": [
        "### GloVe"
      ]
    },
    {
      "cell_type": "markdown",
      "metadata": {
        "id": "Q-uRJpHyISAg"
      },
      "source": [
        "Transform GLOVe embeddings to Word2Vec format"
      ]
    },
    {
      "cell_type": "code",
      "execution_count": 25,
      "metadata": {
        "colab": {
          "base_uri": "https://localhost:8080/"
        },
        "id": "Gvkrfqn0xei-",
        "outputId": "68d0806d-b08a-4c73-c904-b790b2b45699"
      },
      "outputs": [
        {
          "output_type": "execute_result",
          "data": {
            "text/plain": [
              "(400000, 300)"
            ]
          },
          "metadata": {},
          "execution_count": 25
        }
      ],
      "source": [
        "from gensim.scripts.glove2word2vec import glove2word2vec\n",
        "\n",
        "glove_input_file = '/content/drive/MyDrive/glove.6B.300d.txt'\n",
        "w2v_output_file = 'glv_with_w2v_format.txt'\n",
        "\n",
        "glove2word2vec(glove_input_file, w2v_output_file)"
      ]
    },
    {
      "cell_type": "markdown",
      "metadata": {
        "id": "0VOhCxwpItH9"
      },
      "source": [
        "Create a map with words as keys and vectors as values \n"
      ]
    },
    {
      "cell_type": "code",
      "execution_count": 26,
      "metadata": {
        "id": "vPVU7l9RF1BR"
      },
      "outputs": [],
      "source": [
        "with open(w2v_output_file, 'r', encoding='UTF-8') as f:\n",
        "  words = set()\n",
        "  word_to_vec_map = {}\n",
        "  for line in f:\n",
        "    w_line = line.split()\n",
        "    curr_word = w_line[0]\n",
        "    word_to_vec_map[curr_word] = np.array(w_line[1:], dtype=np.float32)"
      ]
    },
    {
      "cell_type": "markdown",
      "metadata": {
        "id": "WaY5RUu-ESaO"
      },
      "source": [
        "### Split data to validation and train sets"
      ]
    },
    {
      "cell_type": "code",
      "execution_count": 27,
      "metadata": {
        "id": "BkDVW0CqxBhQ"
      },
      "outputs": [],
      "source": [
        "X_train, X_val, y_train, y_val = train_test_split(train_df['review'], train_df['sentiment'], test_size=0.2)\n"
      ]
    },
    {
      "cell_type": "markdown",
      "metadata": {
        "id": "6vZumtanNRDz"
      },
      "source": [
        "### Perform cleaning and create word vectors"
      ]
    },
    {
      "cell_type": "code",
      "execution_count": 28,
      "metadata": {
        "colab": {
          "base_uri": "https://localhost:8080/"
        },
        "id": "ufNcL1N4NcPX",
        "outputId": "3bf73b4a-13cb-4cc5-fbbe-deb5206751c7"
      },
      "outputs": [
        {
          "output_type": "stream",
          "name": "stdout",
          "text": [
            "\n",
            "Tokenization\n",
            "Removing stop words\n",
            "Lemmatizing\n"
          ]
        }
      ],
      "source": [
        "X_train=process_data(X_train)"
      ]
    },
    {
      "cell_type": "code",
      "execution_count": 29,
      "metadata": {
        "colab": {
          "base_uri": "https://localhost:8080/"
        },
        "id": "B1wLasekbbqL",
        "outputId": "31113ec1-223e-4f1b-f982-6816dbbee8cc"
      },
      "outputs": [
        {
          "output_type": "stream",
          "name": "stdout",
          "text": [
            "\n",
            "Tokenization\n",
            "Removing stop words\n",
            "Lemmatizing\n"
          ]
        }
      ],
      "source": [
        "X_val=process_data(X_val)\n"
      ]
    },
    {
      "cell_type": "code",
      "execution_count": 30,
      "metadata": {
        "colab": {
          "base_uri": "https://localhost:8080/"
        },
        "id": "6p0OcS4ObjFp",
        "outputId": "1d553921-9f19-44ea-cf57-995884962498"
      },
      "outputs": [
        {
          "output_type": "stream",
          "name": "stdout",
          "text": [
            "\n",
            "Tokenization\n",
            "Removing stop words\n",
            "Lemmatizing\n"
          ]
        }
      ],
      "source": [
        "X_test=process_data(test_df['review'])"
      ]
    },
    {
      "cell_type": "markdown",
      "metadata": {
        "id": "iqWuOqn3I3JL"
      },
      "source": [
        "Find the vocabulary of train data and create a embedding matrix where row i corresponds to embedding of word i in vocabulary"
      ]
    },
    {
      "cell_type": "code",
      "execution_count": 31,
      "metadata": {
        "id": "YGn9MmZt5PI7"
      },
      "outputs": [],
      "source": [
        "vocab=build_vocab_from_iterator(X_train,  specials=[\"<unk>\"], max_tokens=5000)"
      ]
    },
    {
      "cell_type": "code",
      "execution_count": 32,
      "metadata": {
        "colab": {
          "base_uri": "https://localhost:8080/"
        },
        "id": "gIlKNpSe8MZM",
        "outputId": "51403e3d-284a-47ba-9744-601b8bef2410"
      },
      "outputs": [
        {
          "output_type": "execute_result",
          "data": {
            "text/plain": [
              "{'rave': 4999,\n",
              " 'psychology': 4998,\n",
              " 'predict': 4997,\n",
              " 'millionaire': 4991,\n",
              " 'marvel': 4990,\n",
              " 'manbr': 4989,\n",
              " 'located': 4988,\n",
              " 'dive': 4979,\n",
              " 'critique': 4975,\n",
              " 'atrocity': 4971,\n",
              " 'akshay': 4968,\n",
              " 'surround': 4964,\n",
              " 'steady': 4962,\n",
              " 'specially': 4961,\n",
              " 'fascination': 4950,\n",
              " 'demonic': 4947,\n",
              " 'boxer': 4944,\n",
              " 'top': 4938,\n",
              " 'token': 4937,\n",
              " 'shoddy': 4935,\n",
              " 'olivier': 4928,\n",
              " 'nightclub': 4927,\n",
              " 'misguided': 4926,\n",
              " 'ma': 4925,\n",
              " 'jealousy': 4922,\n",
              " 'ignorance': 4921,\n",
              " 'damon': 4915,\n",
              " 'corporation': 4913,\n",
              " 'carell': 4910,\n",
              " 'attorney': 4909,\n",
              " 'willie': 4908,\n",
              " 'wholly': 4906,\n",
              " 'ash': 4970,\n",
              " 'studying': 4905,\n",
              " 'rolebr': 4959,\n",
              " 'scorsese': 4904,\n",
              " 'mechanical': 4900,\n",
              " 'transformed': 4966,\n",
              " 'lush': 4899,\n",
              " 'iv': 4894,\n",
              " 'hilarity': 4891,\n",
              " 'heartfelt': 4890,\n",
              " 'firmly': 4889,\n",
              " 'fanatic': 4888,\n",
              " 'erika': 4887,\n",
              " 'darn': 4883,\n",
              " 'crawl': 4882,\n",
              " 'camcorder': 4878,\n",
              " 'article': 4875,\n",
              " 'andre': 4873,\n",
              " 'spectacle': 4866,\n",
              " 'russo': 4863,\n",
              " 'raising': 4859,\n",
              " 'possession': 4858,\n",
              " 'marked': 4856,\n",
              " 'grainy': 4853,\n",
              " 'fire': 4851,\n",
              " 'decline': 4847,\n",
              " 'coppola': 4846,\n",
              " 'banal': 4877,\n",
              " 'controlled': 4845,\n",
              " 'continually': 4844,\n",
              " 'communicate': 4843,\n",
              " 'brat': 4840,\n",
              " 'bela': 4838,\n",
              " 'warrant': 4833,\n",
              " 'voiced': 4832,\n",
              " 'suspension': 4830,\n",
              " 'sheet': 4827,\n",
              " 'shaking': 4826,\n",
              " 'rejected': 4823,\n",
              " 'orange': 4817,\n",
              " 'modest': 4816,\n",
              " 'mids': 4815,\n",
              " 'kapoor': 4814,\n",
              " 'injured': 4812,\n",
              " 'hungry': 4811,\n",
              " 'hearted': 4810,\n",
              " 'gibson': 4807,\n",
              " 'daybr': 4800,\n",
              " 'bogart': 4798,\n",
              " 'beware': 4797,\n",
              " 'acid': 4795,\n",
              " 'wretched': 4793,\n",
              " 'visited': 4791,\n",
              " 'stunned': 4787,\n",
              " 'spade': 4786,\n",
              " 'someday': 4785,\n",
              " 'sleaze': 4784,\n",
              " 'simmons': 4783,\n",
              " 'resemble': 4781,\n",
              " 'quietly': 4779,\n",
              " 'primitive': 4778,\n",
              " 'nicolas': 4777,\n",
              " 'jackass': 4773,\n",
              " 'frightened': 4769,\n",
              " 'felix': 4767,\n",
              " 'compliment': 4764,\n",
              " 'appropriately': 4763,\n",
              " 'youngest': 4761,\n",
              " 'spit': 4756,\n",
              " 'rourke': 4754,\n",
              " 'otherbr': 4749,\n",
              " 'newcomer': 4747,\n",
              " 'shore': 4755,\n",
              " 'gregory': 4744,\n",
              " 'frog': 4742,\n",
              " 'fay': 4741,\n",
              " 'exterior': 4766,\n",
              " 'dobr': 4738,\n",
              " 'brenda': 4734,\n",
              " 'bettie': 4733,\n",
              " 'assuming': 4731,\n",
              " 'visible': 4728,\n",
              " 'span': 4725,\n",
              " 'scratch': 4723,\n",
              " 'route': 4722,\n",
              " 'remade': 4721,\n",
              " 'owned': 4719,\n",
              " 'olivia': 4718,\n",
              " 'eternal': 4709,\n",
              " 'enthusiasm': 4708,\n",
              " 'deleted': 4707,\n",
              " 'containing': 4706,\n",
              " 'communication': 4705,\n",
              " 'awaybr': 4703,\n",
              " 'alley': 4702,\n",
              " 'rhett': 4695,\n",
              " 'playboy': 4694,\n",
              " 'shouldve': 4697,\n",
              " 'motorcycle': 4692,\n",
              " 'misleading': 4691,\n",
              " 'minus': 4689,\n",
              " 'li': 4688,\n",
              " 'kathy': 4686,\n",
              " 'godzilla': 4684,\n",
              " 'drove': 4680,\n",
              " 'prequel': 4902,\n",
              " 'dickens': 4679,\n",
              " 'accomplish': 4677,\n",
              " 'withbr': 4676,\n",
              " 'weather': 4675,\n",
              " 'travolta': 4671,\n",
              " 'tactic': 4670,\n",
              " 'shared': 4667,\n",
              " 'muddled': 4665,\n",
              " 'lifted': 4663,\n",
              " 'fashioned': 4658,\n",
              " 'explosive': 4656,\n",
              " 'drake': 4655,\n",
              " 'differently': 4653,\n",
              " 'derivative': 4652,\n",
              " 'composition': 4649,\n",
              " 'choppy': 4646,\n",
              " 'acceptance': 4643,\n",
              " 'well': 4642,\n",
              " 'signed': 4639,\n",
              " 'shout': 4637,\n",
              " 'seal': 4635,\n",
              " 'obligatory': 4630,\n",
              " 'milk': 4628,\n",
              " 'mentality': 4627,\n",
              " 'inconsistent': 4622,\n",
              " 'imaginary': 4621,\n",
              " 'heel': 4619,\n",
              " 'demise': 4617,\n",
              " 'deceased': 4616,\n",
              " 'compelled': 4614,\n",
              " 'cheat': 4613,\n",
              " 'businessman': 4612,\n",
              " 'election': 4982,\n",
              " 'boxing': 4611,\n",
              " 'troma': 4606,\n",
              " 'tendency': 4604,\n",
              " 'gorilla': 4852,\n",
              " 'sunny': 4603,\n",
              " 'rightbr': 4599,\n",
              " 'lauren': 4594,\n",
              " 'hippie': 4590,\n",
              " 'hears': 4589,\n",
              " 'firm': 4587,\n",
              " 'embrace': 4585,\n",
              " 'clerk': 4579,\n",
              " 'wheel': 4571,\n",
              " 'velvet': 4570,\n",
              " 'repeating': 4565,\n",
              " 'modesty': 4561,\n",
              " 'legacy': 4559,\n",
              " 'knocked': 4558,\n",
              " 'jumped': 4557,\n",
              " 'posted': 4996,\n",
              " 'jacket': 4555,\n",
              " 'harmless': 4554,\n",
              " 'generated': 4553,\n",
              " 'correctly': 4550,\n",
              " 'bo': 4544,\n",
              " 'alcohol': 4541,\n",
              " 'voight': 4539,\n",
              " 'underneath': 4536,\n",
              " 'tacky': 4534,\n",
              " 'subpar': 4533,\n",
              " 'shouting': 4638,\n",
              " 'stark': 4532,\n",
              " 'samurai': 4529,\n",
              " 'rude': 4528,\n",
              " 'redneck': 4522,\n",
              " 'realised': 4521,\n",
              " 'charged': 4879,\n",
              " 'lively': 4519,\n",
              " 'gender': 4515,\n",
              " 'capital': 4510,\n",
              " 'wardrobe': 4508,\n",
              " 'stake': 4506,\n",
              " 'skeleton': 4504,\n",
              " 'secretly': 4503,\n",
              " 'retired': 4501,\n",
              " 'relax': 4500,\n",
              " 'questionable': 4496,\n",
              " 'murdering': 4491,\n",
              " 'explores': 4487,\n",
              " 'conan': 4484,\n",
              " 'cigarette': 4483,\n",
              " 'boyle': 4482,\n",
              " 'ambiguous': 4480,\n",
              " 'addict': 4479,\n",
              " 'wheres': 4475,\n",
              " 'tap': 4474,\n",
              " 'surviving': 4473,\n",
              " 'corman': 4881,\n",
              " 'static': 4471,\n",
              " 'perception': 4818,\n",
              " 'spirited': 4470,\n",
              " 'showdown': 4469,\n",
              " 'seymour': 4468,\n",
              " 'restored': 4466,\n",
              " 'feelgood': 4514,\n",
              " 'montana': 4459,\n",
              " 'invention': 4456,\n",
              " 'widely': 4792,\n",
              " 'file': 4454,\n",
              " 'claude': 4450,\n",
              " 'campaign': 4449,\n",
              " 'homer': 4620,\n",
              " 'wildly': 4446,\n",
              " 'symbolic': 4444,\n",
              " 'sung': 4443,\n",
              " 'rupert': 4442,\n",
              " 'kenneth': 4436,\n",
              " 'divine': 4431,\n",
              " 'desired': 4430,\n",
              " 'deserted': 4429,\n",
              " 'crossing': 4428,\n",
              " 'boom': 4424,\n",
              " 'atlantis': 4423,\n",
              " 'advanced': 4421,\n",
              " 'absent': 4420,\n",
              " 'virtual': 4416,\n",
              " 'unseen': 4414,\n",
              " 'turkish': 4413,\n",
              " 'tiresome': 4412,\n",
              " 'corps': 4451,\n",
              " 'severe': 4409,\n",
              " 'ponyo': 4406,\n",
              " 'nephew': 4403,\n",
              " 'middleaged': 4401,\n",
              " 'julian': 4398,\n",
              " 'fluff': 4952,\n",
              " 'funbr': 4552,\n",
              " 'invented': 4395,\n",
              " 'inability': 4394,\n",
              " 'hugh': 4393,\n",
              " 'heston': 4391,\n",
              " 'dump': 4388,\n",
              " 'bravo': 4386,\n",
              " 'awhile': 4385,\n",
              " 'austin': 4384,\n",
              " 'active': 4381,\n",
              " 'victory': 4377,\n",
              " 'pete': 4819,\n",
              " 'marshall': 4664,\n",
              " 'subjected': 4375,\n",
              " 'insanity': 4365,\n",
              " 'inexplicably': 4364,\n",
              " 'fascinated': 4361,\n",
              " 'falk': 4360,\n",
              " 'daddy': 4355,\n",
              " 'cyborg': 4354,\n",
              " 'construction': 4353,\n",
              " 'confess': 4352,\n",
              " 'brooklyn': 4349,\n",
              " 'barrel': 4347,\n",
              " 'tobr': 4343,\n",
              " 'sentiment': 4340,\n",
              " 'robber': 4338,\n",
              " 'ordered': 4336,\n",
              " 'ham': 4331,\n",
              " 'dame': 4327,\n",
              " 'credited': 4326,\n",
              " 'cheek': 4324,\n",
              " 'outline': 4956,\n",
              " 'champion': 4323,\n",
              " 'casual': 4322,\n",
              " 'cary': 4321,\n",
              " 'artificial': 4319,\n",
              " 'april': 4318,\n",
              " 'agency': 4316,\n",
              " 'nicholas': 4310,\n",
              " 'muchbr': 4309,\n",
              " 'hello': 4306,\n",
              " 'characterbr': 4301,\n",
              " 'altman': 4299,\n",
              " 'whale': 4296,\n",
              " 'thoughtprovoking': 4294,\n",
              " 'riot': 4293,\n",
              " 'rider': 4292,\n",
              " 'require': 4291,\n",
              " 'receives': 4290,\n",
              " 'loneliness': 4286,\n",
              " 'inferior': 4285,\n",
              " 'hart': 4284,\n",
              " 'glance': 4283,\n",
              " 'flame': 4280,\n",
              " 'femme': 4278,\n",
              " 'egyptian': 4276,\n",
              " 'anywaybr': 4382,\n",
              " 'disguise': 4275,\n",
              " 'rifle': 4312,\n",
              " 'softcore': 4268,\n",
              " 'refused': 4266,\n",
              " 'muppets': 4263,\n",
              " 'kicking': 4261,\n",
              " 'hopeless': 4258,\n",
              " 'diana': 4253,\n",
              " 'damned': 4252,\n",
              " 'contribution': 4250,\n",
              " 'leap': 4240,\n",
              " 'humble': 4239,\n",
              " 'feminist': 4237,\n",
              " 'dreary': 4236,\n",
              " 'clone': 4234,\n",
              " 'screw': 4225,\n",
              " 'ross': 4224,\n",
              " 'wilderness': 4871,\n",
              " 'rome': 4223,\n",
              " 'resist': 4222,\n",
              " 'attacking': 4876,\n",
              " 'realm': 4221,\n",
              " 'prepare': 4220,\n",
              " 'photograph': 4218,\n",
              " 'milo': 4215,\n",
              " 'marty': 4214,\n",
              " 'landing': 4213,\n",
              " 'kyle': 4212,\n",
              " 'gifted': 4209,\n",
              " 'elegant': 4208,\n",
              " 'disappear': 4206,\n",
              " 'commander': 4203,\n",
              " 'bedroom': 4202,\n",
              " 'stroke': 4198,\n",
              " 'stranded': 4197,\n",
              " 'romp': 4192,\n",
              " 'ritual': 4191,\n",
              " 'nonsensical': 4188,\n",
              " 'gal': 4179,\n",
              " 'expressed': 4177,\n",
              " 'cemetery': 4911,\n",
              " 'diehard': 4173,\n",
              " 'claimed': 4171,\n",
              " 'chess': 4170,\n",
              " 'chainsaw': 4169,\n",
              " 'ally': 4165,\n",
              " 'wellknown': 4163,\n",
              " 'greg': 4743,\n",
              " 'tripe': 4727,\n",
              " 'spoke': 4162,\n",
              " 'mason': 4157,\n",
              " 'map': 4156,\n",
              " 'greatness': 4154,\n",
              " 'golf': 4153,\n",
              " 'despair': 4151,\n",
              " 'corporate': 4148,\n",
              " 'confrontation': 4147,\n",
              " 'cake': 4144,\n",
              " 'civilian': 4842,\n",
              " 'vaguely': 4140,\n",
              " 'standout': 4137,\n",
              " 'remained': 4132,\n",
              " 'rely': 4131,\n",
              " 'reaching': 4129,\n",
              " 'pitiful': 4128,\n",
              " 'lowest': 4124,\n",
              " 'incomprehensible': 4122,\n",
              " 'gimmick': 4118,\n",
              " 'gesture': 4117,\n",
              " 'farfetched': 4984,\n",
              " 'disliked': 4115,\n",
              " 'depicting': 4114,\n",
              " 'cream': 4113,\n",
              " 'wishing': 4110,\n",
              " 'assumed': 4836,\n",
              " 'unsettling': 4108,\n",
              " 'soccer': 4105,\n",
              " 'niro': 4100,\n",
              " 'butler': 4168,\n",
              " 'irrelevant': 4098,\n",
              " 'guessed': 4095,\n",
              " 'earl': 4092,\n",
              " 'cruelty': 4090,\n",
              " 'understandable': 4087,\n",
              " 'tool': 4086,\n",
              " 'tends': 4085,\n",
              " 'taxi': 4084,\n",
              " 'straightforward': 4083,\n",
              " 'smell': 4082,\n",
              " 'refers': 4931,\n",
              " 'online': 4076,\n",
              " 'mann': 4074,\n",
              " 'henchman': 4071,\n",
              " 'dalton': 4065,\n",
              " 'alternate': 4060,\n",
              " 'wandering': 4059,\n",
              " 'screenbr': 4055,\n",
              " 'leigh': 4050,\n",
              " 'behaviour': 4348,\n",
              " 'habit': 4048,\n",
              " 'global': 4047,\n",
              " 'suspicion': 4411,\n",
              " 'frequent': 4046,\n",
              " 'deranged': 4045,\n",
              " 'awe': 4644,\n",
              " 'yelling': 4044,\n",
              " 'tracking': 4344,\n",
              " 'traffic': 4041,\n",
              " 'simultaneously': 4039,\n",
              " 'karate': 4035,\n",
              " 'hartley': 4032,\n",
              " 'buffalo': 4841,\n",
              " 'glover': 4031,\n",
              " 'garbo': 4030,\n",
              " 'ease': 4028,\n",
              " 'chop': 4026,\n",
              " 'cagney': 4024,\n",
              " 'uwe': 4021,\n",
              " 'lance': 4489,\n",
              " 'cleverly': 4302,\n",
              " 'useful': 4020,\n",
              " 'tyler': 4019,\n",
              " 'stilted': 4017,\n",
              " 'loaded': 4012,\n",
              " 'awfully': 4574,\n",
              " 'literature': 4011,\n",
              " 'laughably': 4010,\n",
              " 'introduce': 4009,\n",
              " 'inappropriate': 4007,\n",
              " 'frustrating': 4178,\n",
              " 'cube': 4002,\n",
              " 'variation': 4673,\n",
              " 'moody': 4185,\n",
              " 'branagh': 4000,\n",
              " 'understated': 3998,\n",
              " 'chooses': 4248,\n",
              " 'sue': 3996,\n",
              " 'carradine': 4146,\n",
              " 'staring': 3995,\n",
              " 'spacey': 3994,\n",
              " 'likewise': 4400,\n",
              " 'premiere': 3993,\n",
              " 'monk': 3991,\n",
              " 'karloff': 3989,\n",
              " 'ignorant': 3988,\n",
              " 'dysfunctional': 4886,\n",
              " 'horrifying': 3987,\n",
              " 'duck': 3984,\n",
              " 'selection': 4056,\n",
              " 'destiny': 3982,\n",
              " 'defend': 3981,\n",
              " 'avoided': 3980,\n",
              " 'venice': 3974,\n",
              " 'recommendation': 3968,\n",
              " 'promised': 3967,\n",
              " 'crocodile': 3959,\n",
              " 'comfort': 3958,\n",
              " 'bumbling': 3956,\n",
              " 'arrived': 3955,\n",
              " 'aboutbr': 3954,\n",
              " 'weakest': 3953,\n",
              " 'unoriginal': 3952,\n",
              " 'trashy': 3950,\n",
              " 'statue': 3949,\n",
              " 'prey': 3947,\n",
              " 'phantom': 4078,\n",
              " 'nostalgic': 3945,\n",
              " 'lily': 3943,\n",
              " 'heading': 4257,\n",
              " 'fisher': 3941,\n",
              " 'exploration': 3940,\n",
              " 'carlos': 4548,\n",
              " 'education': 3937,\n",
              " 'contained': 3936,\n",
              " 'catchy': 4232,\n",
              " 'conceived': 3935,\n",
              " 'barney': 3933,\n",
              " 'banned': 3932,\n",
              " 'rocky': 4133,\n",
              " 'region': 3928,\n",
              " 'hindi': 4771,\n",
              " 'proceeds': 3927,\n",
              " 'absurdity': 4572,\n",
              " 'pale': 3926,\n",
              " 'creativity': 3918,\n",
              " 'apocalypse': 3915,\n",
              " 'writes': 3912,\n",
              " 'spain': 3910,\n",
              " 'prom': 3907,\n",
              " 'onedimensional': 3906,\n",
              " 'marketing': 3903,\n",
              " 'imitation': 3902,\n",
              " 'floating': 3900,\n",
              " 'expose': 3897,\n",
              " 'disappeared': 3894,\n",
              " 'considerable': 3893,\n",
              " 'assault': 3889,\n",
              " 'ranch': 4860,\n",
              " 'uneven': 3887,\n",
              " 'suggested': 3885,\n",
              " 'shirley': 3884,\n",
              " 'notbr': 3882,\n",
              " 'voyage': 4314,\n",
              " 'newman': 3881,\n",
              " 'liner': 3878,\n",
              " 'corn': 4736,\n",
              " 'layer': 3877,\n",
              " 'document': 3870,\n",
              " 'capturing': 3865,\n",
              " 'bronson': 3863,\n",
              " 'aaron': 3859,\n",
              " 'thompson': 3857,\n",
              " 'arab': 4940,\n",
              " 'superhero': 3855,\n",
              " 'succeeded': 3854,\n",
              " 'referred': 4564,\n",
              " 'resource': 3850,\n",
              " 'puzzle': 3849,\n",
              " 'pose': 3847,\n",
              " 'jordan': 4714,\n",
              " 'immigrant': 3845,\n",
              " 'fed': 3842,\n",
              " 'bay': 3838,\n",
              " 'advise': 3836,\n",
              " 'christie': 4274,\n",
              " 'equivalent': 4116,\n",
              " 'underlying': 3833,\n",
              " 'troop': 3832,\n",
              " 'tonight': 3831,\n",
              " 'thoughtful': 3830,\n",
              " 'plausible': 3829,\n",
              " 'pattern': 3828,\n",
              " 'mentioning': 3827,\n",
              " 'grasp': 3875,\n",
              " 'joined': 3825,\n",
              " 'gypsy': 3823,\n",
              " 'dutch': 3821,\n",
              " 'madebr': 4716,\n",
              " 'donna': 3820,\n",
              " 'che': 3816,\n",
              " 'widescreen': 3813,\n",
              " 'forcing': 4660,\n",
              " 'volume': 3812,\n",
              " 'suitable': 3810,\n",
              " 'riveting': 3806,\n",
              " 'remove': 3805,\n",
              " 'kurt': 3799,\n",
              " 'illogical': 3797,\n",
              " 'harvey': 4033,\n",
              " 'hamilton': 3796,\n",
              " 'hogan': 4985,\n",
              " 'enjoys': 3794,\n",
              " 'divorce': 3793,\n",
              " 'depressed': 3792,\n",
              " 'annie': 3788,\n",
              " 'purchase': 3780,\n",
              " 'idol': 4854,\n",
              " 'property': 3779,\n",
              " 'mankind': 3777,\n",
              " 'minister': 4629,\n",
              " 'graham': 3775,\n",
              " 'fond': 3772,\n",
              " 'feed': 3771,\n",
              " 'cg': 3769,\n",
              " 'venture': 3766,\n",
              " 'stale': 4342,\n",
              " 'soprano': 3763,\n",
              " 'schlock': 4932,\n",
              " 'pursuit': 3761,\n",
              " 'principle': 3760,\n",
              " 'mistress': 3758,\n",
              " 'harold': 4516,\n",
              " 'ruthless': 3929,\n",
              " 'stress': 3753,\n",
              " 'morebr': 3747,\n",
              " 'kitty': 4897,\n",
              " 'improve': 3744,\n",
              " 'doug': 3742,\n",
              " 'cope': 4580,\n",
              " 'maggie': 4182,\n",
              " 'burst': 3740,\n",
              " 'unaware': 4568,\n",
              " 'borrowed': 3739,\n",
              " 'armed': 3737,\n",
              " 'simplicity': 4669,\n",
              " 'adorable': 3736,\n",
              " 'swing': 4726,\n",
              " 'wrapped': 3735,\n",
              " 'suited': 3730,\n",
              " 'spock': 3729,\n",
              " 'ought': 3727,\n",
              " 'fix': 3720,\n",
              " 'supported': 4936,\n",
              " 'exposed': 3719,\n",
              " 'existed': 3718,\n",
              " 'enterprise': 3717,\n",
              " 'edition': 3716,\n",
              " 'edgar': 3715,\n",
              " 'drivel': 3714,\n",
              " 'vocal': 4058,\n",
              " 'composed': 3713,\n",
              " 'agrees': 3710,\n",
              " 'vivid': 3709,\n",
              " 'satisfied': 3705,\n",
              " 'rita': 3704,\n",
              " 'potentially': 3703,\n",
              " 'nerve': 3701,\n",
              " 'option': 3749,\n",
              " 'miserable': 3698,\n",
              " 'performs': 4102,\n",
              " 'meg': 3697,\n",
              " 'junior': 3695,\n",
              " 'honesty': 3691,\n",
              " 'heartwarming': 3689,\n",
              " 'fooled': 3688,\n",
              " 'dane': 3684,\n",
              " 'handed': 3824,\n",
              " 'damme': 3683,\n",
              " 'tribe': 3678,\n",
              " 'sailor': 3675,\n",
              " 'reign': 4822,\n",
              " 'recorded': 3674,\n",
              " 'provoking': 3672,\n",
              " 'foul': 4152,\n",
              " 'passionate': 3670,\n",
              " 'patricia': 4217,\n",
              " 'museum': 3669,\n",
              " 'miracle': 3668,\n",
              " 'maniac': 3667,\n",
              " 'frankie': 3666,\n",
              " 'farmer': 3665,\n",
              " 'minority': 4241,\n",
              " 'cheating': 3661,\n",
              " 'plotbr': 3966,\n",
              " 'blake': 3660,\n",
              " 'adequate': 3659,\n",
              " 'tame': 3658,\n",
              " 'superficial': 3657,\n",
              " 'representation': 4311,\n",
              " 'randy': 3653,\n",
              " 'lemmon': 3651,\n",
              " 'imagined': 3649,\n",
              " 'illness': 3648,\n",
              " 'investigator': 4987,\n",
              " 'odyssey': 4461,\n",
              " 'exotic': 3647,\n",
              " 'crush': 3642,\n",
              " 'blast': 3638,\n",
              " 'bang': 3637,\n",
              " 'brutally': 3815,\n",
              " 'watchbr': 3635,\n",
              " 'spread': 3633,\n",
              " 'sketch': 3632,\n",
              " 'sheen': 3631,\n",
              " 'menace': 3628,\n",
              " 'masterful': 3944,\n",
              " 'illegal': 3693,\n",
              " 'florida': 3626,\n",
              " 'etcbr': 3625,\n",
              " 'cue': 3624,\n",
              " 'cliff': 3621,\n",
              " 'carrey': 3619,\n",
              " 'bold': 3618,\n",
              " 'worldbr': 3617,\n",
              " 'versus': 3732,\n",
              " 'trait': 3616,\n",
              " 'trained': 3615,\n",
              " 'wacky': 4142,\n",
              " 'stare': 3614,\n",
              " 'recognition': 3611,\n",
              " 'constructed': 3605,\n",
              " 'coffee': 3604,\n",
              " 'cd': 3602,\n",
              " 'beneath': 3601,\n",
              " 'address': 3598,\n",
              " 'unpleasant': 3597,\n",
              " 'downhill': 3895,\n",
              " 'primarily': 3593,\n",
              " 'politician': 3592,\n",
              " 'meryl': 3879,\n",
              " 'dimensional': 3585,\n",
              " 'captivating': 3584,\n",
              " 'bleak': 3583,\n",
              " 'alternative': 3582,\n",
              " 'widow': 3581,\n",
              " 'unintentional': 3580,\n",
              " 'smaller': 3576,\n",
              " 'rap': 3575,\n",
              " 'poetic': 3573,\n",
              " 'pit': 3571,\n",
              " 'inbr': 3566,\n",
              " 'elaborate': 3563,\n",
              " 'mobster': 4288,\n",
              " 'slightest': 3559,\n",
              " 'lucas': 3554,\n",
              " 'vulgar': 4760,\n",
              " 'tad': 3911,\n",
              " 'juvenile': 3553,\n",
              " 'financial': 3551,\n",
              " 'fatal': 3550,\n",
              " 'eaten': 3549,\n",
              " 'dignity': 3548,\n",
              " 'cox': 3547,\n",
              " 'montgomery': 4216,\n",
              " 'contest': 3546,\n",
              " 'audio': 3545,\n",
              " 'website': 3543,\n",
              " 'exploring': 4805,\n",
              " 'walken': 3542,\n",
              " 'selfish': 3540,\n",
              " 'partly': 3536,\n",
              " 'involve': 3535,\n",
              " 'invite': 3534,\n",
              " 'amy': 3528,\n",
              " 'rotten': 3526,\n",
              " 'nicole': 3523,\n",
              " 'resulting': 4566,\n",
              " 'lock': 3522,\n",
              " 'justify': 3520,\n",
              " 'checked': 4387,\n",
              " 'colleague': 3516,\n",
              " 'classical': 3515,\n",
              " 'amount': 3512,\n",
              " 'prize': 3507,\n",
              " 'filler': 4279,\n",
              " 'operation': 3506,\n",
              " 'lab': 3503,\n",
              " 'cringe': 3817,\n",
              " 'explored': 3502,\n",
              " 'depression': 3501,\n",
              " 'wes': 4315,\n",
              " 'curtis': 3500,\n",
              " 'critter': 3499,\n",
              " 'comparing': 3497,\n",
              " 'burned': 3495,\n",
              " 'sullivan': 3493,\n",
              " 'square': 3492,\n",
              " 'racial': 3490,\n",
              " 'legal': 3826,\n",
              " 'psychiatrist': 3489,\n",
              " 'manhattan': 3487,\n",
              " 'jet': 3485,\n",
              " 'chorus': 4912,\n",
              " 'extended': 3482,\n",
              " 'explore': 3481,\n",
              " 'explaining': 3480,\n",
              " 'elephant': 3479,\n",
              " 'dylan': 3478,\n",
              " 'complexity': 3476,\n",
              " 'chaos': 3475,\n",
              " 'affection': 3474,\n",
              " 'wine': 3472,\n",
              " 'similarly': 3467,\n",
              " 'chased': 3770,\n",
              " 'represent': 3466,\n",
              " 'overacting': 3464,\n",
              " 'kidding': 3463,\n",
              " 'dealer': 3461,\n",
              " 'consistently': 3458,\n",
              " 'complain': 3457,\n",
              " 'argento': 4271,\n",
              " 'chest': 3456,\n",
              " 'antic': 3453,\n",
              " 'reflect': 4079,\n",
              " 'absence': 3452,\n",
              " 'wagon': 3451,\n",
              " 'stan': 3450,\n",
              " 'rocket': 3448,\n",
              " 'reed': 3446,\n",
              " 'reduced': 3445,\n",
              " 'iii': 3440,\n",
              " 'conventional': 3437,\n",
              " 'combat': 3436,\n",
              " 'angela': 3435,\n",
              " 'daisy': 4976,\n",
              " 'altogether': 3434,\n",
              " 'thread': 3430,\n",
              " 'cuba': 4205,\n",
              " 'tea': 3429,\n",
              " 'shift': 3428,\n",
              " 'derek': 3664,\n",
              " 'removed': 3427,\n",
              " 'circus': 4325,\n",
              " 'pound': 3425,\n",
              " 'peak': 3424,\n",
              " 'meaningless': 3423,\n",
              " 'devoid': 3417,\n",
              " 'craig': 3415,\n",
              " 'carter': 3413,\n",
              " 'bull': 3412,\n",
              " 'describing': 4884,\n",
              " 'brilliance': 3411,\n",
              " 'petty': 4494,\n",
              " 'agenda': 3979,\n",
              " 'vague': 3410,\n",
              " 'subsequent': 3408,\n",
              " 'showbr': 3405,\n",
              " 'scripted': 3404,\n",
              " 'betrayal': 4481,\n",
              " 'russia': 3403,\n",
              " 'primary': 3402,\n",
              " 'justin': 3399,\n",
              " 'wounded': 4043,\n",
              " 'craft': 3396,\n",
              " 'chuckle': 3395,\n",
              " 'ambition': 3392,\n",
              " 'ya': 3391,\n",
              " 'eats': 4358,\n",
              " 'politically': 3388,\n",
              " 'journalist': 3385,\n",
              " 'ingredient': 3383,\n",
              " 'hysterical': 3382,\n",
              " 'lincoln': 3800,\n",
              " 'cheer': 3377,\n",
              " 'wet': 3376,\n",
              " 'relies': 3373,\n",
              " 'pig': 3372,\n",
              " 'overdone': 3370,\n",
              " 'mar': 3369,\n",
              " 'improved': 3368,\n",
              " 'june': 4211,\n",
              " 'goodness': 3367,\n",
              " 'daring': 3366,\n",
              " 'chicken': 3365,\n",
              " 'unbelievably': 3362,\n",
              " 'swear': 3358,\n",
              " 'revolutionary': 3357,\n",
              " 'planning': 3355,\n",
              " 'quinn': 4408,\n",
              " 'kirk': 3351,\n",
              " 'investigate': 3350,\n",
              " 'factory': 3347,\n",
              " 'contrary': 3346,\n",
              " 'timeless': 3471,\n",
              " 'vast': 3344,\n",
              " 'reached': 3341,\n",
              " 'producing': 3340,\n",
              " 'pass': 3339,\n",
              " 'hooker': 4517,\n",
              " 'command': 3379,\n",
              " 'myers': 3338,\n",
              " 'filmsbr': 3334,\n",
              " 'disturbed': 3332,\n",
              " 'thingbr': 4831,\n",
              " 'depicts': 3331,\n",
              " 'charactersbr': 3327,\n",
              " 'vicious': 3326,\n",
              " 'passenger': 3322,\n",
              " 'directorial': 3315,\n",
              " 'rural': 3527,\n",
              " 'digital': 3314,\n",
              " 'conviction': 4485,\n",
              " 'sadistic': 3539,\n",
              " 'delivering': 3312,\n",
              " 'clumsy': 3309,\n",
              " 'sole': 3303,\n",
              " 'shell': 3302,\n",
              " 'settle': 3301,\n",
              " 'porno': 3300,\n",
              " 'nerd': 3299,\n",
              " 'mild': 3298,\n",
              " 'jealous': 3296,\n",
              " 'loyal': 3505,\n",
              " 'isolated': 3295,\n",
              " 'gray': 3294,\n",
              " 'gradually': 3293,\n",
              " 'evident': 3290,\n",
              " 'cared': 3288,\n",
              " 'alfred': 3287,\n",
              " 'worried': 3285,\n",
              " 'robbery': 3281,\n",
              " 'outing': 4242,\n",
              " 'frankenstein': 3278,\n",
              " 'colonel': 3276,\n",
              " 'brando': 3275,\n",
              " 'bottle': 3273,\n",
              " 'attached': 3272,\n",
              " 'costar': 4581,\n",
              " 'spiritual': 3270,\n",
              " 'vulnerable': 4141,\n",
              " 'resolution': 3491,\n",
              " 'resembles': 3268,\n",
              " 'hardcore': 3263,\n",
              " 'geek': 4282,\n",
              " 'affected': 3260,\n",
              " 'invasion': 3923,\n",
              " 'accomplished': 3259,\n",
              " 'workbr': 3258,\n",
              " 'tongue': 3257,\n",
              " 'crucial': 3518,\n",
              " 'scientific': 3254,\n",
              " 'pan': 3249,\n",
              " 'offended': 3248,\n",
              " 'jake': 3246,\n",
              " 'definite': 3244,\n",
              " 'ali': 3241,\n",
              " 'teaching': 3239,\n",
              " 'providing': 3236,\n",
              " 'resort': 3238,\n",
              " 'popcorn': 3234,\n",
              " 'lifestyle': 3233,\n",
              " 'insulting': 3232,\n",
              " 'emperor': 3229,\n",
              " 'upper': 3708,\n",
              " 'detailed': 3228,\n",
              " 'dedicated': 3227,\n",
              " 'bean': 3225,\n",
              " 'canada': 3864,\n",
              " 'triumph': 3224,\n",
              " 'pink': 3221,\n",
              " 'scope': 3971,\n",
              " 'trend': 3785,\n",
              " 'frustrated': 3217,\n",
              " 'custer': 3215,\n",
              " 'amanda': 3214,\n",
              " 'admittedly': 3213,\n",
              " 'stronger': 3209,\n",
              " 'mid': 3207,\n",
              " 'larger': 3205,\n",
              " 'arc': 4730,\n",
              " 'em': 3202,\n",
              " 'comfortable': 3199,\n",
              " 'bin': 3454,\n",
              " 'clown': 3198,\n",
              " 'bare': 3197,\n",
              " 'allowing': 3196,\n",
              " 'aforementioned': 3195,\n",
              " 'superbly': 3194,\n",
              " 'spoiled': 3192,\n",
              " 'spark': 3191,\n",
              " 'lou': 3188,\n",
              " 'itll': 3187,\n",
              " 'tortured': 3180,\n",
              " 'strictly': 3179,\n",
              " 'rendition': 3176,\n",
              " 'locked': 3175,\n",
              " 'phillips': 4190,\n",
              " 'korean': 3174,\n",
              " 'objective': 4101,\n",
              " 'ireland': 3173,\n",
              " 'simplistic': 3972,\n",
              " 'intrigue': 3172,\n",
              " 'beaten': 3167,\n",
              " 'rapist': 4751,\n",
              " 'sits': 3676,\n",
              " 'trite': 3165,\n",
              " 'tremendous': 3164,\n",
              " 'theyd': 3163,\n",
              " 'staff': 3162,\n",
              " 'ridiculously': 3159,\n",
              " 'reallife': 3157,\n",
              " 'rambo': 4780,\n",
              " 'pulling': 3156,\n",
              " 'miserably': 3154,\n",
              " 'luckily': 3153,\n",
              " 'ken': 3151,\n",
              " 'chapter': 3149,\n",
              " 'charlotte': 3620,\n",
              " 'broad': 3148,\n",
              " 'baker': 3146,\n",
              " 'mute': 4289,\n",
              " 'alltime': 3145,\n",
              " 'gadget': 3773,\n",
              " 'urge': 3144,\n",
              " 'stanley': 3142,\n",
              " 'moron': 3138,\n",
              " 'liberal': 3137,\n",
              " 'metaphor': 3568,\n",
              " 'increasingly': 3136,\n",
              " 'fonda': 3134,\n",
              " 'sens': 4038,\n",
              " 'et': 3133,\n",
              " 'eerie': 3130,\n",
              " 'austen': 3127,\n",
              " 'grotesque': 4070,\n",
              " ...}"
            ]
          },
          "metadata": {},
          "execution_count": 32
        }
      ],
      "source": [
        "words_index=vocab.get_stoi()\n",
        "words_index"
      ]
    },
    {
      "cell_type": "markdown",
      "metadata": {
        "id": "rng5BAH9NPhX"
      },
      "source": [
        "Create embedding matrix "
      ]
    },
    {
      "cell_type": "code",
      "execution_count": 33,
      "metadata": {
        "id": "0t0I5mTFC9vR"
      },
      "outputs": [],
      "source": [
        "vocab_len = len(words_index)\n",
        "embed_vector_len = word_to_vec_map['hello'].shape[0]\n",
        "emb_matrix = np.zeros((vocab_len, embed_vector_len))\n",
        "\n",
        "for word, index in words_index.items():\n",
        "  embedding_vector = word_to_vec_map.get(word)\n",
        "  if embedding_vector is not None:\n",
        "    emb_matrix[index, :] = embedding_vector"
      ]
    },
    {
      "cell_type": "markdown",
      "source": [
        "Embeding matrix to torch"
      ],
      "metadata": {
        "id": "Tyi45Cdv2gca"
      }
    },
    {
      "cell_type": "code",
      "execution_count": 34,
      "metadata": {
        "id": "FA6I6oUUlvjt"
      },
      "outputs": [],
      "source": [
        "pretrained = torch.from_numpy(emb_matrix)"
      ]
    },
    {
      "cell_type": "markdown",
      "metadata": {
        "id": "ChM0ke-TN0gn"
      },
      "source": [
        "Replace tokens with correspoding index in vocabulary and perform padding to each review"
      ]
    },
    {
      "cell_type": "code",
      "execution_count": 35,
      "metadata": {
        "id": "5ZgcqjDYRBsI"
      },
      "outputs": [],
      "source": [
        "#List of list different sizes -> (N reviews, ΜΑΧ_LEN)\n",
        "def index_padd(token_data, words_index, MAX_LEN):\n",
        "\n",
        "  # Tokens-> Vocabulary indices MAX_LEN\n",
        "  reviews=np.zeros((len(token_data), MAX_LEN))\n",
        "  for i in range(len(token_data)):\n",
        "    indices=[]\n",
        "    length=len(token_data[i])\n",
        "    for word in token_data[i]:\n",
        "      if word not in words_index.keys():\n",
        "        indices.append(0)\n",
        "      else: \n",
        "        indices.append(words_index[word])\n",
        "    # Padding \n",
        "    if length<=MAX_LEN:\n",
        "      reviews[i, :length] = indices\n",
        "    else:\n",
        "      reviews[i, :] = indices[:MAX_LEN]\n",
        "  return reviews"
      ]
    },
    {
      "cell_type": "code",
      "execution_count": 36,
      "metadata": {
        "id": "yxm1QdZSNwVH"
      },
      "outputs": [],
      "source": [
        "x_train = index_padd(X_train, words_index, 100)\n",
        "x_val = index_padd(X_val, words_index, 100)\n",
        "x_test = index_padd(X_test, words_index, 100)"
      ]
    },
    {
      "cell_type": "markdown",
      "metadata": {
        "id": "nHGnZqC0xZzR"
      },
      "source": [
        "### Convert to tensor"
      ]
    },
    {
      "cell_type": "code",
      "execution_count": 37,
      "metadata": {
        "colab": {
          "base_uri": "https://localhost:8080/"
        },
        "id": "wuM8UZB9xeCd",
        "outputId": "0f10919b-f3dc-4330-a85c-fdfcc2cebbe4"
      },
      "outputs": [
        {
          "output_type": "stream",
          "name": "stdout",
          "text": [
            "X train shape: torch.Size([36006, 100])\n",
            "y train shape: torch.Size([36006])\n",
            "X val shape: torch.Size([9002, 100])\n",
            "y val shape: torch.Size([9002])\n",
            "X test shape: torch.Size([5401, 100])\n",
            "y test shape: torch.Size([5401])\n"
          ]
        }
      ],
      "source": [
        "#x = torch.tensor(np.asarray(X_train), dtype=torch.float32)\n",
        "# Train\n",
        "X = torch.from_numpy(x_train)\n",
        "y = torch.tensor(y_train.to_numpy())\n",
        "\n",
        "print(f\"X train shape: {X.shape}\")\n",
        "print(f\"y train shape: {y.shape}\")\n",
        "\n",
        "# Validation\n",
        "#x_test = torch.tensor(np.asarray(X_val), dtype=torch.float)\n",
        "Xval = torch.from_numpy(x_val)\n",
        "yval = torch.tensor(y_val.to_numpy())#y_val.to_numpy().reshape(y_val.shape[0], 1), dtype=torch.float32\n",
        "\n",
        "print(f\"X val shape: {Xval.shape}\")\n",
        "print(f\"y val shape: {yval.shape}\")\n",
        "\n",
        "# Test\n",
        "Xtest = torch.from_numpy(x_test)\n",
        "ytest = torch.tensor(test_df['sentiment'].to_numpy())\n",
        "\n",
        "print(f\"X test shape: {Xtest.shape}\")\n",
        "print(f\"y test shape: {ytest.shape}\")\n"
      ]
    },
    {
      "cell_type": "markdown",
      "source": [
        "### Dataloaders"
      ],
      "metadata": {
        "id": "xcQIcE8T2Sjv"
      }
    },
    {
      "cell_type": "code",
      "execution_count": 38,
      "metadata": {
        "id": "A3SkkKJcj33H"
      },
      "outputs": [],
      "source": [
        "#Initialize dataloaders\n",
        "\n",
        "train_dataset = torch.utils.data.TensorDataset(X, y)\n",
        "val_dataset = torch.utils.data.TensorDataset(Xval, yval)\n",
        "test_dataset = torch.utils.data.TensorDataset(Xtest, ytest)\n",
        "\n",
        "train_dataloader = torch.utils.data.DataLoader(train_dataset, batch_size=512)\n",
        "val_dataloader = torch.utils.data.DataLoader(val_dataset, batch_size=512)\n",
        "test_dataloader = torch.utils.data.DataLoader(test_dataset, batch_size=512)"
      ]
    },
    {
      "cell_type": "markdown",
      "metadata": {
        "id": "U0UQxP45ydgI"
      },
      "source": [
        "## Training, evaluation and testing"
      ]
    },
    {
      "cell_type": "markdown",
      "metadata": {
        "id": "S8OkXWqkOHtW"
      },
      "source": [
        "### Define training and evaluation procedure"
      ]
    },
    {
      "cell_type": "code",
      "execution_count": 39,
      "metadata": {
        "id": "N82wvv6Th9Bo"
      },
      "outputs": [],
      "source": [
        "def train(model, dataloader, val_dataloader, lr, epochs, clip):\n",
        "  # Loss function and optimizer\n",
        "  loss_function = nn.CrossEntropyLoss()\n",
        "  optimizer = torch.optim.Adam(model.parameters(), lr=lr)\n",
        "\n",
        "  train_metrics=[[],[],[],[]]   # Loss, f1, precision, recall \n",
        "  valid_metrics=[[],[],[],[]]\n",
        "\n",
        "  for epoch in range(epochs):\n",
        "    \n",
        "    # TRAIN\n",
        "    model.train()\n",
        "    loss_sum=0 ; f1=0; pr=0; rc=0\n",
        "    for batch , y in dataloader:\n",
        "      # Predict\n",
        "      y_pred = model(batch.long().to(device))\n",
        "\n",
        "      # Calculate loss and metrics\n",
        "      loss = loss_function(y_pred, y.to(device))\n",
        "\n",
        "      loss_sum +=loss.item()\n",
        "      _, y_pred = torch.max(y_pred, 1)\n",
        "      f1 += f1_score(y.cpu(), y_pred.cpu(), average='weighted')\n",
        "      pr += precision_score(y.cpu(), y_pred.cpu(), average='weighted')\n",
        "      rc += recall_score(y.cpu(), y_pred.cpu(), average='weighted')\n",
        "\n",
        "      # Clip params\n",
        "      nn.utils.clip_grad_norm_(model.parameters(), max_norm=clip)\n",
        "\n",
        "      # Backpropagation\n",
        "      optimizer.zero_grad()\n",
        "      loss.backward()\n",
        "      optimizer.step()\n",
        "    \n",
        "    # Mean loss and metrics of this epoch\n",
        "    train_metrics[0].append(loss_sum/len(dataloader))\n",
        "    train_metrics[1].append(f1/len(dataloader))\n",
        "    train_metrics[2].append(pr/len(dataloader))\n",
        "    train_metrics[3].append(rc/len(dataloader))\n",
        "\n",
        "    # EVALUATE\n",
        "    with torch.no_grad():\n",
        "      model.eval()\n",
        "      loss_sum=0 ; f1=0; pr=0; rc=0\n",
        "      for batch, y in val_dataloader:\n",
        "        # Predict\n",
        "        y_pred = model(batch.long().to(device))\n",
        "\n",
        "        # Calculate loss and metrics\n",
        "        loss = loss_function(y_pred, y.to(device))\n",
        "\n",
        "        loss_sum +=loss.item()\n",
        "        _, y_pred = torch.max(y_pred, 1)\n",
        "        f1 += f1_score(y.cpu(), y_pred.cpu(), average='weighted')\n",
        "        pr += precision_score(y.cpu(), y_pred.cpu(), average='weighted')\n",
        "        rc += recall_score(y.cpu(), y_pred.cpu(), average='weighted')\n",
        "\n",
        "    # Mean loss and metrics of this epoch\n",
        "    valid_metrics[0].append(loss_sum/len(val_dataloader))\n",
        "    valid_metrics[1].append(f1/len(val_dataloader))\n",
        "    valid_metrics[2].append(pr/len(val_dataloader))\n",
        "    valid_metrics[3].append(rc/len(val_dataloader))\n",
        "\n",
        "    print(f\"Epoch {epoch} TRAIN Loss: {train_metrics[0][-1]} F1-score: {train_metrics[1][-1]} Precision: {train_metrics[2][-1]} Recall: {train_metrics[3][-1]}\")\n",
        "    print(f\"\\tTEST Loss: {valid_metrics[0][-1]} F1-score: {valid_metrics[1][-1]} Precision: {valid_metrics[2][-1]} Recall: {valid_metrics[3][-1]}\")\n",
        "\n",
        "  return train_metrics, valid_metrics\n",
        "  "
      ]
    },
    {
      "cell_type": "markdown",
      "metadata": {
        "id": "qpTxNCpOjqOa"
      },
      "source": [
        "### Define testing procedure"
      ]
    },
    {
      "cell_type": "code",
      "execution_count": 40,
      "metadata": {
        "id": "EQwC4ELtjnwT"
      },
      "outputs": [],
      "source": [
        "def test(model, test_dataloader):\n",
        "   with torch.no_grad():\n",
        "      model.eval()\n",
        "      loss_sum=0 ; f1=0; pr=0; rc=0\n",
        "      for batch, y in test_dataloader:\n",
        "        # Predict\n",
        "        y_pred = model(batch.long().to(device))\n",
        "\n",
        "        _, y_pred = torch.max(y_pred, 1)\n",
        "        f1 += f1_score(y.cpu(), y_pred.cpu(), average='weighted')\n",
        "        pr += precision_score(y.cpu(), y_pred.cpu(), average='weighted')\n",
        "        rc += recall_score(y.cpu(), y_pred.cpu(), average='weighted')\n",
        "    \n",
        "      print(\"F1 score: \", f1/len(test_dataloader))\n",
        "      print(\"precision score: \", pr/len(test_dataloader))\n",
        "      print(\"recall score: \", rc/len(test_dataloader))\n",
        "\n",
        "      #disp = ConfusionMatrixDisplay(confusion_matrix(ytest, y_pred), display_labels=['negative', 'positive'])\n",
        "      #disp.plot()\n",
        "      #plt.show()\n",
        "      "
      ]
    },
    {
      "cell_type": "markdown",
      "metadata": {
        "id": "9U1ULF9XjiYI"
      },
      "source": [
        "### Define functions for plotting"
      ]
    },
    {
      "cell_type": "code",
      "execution_count": 41,
      "metadata": {
        "id": "jqlAgl_aaSLK"
      },
      "outputs": [],
      "source": [
        "def plot_metric(metric, figure, list_x, valid_metric, train_metric):\n",
        "  plt.subplot(1, 4, figure)\n",
        "  plt.plot(list_x, valid_metric, label = \"Validation\")\n",
        "  plt.plot(list_x, train_metric, label = \"Training\")\n",
        "  plt.legend()\n",
        "  plt.ylabel(metric)\n",
        "  plt.xlabel(\"epochs\")\n",
        "\n",
        "def plot_metrics(epochs, valid_metric, train_metric):\n",
        "  plt.figure(figsize=(20, 5))\n",
        "\n",
        "  list_x = [x for x in range(epochs)] \n",
        "\n",
        "  plot_metric(\"Loss\", 1, list_x, valid_metric[0], train_metric[0])\n",
        "  plot_metric(\"F1-score\", 2, list_x, valid_metric[1], train_metric[1])\n",
        "  plot_metric(\"Precision\", 3, list_x, valid_metric[2], train_metric[2])\n",
        "  plot_metric(\"Recall\", 4, list_x, valid_metric[3], train_metric[3])\n",
        "\n",
        "def plot_roc(model, train_dataloader, val_dataloader):\n",
        "\n",
        "  with torch.no_grad():\n",
        "    model.eval()\n",
        "\n",
        "    # Train set\n",
        "    fpr1=0\n",
        "    tpr1=0\n",
        "    for batch, y in train_dataloader:\n",
        "      # Predict\n",
        "      y_pred = model(batch.long().to(device))\n",
        "\n",
        "      _, y_pred = torch.max(y_pred, 1)\n",
        "          \n",
        "      fpr, tpr, _ = roc_curve(y.cpu(), y_pred.cpu())\n",
        "      fpr1 += fpr\n",
        "      tpr1 += tpr\n",
        "\n",
        "    roc_auc1 = auc(fpr1/len(train_dataloader), tpr1/len(train_dataloader))\n",
        "\n",
        "    # Validation set\n",
        "    fpr2=0\n",
        "    tpr2=0\n",
        "    for batch, y in val_dataloader:\n",
        "      # Predict\n",
        "      y_pred = model(batch.long().to(device))\n",
        "\n",
        "      _, y_pred = torch.max(y_pred, 1)\n",
        "          \n",
        "      fpr, tpr, _ = roc_curve(y.cpu(), y_pred.cpu())\n",
        "      fpr2 += fpr\n",
        "      tpr2 += tpr\n",
        "\n",
        "    roc_auc2 = auc(fpr2/len(val_dataloader), tpr2/len(val_dataloader))\n",
        "  \n",
        "    plt.figure()\n",
        "    plt.plot(fpr1/len(train_dataloader),tpr1/len(train_dataloader), label=\"Train (AUC = {0:0.4f})\".format(roc_auc1))\n",
        "    plt.plot(fpr2/len(val_dataloader),tpr2/len(val_dataloader), label=\"Validation (AUC = {0:0.4f})\".format(roc_auc2))\n",
        "    plt.xlim([0.0, 1.0])\n",
        "    plt.ylim([0.0, 1.0])\n",
        "    plt.xlabel(\"False Positive Rate\")\n",
        "    plt.ylabel(\"True Positive Rate\")\n",
        "    plt.legend(loc=\"lower right\")\n",
        "    plt.show()\n"
      ]
    },
    {
      "cell_type": "code",
      "source": [
        "cell='LSTM'\n",
        "eval('nn.'+ cell)"
      ],
      "metadata": {
        "colab": {
          "base_uri": "https://localhost:8080/"
        },
        "id": "u-4Jm4s5P366",
        "outputId": "895f2f4c-295a-4383-dfbf-762d3fbe4754"
      },
      "execution_count": 42,
      "outputs": [
        {
          "output_type": "execute_result",
          "data": {
            "text/plain": [
              "torch.nn.modules.rnn.LSTM"
            ]
          },
          "metadata": {},
          "execution_count": 42
        }
      ]
    },
    {
      "cell_type": "markdown",
      "metadata": {
        "id": "TdRnZKffOCGm"
      },
      "source": [
        "## Create various models and trying different parameters"
      ]
    },
    {
      "cell_type": "code",
      "execution_count": 47,
      "metadata": {
        "colab": {
          "base_uri": "https://localhost:8080/"
        },
        "id": "Ui79_rJEuDO8",
        "outputId": "bc3eccfe-fbe7-4a82-bf3d-a15d0e94e60f"
      },
      "outputs": [
        {
          "output_type": "execute_result",
          "data": {
            "text/plain": [
              "device(type='cuda', index=0)"
            ]
          },
          "metadata": {},
          "execution_count": 47
        }
      ],
      "source": [
        "device = torch.device('cuda:0' if torch.cuda.is_available() else 'cpu')\n",
        "device"
      ]
    },
    {
      "cell_type": "markdown",
      "source": [
        "### Class Model "
      ],
      "metadata": {
        "id": "NZEBd5UUsCiB"
      }
    },
    {
      "cell_type": "code",
      "execution_count": 53,
      "metadata": {
        "id": "9oQJajWN5xJo"
      },
      "outputs": [],
      "source": [
        "class MY_RNN(nn.Module):\n",
        "  def __init__(self, cell, num_embed, embed, embed_size, hidden_size, num_layers, drop=0, skip=False):\n",
        "    super(MY_RNN, self).__init__()\n",
        "\n",
        "    self.layers = num_layers\n",
        "    self.hidden = hidden_size\n",
        "    self.skip = skip\n",
        "\n",
        "    # Embedding layer with GloVe\n",
        "    self.embedding = nn.Embedding(num_embed, embed_size, device=device)\n",
        "    self.embedding.weight.data.copy_(embed)\n",
        "\n",
        "    # No learning\n",
        "    self.embedding.weight.requires_grad = False\n",
        "    \n",
        "    # RNNs\n",
        "    self.rnns = []\n",
        "    for i in range(self.layers):\n",
        "      if i==0:\n",
        "        self.rnns.append(eval('nn.'+ cell)(embed_size, hidden_size, batch_first=True, bidirectional=True, device=device))\n",
        "      else:\n",
        "        self.rnns.append(eval('nn.'+ cell)(hidden_size, hidden_size, batch_first=True, bidirectional=True, device=device))\n",
        "    #self.rnn1 = nn.LSTM(embed_size, hidden_size, batch_first=True, bidirectional=True, device=device)\n",
        "    #self.rnn2 = nn.LSTM(embed_size, hidden_size, batch_first=True, bidirectional=True, device=device)\n",
        "\n",
        "    self.rnns = nn.ModuleList(self.rnns)\n",
        "\n",
        "    # Dropout\n",
        "    self.dropout = nn.Dropout(drop)\n",
        "\n",
        "    # Initialize final output linear layer\n",
        "    self.linear = nn.Linear(hidden_size * 2, 3, device=device)\n",
        " \n",
        "\n",
        "  def forward(self, x):\n",
        "    # For skip connections\n",
        "    identity = x\n",
        "\n",
        "    # Embedding layer\n",
        "    x = self.embedding(x)\n",
        "    # Dropout\n",
        "    x = self.dropout(x)\n",
        "\n",
        "    # Stacked RNNs\n",
        "    x, _ = self.rnns[0](x)\n",
        "    \n",
        "    for i in range(1, self.layers):\n",
        "      # RNN\n",
        "      out, _ = self.rnns[i](x[:, :, :self.hidden])\n",
        "\n",
        "      # Skip connections \n",
        "      if (self.skip):\n",
        "        out += identity\n",
        "        # Dropout\n",
        "      out = self.dropout(out)\n",
        "\n",
        "      # Make output of this layer input to next\n",
        "      x=out\n",
        "\n",
        "    # Keep only last \n",
        "    out = out[:, -1, :]\n",
        "    \n",
        "    # Last but not least ---> Linear layer\n",
        "    return self.linear(out)\n",
        "\n",
        "   "
      ]
    },
    {
      "cell_type": "markdown",
      "source": [
        "### Testing"
      ],
      "metadata": {
        "id": "BP3boK7mTBBA"
      }
    },
    {
      "cell_type": "code",
      "source": [
        "saved_model = torch.load('/content/drive/MyDrive/best_model', map_location=device)"
      ],
      "metadata": {
        "id": "PtIg1wgMTJrW"
      },
      "execution_count": 54,
      "outputs": []
    },
    {
      "cell_type": "code",
      "source": [
        "test(saved_model, test_dataloader)"
      ],
      "metadata": {
        "colab": {
          "base_uri": "https://localhost:8080/"
        },
        "id": "WQUTdypqTXTY",
        "outputId": "851ef2c2-8757-4362-c726-a020e1867c61"
      },
      "execution_count": 55,
      "outputs": [
        {
          "output_type": "stream",
          "name": "stdout",
          "text": [
            "F1 score:  0.8932063282819754\n",
            "precision score:  0.8945711914002055\n",
            "recall score:  0.8932656047800065\n"
          ]
        }
      ]
    },
    {
      "cell_type": "markdown",
      "source": [
        "### Try different hyperparameters using optuna"
      ],
      "metadata": {
        "id": "IYBqZl_nbuFM"
      }
    },
    {
      "cell_type": "code",
      "source": [
        "import optuna\n",
        "\n",
        "# 1. Define an objective function to be maximized.\n",
        "def objective(trial):\n",
        "\n",
        "  cell = trial.suggest_categorical('cell_type', ['LSTM', 'GRU'])\n",
        "  hidden_size =  trial.suggest_categorical('hidden_size', [128, 512])\n",
        "  num_layers = trial.suggest_categorical('num_layers', [2, 4])\n",
        "  \n",
        "  net = MY_RNN(cell, len(vocab), pretrained, 300, hidden_size, num_layers, drop=0.25, skip=False)\n",
        "  print(net)\n",
        "\n",
        "  epochs = 3\n",
        "  LR = 0.01\n",
        "  optimizer = torch.optim.Adam(net.parameters(), lr=LR)   # optimize all net parameters\n",
        "  loss_function = nn.CrossEntropyLoss()\n",
        "  clip=0.99\n",
        "\n",
        "  print_every = 5\n",
        "  for epoch in range(epochs):\n",
        "    \n",
        "    # TRAIN\n",
        "    net.train()\n",
        "    for step, (batch , y) in enumerate(train_dataloader):\n",
        "      # Predict\n",
        "      y_pred = net(batch.long().to(device))\n",
        "\n",
        "      # Calculate loss and f1\n",
        "      loss = loss_function(y_pred, y.to(device))\n",
        "      \n",
        "      # Clip params\n",
        "      nn.utils.clip_grad_norm_(net.parameters(), max_norm=clip)\n",
        "\n",
        "      # Backpropagation\n",
        "      optimizer.zero_grad()\n",
        "      loss.backward()\n",
        "      optimizer.step()\n",
        "\n",
        "      # evaluate every N batches\n",
        "      if step % print_every == 0:\n",
        "\n",
        "        # Do not calculate gradients\n",
        "        with torch.no_grad():\n",
        "          net.eval()\n",
        "          loss_sum=0 ; f1_sum=0\n",
        "          for batch, y in val_dataloader:\n",
        "            # Predict\n",
        "            y_pred = net(batch.long().to(device))\n",
        "\n",
        "            # Calculate f1\n",
        "            _, y_pred = torch.max(y_pred, 1)\n",
        "            f1_sum += f1_score(y.cpu(), y_pred.cpu(), average='weighted')\n",
        "          \n",
        "          f1 = f1_sum/len(val_dataloader)\n",
        "          print('Epoch: ', epoch, '| train loss: %.4f' % loss.item(), '| validation f1: %.2f' % f1)\n",
        "\n",
        "        net.train()\n",
        "\n",
        "  return f1\n",
        "\n",
        "# 3. Create a study object and optimize the objective function.\n",
        "study = optuna.create_study(direction='maximize')\n",
        "study.optimize(objective, n_trials=5)"
      ],
      "metadata": {
        "colab": {
          "base_uri": "https://localhost:8080/"
        },
        "id": "gq66EC0Wbpfs",
        "outputId": "d3e05e86-3092-4bfd-850c-11e7dd272de3"
      },
      "execution_count": 56,
      "outputs": [
        {
          "output_type": "stream",
          "name": "stderr",
          "text": [
            "\u001b[32m[I 2023-01-27 17:50:25,407]\u001b[0m A new study created in memory with name: no-name-a341a047-3aa5-4137-a950-892b80fe3ebb\u001b[0m\n"
          ]
        },
        {
          "output_type": "stream",
          "name": "stdout",
          "text": [
            "MY_RNN(\n",
            "  (embedding): Embedding(5000, 300)\n",
            "  (rnns): ModuleList(\n",
            "    (0): LSTM(300, 128, batch_first=True, bidirectional=True)\n",
            "    (1): LSTM(128, 128, batch_first=True, bidirectional=True)\n",
            "    (2): LSTM(128, 128, batch_first=True, bidirectional=True)\n",
            "    (3): LSTM(128, 128, batch_first=True, bidirectional=True)\n",
            "  )\n",
            "  (dropout): Dropout(p=0.25, inplace=False)\n",
            "  (linear): Linear(in_features=256, out_features=3, bias=True)\n",
            ")\n",
            "Epoch:  0 | train loss: 1.0770 | validation f1: 0.34\n",
            "Epoch:  0 | train loss: 0.6926 | validation f1: 0.34\n",
            "Epoch:  0 | train loss: 0.8071 | validation f1: 0.33\n",
            "Epoch:  0 | train loss: 0.7788 | validation f1: 0.34\n",
            "Epoch:  0 | train loss: 0.7435 | validation f1: 0.33\n",
            "Epoch:  0 | train loss: 0.6959 | validation f1: 0.34\n",
            "Epoch:  0 | train loss: 0.6981 | validation f1: 0.33\n",
            "Epoch:  0 | train loss: 0.6976 | validation f1: 0.33\n",
            "Epoch:  0 | train loss: 0.7053 | validation f1: 0.34\n",
            "Epoch:  0 | train loss: 0.6936 | validation f1: 0.33\n",
            "Epoch:  0 | train loss: 0.6910 | validation f1: 0.34\n",
            "Epoch:  0 | train loss: 0.6986 | validation f1: 0.33\n",
            "Epoch:  0 | train loss: 0.6975 | validation f1: 0.34\n",
            "Epoch:  0 | train loss: 0.6963 | validation f1: 0.34\n",
            "Epoch:  0 | train loss: 0.6931 | validation f1: 0.33\n",
            "Epoch:  1 | train loss: 0.6963 | validation f1: 0.34\n",
            "Epoch:  1 | train loss: 0.6959 | validation f1: 0.34\n",
            "Epoch:  1 | train loss: 0.6991 | validation f1: 0.33\n",
            "Epoch:  1 | train loss: 0.7011 | validation f1: 0.34\n",
            "Epoch:  1 | train loss: 0.7025 | validation f1: 0.33\n",
            "Epoch:  1 | train loss: 0.6914 | validation f1: 0.34\n",
            "Epoch:  1 | train loss: 0.6950 | validation f1: 0.33\n",
            "Epoch:  1 | train loss: 0.6950 | validation f1: 0.34\n",
            "Epoch:  1 | train loss: 0.6936 | validation f1: 0.34\n",
            "Epoch:  1 | train loss: 0.6933 | validation f1: 0.33\n",
            "Epoch:  1 | train loss: 0.6947 | validation f1: 0.34\n",
            "Epoch:  1 | train loss: 0.6931 | validation f1: 0.33\n",
            "Epoch:  1 | train loss: 0.6969 | validation f1: 0.34\n",
            "Epoch:  1 | train loss: 0.6933 | validation f1: 0.33\n",
            "Epoch:  1 | train loss: 0.6922 | validation f1: 0.34\n",
            "Epoch:  2 | train loss: 0.6943 | validation f1: 0.34\n",
            "Epoch:  2 | train loss: 0.6939 | validation f1: 0.34\n",
            "Epoch:  2 | train loss: 0.6968 | validation f1: 0.33\n",
            "Epoch:  2 | train loss: 0.6953 | validation f1: 0.34\n",
            "Epoch:  2 | train loss: 0.7034 | validation f1: 0.33\n",
            "Epoch:  2 | train loss: 0.6927 | validation f1: 0.34\n",
            "Epoch:  2 | train loss: 0.6937 | validation f1: 0.33\n",
            "Epoch:  2 | train loss: 0.6936 | validation f1: 0.34\n",
            "Epoch:  2 | train loss: 0.6929 | validation f1: 0.34\n",
            "Epoch:  2 | train loss: 0.6937 | validation f1: 0.33\n",
            "Epoch:  2 | train loss: 0.6938 | validation f1: 0.34\n",
            "Epoch:  2 | train loss: 0.6927 | validation f1: 0.33\n",
            "Epoch:  2 | train loss: 0.6937 | validation f1: 0.34\n",
            "Epoch:  2 | train loss: 0.6932 | validation f1: 0.33\n"
          ]
        },
        {
          "output_type": "stream",
          "name": "stderr",
          "text": [
            "\u001b[32m[I 2023-01-27 17:52:05,360]\u001b[0m Trial 0 finished with value: 0.34068131986154954 and parameters: {'cell_type': 'LSTM', 'hidden_size': 128, 'num_layers': 4}. Best is trial 0 with value: 0.34068131986154954.\u001b[0m\n"
          ]
        },
        {
          "output_type": "stream",
          "name": "stdout",
          "text": [
            "Epoch:  2 | train loss: 0.6920 | validation f1: 0.34\n",
            "MY_RNN(\n",
            "  (embedding): Embedding(5000, 300)\n",
            "  (rnns): ModuleList(\n",
            "    (0): GRU(300, 512, batch_first=True, bidirectional=True)\n",
            "    (1): GRU(512, 512, batch_first=True, bidirectional=True)\n",
            "  )\n",
            "  (dropout): Dropout(p=0.25, inplace=False)\n",
            "  (linear): Linear(in_features=1024, out_features=3, bias=True)\n",
            ")\n",
            "Epoch:  0 | train loss: 1.0819 | validation f1: 0.42\n",
            "Epoch:  0 | train loss: 1.5686 | validation f1: 0.48\n",
            "Epoch:  0 | train loss: 1.0815 | validation f1: 0.48\n",
            "Epoch:  0 | train loss: 0.7590 | validation f1: 0.50\n",
            "Epoch:  0 | train loss: 0.7432 | validation f1: 0.45\n",
            "Epoch:  0 | train loss: 0.7253 | validation f1: 0.40\n",
            "Epoch:  0 | train loss: 0.7438 | validation f1: 0.52\n",
            "Epoch:  0 | train loss: 0.7365 | validation f1: 0.45\n",
            "Epoch:  0 | train loss: 0.7430 | validation f1: 0.53\n",
            "Epoch:  0 | train loss: 0.6947 | validation f1: 0.40\n",
            "Epoch:  0 | train loss: 0.7207 | validation f1: 0.36\n",
            "Epoch:  0 | train loss: 0.7628 | validation f1: 0.54\n",
            "Epoch:  0 | train loss: 0.7035 | validation f1: 0.39\n",
            "Epoch:  0 | train loss: 0.7245 | validation f1: 0.51\n",
            "Epoch:  0 | train loss: 0.7037 | validation f1: 0.44\n",
            "Epoch:  1 | train loss: 0.6910 | validation f1: 0.41\n",
            "Epoch:  1 | train loss: 0.7275 | validation f1: 0.57\n",
            "Epoch:  1 | train loss: 0.7015 | validation f1: 0.54\n",
            "Epoch:  1 | train loss: 0.6692 | validation f1: 0.48\n",
            "Epoch:  1 | train loss: 0.6896 | validation f1: 0.55\n",
            "Epoch:  1 | train loss: 0.6924 | validation f1: 0.59\n",
            "Epoch:  1 | train loss: 0.6674 | validation f1: 0.45\n",
            "Epoch:  1 | train loss: 0.7166 | validation f1: 0.52\n",
            "Epoch:  1 | train loss: 0.6636 | validation f1: 0.60\n",
            "Epoch:  1 | train loss: 0.6666 | validation f1: 0.52\n",
            "Epoch:  1 | train loss: 0.6801 | validation f1: 0.56\n",
            "Epoch:  1 | train loss: 0.6929 | validation f1: 0.57\n",
            "Epoch:  1 | train loss: 0.6880 | validation f1: 0.60\n",
            "Epoch:  1 | train loss: 0.6525 | validation f1: 0.61\n",
            "Epoch:  1 | train loss: 0.6865 | validation f1: 0.61\n",
            "Epoch:  2 | train loss: 0.6659 | validation f1: 0.52\n",
            "Epoch:  2 | train loss: 0.6439 | validation f1: 0.56\n",
            "Epoch:  2 | train loss: 0.6634 | validation f1: 0.57\n",
            "Epoch:  2 | train loss: 0.6783 | validation f1: 0.47\n",
            "Epoch:  2 | train loss: 0.6719 | validation f1: 0.50\n",
            "Epoch:  2 | train loss: 0.6624 | validation f1: 0.53\n",
            "Epoch:  2 | train loss: 0.6830 | validation f1: 0.61\n",
            "Epoch:  2 | train loss: 0.6691 | validation f1: 0.61\n",
            "Epoch:  2 | train loss: 0.6658 | validation f1: 0.64\n",
            "Epoch:  2 | train loss: 0.6441 | validation f1: 0.60\n",
            "Epoch:  2 | train loss: 0.6771 | validation f1: 0.52\n",
            "Epoch:  2 | train loss: 0.7217 | validation f1: 0.62\n",
            "Epoch:  2 | train loss: 0.6554 | validation f1: 0.49\n",
            "Epoch:  2 | train loss: 0.6189 | validation f1: 0.66\n"
          ]
        },
        {
          "output_type": "stream",
          "name": "stderr",
          "text": [
            "\u001b[32m[I 2023-01-27 17:56:50,273]\u001b[0m Trial 1 finished with value: 0.6392519964036716 and parameters: {'cell_type': 'GRU', 'hidden_size': 512, 'num_layers': 2}. Best is trial 1 with value: 0.6392519964036716.\u001b[0m\n"
          ]
        },
        {
          "output_type": "stream",
          "name": "stdout",
          "text": [
            "Epoch:  2 | train loss: 0.6451 | validation f1: 0.64\n",
            "MY_RNN(\n",
            "  (embedding): Embedding(5000, 300)\n",
            "  (rnns): ModuleList(\n",
            "    (0): GRU(300, 512, batch_first=True, bidirectional=True)\n",
            "    (1): GRU(512, 512, batch_first=True, bidirectional=True)\n",
            "    (2): GRU(512, 512, batch_first=True, bidirectional=True)\n",
            "    (3): GRU(512, 512, batch_first=True, bidirectional=True)\n",
            "  )\n",
            "  (dropout): Dropout(p=0.25, inplace=False)\n",
            "  (linear): Linear(in_features=1024, out_features=3, bias=True)\n",
            ")\n",
            "Epoch:  0 | train loss: 1.1113 | validation f1: 0.34\n",
            "Epoch:  0 | train loss: 1.6543 | validation f1: 0.33\n",
            "Epoch:  0 | train loss: 1.0294 | validation f1: 0.34\n",
            "Epoch:  0 | train loss: 0.8380 | validation f1: 0.35\n",
            "Epoch:  0 | train loss: 0.7979 | validation f1: 0.34\n",
            "Epoch:  0 | train loss: 0.7329 | validation f1: 0.33\n",
            "Epoch:  0 | train loss: 0.7216 | validation f1: 0.33\n",
            "Epoch:  0 | train loss: 0.7309 | validation f1: 0.33\n",
            "Epoch:  0 | train loss: 0.7429 | validation f1: 0.33\n",
            "Epoch:  0 | train loss: 0.7048 | validation f1: 0.33\n",
            "Epoch:  0 | train loss: 0.7495 | validation f1: 0.33\n",
            "Epoch:  0 | train loss: 0.7354 | validation f1: 0.37\n",
            "Epoch:  0 | train loss: 0.7086 | validation f1: 0.38\n",
            "Epoch:  0 | train loss: 0.7081 | validation f1: 0.37\n",
            "Epoch:  0 | train loss: 0.7202 | validation f1: 0.33\n",
            "Epoch:  1 | train loss: 0.7035 | validation f1: 0.35\n",
            "Epoch:  1 | train loss: 0.7245 | validation f1: 0.35\n",
            "Epoch:  1 | train loss: 0.7149 | validation f1: 0.36\n",
            "Epoch:  1 | train loss: 0.7176 | validation f1: 0.33\n",
            "Epoch:  1 | train loss: 0.7170 | validation f1: 0.37\n",
            "Epoch:  1 | train loss: 0.8621 | validation f1: 0.38\n",
            "Epoch:  1 | train loss: 0.7061 | validation f1: 0.42\n",
            "Epoch:  1 | train loss: 0.7075 | validation f1: 0.35\n",
            "Epoch:  1 | train loss: 0.7236 | validation f1: 0.54\n",
            "Epoch:  1 | train loss: 0.6987 | validation f1: 0.35\n",
            "Epoch:  1 | train loss: 0.7427 | validation f1: 0.55\n",
            "Epoch:  1 | train loss: 0.7400 | validation f1: 0.53\n",
            "Epoch:  1 | train loss: 0.7121 | validation f1: 0.33\n",
            "Epoch:  1 | train loss: 0.6926 | validation f1: 0.58\n",
            "Epoch:  1 | train loss: 0.7161 | validation f1: 0.57\n",
            "Epoch:  2 | train loss: 0.7209 | validation f1: 0.57\n",
            "Epoch:  2 | train loss: 0.6950 | validation f1: 0.51\n",
            "Epoch:  2 | train loss: 0.6850 | validation f1: 0.53\n",
            "Epoch:  2 | train loss: 0.7187 | validation f1: 0.37\n",
            "Epoch:  2 | train loss: 0.7166 | validation f1: 0.34\n",
            "Epoch:  2 | train loss: 0.7237 | validation f1: 0.43\n",
            "Epoch:  2 | train loss: 0.6923 | validation f1: 0.53\n",
            "Epoch:  2 | train loss: 0.6834 | validation f1: 0.34\n",
            "Epoch:  2 | train loss: 0.7219 | validation f1: 0.52\n",
            "Epoch:  2 | train loss: 0.6819 | validation f1: 0.54\n",
            "Epoch:  2 | train loss: 0.7049 | validation f1: 0.54\n",
            "Epoch:  2 | train loss: 0.7610 | validation f1: 0.56\n",
            "Epoch:  2 | train loss: 0.7654 | validation f1: 0.49\n",
            "Epoch:  2 | train loss: 0.6880 | validation f1: 0.52\n"
          ]
        },
        {
          "output_type": "stream",
          "name": "stderr",
          "text": [
            "\u001b[32m[I 2023-01-27 18:06:52,722]\u001b[0m Trial 2 finished with value: 0.5410734409243407 and parameters: {'cell_type': 'GRU', 'hidden_size': 512, 'num_layers': 4}. Best is trial 1 with value: 0.6392519964036716.\u001b[0m\n"
          ]
        },
        {
          "output_type": "stream",
          "name": "stdout",
          "text": [
            "Epoch:  2 | train loss: 0.7004 | validation f1: 0.54\n",
            "MY_RNN(\n",
            "  (embedding): Embedding(5000, 300)\n",
            "  (rnns): ModuleList(\n",
            "    (0): LSTM(300, 128, batch_first=True, bidirectional=True)\n",
            "    (1): LSTM(128, 128, batch_first=True, bidirectional=True)\n",
            "  )\n",
            "  (dropout): Dropout(p=0.25, inplace=False)\n",
            "  (linear): Linear(in_features=256, out_features=3, bias=True)\n",
            ")\n",
            "Epoch:  0 | train loss: 1.0702 | validation f1: 0.34\n",
            "Epoch:  0 | train loss: 0.8223 | validation f1: 0.34\n",
            "Epoch:  0 | train loss: 0.7680 | validation f1: 0.33\n",
            "Epoch:  0 | train loss: 0.7017 | validation f1: 0.34\n",
            "Epoch:  0 | train loss: 0.7017 | validation f1: 0.34\n",
            "Epoch:  0 | train loss: 0.7064 | validation f1: 0.33\n",
            "Epoch:  0 | train loss: 0.6953 | validation f1: 0.34\n",
            "Epoch:  0 | train loss: 0.6977 | validation f1: 0.34\n",
            "Epoch:  0 | train loss: 0.6984 | validation f1: 0.35\n",
            "Epoch:  0 | train loss: 0.6880 | validation f1: 0.33\n",
            "Epoch:  0 | train loss: 0.6936 | validation f1: 0.33\n",
            "Epoch:  0 | train loss: 0.6972 | validation f1: 0.34\n",
            "Epoch:  0 | train loss: 0.6925 | validation f1: 0.34\n",
            "Epoch:  0 | train loss: 0.6937 | validation f1: 0.48\n",
            "Epoch:  0 | train loss: 0.6912 | validation f1: 0.47\n",
            "Epoch:  1 | train loss: 0.6862 | validation f1: 0.45\n",
            "Epoch:  1 | train loss: 0.6876 | validation f1: 0.48\n",
            "Epoch:  1 | train loss: 0.6841 | validation f1: 0.49\n",
            "Epoch:  1 | train loss: 0.6521 | validation f1: 0.52\n",
            "Epoch:  1 | train loss: 0.7115 | validation f1: 0.34\n",
            "Epoch:  1 | train loss: 0.7032 | validation f1: 0.37\n",
            "Epoch:  1 | train loss: 0.7004 | validation f1: 0.51\n",
            "Epoch:  1 | train loss: 0.6890 | validation f1: 0.50\n",
            "Epoch:  1 | train loss: 0.6889 | validation f1: 0.46\n",
            "Epoch:  1 | train loss: 0.6889 | validation f1: 0.41\n",
            "Epoch:  1 | train loss: 0.6849 | validation f1: 0.45\n",
            "Epoch:  1 | train loss: 0.6852 | validation f1: 0.49\n",
            "Epoch:  1 | train loss: 0.6808 | validation f1: 0.52\n",
            "Epoch:  1 | train loss: 0.6736 | validation f1: 0.53\n",
            "Epoch:  1 | train loss: 0.6953 | validation f1: 0.70\n",
            "Epoch:  2 | train loss: 0.6213 | validation f1: 0.70\n",
            "Epoch:  2 | train loss: 0.5508 | validation f1: 0.76\n",
            "Epoch:  2 | train loss: 0.5020 | validation f1: 0.80\n",
            "Epoch:  2 | train loss: 0.4492 | validation f1: 0.80\n",
            "Epoch:  2 | train loss: 0.4888 | validation f1: 0.82\n",
            "Epoch:  2 | train loss: 0.4629 | validation f1: 0.81\n",
            "Epoch:  2 | train loss: 0.4351 | validation f1: 0.82\n",
            "Epoch:  2 | train loss: 0.4352 | validation f1: 0.83\n",
            "Epoch:  2 | train loss: 0.3939 | validation f1: 0.83\n",
            "Epoch:  2 | train loss: 0.3417 | validation f1: 0.81\n",
            "Epoch:  2 | train loss: 0.4603 | validation f1: 0.83\n",
            "Epoch:  2 | train loss: 0.4267 | validation f1: 0.84\n",
            "Epoch:  2 | train loss: 0.3721 | validation f1: 0.84\n",
            "Epoch:  2 | train loss: 0.3858 | validation f1: 0.84\n"
          ]
        },
        {
          "output_type": "stream",
          "name": "stderr",
          "text": [
            "\u001b[32m[I 2023-01-27 18:07:51,474]\u001b[0m Trial 3 finished with value: 0.8435671830513756 and parameters: {'cell_type': 'LSTM', 'hidden_size': 128, 'num_layers': 2}. Best is trial 3 with value: 0.8435671830513756.\u001b[0m\n"
          ]
        },
        {
          "output_type": "stream",
          "name": "stdout",
          "text": [
            "Epoch:  2 | train loss: 0.3532 | validation f1: 0.84\n",
            "MY_RNN(\n",
            "  (embedding): Embedding(5000, 300)\n",
            "  (rnns): ModuleList(\n",
            "    (0): GRU(300, 512, batch_first=True, bidirectional=True)\n",
            "    (1): GRU(512, 512, batch_first=True, bidirectional=True)\n",
            "    (2): GRU(512, 512, batch_first=True, bidirectional=True)\n",
            "    (3): GRU(512, 512, batch_first=True, bidirectional=True)\n",
            "  )\n",
            "  (dropout): Dropout(p=0.25, inplace=False)\n",
            "  (linear): Linear(in_features=1024, out_features=3, bias=True)\n",
            ")\n",
            "Epoch:  0 | train loss: 1.0895 | validation f1: 0.34\n",
            "Epoch:  0 | train loss: 1.0604 | validation f1: 0.33\n",
            "Epoch:  0 | train loss: 1.5869 | validation f1: 0.36\n",
            "Epoch:  0 | train loss: 0.9914 | validation f1: 0.38\n",
            "Epoch:  0 | train loss: 0.8393 | validation f1: 0.33\n",
            "Epoch:  0 | train loss: 0.7504 | validation f1: 0.38\n",
            "Epoch:  0 | train loss: 0.7944 | validation f1: 0.41\n",
            "Epoch:  0 | train loss: 1.3273 | validation f1: 0.34\n",
            "Epoch:  0 | train loss: 0.7889 | validation f1: 0.38\n",
            "Epoch:  0 | train loss: 0.7323 | validation f1: 0.53\n",
            "Epoch:  0 | train loss: 0.7473 | validation f1: 0.44\n",
            "Epoch:  0 | train loss: 0.7258 | validation f1: 0.51\n",
            "Epoch:  0 | train loss: 0.7256 | validation f1: 0.37\n",
            "Epoch:  0 | train loss: 0.7021 | validation f1: 0.33\n",
            "Epoch:  0 | train loss: 0.7491 | validation f1: 0.38\n",
            "Epoch:  1 | train loss: 0.7307 | validation f1: 0.34\n",
            "Epoch:  1 | train loss: 0.7157 | validation f1: 0.34\n",
            "Epoch:  1 | train loss: 0.7239 | validation f1: 0.34\n",
            "Epoch:  1 | train loss: 0.7576 | validation f1: 0.47\n",
            "Epoch:  1 | train loss: 0.7142 | validation f1: 0.52\n",
            "Epoch:  1 | train loss: 0.7096 | validation f1: 0.49\n",
            "Epoch:  1 | train loss: 0.7010 | validation f1: 0.34\n",
            "Epoch:  1 | train loss: 0.7248 | validation f1: 0.45\n",
            "Epoch:  1 | train loss: 0.7390 | validation f1: 0.50\n",
            "Epoch:  1 | train loss: 0.6934 | validation f1: 0.53\n",
            "Epoch:  1 | train loss: 0.7047 | validation f1: 0.53\n",
            "Epoch:  1 | train loss: 0.6967 | validation f1: 0.34\n",
            "Epoch:  1 | train loss: 0.6911 | validation f1: 0.39\n",
            "Epoch:  1 | train loss: 0.6960 | validation f1: 0.41\n",
            "Epoch:  1 | train loss: 0.7118 | validation f1: 0.34\n",
            "Epoch:  2 | train loss: 0.6944 | validation f1: 0.34\n",
            "Epoch:  2 | train loss: 0.7171 | validation f1: 0.43\n",
            "Epoch:  2 | train loss: 0.6909 | validation f1: 0.48\n",
            "Epoch:  2 | train loss: 0.6992 | validation f1: 0.47\n",
            "Epoch:  2 | train loss: 0.7031 | validation f1: 0.53\n",
            "Epoch:  2 | train loss: 0.6976 | validation f1: 0.48\n",
            "Epoch:  2 | train loss: 0.6843 | validation f1: 0.43\n",
            "Epoch:  2 | train loss: 0.7108 | validation f1: 0.35\n",
            "Epoch:  2 | train loss: 0.6919 | validation f1: 0.56\n",
            "Epoch:  2 | train loss: 0.6808 | validation f1: 0.48\n",
            "Epoch:  2 | train loss: 0.6974 | validation f1: 0.40\n",
            "Epoch:  2 | train loss: 0.7037 | validation f1: 0.46\n",
            "Epoch:  2 | train loss: 0.7451 | validation f1: 0.47\n",
            "Epoch:  2 | train loss: 0.6792 | validation f1: 0.34\n"
          ]
        },
        {
          "output_type": "stream",
          "name": "stderr",
          "text": [
            "\u001b[32m[I 2023-01-27 18:17:55,361]\u001b[0m Trial 4 finished with value: 0.5728876087962618 and parameters: {'cell_type': 'GRU', 'hidden_size': 512, 'num_layers': 4}. Best is trial 3 with value: 0.8435671830513756.\u001b[0m\n"
          ]
        },
        {
          "output_type": "stream",
          "name": "stdout",
          "text": [
            "Epoch:  2 | train loss: 0.6913 | validation f1: 0.57\n"
          ]
        }
      ]
    },
    {
      "cell_type": "markdown",
      "source": [
        "### Learning curves for some models"
      ],
      "metadata": {
        "id": "uLSr0keZq5xO"
      }
    },
    {
      "cell_type": "markdown",
      "source": [
        "Choosing some of the best models from optuna to check learning curves for overfitting/underfitting. Then trying tuning hyperparameters"
      ],
      "metadata": {
        "id": "nP6jXP24rNNd"
      }
    },
    {
      "cell_type": "markdown",
      "source": [
        "####Model 1"
      ],
      "metadata": {
        "id": "jkEr-rMsuQJq"
      }
    },
    {
      "cell_type": "code",
      "execution_count": 62,
      "metadata": {
        "colab": {
          "base_uri": "https://localhost:8080/"
        },
        "outputId": "cfa230c1-bb62-4255-8d1d-dea1daa9afa9",
        "id": "qMUsQZK_tOad"
      },
      "outputs": [
        {
          "output_type": "execute_result",
          "data": {
            "text/plain": [
              "MY_RNN(\n",
              "  (embedding): Embedding(5000, 300)\n",
              "  (rnns): ModuleList(\n",
              "    (0): GRU(300, 128, batch_first=True, bidirectional=True)\n",
              "    (1): GRU(128, 128, batch_first=True, bidirectional=True)\n",
              "  )\n",
              "  (dropout): Dropout(p=0.25, inplace=False)\n",
              "  (linear): Linear(in_features=256, out_features=3, bias=True)\n",
              ")"
            ]
          },
          "metadata": {},
          "execution_count": 62
        }
      ],
      "source": [
        "model1 = MY_RNN('GRU', len(vocab), pretrained, 300, 128, 2, drop=0.25, skip=False)\n",
        "model1"
      ]
    },
    {
      "cell_type": "code",
      "execution_count": 63,
      "metadata": {
        "colab": {
          "base_uri": "https://localhost:8080/"
        },
        "outputId": "69e1bb23-e69d-4ce3-d446-b77bd72abcd5",
        "id": "s4b0ZWNEtOaf"
      },
      "outputs": [
        {
          "output_type": "stream",
          "name": "stderr",
          "text": [
            "/usr/local/lib/python3.8/dist-packages/sklearn/metrics/_classification.py:1318: UndefinedMetricWarning: Recall is ill-defined and being set to 0.0 in labels with no true samples. Use `zero_division` parameter to control this behavior.\n",
            "  _warn_prf(average, modifier, msg_start, len(result))\n",
            "/usr/local/lib/python3.8/dist-packages/sklearn/metrics/_classification.py:1318: UndefinedMetricWarning: Recall is ill-defined and being set to 0.0 in labels with no true samples. Use `zero_division` parameter to control this behavior.\n",
            "  _warn_prf(average, modifier, msg_start, len(result))\n"
          ]
        },
        {
          "output_type": "stream",
          "name": "stdout",
          "text": [
            "Epoch 0 TRAIN Loss: 0.7223313568343579 F1-score: 0.5085891370526888 Precision: 0.5432355274656908 Recall: 0.5276930786526387\n",
            "\tTEST Loss: 0.5877734985616472 F1-score: 0.7227881086950004 Precision: 0.7413395980444195 Recall: 0.7264802094985086\n",
            "Epoch 1 TRAIN Loss: 0.4283397210315919 F1-score: 0.802947314758613 Precision: 0.8081901531850577 Recall: 0.8036918801968437\n",
            "\tTEST Loss: 0.3570771101448271 F1-score: 0.8370415187953475 Precision: 0.8373561358619832 Recall: 0.837060437639821\n",
            "Epoch 2 TRAIN Loss: 0.36218314313552746 F1-score: 0.8388451711324619 Precision: 0.841375576237373 Recall: 0.8390774806974376\n",
            "\tTEST Loss: 0.3380444662438499 F1-score: 0.8462289417775011 Precision: 0.8464463385012733 Recall: 0.846239105611484\n",
            "Epoch 3 TRAIN Loss: 0.3419799103703297 F1-score: 0.8480372492516272 Precision: 0.8501673994085804 Recall: 0.8482196833107076\n",
            "\tTEST Loss: 0.3293048358625836 F1-score: 0.8540157845556696 Precision: 0.8542785950213293 Recall: 0.854037769155481\n",
            "Epoch 4 TRAIN Loss: 0.3280425168259043 F1-score: 0.8559662982794525 Precision: 0.8576821525922492 Recall: 0.8560918409553707\n",
            "\tTEST Loss: 0.3250136656893624 F1-score: 0.8590610979112144 Precision: 0.8592884028167801 Recall: 0.8590764238441462\n",
            "Epoch 5 TRAIN Loss: 0.31846053247720424 F1-score: 0.8613093735451587 Precision: 0.8630692331070113 Recall: 0.8614169486042762\n",
            "\tTEST Loss: 0.32219602002037895 F1-score: 0.8628209529999037 Precision: 0.8630738578118501 Recall: 0.8628297445935869\n",
            "Epoch 6 TRAIN Loss: 0.3052037641615935 F1-score: 0.8659622528335197 Precision: 0.8677257291282727 Recall: 0.8660821764169353\n",
            "\tTEST Loss: 0.31696316103140515 F1-score: 0.8651036761808534 Precision: 0.8654412171034048 Recall: 0.8651389762770321\n",
            "Epoch 7 TRAIN Loss: 0.29554675645391704 F1-score: 0.8720528921937911 Precision: 0.8741852105768172 Recall: 0.8721914506618021\n",
            "\tTEST Loss: 0.31425511671437156 F1-score: 0.8671685189399874 Precision: 0.8675091755843991 Recall: 0.8671700223713646\n",
            "Epoch 8 TRAIN Loss: 0.28578556003704875 F1-score: 0.8771374705753755 Precision: 0.8790891556699222 Recall: 0.8772553903996267\n",
            "\tTEST Loss: 0.31701722575558555 F1-score: 0.8706997696663379 Precision: 0.8709851394127529 Recall: 0.8707201656879194\n"
          ]
        }
      ],
      "source": [
        "train_scores, validation_scores = train(model1, train_dataloader, val_dataloader, lr=0.001, epochs=9, clip=0.99)\n",
        " "
      ]
    },
    {
      "cell_type": "code",
      "source": [
        "plot_metrics(9, train_scores, validation_scores)"
      ],
      "metadata": {
        "colab": {
          "base_uri": "https://localhost:8080/",
          "height": 289
        },
        "outputId": "49757840-57d5-4c73-8075-a81d294632e2",
        "id": "sFlxLNtLtOai"
      },
      "execution_count": 64,
      "outputs": [
        {
          "output_type": "display_data",
          "data": {
            "text/plain": [
              "<Figure size 1440x360 with 4 Axes>"
            ],
            "image/png": "[encoded data removed]"
          },
          "metadata": {
            "needs_background": "light"
          }
        }
      ]
    },
    {
      "cell_type": "code",
      "source": [
        "plot_roc(model1, train_dataloader, val_dataloader)\n"
      ],
      "metadata": {
        "colab": {
          "base_uri": "https://localhost:8080/",
          "height": 283
        },
        "outputId": "da3f3b16-8e00-4cad-b884-7001818fdc0c",
        "id": "k6CncOOjtOaj"
      },
      "execution_count": 65,
      "outputs": [
        {
          "output_type": "display_data",
          "data": {
            "text/plain": [
              "<Figure size 432x288 with 1 Axes>"
            ],
            "image/png": "[encoded data removed]"
          },
          "metadata": {
            "needs_background": "light"
          }
        }
      ]
    },
    {
      "cell_type": "code",
      "source": [
        "test(model1, test_dataloader)"
      ],
      "metadata": {
        "colab": {
          "base_uri": "https://localhost:8080/"
        },
        "outputId": "03cd0ef2-43fb-42fc-88d0-1a5a53cd49ac",
        "id": "BOwZVVD_tOak"
      },
      "execution_count": 66,
      "outputs": [
        {
          "output_type": "stream",
          "name": "stdout",
          "text": [
            "F1 score:  0.8895339067236286\n",
            "precision score:  0.8899849485794821\n",
            "recall score:  0.8895369115981883\n"
          ]
        }
      ]
    },
    {
      "cell_type": "markdown",
      "source": [
        "####Model 2"
      ],
      "metadata": {
        "id": "xownVhzputm0"
      }
    },
    {
      "cell_type": "code",
      "execution_count": 57,
      "metadata": {
        "colab": {
          "base_uri": "https://localhost:8080/"
        },
        "outputId": "c7d296cc-0628-48e0-8fec-8d832db0fdb9",
        "id": "jFg2Xekjutm2"
      },
      "outputs": [
        {
          "output_type": "execute_result",
          "data": {
            "text/plain": [
              "MY_RNN(\n",
              "  (embedding): Embedding(5000, 300)\n",
              "  (rnns): ModuleList(\n",
              "    (0): LSTM(300, 128, batch_first=True, bidirectional=True)\n",
              "    (1): LSTM(128, 128, batch_first=True, bidirectional=True)\n",
              "  )\n",
              "  (dropout): Dropout(p=0.25, inplace=False)\n",
              "  (linear): Linear(in_features=256, out_features=3, bias=True)\n",
              ")"
            ]
          },
          "metadata": {},
          "execution_count": 57
        }
      ],
      "source": [
        "model2 = MY_RNN('LSTM', len(vocab), pretrained, 300, 128, 2, drop=0.25, skip=False)\n",
        "model2"
      ]
    },
    {
      "cell_type": "code",
      "execution_count": 58,
      "metadata": {
        "colab": {
          "base_uri": "https://localhost:8080/"
        },
        "outputId": "59cb2dd8-2014-4bd1-cf77-b14435e9ea47",
        "id": "TTZ_41XOutm3"
      },
      "outputs": [
        {
          "output_type": "stream",
          "name": "stdout",
          "text": [
            "Epoch 0 TRAIN Loss: 0.7371796696958407 F1-score: 0.4813455837019974 Precision: 0.5075215953730887 Recall: 0.5052979302774477\n",
            "\tTEST Loss: 0.6867512928114997 F1-score: 0.4889293924503121 Precision: 0.6287611495551046 Recall: 0.5612925871551081\n",
            "Epoch 1 TRAIN Loss: 0.6796220289149755 F1-score: 0.5212083354576301 Precision: 0.5834829872670532 Recall: 0.5609489012387578\n",
            "\tTEST Loss: 0.6146512164009942 F1-score: 0.7062929143849213 Precision: 0.7278815829854145 Recall: 0.7121208811055183\n",
            "Epoch 2 TRAIN Loss: 0.49681411620596766 F1-score: 0.7693691004333746 Precision: 0.7788880828942607 Recall: 0.7715248096258273\n",
            "\tTEST Loss: 0.4108133150471581 F1-score: 0.8225814745939672 Precision: 0.823011734283311 Recall: 0.8225678423284862\n",
            "Epoch 3 TRAIN Loss: 0.4024348258972168 F1-score: 0.8192127765015547 Precision: 0.8234531611293752 Recall: 0.8197663011199728\n",
            "\tTEST Loss: 0.36774608658419716 F1-score: 0.8360502959301503 Precision: 0.836246656928882 Recall: 0.8360532892897091\n",
            "Epoch 4 TRAIN Loss: 0.3769221767573289 F1-score: 0.8320015762274029 Precision: 0.8351014934803601 Recall: 0.8323103152044798\n",
            "\tTEST Loss: 0.35704567035039264 F1-score: 0.8353421688843222 Precision: 0.8402415091702694 Recall: 0.8359724552572707\n",
            "Epoch 5 TRAIN Loss: 0.3593233345260083 F1-score: 0.8383080885041343 Precision: 0.8407837093897876 Recall: 0.8385548134439165\n",
            "\tTEST Loss: 0.3498972670899497 F1-score: 0.8405957137291826 Precision: 0.8446388486920972 Recall: 0.8411196168903803\n",
            "Epoch 6 TRAIN Loss: 0.3457058768876841 F1-score: 0.8470339941791608 Precision: 0.8493336376313229 Recall: 0.8472475951340573\n",
            "\tTEST Loss: 0.34550349248780143 F1-score: 0.8438642807159238 Precision: 0.8477911790728244 Recall: 0.8443609887677107\n",
            "Epoch 7 TRAIN Loss: 0.335926998668993 F1-score: 0.8509530609689269 Precision: 0.853693347882782 Recall: 0.8511952740539623\n",
            "\tTEST Loss: 0.33413858380582595 F1-score: 0.8525417245554276 Precision: 0.8537474529402129 Recall: 0.85270218703393\n",
            "Epoch 8 TRAIN Loss: 0.3278642733332137 F1-score: 0.8573383518205505 Precision: 0.8598653214323333 Recall: 0.8575498075046666\n",
            "\tTEST Loss: 0.3278920286231571 F1-score: 0.8553705086253798 Precision: 0.8564481234525687 Recall: 0.8555095311334825\n"
          ]
        }
      ],
      "source": [
        "train_scores, validation_scores = train(model2, train_dataloader, val_dataloader, lr=0.001, epochs=9, clip=0.99)\n",
        " "
      ]
    },
    {
      "cell_type": "code",
      "source": [
        "plot_metrics(9, train_scores, validation_scores)"
      ],
      "metadata": {
        "colab": {
          "base_uri": "https://localhost:8080/",
          "height": 289
        },
        "outputId": "0b23d35a-fdbe-411e-873b-834aa19f9aec",
        "id": "kCD7scQYutm4"
      },
      "execution_count": 59,
      "outputs": [
        {
          "output_type": "display_data",
          "data": {
            "text/plain": [
              "<Figure size 1440x360 with 4 Axes>"
            ],
            "image/png": "[encoded data removed]"
          },
          "metadata": {
            "needs_background": "light"
          }
        }
      ]
    },
    {
      "cell_type": "code",
      "source": [
        "plot_roc(model2, train_dataloader, val_dataloader)\n"
      ],
      "metadata": {
        "colab": {
          "base_uri": "https://localhost:8080/",
          "height": 283
        },
        "outputId": "ee31c3b0-e444-4a36-e4ab-0dbfcb9d5972",
        "id": "RVpqTW80utm5"
      },
      "execution_count": 60,
      "outputs": [
        {
          "output_type": "display_data",
          "data": {
            "text/plain": [
              "<Figure size 432x288 with 1 Axes>"
            ],
            "image/png": "[encoded data removed]"
          },
          "metadata": {
            "needs_background": "light"
          }
        }
      ]
    },
    {
      "cell_type": "code",
      "source": [
        "test(model2, test_dataloader)"
      ],
      "metadata": {
        "colab": {
          "base_uri": "https://localhost:8080/"
        },
        "outputId": "e872a918-6d96-4096-cc33-977aeffa182f",
        "id": "lEqA64C4utm6"
      },
      "execution_count": 61,
      "outputs": [
        {
          "output_type": "stream",
          "name": "stdout",
          "text": [
            "F1 score:  0.8645721969445656\n",
            "precision score:  0.8665298269781497\n",
            "recall score:  0.8647029682950502\n"
          ]
        }
      ]
    },
    {
      "cell_type": "markdown",
      "source": [
        "####Model 3"
      ],
      "metadata": {
        "id": "Wo43uj7jWrgF"
      }
    },
    {
      "cell_type": "markdown",
      "source": [
        "Try 80% clipping"
      ],
      "metadata": {
        "id": "i9_5wnmtW0V7"
      }
    },
    {
      "cell_type": "code",
      "execution_count": 67,
      "metadata": {
        "colab": {
          "base_uri": "https://localhost:8080/"
        },
        "id": "6pC4OXgxWrgG",
        "outputId": "a1221141-3d2f-422a-f9d8-4a42f7e48f7f"
      },
      "outputs": [
        {
          "output_type": "execute_result",
          "data": {
            "text/plain": [
              "MY_RNN(\n",
              "  (embedding): Embedding(5000, 300)\n",
              "  (rnns): ModuleList(\n",
              "    (0): GRU(300, 128, batch_first=True, bidirectional=True)\n",
              "    (1): GRU(128, 128, batch_first=True, bidirectional=True)\n",
              "  )\n",
              "  (dropout): Dropout(p=0.25, inplace=False)\n",
              "  (linear): Linear(in_features=256, out_features=3, bias=True)\n",
              ")"
            ]
          },
          "metadata": {},
          "execution_count": 67
        }
      ],
      "source": [
        "model3 = MY_RNN('GRU', len(vocab), pretrained, 300, 128, 2, drop=0.25, skip=False)\n",
        "model3"
      ]
    },
    {
      "cell_type": "code",
      "execution_count": 68,
      "metadata": {
        "colab": {
          "base_uri": "https://localhost:8080/"
        },
        "id": "luZEFZjJWrgG",
        "outputId": "da820e31-2b5e-4d9d-faca-7f43723476df"
      },
      "outputs": [
        {
          "output_type": "stream",
          "name": "stderr",
          "text": [
            "/usr/local/lib/python3.8/dist-packages/sklearn/metrics/_classification.py:1318: UndefinedMetricWarning: Recall is ill-defined and being set to 0.0 in labels with no true samples. Use `zero_division` parameter to control this behavior.\n",
            "  _warn_prf(average, modifier, msg_start, len(result))\n"
          ]
        },
        {
          "output_type": "stream",
          "name": "stdout",
          "text": [
            "Epoch 0 TRAIN Loss: 0.7235841020731859 F1-score: 0.5068742816877853 Precision: 0.5354320775188093 Recall: 0.5271840000848464\n",
            "\tTEST Loss: 0.6082266933388181 F1-score: 0.7198682722757807 Precision: 0.728994670652385 Recall: 0.7216083205164057\n",
            "Epoch 1 TRAIN Loss: 0.43309707876662135 F1-score: 0.7997756645319635 Precision: 0.8034033806773513 Recall: 0.8002831086670626\n",
            "\tTEST Loss: 0.3744354827536477 F1-score: 0.829062076596985 Precision: 0.8361207600173739 Recall: 0.8299907368568233\n",
            "Epoch 2 TRAIN Loss: 0.36476720386827494 F1-score: 0.8361443028123067 Precision: 0.8393459368098739 Recall: 0.8364435956855591\n",
            "\tTEST Loss: 0.34139228363831836 F1-score: 0.8477118613407943 Precision: 0.8485122499998252 Recall: 0.8477276169835943\n",
            "Epoch 3 TRAIN Loss: 0.3443720454061535 F1-score: 0.8487177754690892 Precision: 0.8503071263253206 Recall: 0.8488500657559817\n",
            "\tTEST Loss: 0.3290803035100301 F1-score: 0.8530372152717067 Precision: 0.8532480612608742 Recall: 0.853044457261372\n",
            "Epoch 4 TRAIN Loss: 0.3301841213669575 F1-score: 0.8555789631549078 Precision: 0.85721091057264 Recall: 0.85569975765739\n",
            "\tTEST Loss: 0.3218841867314445 F1-score: 0.857729445152962 Precision: 0.8585443117403748 Recall: 0.8578355122110365\n",
            "Epoch 5 TRAIN Loss: 0.319302199172302 F1-score: 0.8614425733692515 Precision: 0.8634016221224159 Recall: 0.8615912814992365\n",
            "\tTEST Loss: 0.317158967256546 F1-score: 0.8574244298206238 Precision: 0.8583593588821049 Recall: 0.8575405772278151\n",
            "Epoch 6 TRAIN Loss: 0.3108179434924058 F1-score: 0.8659497909220785 Precision: 0.8684027087648633 Recall: 0.8661255939249958\n",
            "\tTEST Loss: 0.3121422794130113 F1-score: 0.8623643189928758 Precision: 0.8629078499757953 Recall: 0.862440139121924\n",
            "Epoch 7 TRAIN Loss: 0.2986463883393247 F1-score: 0.8710126059746285 Precision: 0.8727201935551842 Recall: 0.8711162873324283\n",
            "\tTEST Loss: 0.30899778008461 F1-score: 0.8654106895477339 Precision: 0.8658071971647661 Recall: 0.8654477477162565\n",
            "Epoch 8 TRAIN Loss: 0.2868496521677769 F1-score: 0.8781740879897776 Precision: 0.8798986223388522 Recall: 0.8782480273205497\n",
            "\tTEST Loss: 0.31016991866959465 F1-score: 0.8676208604891055 Precision: 0.8687426281001001 Recall: 0.8677598923378076\n"
          ]
        }
      ],
      "source": [
        "train_scores, validation_scores = train(model3, train_dataloader, val_dataloader, lr=0.001, epochs=9, clip=0.8)\n",
        " "
      ]
    },
    {
      "cell_type": "code",
      "source": [
        "plot_metrics(9, train_scores, validation_scores)"
      ],
      "metadata": {
        "colab": {
          "base_uri": "https://localhost:8080/",
          "height": 289
        },
        "id": "vigIs23oWrgG",
        "outputId": "a153019c-afda-4642-98b5-4b3ec077c853"
      },
      "execution_count": 69,
      "outputs": [
        {
          "output_type": "display_data",
          "data": {
            "text/plain": [
              "<Figure size 1440x360 with 4 Axes>"
            ],
            "image/png": "[encoded data removed]"
          },
          "metadata": {
            "needs_background": "light"
          }
        }
      ]
    },
    {
      "cell_type": "code",
      "source": [
        "plot_roc(model3, train_dataloader, val_dataloader)\n"
      ],
      "metadata": {
        "colab": {
          "base_uri": "https://localhost:8080/",
          "height": 283
        },
        "id": "Tp78ucqYWrgH",
        "outputId": "3ad4e6e7-0a2b-4182-dd9f-77b4453ab9d2"
      },
      "execution_count": 70,
      "outputs": [
        {
          "output_type": "display_data",
          "data": {
            "text/plain": [
              "<Figure size 432x288 with 1 Axes>"
            ],
            "image/png": "[encoded data removed]"
          },
          "metadata": {
            "needs_background": "light"
          }
        }
      ]
    },
    {
      "cell_type": "code",
      "source": [
        "test(model3, test_dataloader)"
      ],
      "metadata": {
        "colab": {
          "base_uri": "https://localhost:8080/"
        },
        "id": "E70tklbUWrgH",
        "outputId": "762b4c08-566a-440d-da08-330674ea7400"
      },
      "execution_count": 71,
      "outputs": [
        {
          "output_type": "stream",
          "name": "stdout",
          "text": [
            "F1 score:  0.8852648847924925\n",
            "precision score:  0.8864991964422365\n",
            "recall score:  0.8853191473228729\n"
          ]
        }
      ]
    },
    {
      "cell_type": "markdown",
      "source": [
        "####Model 4"
      ],
      "metadata": {
        "id": "ob-F--H8XJKj"
      }
    },
    {
      "cell_type": "markdown",
      "source": [
        "Try lr=0.01"
      ],
      "metadata": {
        "id": "hKr4m-fgXJKk"
      }
    },
    {
      "cell_type": "code",
      "execution_count": 72,
      "metadata": {
        "colab": {
          "base_uri": "https://localhost:8080/"
        },
        "id": "ETF7ZdYoXJKl",
        "outputId": "22b4d2cf-0bd3-4645-dbee-e8aa5f324f39"
      },
      "outputs": [
        {
          "output_type": "execute_result",
          "data": {
            "text/plain": [
              "MY_RNN(\n",
              "  (embedding): Embedding(5000, 300)\n",
              "  (rnns): ModuleList(\n",
              "    (0): GRU(300, 128, batch_first=True, bidirectional=True)\n",
              "    (1): GRU(128, 128, batch_first=True, bidirectional=True)\n",
              "  )\n",
              "  (dropout): Dropout(p=0.25, inplace=False)\n",
              "  (linear): Linear(in_features=256, out_features=3, bias=True)\n",
              ")"
            ]
          },
          "metadata": {},
          "execution_count": 72
        }
      ],
      "source": [
        "model4 = MY_RNN('GRU', len(vocab), pretrained, 300, 128, 2, drop=0.25, skip=False)\n",
        "model4"
      ]
    },
    {
      "cell_type": "code",
      "execution_count": 73,
      "metadata": {
        "colab": {
          "base_uri": "https://localhost:8080/"
        },
        "id": "NKVnvC19XJKm",
        "outputId": "ecad8a54-e6f2-47af-f4d0-65252933e8be"
      },
      "outputs": [
        {
          "output_type": "stream",
          "name": "stderr",
          "text": [
            "/usr/local/lib/python3.8/dist-packages/sklearn/metrics/_classification.py:1318: UndefinedMetricWarning: Recall is ill-defined and being set to 0.0 in labels with no true samples. Use `zero_division` parameter to control this behavior.\n",
            "  _warn_prf(average, modifier, msg_start, len(result))\n",
            "/usr/local/lib/python3.8/dist-packages/sklearn/metrics/_classification.py:1318: UndefinedMetricWarning: Precision is ill-defined and being set to 0.0 in labels with no predicted samples. Use `zero_division` parameter to control this behavior.\n",
            "  _warn_prf(average, modifier, msg_start, len(result))\n",
            "/usr/local/lib/python3.8/dist-packages/sklearn/metrics/_classification.py:1318: UndefinedMetricWarning: Precision is ill-defined and being set to 0.0 in labels with no predicted samples. Use `zero_division` parameter to control this behavior.\n",
            "  _warn_prf(average, modifier, msg_start, len(result))\n",
            "/usr/local/lib/python3.8/dist-packages/sklearn/metrics/_classification.py:1318: UndefinedMetricWarning: Precision is ill-defined and being set to 0.0 in labels with no predicted samples. Use `zero_division` parameter to control this behavior.\n",
            "  _warn_prf(average, modifier, msg_start, len(result))\n"
          ]
        },
        {
          "output_type": "stream",
          "name": "stdout",
          "text": [
            "Epoch 0 TRAIN Loss: 0.5554051067627651 F1-score: 0.6696985984244612 Precision: 0.6884694003539216 Recall: 0.6931363216952316\n",
            "\tTEST Loss: 0.3756885793473985 F1-score: 0.8278693866512351 Precision: 0.8398700438235649 Recall: 0.8293870304343773\n",
            "Epoch 1 TRAIN Loss: 0.3465460643801891 F1-score: 0.8463754299321831 Precision: 0.8509682023929049 Recall: 0.8467915455837435\n",
            "\tTEST Loss: 0.31835989157358807 F1-score: 0.8605987808525026 Precision: 0.8608847976853529 Recall: 0.8606290198545862\n",
            "Epoch 2 TRAIN Loss: 0.2947837168901739 F1-score: 0.8740078671769683 Precision: 0.8756445457376367 Recall: 0.8741077867809266\n",
            "\tTEST Loss: 0.31577302515506744 F1-score: 0.8667550343214548 Precision: 0.8675069114202337 Recall: 0.8667833298378076\n",
            "Epoch 3 TRAIN Loss: 0.26743617213108173 F1-score: 0.887212283731577 Precision: 0.8892468541602122 Recall: 0.8873580810919734\n",
            "\tTEST Loss: 0.3557456301318275 F1-score: 0.8531136929422738 Precision: 0.8614076428877091 Recall: 0.8539904339112603\n",
            "Epoch 4 TRAIN Loss: 0.24707680541864582 F1-score: 0.8966383940372067 Precision: 0.900282028203404 Recall: 0.8968532581028339\n",
            "\tTEST Loss: 0.3494289418061574 F1-score: 0.861878076153587 Precision: 0.8647427821621118 Recall: 0.862039610132364\n",
            "Epoch 5 TRAIN Loss: 0.2419906318397589 F1-score: 0.8985053940710104 Precision: 0.9044895572492355 Recall: 0.8988408519641948\n",
            "\tTEST Loss: 0.3524469170305464 F1-score: 0.8572652730224861 Precision: 0.8616319660361245 Recall: 0.857543490165921\n",
            "Epoch 6 TRAIN Loss: 0.22191710707167506 F1-score: 0.9090815213069694 Precision: 0.9132111683341659 Recall: 0.9093124257593757\n",
            "\tTEST Loss: 0.37868590818511116 F1-score: 0.850280287136319 Precision: 0.860316595974679 Recall: 0.8513585943325876\n"
          ]
        },
        {
          "output_type": "stream",
          "name": "stderr",
          "text": [
            "/usr/local/lib/python3.8/dist-packages/sklearn/metrics/_classification.py:1318: UndefinedMetricWarning: Recall is ill-defined and being set to 0.0 in labels with no true samples. Use `zero_division` parameter to control this behavior.\n",
            "  _warn_prf(average, modifier, msg_start, len(result))\n",
            "/usr/local/lib/python3.8/dist-packages/sklearn/metrics/_classification.py:1318: UndefinedMetricWarning: Recall is ill-defined and being set to 0.0 in labels with no true samples. Use `zero_division` parameter to control this behavior.\n",
            "  _warn_prf(average, modifier, msg_start, len(result))\n"
          ]
        },
        {
          "output_type": "stream",
          "name": "stdout",
          "text": [
            "Epoch 7 TRAIN Loss: 0.2064237383679605 F1-score: 0.9147815354959078 Precision: 0.9175207559281563 Recall: 0.9148715239479043\n",
            "\tTEST Loss: 0.39441508717007107 F1-score: 0.8563101321810623 Precision: 0.8623680722638017 Recall: 0.856953620199478\n",
            "Epoch 8 TRAIN Loss: 0.19708472259447607 F1-score: 0.9202311699494309 Precision: 0.922177618087592 Recall: 0.9202907581028338\n",
            "\tTEST Loss: 0.3614061839050717 F1-score: 0.8582371177956015 Precision: 0.8617860736250642 Recall: 0.8586088972781506\n"
          ]
        }
      ],
      "source": [
        "train_scores, validation_scores = train(model4, train_dataloader, val_dataloader, lr=0.01, epochs=9, clip=0.99)\n",
        " "
      ]
    },
    {
      "cell_type": "code",
      "source": [
        "plot_metrics(9, train_scores, validation_scores)"
      ],
      "metadata": {
        "colab": {
          "base_uri": "https://localhost:8080/",
          "height": 287
        },
        "id": "vpuyCK-nXJKn",
        "outputId": "070de6bc-11c5-4a30-b691-e3ce6c3c8546"
      },
      "execution_count": 74,
      "outputs": [
        {
          "output_type": "display_data",
          "data": {
            "text/plain": [
              "<Figure size 1440x360 with 4 Axes>"
            ],
            "image/png": "[encoded data removed]"
          },
          "metadata": {
            "needs_background": "light"
          }
        }
      ]
    },
    {
      "cell_type": "code",
      "source": [
        "plot_roc(model4, train_dataloader, val_dataloader)\n"
      ],
      "metadata": {
        "colab": {
          "base_uri": "https://localhost:8080/",
          "height": 283
        },
        "id": "vSJK5p_lXJKn",
        "outputId": "ab56ba63-4c5d-4fa5-de60-9850b604a9b4"
      },
      "execution_count": 75,
      "outputs": [
        {
          "output_type": "display_data",
          "data": {
            "text/plain": [
              "<Figure size 432x288 with 1 Axes>"
            ],
            "image/png": "[encoded data removed]"
          },
          "metadata": {
            "needs_background": "light"
          }
        }
      ]
    },
    {
      "cell_type": "code",
      "source": [
        "test(model4, test_dataloader)"
      ],
      "metadata": {
        "colab": {
          "base_uri": "https://localhost:8080/"
        },
        "id": "0qtEI7-BXJKn",
        "outputId": "a4b92615-1631-4812-f916-3fad5ae4aae7"
      },
      "execution_count": 76,
      "outputs": [
        {
          "output_type": "stream",
          "name": "stdout",
          "text": [
            "F1 score:  0.9343049342646796\n",
            "precision score:  0.9369009146588767\n",
            "recall score:  0.9343835934972501\n"
          ]
        }
      ]
    },
    {
      "cell_type": "markdown",
      "source": [
        "### My best model"
      ],
      "metadata": {
        "id": "AnThO5FsbLsV"
      }
    },
    {
      "cell_type": "code",
      "source": [
        "# Save best model\n",
        "#torch.save(model1, '/content/drive/MyDrive/best_model')"
      ],
      "metadata": {
        "id": "D-DA80mGvgB9"
      },
      "execution_count": null,
      "outputs": []
    }
  ],
  "metadata": {
    "accelerator": "GPU",
    "colab": {
      "collapsed_sections": [
        "8hiL2rnuE5ry",
        "QbCdL4UGFaLU",
        "74QJkz6XFbt9",
        "7lb6JuDoFxrR",
        "n3AfzzLtwwP-",
        "37yJeYBIh03e",
        "jv1NeYSED-hH",
        "yzXju_EaUag4",
        "U0UQxP45ydgI",
        "qpTxNCpOjqOa"
      ],
      "provenance": []
    },
    "gpuClass": "standard",
    "kernelspec": {
      "display_name": "Python 3",
      "name": "python3"
    },
    "language_info": {
      "name": "python"
    }
  },
  "nbformat": 4,
  "nbformat_minor": 0
}