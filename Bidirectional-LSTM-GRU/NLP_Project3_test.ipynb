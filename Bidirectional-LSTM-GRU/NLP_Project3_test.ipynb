{
  "nbformat": 4,
  "nbformat_minor": 0,
  "metadata": {
    "colab": {
      "provenance": [],
      "collapsed_sections": [
        "8hiL2rnuE5ry",
        "QbCdL4UGFaLU",
        "74QJkz6XFbt9",
        "tyyxQ52_HmUK",
        "37yJeYBIh03e",
        "feFNUIpWh9ys"
      ]
    },
    "kernelspec": {
      "name": "python3",
      "display_name": "Python 3"
    },
    "language_info": {
      "name": "python"
    },
    "accelerator": "GPU",
    "gpuClass": "standard"
  },
  "cells": [
    {
      "cell_type": "markdown",
      "metadata": {
        "id": "o0Xluc0RwrTS"
      },
      "source": [
        "# Artificial Intelligence II (Deep Learning for Natural Language Processing)\n",
        "# Homework 3\n",
        "\n",
        "Name: Maria Miliou \\\n",
        "ID: 1115201300101 "
      ]
    },
    {
      "cell_type": "markdown",
      "metadata": {
        "id": "8hiL2rnuE5ry"
      },
      "source": [
        "## Import and install usefull packages"
      ]
    },
    {
      "cell_type": "markdown",
      "metadata": {
        "id": "QbCdL4UGFaLU"
      },
      "source": [
        "### Pandas, Numpy, Pytorch, sklearn, matplotlib"
      ]
    },
    {
      "cell_type": "code",
      "execution_count": 1,
      "metadata": {
        "id": "lhe-voDmwZxJ"
      },
      "outputs": [],
      "source": [
        "# Importing useful libraries\n",
        "import pandas as pd\n",
        "import numpy as np\n",
        "import matplotlib.pyplot as plt\n",
        "import torch\n",
        "import torch.nn as nn\n",
        "import string\n",
        "import random\n",
        "import os\n",
        "\n",
        "import re\n",
        "from sklearn.feature_extraction.text import ENGLISH_STOP_WORDS\n",
        "from scipy.linalg.decomp import empty\n",
        "from sklearn.metrics import f1_score, classification_report, recall_score,precision_score,confusion_matrix, ConfusionMatrixDisplay, accuracy_score, roc_auc_score, roc_curve, auc, RocCurveDisplay\n",
        "from sklearn.model_selection import train_test_split, cross_val_score\n",
        "from torchtext import data\n",
        "from nltk.lm import Vocabulary\n",
        "from torchtext.vocab import build_vocab_from_iterator\n"
      ]
    },
    {
      "cell_type": "code",
      "execution_count": 2,
      "metadata": {
        "colab": {
          "base_uri": "https://localhost:8080/"
        },
        "id": "YDozl4A3rn3T",
        "outputId": "cd1ccee0-5f0f-4821-b53f-1e66c93d91db"
      },
      "outputs": [
        {
          "output_type": "stream",
          "name": "stdout",
          "text": [
            "Working on: cpu\n"
          ]
        }
      ],
      "source": [
        "def set_seed(seed = 1234):\n",
        "    '''Sets the seed of the entire notebook so results are the same every time we run. This is for REPRODUCIBILITY.\n",
        "    '''\n",
        "    np.random.seed(seed)\n",
        "    random.seed(seed)\n",
        "    torch.manual_seed(seed)\n",
        "    torch.cuda.manual_seed(seed)\n",
        "    # When running on the CuDNN backend, two further options must be set\n",
        "    torch.backends.cudnn.deterministic = True\n",
        "    # Set a fixed value for the hash seed\n",
        "    os.environ['PYTHONHASHSEED'] = str(seed)\n",
        "    \n",
        "set_seed()\n",
        "\n",
        "device = 'cpu'\n",
        "print('Working on:', device)"
      ]
    },
    {
      "cell_type": "markdown",
      "metadata": {
        "id": "74QJkz6XFbt9"
      },
      "source": [
        "### NLTK (Natural Language Toolkit)\n",
        "To tokenize, lemmatize and remove stop words"
      ]
    },
    {
      "cell_type": "code",
      "execution_count": 3,
      "metadata": {
        "colab": {
          "base_uri": "https://localhost:8080/"
        },
        "id": "NmBZnbiMjubS",
        "outputId": "07c940a0-8296-4130-8372-a1341defc6df"
      },
      "outputs": [
        {
          "output_type": "stream",
          "name": "stdout",
          "text": [
            "Looking in indexes: https://pypi.org/simple, https://us-python.pkg.dev/colab-wheels/public/simple/\n",
            "Requirement already satisfied: nltk in /usr/local/lib/python3.8/dist-packages (3.7)\n",
            "Requirement already satisfied: joblib in /usr/local/lib/python3.8/dist-packages (from nltk) (1.2.0)\n",
            "Requirement already satisfied: click in /usr/local/lib/python3.8/dist-packages (from nltk) (7.1.2)\n",
            "Requirement already satisfied: tqdm in /usr/local/lib/python3.8/dist-packages (from nltk) (4.64.1)\n",
            "Requirement already satisfied: regex>=2021.8.3 in /usr/local/lib/python3.8/dist-packages (from nltk) (2022.6.2)\n"
          ]
        }
      ],
      "source": [
        "!pip install nltk"
      ]
    },
    {
      "cell_type": "code",
      "execution_count": 4,
      "metadata": {
        "colab": {
          "base_uri": "https://localhost:8080/"
        },
        "id": "kceeFyDemTpK",
        "outputId": "9025ff06-1115-4d84-ec8d-4c19ca195393"
      },
      "outputs": [
        {
          "output_type": "stream",
          "name": "stderr",
          "text": [
            "[nltk_data] Downloading package stopwords to /root/nltk_data...\n",
            "[nltk_data]   Unzipping corpora/stopwords.zip.\n",
            "[nltk_data] Downloading package omw-1.4 to /root/nltk_data...\n",
            "[nltk_data] Downloading package wordnet to /root/nltk_data...\n"
          ]
        },
        {
          "output_type": "execute_result",
          "data": {
            "text/plain": [
              "True"
            ]
          },
          "metadata": {},
          "execution_count": 4
        }
      ],
      "source": [
        "import nltk\n",
        "from nltk.corpus import stopwords\n",
        "from nltk.tokenize import RegexpTokenizer\n",
        "from nltk.stem import WordNetLemmatizer\n",
        "\n",
        "nltk.download('stopwords')\n",
        "nltk.download('omw-1.4')\n",
        "nltk.download('wordnet')"
      ]
    },
    {
      "cell_type": "markdown",
      "metadata": {
        "id": "7lb6JuDoFxrR"
      },
      "source": [
        "### GloVE "
      ]
    },
    {
      "cell_type": "code",
      "execution_count": 5,
      "metadata": {
        "id": "6zO5i7HRxYoW"
      },
      "outputs": [],
      "source": [
        "#!wget http://nlp.stanford.edu/data/glove.6B.zip"
      ]
    },
    {
      "cell_type": "code",
      "execution_count": 6,
      "metadata": {
        "id": "9-WW-cx0yXVG"
      },
      "outputs": [],
      "source": [
        "#!ls -l\n",
        "#!unzip glove*.zip"
      ]
    },
    {
      "cell_type": "markdown",
      "metadata": {
        "id": "tyyxQ52_HmUK"
      },
      "source": [
        "## Loading Datasets\n"
      ]
    },
    {
      "cell_type": "code",
      "execution_count": 7,
      "metadata": {
        "colab": {
          "base_uri": "https://localhost:8080/"
        },
        "outputId": "bc2f94b5-fb57-4267-ec0d-a28e9fa300e8",
        "id": "TlXL9PFCHmUO"
      },
      "outputs": [
        {
          "output_type": "stream",
          "name": "stdout",
          "text": [
            "Mounted at /content/drive\n"
          ]
        }
      ],
      "source": [
        "# Data file located at git\n",
        "from google.colab import drive\n",
        "drive.mount('/content/drive')"
      ]
    },
    {
      "cell_type": "markdown",
      "metadata": {
        "id": "37yJeYBIh03e"
      },
      "source": [
        "### Loading train set"
      ]
    },
    {
      "cell_type": "markdown",
      "metadata": {
        "id": "feFNUIpWh9ys"
      },
      "source": [
        "### Loading test set"
      ]
    },
    {
      "cell_type": "code",
      "execution_count": 9,
      "metadata": {
        "colab": {
          "base_uri": "https://localhost:8080/",
          "height": 367
        },
        "outputId": "11b558b8-d04e-412c-a1cd-8e01dfe31e5e",
        "id": "rPau6I0aHmUS"
      },
      "outputs": [
        {
          "output_type": "stream",
          "name": "stdout",
          "text": [
            "            rating\n",
            "count  5401.000000\n",
            "mean      5.447695\n",
            "std       3.495698\n",
            "min       1.000000\n",
            "25%       2.000000\n",
            "50%       4.000000\n",
            "75%       9.000000\n",
            "max      10.000000\n"
          ]
        },
        {
          "output_type": "execute_result",
          "data": {
            "text/plain": [
              "                                              review  rating\n",
              "0  I saw this film at the 2002 Toronto Internatio...     9.0\n",
              "1  The Stock Market Crash of 1929 and the Depress...    10.0\n",
              "2  Basically this is an overlong, unfunny, action...     1.0\n",
              "3  And I am afraid that I cannot imagine why. It ...     1.0\n",
              "4  Bubbling just beneath the surface of Showtime ...     4.0"
            ],
            "text/html": [
              "\n",
              "  <div id=\"df-ae31758c-a190-4b8e-8731-76d8513c81ad\">\n",
              "    <div class=\"colab-df-container\">\n",
              "      <div>\n",
              "<style scoped>\n",
              "    .dataframe tbody tr th:only-of-type {\n",
              "        vertical-align: middle;\n",
              "    }\n",
              "\n",
              "    .dataframe tbody tr th {\n",
              "        vertical-align: top;\n",
              "    }\n",
              "\n",
              "    .dataframe thead th {\n",
              "        text-align: right;\n",
              "    }\n",
              "</style>\n",
              "<table border=\"1\" class=\"dataframe\">\n",
              "  <thead>\n",
              "    <tr style=\"text-align: right;\">\n",
              "      <th></th>\n",
              "      <th>review</th>\n",
              "      <th>rating</th>\n",
              "    </tr>\n",
              "  </thead>\n",
              "  <tbody>\n",
              "    <tr>\n",
              "      <th>0</th>\n",
              "      <td>I saw this film at the 2002 Toronto Internatio...</td>\n",
              "      <td>9.0</td>\n",
              "    </tr>\n",
              "    <tr>\n",
              "      <th>1</th>\n",
              "      <td>The Stock Market Crash of 1929 and the Depress...</td>\n",
              "      <td>10.0</td>\n",
              "    </tr>\n",
              "    <tr>\n",
              "      <th>2</th>\n",
              "      <td>Basically this is an overlong, unfunny, action...</td>\n",
              "      <td>1.0</td>\n",
              "    </tr>\n",
              "    <tr>\n",
              "      <th>3</th>\n",
              "      <td>And I am afraid that I cannot imagine why. It ...</td>\n",
              "      <td>1.0</td>\n",
              "    </tr>\n",
              "    <tr>\n",
              "      <th>4</th>\n",
              "      <td>Bubbling just beneath the surface of Showtime ...</td>\n",
              "      <td>4.0</td>\n",
              "    </tr>\n",
              "  </tbody>\n",
              "</table>\n",
              "</div>\n",
              "      <button class=\"colab-df-convert\" onclick=\"convertToInteractive('df-ae31758c-a190-4b8e-8731-76d8513c81ad')\"\n",
              "              title=\"Convert this dataframe to an interactive table.\"\n",
              "              style=\"display:none;\">\n",
              "        \n",
              "  <svg xmlns=\"http://www.w3.org/2000/svg\" height=\"24px\"viewBox=\"0 0 24 24\"\n",
              "       width=\"24px\">\n",
              "    <path d=\"M0 0h24v24H0V0z\" fill=\"none\"/>\n",
              "    <path d=\"M18.56 5.44l.94 2.06.94-2.06 2.06-.94-2.06-.94-.94-2.06-.94 2.06-2.06.94zm-11 1L8.5 8.5l.94-2.06 2.06-.94-2.06-.94L8.5 2.5l-.94 2.06-2.06.94zm10 10l.94 2.06.94-2.06 2.06-.94-2.06-.94-.94-2.06-.94 2.06-2.06.94z\"/><path d=\"M17.41 7.96l-1.37-1.37c-.4-.4-.92-.59-1.43-.59-.52 0-1.04.2-1.43.59L10.3 9.45l-7.72 7.72c-.78.78-.78 2.05 0 2.83L4 21.41c.39.39.9.59 1.41.59.51 0 1.02-.2 1.41-.59l7.78-7.78 2.81-2.81c.8-.78.8-2.07 0-2.86zM5.41 20L4 18.59l7.72-7.72 1.47 1.35L5.41 20z\"/>\n",
              "  </svg>\n",
              "      </button>\n",
              "      \n",
              "  <style>\n",
              "    .colab-df-container {\n",
              "      display:flex;\n",
              "      flex-wrap:wrap;\n",
              "      gap: 12px;\n",
              "    }\n",
              "\n",
              "    .colab-df-convert {\n",
              "      background-color: #E8F0FE;\n",
              "      border: none;\n",
              "      border-radius: 50%;\n",
              "      cursor: pointer;\n",
              "      display: none;\n",
              "      fill: #1967D2;\n",
              "      height: 32px;\n",
              "      padding: 0 0 0 0;\n",
              "      width: 32px;\n",
              "    }\n",
              "\n",
              "    .colab-df-convert:hover {\n",
              "      background-color: #E2EBFA;\n",
              "      box-shadow: 0px 1px 2px rgba(60, 64, 67, 0.3), 0px 1px 3px 1px rgba(60, 64, 67, 0.15);\n",
              "      fill: #174EA6;\n",
              "    }\n",
              "\n",
              "    [theme=dark] .colab-df-convert {\n",
              "      background-color: #3B4455;\n",
              "      fill: #D2E3FC;\n",
              "    }\n",
              "\n",
              "    [theme=dark] .colab-df-convert:hover {\n",
              "      background-color: #434B5C;\n",
              "      box-shadow: 0px 1px 3px 1px rgba(0, 0, 0, 0.15);\n",
              "      filter: drop-shadow(0px 1px 2px rgba(0, 0, 0, 0.3));\n",
              "      fill: #FFFFFF;\n",
              "    }\n",
              "  </style>\n",
              "\n",
              "      <script>\n",
              "        const buttonEl =\n",
              "          document.querySelector('#df-ae31758c-a190-4b8e-8731-76d8513c81ad button.colab-df-convert');\n",
              "        buttonEl.style.display =\n",
              "          google.colab.kernel.accessAllowed ? 'block' : 'none';\n",
              "\n",
              "        async function convertToInteractive(key) {\n",
              "          const element = document.querySelector('#df-ae31758c-a190-4b8e-8731-76d8513c81ad');\n",
              "          const dataTable =\n",
              "            await google.colab.kernel.invokeFunction('convertToInteractive',\n",
              "                                                     [key], {});\n",
              "          if (!dataTable) return;\n",
              "\n",
              "          const docLinkHtml = 'Like what you see? Visit the ' +\n",
              "            '<a target=\"_blank\" href=https://colab.research.google.com/notebooks/data_table.ipynb>data table notebook</a>'\n",
              "            + ' to learn more about interactive tables.';\n",
              "          element.innerHTML = '';\n",
              "          dataTable['output_type'] = 'display_data';\n",
              "          await google.colab.output.renderOutput(dataTable, element);\n",
              "          const docLink = document.createElement('div');\n",
              "          docLink.innerHTML = docLinkHtml;\n",
              "          element.appendChild(docLink);\n",
              "        }\n",
              "      </script>\n",
              "    </div>\n",
              "  </div>\n",
              "  "
            ]
          },
          "metadata": {},
          "execution_count": 9
        }
      ],
      "source": [
        "test_df = pd.read_csv(\"/content/drive/MyDrive/imdb-reviews-test.csv\", sep='\\t') \n",
        "\n",
        "print(test_df.describe())\n",
        "test_df.head()"
      ]
    },
    {
      "cell_type": "markdown",
      "metadata": {
        "id": "QzUI5m5nHmUT"
      },
      "source": [
        "### Find sentiment"
      ]
    },
    {
      "cell_type": "code",
      "execution_count": 10,
      "metadata": {
        "colab": {
          "base_uri": "https://localhost:8080/"
        },
        "outputId": "c541f330-4bf3-40b9-c84d-fd5d713e6c3f",
        "id": "HTh-EIc9HmUV"
      },
      "outputs": [
        {
          "output_type": "stream",
          "name": "stdout",
          "text": [
            "                                              review  rating  sentiment\n",
            "0  I saw this film at the 2002 Toronto Internatio...     9.0          1\n",
            "1  The Stock Market Crash of 1929 and the Depress...    10.0          1\n",
            "2  Basically this is an overlong, unfunny, action...     1.0          0\n",
            "3  And I am afraid that I cannot imagine why. It ...     1.0          0\n",
            "4  Bubbling just beneath the surface of Showtime ...     4.0          0\n"
          ]
        }
      ],
      "source": [
        "# Test set\n",
        "if not(test_df.empty):\n",
        "  test_df['sentiment'] = test_df['rating'].apply(lambda x:0 if x<=4.0 else 1)\n",
        "  print(test_df.head())"
      ]
    },
    {
      "cell_type": "markdown",
      "metadata": {
        "id": "e1Qz3E0oHbom"
      },
      "source": [
        "##Data Pre-processing\n"
      ]
    },
    {
      "cell_type": "markdown",
      "metadata": {
        "id": "--OcusrIHboy"
      },
      "source": [
        "### Cleaning data from urls, email, digits and punctation and covert to lower case"
      ]
    },
    {
      "cell_type": "code",
      "execution_count": 11,
      "metadata": {
        "id": "Pxu3Al2HHboy"
      },
      "outputs": [],
      "source": [
        "def clean_data(df):\n",
        "  df['review'] = df['review'].replace(r'http\\S+', '', regex=True).replace(r'www\\S+', '', regex=True)\n",
        "  df['review'] = df['review'].replace(r'\\S*@\\S*\\s?', '', regex=True)\n",
        "  df['review'] = df['review'].str.replace('\\d+', '', regex=True)\n",
        "  df['review'] = df['review'].str.lower()\n",
        "  df['review'] = df['review'].apply(lambda x:''.join([i for i in x  if i not in string.punctuation]))\n",
        "\n",
        "if not(test_df.empty):\n",
        "  clean_data(test_df)\n",
        "\n"
      ]
    },
    {
      "cell_type": "code",
      "execution_count": 12,
      "metadata": {
        "colab": {
          "base_uri": "https://localhost:8080/",
          "height": 206
        },
        "id": "daVYP8j3fFJb",
        "outputId": "e9f24379-6261-4f07-9b51-57200fc3650a"
      },
      "outputs": [
        {
          "output_type": "execute_result",
          "data": {
            "text/plain": [
              "                                              review  rating  sentiment\n",
              "0  i saw this film at the  toronto international ...     9.0          1\n",
              "1  the stock market crash of  and the depression ...    10.0          1\n",
              "2  basically this is an overlong unfunny actionco...     1.0          0\n",
              "3  and i am afraid that i cannot imagine why it r...     1.0          0\n",
              "4  bubbling just beneath the surface of showtime ...     4.0          0"
            ],
            "text/html": [
              "\n",
              "  <div id=\"df-e77b4d8e-480b-4f13-99ad-be6b07ac21c6\">\n",
              "    <div class=\"colab-df-container\">\n",
              "      <div>\n",
              "<style scoped>\n",
              "    .dataframe tbody tr th:only-of-type {\n",
              "        vertical-align: middle;\n",
              "    }\n",
              "\n",
              "    .dataframe tbody tr th {\n",
              "        vertical-align: top;\n",
              "    }\n",
              "\n",
              "    .dataframe thead th {\n",
              "        text-align: right;\n",
              "    }\n",
              "</style>\n",
              "<table border=\"1\" class=\"dataframe\">\n",
              "  <thead>\n",
              "    <tr style=\"text-align: right;\">\n",
              "      <th></th>\n",
              "      <th>review</th>\n",
              "      <th>rating</th>\n",
              "      <th>sentiment</th>\n",
              "    </tr>\n",
              "  </thead>\n",
              "  <tbody>\n",
              "    <tr>\n",
              "      <th>0</th>\n",
              "      <td>i saw this film at the  toronto international ...</td>\n",
              "      <td>9.0</td>\n",
              "      <td>1</td>\n",
              "    </tr>\n",
              "    <tr>\n",
              "      <th>1</th>\n",
              "      <td>the stock market crash of  and the depression ...</td>\n",
              "      <td>10.0</td>\n",
              "      <td>1</td>\n",
              "    </tr>\n",
              "    <tr>\n",
              "      <th>2</th>\n",
              "      <td>basically this is an overlong unfunny actionco...</td>\n",
              "      <td>1.0</td>\n",
              "      <td>0</td>\n",
              "    </tr>\n",
              "    <tr>\n",
              "      <th>3</th>\n",
              "      <td>and i am afraid that i cannot imagine why it r...</td>\n",
              "      <td>1.0</td>\n",
              "      <td>0</td>\n",
              "    </tr>\n",
              "    <tr>\n",
              "      <th>4</th>\n",
              "      <td>bubbling just beneath the surface of showtime ...</td>\n",
              "      <td>4.0</td>\n",
              "      <td>0</td>\n",
              "    </tr>\n",
              "  </tbody>\n",
              "</table>\n",
              "</div>\n",
              "      <button class=\"colab-df-convert\" onclick=\"convertToInteractive('df-e77b4d8e-480b-4f13-99ad-be6b07ac21c6')\"\n",
              "              title=\"Convert this dataframe to an interactive table.\"\n",
              "              style=\"display:none;\">\n",
              "        \n",
              "  <svg xmlns=\"http://www.w3.org/2000/svg\" height=\"24px\"viewBox=\"0 0 24 24\"\n",
              "       width=\"24px\">\n",
              "    <path d=\"M0 0h24v24H0V0z\" fill=\"none\"/>\n",
              "    <path d=\"M18.56 5.44l.94 2.06.94-2.06 2.06-.94-2.06-.94-.94-2.06-.94 2.06-2.06.94zm-11 1L8.5 8.5l.94-2.06 2.06-.94-2.06-.94L8.5 2.5l-.94 2.06-2.06.94zm10 10l.94 2.06.94-2.06 2.06-.94-2.06-.94-.94-2.06-.94 2.06-2.06.94z\"/><path d=\"M17.41 7.96l-1.37-1.37c-.4-.4-.92-.59-1.43-.59-.52 0-1.04.2-1.43.59L10.3 9.45l-7.72 7.72c-.78.78-.78 2.05 0 2.83L4 21.41c.39.39.9.59 1.41.59.51 0 1.02-.2 1.41-.59l7.78-7.78 2.81-2.81c.8-.78.8-2.07 0-2.86zM5.41 20L4 18.59l7.72-7.72 1.47 1.35L5.41 20z\"/>\n",
              "  </svg>\n",
              "      </button>\n",
              "      \n",
              "  <style>\n",
              "    .colab-df-container {\n",
              "      display:flex;\n",
              "      flex-wrap:wrap;\n",
              "      gap: 12px;\n",
              "    }\n",
              "\n",
              "    .colab-df-convert {\n",
              "      background-color: #E8F0FE;\n",
              "      border: none;\n",
              "      border-radius: 50%;\n",
              "      cursor: pointer;\n",
              "      display: none;\n",
              "      fill: #1967D2;\n",
              "      height: 32px;\n",
              "      padding: 0 0 0 0;\n",
              "      width: 32px;\n",
              "    }\n",
              "\n",
              "    .colab-df-convert:hover {\n",
              "      background-color: #E2EBFA;\n",
              "      box-shadow: 0px 1px 2px rgba(60, 64, 67, 0.3), 0px 1px 3px 1px rgba(60, 64, 67, 0.15);\n",
              "      fill: #174EA6;\n",
              "    }\n",
              "\n",
              "    [theme=dark] .colab-df-convert {\n",
              "      background-color: #3B4455;\n",
              "      fill: #D2E3FC;\n",
              "    }\n",
              "\n",
              "    [theme=dark] .colab-df-convert:hover {\n",
              "      background-color: #434B5C;\n",
              "      box-shadow: 0px 1px 3px 1px rgba(0, 0, 0, 0.15);\n",
              "      filter: drop-shadow(0px 1px 2px rgba(0, 0, 0, 0.3));\n",
              "      fill: #FFFFFF;\n",
              "    }\n",
              "  </style>\n",
              "\n",
              "      <script>\n",
              "        const buttonEl =\n",
              "          document.querySelector('#df-e77b4d8e-480b-4f13-99ad-be6b07ac21c6 button.colab-df-convert');\n",
              "        buttonEl.style.display =\n",
              "          google.colab.kernel.accessAllowed ? 'block' : 'none';\n",
              "\n",
              "        async function convertToInteractive(key) {\n",
              "          const element = document.querySelector('#df-e77b4d8e-480b-4f13-99ad-be6b07ac21c6');\n",
              "          const dataTable =\n",
              "            await google.colab.kernel.invokeFunction('convertToInteractive',\n",
              "                                                     [key], {});\n",
              "          if (!dataTable) return;\n",
              "\n",
              "          const docLinkHtml = 'Like what you see? Visit the ' +\n",
              "            '<a target=\"_blank\" href=https://colab.research.google.com/notebooks/data_table.ipynb>data table notebook</a>'\n",
              "            + ' to learn more about interactive tables.';\n",
              "          element.innerHTML = '';\n",
              "          dataTable['output_type'] = 'display_data';\n",
              "          await google.colab.output.renderOutput(dataTable, element);\n",
              "          const docLink = document.createElement('div');\n",
              "          docLink.innerHTML = docLinkHtml;\n",
              "          element.appendChild(docLink);\n",
              "        }\n",
              "      </script>\n",
              "    </div>\n",
              "  </div>\n",
              "  "
            ]
          },
          "metadata": {},
          "execution_count": 12
        }
      ],
      "source": [
        "test_df.head()"
      ]
    },
    {
      "cell_type": "markdown",
      "metadata": {
        "id": "GuotQujcHbo0"
      },
      "source": [
        "### Tokenization, lemmatization and remove stopwords"
      ]
    },
    {
      "cell_type": "code",
      "execution_count": 13,
      "metadata": {
        "id": "NxQNIWQ_Hbo0"
      },
      "outputs": [],
      "source": [
        "# Define stop words\n",
        "def stopwrds():\n",
        "  mywords=frozenset(['not', 'no', 'didnt','cannot', 'couldnt', 'never'])\n",
        "  stopw = ENGLISH_STOP_WORDS.union(['br'])\n",
        "  stopw = stopw.difference(mywords)\n",
        "  return list(stopw)"
      ]
    },
    {
      "cell_type": "code",
      "execution_count": 14,
      "metadata": {
        "id": "_LFRr_38Hbo1"
      },
      "outputs": [],
      "source": [
        "def process_data(data):\n",
        "  tokenizer = RegexpTokenizer(r'\\w+')\n",
        "  wnl = WordNetLemmatizer()\n",
        "\n",
        "  # Tokenize\n",
        "  print(\"\\nTokenization\")\n",
        "  reviews=[]\n",
        "  for i in range(len(data)):\n",
        "    reviews.append(tokenizer.tokenize(data.iloc[i]))\n",
        "    \n",
        "  # Removing stop words\n",
        "  print(\"Removing stop words\")\n",
        "  reviews_stop=[]\n",
        "  for i in range(len(reviews)):\n",
        "    reviews_stop.append([word for word in reviews[i] if not word in stopwrds()])\n",
        "\n",
        "  # Lemmatize\n",
        "  print(\"Lemmatizing\")\n",
        "  reviews=[]\n",
        "  for i in range(len(reviews_stop)):\n",
        "    reviews.append([wnl.lemmatize(x) for x in reviews_stop[i]])\n",
        "  return reviews"
      ]
    },
    {
      "cell_type": "markdown",
      "metadata": {
        "id": "qWnkmpE6Hbo3"
      },
      "source": [
        "### Perform cleaning and create word vectors"
      ]
    },
    {
      "cell_type": "code",
      "execution_count": 21,
      "metadata": {
        "colab": {
          "base_uri": "https://localhost:8080/"
        },
        "outputId": "8fca9160-35d1-4d9c-82b0-efacba3c17c8",
        "id": "BDyDT5S2Hbo4"
      },
      "outputs": [
        {
          "output_type": "stream",
          "name": "stdout",
          "text": [
            "\n",
            "Tokenization\n",
            "Removing stop words\n",
            "Lemmatizing\n"
          ]
        }
      ],
      "source": [
        "X_test=process_data(test_df['review'])"
      ]
    },
    {
      "cell_type": "markdown",
      "metadata": {
        "id": "1dD6Voi5Hbo8"
      },
      "source": [
        "Replace tokens with correspoding index in vocabulary and perform padding to each review"
      ]
    },
    {
      "cell_type": "code",
      "execution_count": 22,
      "metadata": {
        "id": "-Xx1jbmaHbo8"
      },
      "outputs": [],
      "source": [
        "#List of list different sizes -> (N reviews, ΜΑΧ_LEN)\n",
        "def index_padd(token_data, words_index, MAX_LEN):\n",
        "\n",
        "  # Tokens-> Vocabulary indices MAX_LEN\n",
        "  reviews=np.zeros((len(token_data), MAX_LEN))\n",
        "  for i in range(len(token_data)):\n",
        "    indices=[]\n",
        "    length=len(token_data[i])\n",
        "    for word in token_data[i]:\n",
        "      if word not in words_index.keys():\n",
        "        indices.append(0)\n",
        "      else: \n",
        "        indices.append(words_index[word])\n",
        "    # Padding \n",
        "    if length<=MAX_LEN:\n",
        "      reviews[i, :length] = indices\n",
        "    else:\n",
        "      reviews[i, :] = indices[:MAX_LEN]\n",
        "  return reviews"
      ]
    },
    {
      "cell_type": "code",
      "source": [
        "!ls drive/MyDrive"
      ],
      "metadata": {
        "colab": {
          "base_uri": "https://localhost:8080/"
        },
        "id": "2P8G6xi7PrOm",
        "outputId": "820285b0-c4ec-4322-c44a-1bbe4b7e7dec"
      },
      "execution_count": 18,
      "outputs": [
        {
          "output_type": "stream",
          "name": "stdout",
          "text": [
            "best_model\t   imdb-reviews-test.csv    words_index.npy\n",
            "glove.6B.300d.txt  NLP_Project3_test.ipynb\n"
          ]
        }
      ]
    },
    {
      "cell_type": "code",
      "source": [
        "# Load words_index\n",
        "read_dictionary = np.load('/content/drive/MyDrive/words_index.npy',allow_pickle='TRUE').item()\n",
        "print(read_dictionary['legal'])"
      ],
      "metadata": {
        "colab": {
          "base_uri": "https://localhost:8080/"
        },
        "id": "HIS7NnlLPidD",
        "outputId": "3007b050-5c15-425d-bba0-fdcdaa68fce9"
      },
      "execution_count": 19,
      "outputs": [
        {
          "output_type": "stream",
          "name": "stdout",
          "text": [
            "3826\n"
          ]
        }
      ]
    },
    {
      "cell_type": "code",
      "execution_count": 24,
      "metadata": {
        "id": "XZQ7OzkOHbo8"
      },
      "outputs": [],
      "source": [
        "x_test = index_padd(X_test, read_dictionary, 100)"
      ]
    },
    {
      "cell_type": "markdown",
      "metadata": {
        "id": "Qh5Aho2AOAyP"
      },
      "source": [
        "### Convert to tensor"
      ]
    },
    {
      "cell_type": "code",
      "execution_count": 25,
      "metadata": {
        "colab": {
          "base_uri": "https://localhost:8080/"
        },
        "outputId": "44fd96fd-91ea-4acb-c368-2741176e8468",
        "id": "wewhM5nlOAyQ"
      },
      "outputs": [
        {
          "output_type": "stream",
          "name": "stdout",
          "text": [
            "X test shape: torch.Size([5401, 100])\n",
            "y test shape: torch.Size([5401])\n"
          ]
        }
      ],
      "source": [
        "# Test\n",
        "Xtest = torch.from_numpy(x_test)\n",
        "ytest = torch.tensor(test_df['sentiment'].to_numpy())\n",
        "\n",
        "print(f\"X test shape: {Xtest.shape}\")\n",
        "print(f\"y test shape: {ytest.shape}\")\n"
      ]
    },
    {
      "cell_type": "markdown",
      "source": [
        "### Dataloaders"
      ],
      "metadata": {
        "id": "rJAqEp4XOAyR"
      }
    },
    {
      "cell_type": "code",
      "execution_count": 26,
      "metadata": {
        "id": "smSySTRGOAyR"
      },
      "outputs": [],
      "source": [
        "#Initialize dataloaders\n",
        "\n",
        "test_dataset = torch.utils.data.TensorDataset(Xtest, ytest)\n",
        "test_dataloader = torch.utils.data.DataLoader(test_dataset, batch_size=512)"
      ]
    },
    {
      "cell_type": "markdown",
      "metadata": {
        "id": "qpTxNCpOjqOa"
      },
      "source": [
        "## Define testing procedure"
      ]
    },
    {
      "cell_type": "code",
      "execution_count": 27,
      "metadata": {
        "id": "EQwC4ELtjnwT"
      },
      "outputs": [],
      "source": [
        "def test(model, test_dataloader):\n",
        "   with torch.no_grad():\n",
        "      model.eval()\n",
        "      loss_sum=0 ; f1=0; pr=0; rc=0\n",
        "      for batch, y in test_dataloader:\n",
        "        # Predict\n",
        "        y_pred = model(batch.long().to(device))\n",
        "\n",
        "        _, y_pred = torch.max(y_pred, 1)\n",
        "        f1 += f1_score(y.cpu(), y_pred.cpu(), average='weighted')\n",
        "        pr += precision_score(y.cpu(), y_pred.cpu(), average='weighted')\n",
        "        rc += recall_score(y.cpu(), y_pred.cpu(), average='weighted')\n",
        "    \n",
        "      print(\"F1 score: \", f1/len(test_dataloader))\n",
        "      print(\"precision score: \", pr/len(test_dataloader))\n",
        "      print(\"recall score: \", rc/len(test_dataloader))\n",
        "\n",
        "      #disp = ConfusionMatrixDisplay(confusion_matrix(ytest, y_pred), display_labels=['negative', 'positive'])\n",
        "      #disp.plot()\n",
        "      #plt.show()\n",
        "      "
      ]
    },
    {
      "cell_type": "markdown",
      "metadata": {
        "id": "TdRnZKffOCGm"
      },
      "source": [
        "## Load already trained saved model"
      ]
    },
    {
      "cell_type": "code",
      "source": [
        "device = torch.device('cuda:0' if torch.cuda.is_available() else 'cpu')\n",
        "device"
      ],
      "metadata": {
        "colab": {
          "base_uri": "https://localhost:8080/"
        },
        "id": "LdKOkMMALckl",
        "outputId": "e2a1f689-f20a-4a2e-bac1-04c1dd7b8852"
      },
      "execution_count": 28,
      "outputs": [
        {
          "output_type": "execute_result",
          "data": {
            "text/plain": [
              "device(type='cuda', index=0)"
            ]
          },
          "metadata": {},
          "execution_count": 28
        }
      ]
    },
    {
      "cell_type": "markdown",
      "source": [
        "### Class Model "
      ],
      "metadata": {
        "id": "NZEBd5UUsCiB"
      }
    },
    {
      "cell_type": "code",
      "execution_count": 29,
      "metadata": {
        "id": "9oQJajWN5xJo"
      },
      "outputs": [],
      "source": [
        "class MY_RNN(nn.Module):\n",
        "  def __init__(self, cell, num_embed, embed, embed_size, hidden_size, num_layers, drop=0, skip=False):\n",
        "    super(MY_RNN, self).__init__()\n",
        "\n",
        "    self.layers = num_layers\n",
        "    self.hidden = hidden_size\n",
        "    self.skip = skip\n",
        "\n",
        "    # Embedding layer with GloVe\n",
        "    self.embedding = nn.Embedding(num_embed, embed_size, device=device)\n",
        "    self.embedding.weight.data.copy_(embed)\n",
        "\n",
        "    # No learning\n",
        "    self.embedding.weight.requires_grad = False\n",
        "    \n",
        "    # RNNs\n",
        "    self.rnns = []\n",
        "    for i in range(self.layers):\n",
        "      if i==0:\n",
        "        self.rnns.append(eval('nn.'+ cell)(embed_size, hidden_size, batch_first=True, bidirectional=True, device=device))\n",
        "      else:\n",
        "        self.rnns.append(eval('nn.'+ cell)(hidden_size, hidden_size, batch_first=True, bidirectional=True, device=device))\n",
        "        \n",
        "    self.rnns = nn.ModuleList(self.rnns)\n",
        "\n",
        "    # Dropout\n",
        "    self.dropout = nn.Dropout(drop)\n",
        "\n",
        "    # Initialize final output linear layer\n",
        "    self.linear = nn.Linear(hidden_size * 2, 3, device=device)\n",
        "\n",
        "  def forward(self, x):\n",
        "    \n",
        "    # Embedding layer\n",
        "    x = self.embedding(x)\n",
        "    # Dropout\n",
        "    x = self.dropout(x)\n",
        "\n",
        "    # Stacked RNNs\n",
        "    x, _ = self.rnns[0](x)\n",
        "    # For skip connections\n",
        "    identity = x\n",
        "    \n",
        "    for i in range(1, self.layers):\n",
        "      # RNN\n",
        "      out, _ = self.rnns[i](x[:, :, :self.hidden])\n",
        "\n",
        "      # Skip connections \n",
        "      if (self.skip):\n",
        "        out += identity\n",
        "        # Dropout\n",
        "      out = self.dropout(out)\n",
        "\n",
        "      # Make output of this layer input to next\n",
        "      x=out\n",
        "\n",
        "    # Keep only last \n",
        "    out = out[:, -1, :]\n",
        "    \n",
        "    # Last but not least ---> Linear layer\n",
        "    return self.linear(out)\n"
      ]
    },
    {
      "cell_type": "code",
      "source": [
        "saved_model = torch.load('/content/drive/MyDrive/best_model', map_location =device)\n"
      ],
      "metadata": {
        "id": "kXEQyNvYTnp9"
      },
      "execution_count": 30,
      "outputs": []
    },
    {
      "cell_type": "code",
      "source": [
        "test(saved_model, test_dataloader)"
      ],
      "metadata": {
        "id": "uiYeacdUuIJe",
        "colab": {
          "base_uri": "https://localhost:8080/"
        },
        "outputId": "ce3c947f-3487-4103-cc0f-d9550482752f"
      },
      "execution_count": 31,
      "outputs": [
        {
          "output_type": "stream",
          "name": "stdout",
          "text": [
            "F1 score:  0.8932063282819754\n",
            "precision score:  0.8945711914002055\n",
            "recall score:  0.8932656047800065\n"
          ]
        }
      ]
    }
  ]
}