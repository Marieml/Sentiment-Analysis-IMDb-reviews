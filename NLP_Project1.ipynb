{
  "nbformat": 4,
  "nbformat_minor": 0,
  "metadata": {
    "colab": {
      "provenance": []
    },
    "kernelspec": {
      "name": "python3",
      "display_name": "Python 3"
    },
    "language_info": {
      "name": "python"
    }
  },
  "cells": [
    {
      "cell_type": "markdown",
      "source": [
        "# Artificial Intelligence II (Deep Learning for Natural Language Processing)\n",
        "# Homework 1\n",
        "\n",
        "Name: Maria Miliou \\\n",
        "ID: 1115201300101 "
      ],
      "metadata": {
        "id": "AHUgJpMwwOOM"
      }
    },
    {
      "cell_type": "code",
      "execution_count": null,
      "metadata": {
        "id": "VFpRvNY3v7ze"
      },
      "outputs": [],
      "source": []
    }
  ]
}