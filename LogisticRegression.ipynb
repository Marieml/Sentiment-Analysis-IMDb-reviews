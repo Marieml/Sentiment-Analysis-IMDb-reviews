{
  "nbformat": 4,
  "nbformat_minor": 0,
  "metadata": {
    "colab": {
      "provenance": [],
      "collapsed_sections": [
        "AHUgJpMwwOOM",
        "_BxuLgm8dn1J",
        "UCetRY0mgtDy",
        "bGSOOXjmvONB"
      ]
    },
    "kernelspec": {
      "name": "python3",
      "display_name": "Python 3"
    },
    "language_info": {
      "name": "python"
    }
  },
  "cells": [
    {
      "cell_type": "markdown",
      "source": [
        "# Artificial Intelligence II (Deep Learning for Natural Language Processing)\n",
        "# Homework 1\n",
        "\n",
        "Name: Maria Miliou \\\n",
        "ID: 1115201300101 "
      ],
      "metadata": {
        "id": "AHUgJpMwwOOM"
      }
    },
    {
      "cell_type": "code",
      "source": [
        "# Importing useful libraries\n",
        "import pandas as pd\n",
        "import numpy as np\n",
        "import matplotlib.pyplot as plt\n",
        "\n",
        "import re\n",
        "\n",
        "from sklearn.feature_extraction.text import TfidfVectorizer, ENGLISH_STOP_WORDS\n",
        "from sklearn.linear_model import LogisticRegression, LogisticRegressionCV\n",
        "from sklearn.metrics import f1_score, recall_score,precision_score,confusion_matrix, ConfusionMatrixDisplay, accuracy_score, roc_auc_score, roc_curve, mean_squared_error\n",
        "from sklearn.model_selection import train_test_split, cross_val_score, GridSearchCV\n",
        "from sklearn.preprocessing import MinMaxScaler, StandardScaler, MaxAbsScaler\n",
        "from sklearn.pipeline import Pipeline"
      ],
      "metadata": {
        "id": "8OugedAshdJY"
      },
      "execution_count": 30,
      "outputs": []
    },
    {
      "cell_type": "markdown",
      "source": [
        "## Loading and Exploring Dataset"
      ],
      "metadata": {
        "id": "_BxuLgm8dn1J"
      }
    },
    {
      "cell_type": "code",
      "execution_count": 31,
      "metadata": {
        "colab": {
          "base_uri": "https://localhost:8080/"
        },
        "id": "VFpRvNY3v7ze",
        "outputId": "4a13e2ea-0944-49ec-d339-5538c482dedd"
      },
      "outputs": [
        {
          "output_type": "stream",
          "name": "stdout",
          "text": [
            "Drive already mounted at /content/drive; to attempt to forcibly remount, call drive.mount(\"/content/drive\", force_remount=True).\n"
          ]
        }
      ],
      "source": [
        "# Data file located at git\n",
        "from google.colab import drive\n",
        "drive.mount('/content/drive')"
      ]
    },
    {
      "cell_type": "code",
      "source": [
        "train_df = pd.read_csv(\"/content/drive/MyDrive/imdb-reviews.csv\", sep='\\t')\n",
        "\n",
        "test_df = pd.DataFrame() # You can delete ths line if test_set is provided as below or just modify as suggested\n",
        "\n",
        "# HERE ADD TEST DATAFRAME EXAMPLE\n",
        "#test_df = pd.read_csv(\"/content/drive/MyDrive/your_part.csv\", sep='\\t')\n",
        "\n",
        "print(train_df.describe())\n",
        "train_df.head()"
      ],
      "metadata": {
        "id": "bXV8ZB09P_MR",
        "colab": {
          "base_uri": "https://localhost:8080/",
          "height": 0
        },
        "outputId": "196601fe-cc62-49c6-c43a-8e989ec3e8a2"
      },
      "execution_count": 32,
      "outputs": [
        {
          "output_type": "stream",
          "name": "stdout",
          "text": [
            "             rating\n",
            "count  45008.000000\n",
            "mean       5.481914\n",
            "std        3.494293\n",
            "min        1.000000\n",
            "25%        2.000000\n",
            "50%        7.000000\n",
            "75%        9.000000\n",
            "max       10.000000\n"
          ]
        },
        {
          "output_type": "execute_result",
          "data": {
            "text/plain": [
              "                                                url  rating  \\\n",
              "0  http://www.imdb.com/title/tt0120623/usercomments    10.0   \n",
              "1  http://www.imdb.com/title/tt0043117/usercomments     9.0   \n",
              "2  http://www.imdb.com/title/tt0043117/usercomments    10.0   \n",
              "3  http://www.imdb.com/title/tt0835204/usercomments     4.0   \n",
              "4  http://www.imdb.com/title/tt0499603/usercomments    10.0   \n",
              "\n",
              "                                              review  \n",
              "0  I thought this was a quiet good movie. It was ...  \n",
              "1  Wagon Master is a very unique film amongst Joh...  \n",
              "2  This film has to be as near to perfect a film ...  \n",
              "3  I gave this 4 stars because it has a lot of in...  \n",
              "4  This movie is really genuine and random. It's ...  "
            ],
            "text/html": [
              "\n",
              "  <div id=\"df-21ab10ab-18d2-4352-8cda-583cb8405094\">\n",
              "    <div class=\"colab-df-container\">\n",
              "      <div>\n",
              "<style scoped>\n",
              "    .dataframe tbody tr th:only-of-type {\n",
              "        vertical-align: middle;\n",
              "    }\n",
              "\n",
              "    .dataframe tbody tr th {\n",
              "        vertical-align: top;\n",
              "    }\n",
              "\n",
              "    .dataframe thead th {\n",
              "        text-align: right;\n",
              "    }\n",
              "</style>\n",
              "<table border=\"1\" class=\"dataframe\">\n",
              "  <thead>\n",
              "    <tr style=\"text-align: right;\">\n",
              "      <th></th>\n",
              "      <th>url</th>\n",
              "      <th>rating</th>\n",
              "      <th>review</th>\n",
              "    </tr>\n",
              "  </thead>\n",
              "  <tbody>\n",
              "    <tr>\n",
              "      <th>0</th>\n",
              "      <td>http://www.imdb.com/title/tt0120623/usercomments</td>\n",
              "      <td>10.0</td>\n",
              "      <td>I thought this was a quiet good movie. It was ...</td>\n",
              "    </tr>\n",
              "    <tr>\n",
              "      <th>1</th>\n",
              "      <td>http://www.imdb.com/title/tt0043117/usercomments</td>\n",
              "      <td>9.0</td>\n",
              "      <td>Wagon Master is a very unique film amongst Joh...</td>\n",
              "    </tr>\n",
              "    <tr>\n",
              "      <th>2</th>\n",
              "      <td>http://www.imdb.com/title/tt0043117/usercomments</td>\n",
              "      <td>10.0</td>\n",
              "      <td>This film has to be as near to perfect a film ...</td>\n",
              "    </tr>\n",
              "    <tr>\n",
              "      <th>3</th>\n",
              "      <td>http://www.imdb.com/title/tt0835204/usercomments</td>\n",
              "      <td>4.0</td>\n",
              "      <td>I gave this 4 stars because it has a lot of in...</td>\n",
              "    </tr>\n",
              "    <tr>\n",
              "      <th>4</th>\n",
              "      <td>http://www.imdb.com/title/tt0499603/usercomments</td>\n",
              "      <td>10.0</td>\n",
              "      <td>This movie is really genuine and random. It's ...</td>\n",
              "    </tr>\n",
              "  </tbody>\n",
              "</table>\n",
              "</div>\n",
              "      <button class=\"colab-df-convert\" onclick=\"convertToInteractive('df-21ab10ab-18d2-4352-8cda-583cb8405094')\"\n",
              "              title=\"Convert this dataframe to an interactive table.\"\n",
              "              style=\"display:none;\">\n",
              "        \n",
              "  <svg xmlns=\"http://www.w3.org/2000/svg\" height=\"24px\"viewBox=\"0 0 24 24\"\n",
              "       width=\"24px\">\n",
              "    <path d=\"M0 0h24v24H0V0z\" fill=\"none\"/>\n",
              "    <path d=\"M18.56 5.44l.94 2.06.94-2.06 2.06-.94-2.06-.94-.94-2.06-.94 2.06-2.06.94zm-11 1L8.5 8.5l.94-2.06 2.06-.94-2.06-.94L8.5 2.5l-.94 2.06-2.06.94zm10 10l.94 2.06.94-2.06 2.06-.94-2.06-.94-.94-2.06-.94 2.06-2.06.94z\"/><path d=\"M17.41 7.96l-1.37-1.37c-.4-.4-.92-.59-1.43-.59-.52 0-1.04.2-1.43.59L10.3 9.45l-7.72 7.72c-.78.78-.78 2.05 0 2.83L4 21.41c.39.39.9.59 1.41.59.51 0 1.02-.2 1.41-.59l7.78-7.78 2.81-2.81c.8-.78.8-2.07 0-2.86zM5.41 20L4 18.59l7.72-7.72 1.47 1.35L5.41 20z\"/>\n",
              "  </svg>\n",
              "      </button>\n",
              "      \n",
              "  <style>\n",
              "    .colab-df-container {\n",
              "      display:flex;\n",
              "      flex-wrap:wrap;\n",
              "      gap: 12px;\n",
              "    }\n",
              "\n",
              "    .colab-df-convert {\n",
              "      background-color: #E8F0FE;\n",
              "      border: none;\n",
              "      border-radius: 50%;\n",
              "      cursor: pointer;\n",
              "      display: none;\n",
              "      fill: #1967D2;\n",
              "      height: 32px;\n",
              "      padding: 0 0 0 0;\n",
              "      width: 32px;\n",
              "    }\n",
              "\n",
              "    .colab-df-convert:hover {\n",
              "      background-color: #E2EBFA;\n",
              "      box-shadow: 0px 1px 2px rgba(60, 64, 67, 0.3), 0px 1px 3px 1px rgba(60, 64, 67, 0.15);\n",
              "      fill: #174EA6;\n",
              "    }\n",
              "\n",
              "    [theme=dark] .colab-df-convert {\n",
              "      background-color: #3B4455;\n",
              "      fill: #D2E3FC;\n",
              "    }\n",
              "\n",
              "    [theme=dark] .colab-df-convert:hover {\n",
              "      background-color: #434B5C;\n",
              "      box-shadow: 0px 1px 3px 1px rgba(0, 0, 0, 0.15);\n",
              "      filter: drop-shadow(0px 1px 2px rgba(0, 0, 0, 0.3));\n",
              "      fill: #FFFFFF;\n",
              "    }\n",
              "  </style>\n",
              "\n",
              "      <script>\n",
              "        const buttonEl =\n",
              "          document.querySelector('#df-21ab10ab-18d2-4352-8cda-583cb8405094 button.colab-df-convert');\n",
              "        buttonEl.style.display =\n",
              "          google.colab.kernel.accessAllowed ? 'block' : 'none';\n",
              "\n",
              "        async function convertToInteractive(key) {\n",
              "          const element = document.querySelector('#df-21ab10ab-18d2-4352-8cda-583cb8405094');\n",
              "          const dataTable =\n",
              "            await google.colab.kernel.invokeFunction('convertToInteractive',\n",
              "                                                     [key], {});\n",
              "          if (!dataTable) return;\n",
              "\n",
              "          const docLinkHtml = 'Like what you see? Visit the ' +\n",
              "            '<a target=\"_blank\" href=https://colab.research.google.com/notebooks/data_table.ipynb>data table notebook</a>'\n",
              "            + ' to learn more about interactive tables.';\n",
              "          element.innerHTML = '';\n",
              "          dataTable['output_type'] = 'display_data';\n",
              "          await google.colab.output.renderOutput(dataTable, element);\n",
              "          const docLink = document.createElement('div');\n",
              "          docLink.innerHTML = docLinkHtml;\n",
              "          element.appendChild(docLink);\n",
              "        }\n",
              "      </script>\n",
              "    </div>\n",
              "  </div>\n",
              "  "
            ]
          },
          "metadata": {},
          "execution_count": 32
        }
      ]
    },
    {
      "cell_type": "code",
      "source": [
        "# Find sentiment\n",
        "\n",
        "train_df['sentiment'] = train_df['rating'].apply(lambda x:0 if x<=4.0 else 1)\n",
        "if not(test_df.empty):\n",
        "  test_df['sentiment'] = train_df['rating'].apply(lambda x:0 if x<=4.0 else 1)\n",
        "\n",
        "train_df.head()\n"
      ],
      "metadata": {
        "id": "mGjZhz-EePQY",
        "colab": {
          "base_uri": "https://localhost:8080/",
          "height": 0
        },
        "outputId": "67adeecb-551d-4c53-ee5c-6c86427a8dfa"
      },
      "execution_count": 33,
      "outputs": [
        {
          "output_type": "execute_result",
          "data": {
            "text/plain": [
              "                                                url  rating  \\\n",
              "0  http://www.imdb.com/title/tt0120623/usercomments    10.0   \n",
              "1  http://www.imdb.com/title/tt0043117/usercomments     9.0   \n",
              "2  http://www.imdb.com/title/tt0043117/usercomments    10.0   \n",
              "3  http://www.imdb.com/title/tt0835204/usercomments     4.0   \n",
              "4  http://www.imdb.com/title/tt0499603/usercomments    10.0   \n",
              "\n",
              "                                              review  sentiment  \n",
              "0  I thought this was a quiet good movie. It was ...          1  \n",
              "1  Wagon Master is a very unique film amongst Joh...          1  \n",
              "2  This film has to be as near to perfect a film ...          1  \n",
              "3  I gave this 4 stars because it has a lot of in...          0  \n",
              "4  This movie is really genuine and random. It's ...          1  "
            ],
            "text/html": [
              "\n",
              "  <div id=\"df-6d1ab65b-da79-42a4-a90a-a2d2f099cbac\">\n",
              "    <div class=\"colab-df-container\">\n",
              "      <div>\n",
              "<style scoped>\n",
              "    .dataframe tbody tr th:only-of-type {\n",
              "        vertical-align: middle;\n",
              "    }\n",
              "\n",
              "    .dataframe tbody tr th {\n",
              "        vertical-align: top;\n",
              "    }\n",
              "\n",
              "    .dataframe thead th {\n",
              "        text-align: right;\n",
              "    }\n",
              "</style>\n",
              "<table border=\"1\" class=\"dataframe\">\n",
              "  <thead>\n",
              "    <tr style=\"text-align: right;\">\n",
              "      <th></th>\n",
              "      <th>url</th>\n",
              "      <th>rating</th>\n",
              "      <th>review</th>\n",
              "      <th>sentiment</th>\n",
              "    </tr>\n",
              "  </thead>\n",
              "  <tbody>\n",
              "    <tr>\n",
              "      <th>0</th>\n",
              "      <td>http://www.imdb.com/title/tt0120623/usercomments</td>\n",
              "      <td>10.0</td>\n",
              "      <td>I thought this was a quiet good movie. It was ...</td>\n",
              "      <td>1</td>\n",
              "    </tr>\n",
              "    <tr>\n",
              "      <th>1</th>\n",
              "      <td>http://www.imdb.com/title/tt0043117/usercomments</td>\n",
              "      <td>9.0</td>\n",
              "      <td>Wagon Master is a very unique film amongst Joh...</td>\n",
              "      <td>1</td>\n",
              "    </tr>\n",
              "    <tr>\n",
              "      <th>2</th>\n",
              "      <td>http://www.imdb.com/title/tt0043117/usercomments</td>\n",
              "      <td>10.0</td>\n",
              "      <td>This film has to be as near to perfect a film ...</td>\n",
              "      <td>1</td>\n",
              "    </tr>\n",
              "    <tr>\n",
              "      <th>3</th>\n",
              "      <td>http://www.imdb.com/title/tt0835204/usercomments</td>\n",
              "      <td>4.0</td>\n",
              "      <td>I gave this 4 stars because it has a lot of in...</td>\n",
              "      <td>0</td>\n",
              "    </tr>\n",
              "    <tr>\n",
              "      <th>4</th>\n",
              "      <td>http://www.imdb.com/title/tt0499603/usercomments</td>\n",
              "      <td>10.0</td>\n",
              "      <td>This movie is really genuine and random. It's ...</td>\n",
              "      <td>1</td>\n",
              "    </tr>\n",
              "  </tbody>\n",
              "</table>\n",
              "</div>\n",
              "      <button class=\"colab-df-convert\" onclick=\"convertToInteractive('df-6d1ab65b-da79-42a4-a90a-a2d2f099cbac')\"\n",
              "              title=\"Convert this dataframe to an interactive table.\"\n",
              "              style=\"display:none;\">\n",
              "        \n",
              "  <svg xmlns=\"http://www.w3.org/2000/svg\" height=\"24px\"viewBox=\"0 0 24 24\"\n",
              "       width=\"24px\">\n",
              "    <path d=\"M0 0h24v24H0V0z\" fill=\"none\"/>\n",
              "    <path d=\"M18.56 5.44l.94 2.06.94-2.06 2.06-.94-2.06-.94-.94-2.06-.94 2.06-2.06.94zm-11 1L8.5 8.5l.94-2.06 2.06-.94-2.06-.94L8.5 2.5l-.94 2.06-2.06.94zm10 10l.94 2.06.94-2.06 2.06-.94-2.06-.94-.94-2.06-.94 2.06-2.06.94z\"/><path d=\"M17.41 7.96l-1.37-1.37c-.4-.4-.92-.59-1.43-.59-.52 0-1.04.2-1.43.59L10.3 9.45l-7.72 7.72c-.78.78-.78 2.05 0 2.83L4 21.41c.39.39.9.59 1.41.59.51 0 1.02-.2 1.41-.59l7.78-7.78 2.81-2.81c.8-.78.8-2.07 0-2.86zM5.41 20L4 18.59l7.72-7.72 1.47 1.35L5.41 20z\"/>\n",
              "  </svg>\n",
              "      </button>\n",
              "      \n",
              "  <style>\n",
              "    .colab-df-container {\n",
              "      display:flex;\n",
              "      flex-wrap:wrap;\n",
              "      gap: 12px;\n",
              "    }\n",
              "\n",
              "    .colab-df-convert {\n",
              "      background-color: #E8F0FE;\n",
              "      border: none;\n",
              "      border-radius: 50%;\n",
              "      cursor: pointer;\n",
              "      display: none;\n",
              "      fill: #1967D2;\n",
              "      height: 32px;\n",
              "      padding: 0 0 0 0;\n",
              "      width: 32px;\n",
              "    }\n",
              "\n",
              "    .colab-df-convert:hover {\n",
              "      background-color: #E2EBFA;\n",
              "      box-shadow: 0px 1px 2px rgba(60, 64, 67, 0.3), 0px 1px 3px 1px rgba(60, 64, 67, 0.15);\n",
              "      fill: #174EA6;\n",
              "    }\n",
              "\n",
              "    [theme=dark] .colab-df-convert {\n",
              "      background-color: #3B4455;\n",
              "      fill: #D2E3FC;\n",
              "    }\n",
              "\n",
              "    [theme=dark] .colab-df-convert:hover {\n",
              "      background-color: #434B5C;\n",
              "      box-shadow: 0px 1px 3px 1px rgba(0, 0, 0, 0.15);\n",
              "      filter: drop-shadow(0px 1px 2px rgba(0, 0, 0, 0.3));\n",
              "      fill: #FFFFFF;\n",
              "    }\n",
              "  </style>\n",
              "\n",
              "      <script>\n",
              "        const buttonEl =\n",
              "          document.querySelector('#df-6d1ab65b-da79-42a4-a90a-a2d2f099cbac button.colab-df-convert');\n",
              "        buttonEl.style.display =\n",
              "          google.colab.kernel.accessAllowed ? 'block' : 'none';\n",
              "\n",
              "        async function convertToInteractive(key) {\n",
              "          const element = document.querySelector('#df-6d1ab65b-da79-42a4-a90a-a2d2f099cbac');\n",
              "          const dataTable =\n",
              "            await google.colab.kernel.invokeFunction('convertToInteractive',\n",
              "                                                     [key], {});\n",
              "          if (!dataTable) return;\n",
              "\n",
              "          const docLinkHtml = 'Like what you see? Visit the ' +\n",
              "            '<a target=\"_blank\" href=https://colab.research.google.com/notebooks/data_table.ipynb>data table notebook</a>'\n",
              "            + ' to learn more about interactive tables.';\n",
              "          element.innerHTML = '';\n",
              "          dataTable['output_type'] = 'display_data';\n",
              "          await google.colab.output.renderOutput(dataTable, element);\n",
              "          const docLink = document.createElement('div');\n",
              "          docLink.innerHTML = docLinkHtml;\n",
              "          element.appendChild(docLink);\n",
              "        }\n",
              "      </script>\n",
              "    </div>\n",
              "  </div>\n",
              "  "
            ]
          },
          "metadata": {},
          "execution_count": 33
        }
      ]
    },
    {
      "cell_type": "markdown",
      "source": [
        "##Data Pre-processing"
      ],
      "metadata": {
        "id": "UCetRY0mgtDy"
      }
    },
    {
      "cell_type": "code",
      "source": [
        "# Clean data from urls, emails and punctation\n",
        "# Train\n",
        "train_df['review'] = train_df['review'].replace(r'http\\S+', '', regex=True).replace(r'www\\S+', '', regex=True)\n",
        "train_df['review'] = train_df['review'].replace(r'\\S*@\\S*\\s?', '', regex=True)\n",
        "train_df['review'] = train_df['review'].replace(r'[^\\w\\s]', '', regex=True)\n",
        "\n",
        "# Test\n",
        "if not(test_df.empty) :\n",
        "  test_df['review'] = test_df['review'].replace(r'http\\S+', '', regex=True).replace(r'www\\S+', '', regex=True)\n",
        "  test_df['review'] = test_df['review'].replace(r'\\S*@\\S*\\s?', '', regex=True)\n",
        "  train_df['review'] = train_df['review'].replace(r'[^\\w\\s]', '', regex=True)\n",
        "\n"
      ],
      "metadata": {
        "id": "hjTKvFobZw_t"
      },
      "execution_count": 34,
      "outputs": []
    },
    {
      "cell_type": "code",
      "source": [
        "# Split data to validation and train sets if no test set provided\n",
        "\n",
        "if not(test_df.empty):\n",
        "  X_train = train_df['review']\n",
        "  X_val = test_df['review']\n",
        "  y_train = np.array(train_df['sentiment'])\n",
        "  y_val = np.array(test_df['sentiment'])\n",
        "else:\n",
        "  X_train, X_val, y_train, y_val = train_test_split(train_df['review'], train_df['sentiment'], test_size=0.2)\n"
      ],
      "metadata": {
        "id": "Dhs28mgoq5Yv"
      },
      "execution_count": 35,
      "outputs": []
    },
    {
      "cell_type": "markdown",
      "source": [
        "## Classification"
      ],
      "metadata": {
        "id": "n84eKWnPsS-b"
      }
    },
    {
      "cell_type": "code",
      "source": [
        "# Define stop words\n",
        "def stopwrds():\n",
        "  mywords=frozenset(['not', 'no', 'didnt','cannot', 'couldnt', 'never'])\n",
        "  stopw = ENGLISH_STOP_WORDS.union(['br'])\n",
        "  stopw = stopw.difference(mywords)\n",
        "  return list(stopw)\n"
      ],
      "metadata": {
        "id": "ha7jvqSw4PiT"
      },
      "execution_count": 36,
      "outputs": []
    },
    {
      "cell_type": "code",
      "source": [
        "# Vectorize and learn\n",
        "tfidf = TfidfVectorizer(stop_words = stopwrds(), lowercase=True, max_features=2000)\n",
        "clf = LogisticRegression(solver = 'saga', penalty = 'l2', max_iter =1000)\n",
        "model=Pipeline([('vect',tfidf), ('classifier',clf)])\n",
        "model.fit(X_train, y_train)\n",
        "\n",
        "# Cross_validation check\n",
        "#res=cross_val_score(model, X_train, y_train, cv=5, scoring =\"f1\")\n",
        "#print(\"Average cross validation results: \", np.mean(res))\n",
        "\n",
        "# Predict\n",
        "y_pred = model.predict(X_val)\n",
        "\n",
        "# Calculate metrics\n",
        "print(\"F1 score: \", f1_score(y_val, y_pred))\n",
        "print(\"precision score: \", precision_score(y_val, y_pred))\n",
        "print(\"recall score: \", recall_score(y_val, y_pred))\n",
        "\n",
        "disp = ConfusionMatrixDisplay(confusion_matrix(y_val, y_pred), display_labels=clf.classes_)\n",
        "disp.plot()\n",
        "plt.show()\n",
        "\n"
      ],
      "metadata": {
        "colab": {
          "base_uri": "https://localhost:8080/",
          "height": 334
        },
        "id": "hPXFdECTsSi5",
        "outputId": "c3f238cc-e7de-4dd2-fde6-42209149cea7"
      },
      "execution_count": 37,
      "outputs": [
        {
          "output_type": "stream",
          "name": "stdout",
          "text": [
            "F1 score:  0.8772389689820882\n",
            "precision score:  0.8762819114117391\n",
            "recall score:  0.8781981193964574\n"
          ]
        },
        {
          "output_type": "display_data",
          "data": {
            "text/plain": [
              "<Figure size 432x288 with 2 Axes>"
            ],
            "image/png": "[encoded data removed]"
          },
          "metadata": {
            "needs_background": "light"
          }
        }
      ]
    },
    {
      "cell_type": "code",
      "source": [
        "from sklearn.metrics import precision_recall_curve\n",
        "from sklearn.metrics import PrecisionRecallDisplay\n",
        "\n",
        "prec, recall, _ = precision_recall_curve(y_val, y_pred, pos_label=clf.classes_[1])\n",
        "pr_display = PrecisionRecallDisplay(precision=prec, recall=recall).plot()"
      ],
      "metadata": {
        "id": "eRHhi6-h1cn_",
        "colab": {
          "base_uri": "https://localhost:8080/",
          "height": 279
        },
        "outputId": "63202728-d04b-45f0-c243-34d94bb58d19"
      },
      "execution_count": 38,
      "outputs": [
        {
          "output_type": "display_data",
          "data": {
            "text/plain": [
              "<Figure size 432x288 with 1 Axes>"
            ],
            "image/png": "[encoded data removed]"
          },
          "metadata": {
            "needs_background": "light"
          }
        }
      ]
    },
    {
      "cell_type": "markdown",
      "source": [
        "## Evaluating the model/predictions"
      ],
      "metadata": {
        "id": "bGSOOXjmvONB"
      }
    },
    {
      "cell_type": "markdown",
      "source": [
        "### Evaluate model by train size"
      ],
      "metadata": {
        "id": "bWEHZSsqLl2Z"
      }
    },
    {
      "cell_type": "code",
      "source": [
        "list_f1_train = []\n",
        "list_f1 = []\n",
        "list_samples = []\n",
        "list_rmse_train = []\n",
        "list_rmse = []\n",
        "list_recall_train = []\n",
        "list_recall = []\n",
        "list_pr_train = []\n",
        "list_pr = []\n",
        "for times in range(10):\n",
        "  X, X_unused, y, y_unused = train_test_split(X_train, y_train, test_size = 1 - (times*0.1 + 0.001))\n",
        "\n",
        "  # Classification\n",
        "  tfidf = TfidfVectorizer(stop_words=stopwrds(),lowercase=True, max_features=2000)\n",
        "  clf = LogisticRegression(solver = 'saga', penalty = 'l2', max_iter =1000)\n",
        "  model=Pipeline([('vect',tfidf), ('classifier',clf)])\n",
        "  model.fit(X, y)\n",
        "\n",
        "  # Train set predictions\n",
        "  y_pred_train = model.predict(X)\n",
        "\n",
        "  # Test/Validation set predictions\n",
        "  y_pred = model.predict(X_val)\n",
        "\n",
        "  # Find scores\n",
        "  # Train\n",
        "  f1_train = f1_score(y, y_pred_train)\n",
        "  print(\"Train f1 score: \", f1_train)\n",
        "\n",
        "  rmse_train = mean_squared_error(y, y_pred_train, squared = False) #squared = False--->returns rmse\n",
        "\n",
        "  pr_train = precision_score(y, y_pred_train)\n",
        "\n",
        "  recall_train = recall_score(y, y_pred_train)\n",
        "\n",
        "  # Test\n",
        "  f1 = f1_score(y_val, y_pred)\n",
        "  print(\"Test f1 score: \", f1)\n",
        "  rmse = mean_squared_error(y_val, y_pred, squared = False)  #squared = False--->returns rmse\n",
        "\n",
        "  pr = precision_score(y_val, y_pred)\n",
        "\n",
        "  recall = recall_score(y_val, y_pred)\n",
        "\n",
        "  # Keep reults for plot\n",
        "  list_f1.append(f1)\n",
        "  list_f1_train.append(f1_train)\n",
        "  list_samples.append(times*0.1 + 0.001)\n",
        "  list_rmse_train.append(rmse_train)\n",
        "  list_rmse.append(rmse)\n",
        "  list_recall_train.append(recall_train)\n",
        "  list_recall.append(recall)\n",
        "  list_pr_train.append(pr_train)\n",
        "  list_pr.append(pr)\n"
      ],
      "metadata": {
        "colab": {
          "base_uri": "https://localhost:8080/"
        },
        "id": "SWJKlLjgb59M",
        "outputId": "0dd065b6-34eb-4cca-d227-40d0f24d566d"
      },
      "execution_count": 39,
      "outputs": [
        {
          "output_type": "stream",
          "name": "stdout",
          "text": [
            "Train f1 score:  1.0\n",
            "Test f1 score:  0.008273459612453734\n",
            "Train f1 score:  0.9161793372319688\n",
            "Test f1 score:  0.8552488589437078\n",
            "Train f1 score:  0.9094695917800611\n",
            "Test f1 score:  0.8618700337433329\n",
            "Train f1 score:  0.9044809146229026\n",
            "Test f1 score:  0.867883528900478\n",
            "Train f1 score:  0.9008102822017323\n",
            "Test f1 score:  0.8744551002615518\n",
            "Train f1 score:  0.9024753294007387\n",
            "Test f1 score:  0.871900826446281\n",
            "Train f1 score:  0.8980607121470358\n",
            "Test f1 score:  0.8712352684417285\n",
            "Train f1 score:  0.8960956175298805\n",
            "Test f1 score:  0.8765836609873306\n",
            "Train f1 score:  0.896682791983414\n",
            "Test f1 score:  0.8782400348507952\n",
            "Train f1 score:  0.8956086168218554\n",
            "Test f1 score:  0.8780806979280262\n"
          ]
        }
      ]
    },
    {
      "cell_type": "code",
      "source": [
        "# Ploting results\n",
        "\n",
        "def plot_curve(metric, figure, list_x, list_x_train):\n",
        "  plt.subplot(1, 4, figure)\n",
        "  plt.plot(list_samples, list_x, label = \"Validation\")\n",
        "  plt.plot(list_samples, list_x_train, label = \"Training\")\n",
        "  plt.ylim(ymin=0, ymax=1.0)\n",
        "  plt.xlim(xmin=0, xmax=1.0)\n",
        "  plt.legend(loc=4)\n",
        "  plt.ylabel(metric)\n",
        "  plt.xlabel(\"Train_size(%)\")\n",
        "\n",
        "plt.figure(figsize=(20, 5))\n",
        "\n",
        "plot_curve(\"F1-score\", 1, list_f1, list_f1_train)\n",
        "plot_curve(\"Precision\", 2, list_pr, list_pr_train)\n",
        "plot_curve(\"Recall\", 3, list_recall, list_recall_train)\n",
        "plot_curve(\"RMSE\", 4, list_rmse, list_rmse_train)\n"
      ],
      "metadata": {
        "id": "XaUxTlw-U8w1",
        "colab": {
          "base_uri": "https://localhost:8080/",
          "height": 219
        },
        "outputId": "3ac3f063-3769-400a-ff5b-148655c42c57"
      },
      "execution_count": 40,
      "outputs": [
        {
          "output_type": "display_data",
          "data": {
            "text/plain": [
              "<Figure size 1440x360 with 4 Axes>"
            ],
            "image/png": "[encoded data removed]"
          },
          "metadata": {
            "needs_background": "light"
          }
        }
      ]
    },
    {
      "cell_type": "markdown",
      "source": [
        "### Evaluate by trying different solvers and penalties to LogisticRegression"
      ],
      "metadata": {
        "id": "KwGtEz12Mp-s"
      }
    },
    {
      "cell_type": "code",
      "source": [
        "def evaluate(penalty, solver,C, max_iter):\n",
        "  tfidf_eval = TfidfVectorizer(stop_words=stopwrds(),lowercase=True, max_features=2000)\n",
        "  clf_eval = LogisticRegression(penalty=penalty, solver=solver, max_iter=max_iter, C=C)\n",
        "  model_eval=Pipeline([('vect',tfidf_eval),('classifier',clf_eval)])\n",
        "  model_eval.fit(X_train, y_train)\n",
        "\n",
        "  y_pred = model_eval.predict(X_val)\n",
        "  f1.append(f1_score(y_val, y_pred))\n",
        "  print(f1_score(y_val, y_pred))\n",
        "  precision.append(precision_score(y_val, y_pred))\n",
        "  recall.append(recall_score(y_val, y_pred))\n",
        "  accuracy.append(accuracy_score(y_val, y_pred))\n"
      ],
      "metadata": {
        "id": "NY6xb8lbSdOZ"
      },
      "execution_count": 41,
      "outputs": []
    },
    {
      "cell_type": "code",
      "source": [
        "solvers=['liblinear', 'liblinear', 'saga', 'saga', 'saga', 'lbfgs', 'lbfgs']\n",
        "penalties=['l2', 'l1', 'l2', 'l1', 'none', 'l2', 'none']\n",
        "\n",
        "accuracy=[]\n",
        "precision=[]\n",
        "recall=[]\n",
        "f1=[]\n",
        "\n",
        "for i in range(len(solvers)):\n",
        "  \n",
        "  print(\"Solver: \", solvers[i])\n",
        "  print(\"Penalty: \", penalties[i])\n",
        "  evaluate(penalties[i] , solvers[i], 1.0, 1000)"
      ],
      "metadata": {
        "id": "y74ZNPK0Uhnv",
        "colab": {
          "base_uri": "https://localhost:8080/"
        },
        "outputId": "a0249b60-f8af-4e08-b70c-52257045c477"
      },
      "execution_count": 42,
      "outputs": [
        {
          "output_type": "stream",
          "name": "stdout",
          "text": [
            "Solver:  liblinear\n",
            "Penalty:  l2\n",
            "0.8772389689820882\n",
            "Solver:  liblinear\n",
            "Penalty:  l1\n",
            "0.8765418622421133\n",
            "Solver:  saga\n",
            "Penalty:  l2\n",
            "0.8772389689820882\n",
            "Solver:  saga\n",
            "Penalty:  l1\n",
            "0.8765418622421133\n",
            "Solver:  saga\n",
            "Penalty:  none\n",
            "0.8703176341730557\n",
            "Solver:  lbfgs\n",
            "Penalty:  l2\n",
            "0.8772389689820882\n",
            "Solver:  lbfgs\n",
            "Penalty:  none\n",
            "0.8703176341730557\n"
          ]
        }
      ]
    },
    {
      "cell_type": "code",
      "source": [
        "# Plot\n",
        "names = ['liblinear l2', 'liblinear l1', 'saga l2', 'saga l1', 'saga none', 'lbfgs l2', 'lbfgs none']\n",
        "results = np.random.rand(7,4)\n",
        "results[:, 0] = f1\n",
        "results[:, 1] = precision\n",
        "results[:, 2] = recall\n",
        "results[:, 3] = accuracy\n",
        "\n",
        "df = pd.DataFrame(results, columns=[\"f1\", \"precision\", \"recall\", \"accuracy\"])\n",
        "df['parameters'] = names\n",
        "ax = df.plot(x=\"parameters\", y=[\"f1\", \"precision\", \"recall\", \"accuracy\"], kind=\"bar\", rot=0, figsize=(10, 7), ylim=(0, 0.95), grid=True)\n",
        "\n",
        "for i in range(7):\n",
        "  print(np.sum(results[i, :], axis=0 )/4)"
      ],
      "metadata": {
        "id": "3ipUjR-nHGUP",
        "colab": {
          "base_uri": "https://localhost:8080/",
          "height": 563
        },
        "outputId": "852992fa-3457-402a-9e10-6c5baa21eb3a"
      },
      "execution_count": 43,
      "outputs": [
        {
          "output_type": "stream",
          "name": "stdout",
          "text": [
            "0.8767144644554583\n",
            "0.8759978849526525\n",
            "0.8767144644554583\n",
            "0.8759978849526525\n",
            "0.8698579801931445\n",
            "0.8767144644554583\n",
            "0.8698579801931445\n"
          ]
        },
        {
          "output_type": "display_data",
          "data": {
            "text/plain": [
              "<Figure size 720x504 with 1 Axes>"
            ],
            "image/png": "[encoded data removed]"
          },
          "metadata": {
            "needs_background": "light"
          }
        }
      ]
    },
    {
      "cell_type": "code",
      "source": [
        "# Closer view\n",
        "ax = df.plot(x=\"parameters\", y=[\"f1\", \"precision\", \"recall\", \"accuracy\"], kind=\"bar\", rot=0, figsize=(10, 7), ylim=(0.85, 0.9), grid=True)"
      ],
      "metadata": {
        "id": "Uaara3kpO5SA",
        "colab": {
          "base_uri": "https://localhost:8080/",
          "height": 446
        },
        "outputId": "ec99894b-d84d-4eb5-d6e0-bca1bdce2d39"
      },
      "execution_count": 44,
      "outputs": [
        {
          "output_type": "display_data",
          "data": {
            "text/plain": [
              "<Figure size 720x504 with 1 Axes>"
            ],
            "image/png": "[encoded data removed]"
          },
          "metadata": {
            "needs_background": "light"
          }
        }
      ]
    },
    {
      "cell_type": "markdown",
      "source": [
        "### Evaluate by inverse of regularization strength (C)\n",
        "Smaller values specify stronger regularization"
      ],
      "metadata": {
        "id": "yohffUUFQJ8R"
      }
    },
    {
      "cell_type": "code",
      "source": [
        "accuracy=[]\n",
        "precision=[]\n",
        "recall=[]\n",
        "f1=[]\n",
        "\n",
        "frange = [.1*x for x in range(5, 50, 5)]\n",
        "print(frange)\n",
        "for c in frange:\n",
        "  print(\"C=\", c)\n",
        "  evaluate('l2' , 'saga', c, 1000)"
      ],
      "metadata": {
        "id": "jF9jU6gNQf47",
        "colab": {
          "base_uri": "https://localhost:8080/"
        },
        "outputId": "79316f6d-4fe0-476d-e7d8-04c72d7c50eb"
      },
      "execution_count": 45,
      "outputs": [
        {
          "output_type": "stream",
          "name": "stdout",
          "text": [
            "[0.5, 1.0, 1.5, 2.0, 2.5, 3.0, 3.5, 4.0, 4.5]\n",
            "C= 0.5\n",
            "0.8772197407124961\n",
            "C= 1.0\n",
            "0.8772389689820882\n",
            "C= 1.5\n",
            "0.8763652249890782\n",
            "C= 2.0\n",
            "0.8760926573426573\n",
            "C= 2.5\n",
            "0.8752050749207043\n",
            "C= 3.0\n",
            "0.8744806472774985\n",
            "C= 3.5\n",
            "0.8742488801485853\n",
            "C= 4.0\n",
            "0.8737842858703967\n",
            "C= 4.5\n",
            "0.8734426229508196\n"
          ]
        }
      ]
    }
  ]
}