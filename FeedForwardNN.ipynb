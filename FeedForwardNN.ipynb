{
  "cells": [
    {
      "cell_type": "markdown",
      "metadata": {
        "id": "o0Xluc0RwrTS"
      },
      "source": [
        "# Artificial Intelligence II (Deep Learning for Natural Language Processing)\n",
        "# Homework 2\n",
        "\n",
        "Name: Maria Miliou \\\n",
        "ID: 1115201300101 "
      ]
    },
    {
      "cell_type": "markdown",
      "metadata": {
        "id": "8hiL2rnuE5ry"
      },
      "source": [
        "## Import and install usefull packages"
      ]
    },
    {
      "cell_type": "markdown",
      "metadata": {
        "id": "QbCdL4UGFaLU"
      },
      "source": [
        "### Pandas, Numpy, Pytorch, sklearn, matplotlib"
      ]
    },
    {
      "cell_type": "code",
      "execution_count": 1,
      "metadata": {
        "id": "lhe-voDmwZxJ"
      },
      "outputs": [],
      "source": [
        "# Importing useful libraries\n",
        "import pandas as pd\n",
        "import numpy as np\n",
        "import matplotlib.pyplot as plt\n",
        "import torch\n",
        "import torch.nn as nn\n",
        "import string\n",
        "\n",
        "import re\n",
        "from sklearn.feature_extraction.text import ENGLISH_STOP_WORDS\n",
        "from scipy.linalg.decomp import empty\n",
        "from sklearn.metrics import f1_score, classification_report, recall_score,precision_score,confusion_matrix, ConfusionMatrixDisplay, accuracy_score, roc_auc_score, roc_curve, auc, RocCurveDisplay\n",
        "from sklearn.model_selection import train_test_split, cross_val_score"
      ]
    },
    {
      "cell_type": "markdown",
      "metadata": {
        "id": "74QJkz6XFbt9"
      },
      "source": [
        "### NLTK (Natural Language Toolkit)\n",
        "To tokenize, lemmatize and remove stop words"
      ]
    },
    {
      "cell_type": "code",
      "execution_count": 2,
      "metadata": {
        "colab": {
          "base_uri": "https://localhost:8080/"
        },
        "id": "NmBZnbiMjubS",
        "outputId": "2f08dec5-b8b6-44c4-a92c-8ef1dcad8b1a"
      },
      "outputs": [
        {
          "output_type": "stream",
          "name": "stdout",
          "text": [
            "Looking in indexes: https://pypi.org/simple, https://us-python.pkg.dev/colab-wheels/public/simple/\n",
            "Requirement already satisfied: nltk in /usr/local/lib/python3.8/dist-packages (3.7)\n",
            "Requirement already satisfied: click in /usr/local/lib/python3.8/dist-packages (from nltk) (7.1.2)\n",
            "Requirement already satisfied: regex>=2021.8.3 in /usr/local/lib/python3.8/dist-packages (from nltk) (2022.6.2)\n",
            "Requirement already satisfied: tqdm in /usr/local/lib/python3.8/dist-packages (from nltk) (4.64.1)\n",
            "Requirement already satisfied: joblib in /usr/local/lib/python3.8/dist-packages (from nltk) (1.2.0)\n"
          ]
        }
      ],
      "source": [
        "!pip install nltk"
      ]
    },
    {
      "cell_type": "code",
      "execution_count": 3,
      "metadata": {
        "colab": {
          "base_uri": "https://localhost:8080/"
        },
        "id": "kceeFyDemTpK",
        "outputId": "39e6ef0f-7241-49fa-fd48-9e77d057f25f"
      },
      "outputs": [
        {
          "output_type": "stream",
          "name": "stderr",
          "text": [
            "[nltk_data] Downloading package stopwords to /root/nltk_data...\n",
            "[nltk_data]   Unzipping corpora/stopwords.zip.\n",
            "[nltk_data] Downloading package omw-1.4 to /root/nltk_data...\n",
            "[nltk_data] Downloading package wordnet to /root/nltk_data...\n"
          ]
        },
        {
          "output_type": "execute_result",
          "data": {
            "text/plain": [
              "True"
            ]
          },
          "metadata": {},
          "execution_count": 3
        }
      ],
      "source": [
        "import nltk\n",
        "from nltk.corpus import stopwords\n",
        "from nltk.tokenize import RegexpTokenizer\n",
        "from nltk.stem import WordNetLemmatizer\n",
        "\n",
        "nltk.download('stopwords')\n",
        "nltk.download('omw-1.4')\n",
        "nltk.download('wordnet')"
      ]
    },
    {
      "cell_type": "markdown",
      "metadata": {
        "id": "7lb6JuDoFxrR"
      },
      "source": [
        "### GloVE "
      ]
    },
    {
      "cell_type": "code",
      "execution_count": null,
      "metadata": {
        "id": "6zO5i7HRxYoW"
      },
      "outputs": [],
      "source": [
        "!wget http://nlp.stanford.edu/data/glove.6B.zip"
      ]
    },
    {
      "cell_type": "code",
      "execution_count": null,
      "metadata": {
        "id": "9-WW-cx0yXVG"
      },
      "outputs": [],
      "source": [
        "!ls -l\n",
        "!unzip glove*.zip"
      ]
    },
    {
      "cell_type": "markdown",
      "metadata": {
        "id": "n3AfzzLtwwP-"
      },
      "source": [
        "## Loading and Exploring Dataset\n"
      ]
    },
    {
      "cell_type": "code",
      "execution_count": 4,
      "metadata": {
        "colab": {
          "base_uri": "https://localhost:8080/"
        },
        "id": "helqhXMVwvre",
        "outputId": "eea1d5d9-74a2-4652-c4be-8fc74f292abe"
      },
      "outputs": [
        {
          "output_type": "stream",
          "name": "stdout",
          "text": [
            "Mounted at /content/drive\n"
          ]
        }
      ],
      "source": [
        "# Data file located at git\n",
        "from google.colab import drive\n",
        "drive.mount('/content/drive')"
      ]
    },
    {
      "cell_type": "markdown",
      "source": [
        "### Loading train set"
      ],
      "metadata": {
        "id": "37yJeYBIh03e"
      }
    },
    {
      "cell_type": "code",
      "execution_count": 5,
      "metadata": {
        "colab": {
          "base_uri": "https://localhost:8080/",
          "height": 498
        },
        "id": "J51ZlGbFw01d",
        "outputId": "bbdd6cc0-ccc4-4acb-a91b-5536250baacd"
      },
      "outputs": [
        {
          "output_type": "stream",
          "name": "stdout",
          "text": [
            "             rating\n",
            "count  45008.000000\n",
            "mean       5.481914\n",
            "std        3.494293\n",
            "min        1.000000\n",
            "25%        2.000000\n",
            "50%        7.000000\n",
            "75%        9.000000\n",
            "max       10.000000\n"
          ]
        },
        {
          "output_type": "execute_result",
          "data": {
            "text/plain": [
              "                                                url  rating  \\\n",
              "0  http://www.imdb.com/title/tt0120623/usercomments    10.0   \n",
              "1  http://www.imdb.com/title/tt0043117/usercomments     9.0   \n",
              "2  http://www.imdb.com/title/tt0043117/usercomments    10.0   \n",
              "3  http://www.imdb.com/title/tt0835204/usercomments     4.0   \n",
              "4  http://www.imdb.com/title/tt0499603/usercomments    10.0   \n",
              "\n",
              "                                              review  \n",
              "0  I thought this was a quiet good movie. It was ...  \n",
              "1  Wagon Master is a very unique film amongst Joh...  \n",
              "2  This film has to be as near to perfect a film ...  \n",
              "3  I gave this 4 stars because it has a lot of in...  \n",
              "4  This movie is really genuine and random. It's ...  "
            ],
            "text/html": [
              "\n",
              "  <div id=\"df-22143610-aaca-43b0-8b4c-bed9a55adf76\">\n",
              "    <div class=\"colab-df-container\">\n",
              "      <div>\n",
              "<style scoped>\n",
              "    .dataframe tbody tr th:only-of-type {\n",
              "        vertical-align: middle;\n",
              "    }\n",
              "\n",
              "    .dataframe tbody tr th {\n",
              "        vertical-align: top;\n",
              "    }\n",
              "\n",
              "    .dataframe thead th {\n",
              "        text-align: right;\n",
              "    }\n",
              "</style>\n",
              "<table border=\"1\" class=\"dataframe\">\n",
              "  <thead>\n",
              "    <tr style=\"text-align: right;\">\n",
              "      <th></th>\n",
              "      <th>url</th>\n",
              "      <th>rating</th>\n",
              "      <th>review</th>\n",
              "    </tr>\n",
              "  </thead>\n",
              "  <tbody>\n",
              "    <tr>\n",
              "      <th>0</th>\n",
              "      <td>http://www.imdb.com/title/tt0120623/usercomments</td>\n",
              "      <td>10.0</td>\n",
              "      <td>I thought this was a quiet good movie. It was ...</td>\n",
              "    </tr>\n",
              "    <tr>\n",
              "      <th>1</th>\n",
              "      <td>http://www.imdb.com/title/tt0043117/usercomments</td>\n",
              "      <td>9.0</td>\n",
              "      <td>Wagon Master is a very unique film amongst Joh...</td>\n",
              "    </tr>\n",
              "    <tr>\n",
              "      <th>2</th>\n",
              "      <td>http://www.imdb.com/title/tt0043117/usercomments</td>\n",
              "      <td>10.0</td>\n",
              "      <td>This film has to be as near to perfect a film ...</td>\n",
              "    </tr>\n",
              "    <tr>\n",
              "      <th>3</th>\n",
              "      <td>http://www.imdb.com/title/tt0835204/usercomments</td>\n",
              "      <td>4.0</td>\n",
              "      <td>I gave this 4 stars because it has a lot of in...</td>\n",
              "    </tr>\n",
              "    <tr>\n",
              "      <th>4</th>\n",
              "      <td>http://www.imdb.com/title/tt0499603/usercomments</td>\n",
              "      <td>10.0</td>\n",
              "      <td>This movie is really genuine and random. It's ...</td>\n",
              "    </tr>\n",
              "  </tbody>\n",
              "</table>\n",
              "</div>\n",
              "      <button class=\"colab-df-convert\" onclick=\"convertToInteractive('df-22143610-aaca-43b0-8b4c-bed9a55adf76')\"\n",
              "              title=\"Convert this dataframe to an interactive table.\"\n",
              "              style=\"display:none;\">\n",
              "        \n",
              "  <svg xmlns=\"http://www.w3.org/2000/svg\" height=\"24px\"viewBox=\"0 0 24 24\"\n",
              "       width=\"24px\">\n",
              "    <path d=\"M0 0h24v24H0V0z\" fill=\"none\"/>\n",
              "    <path d=\"M18.56 5.44l.94 2.06.94-2.06 2.06-.94-2.06-.94-.94-2.06-.94 2.06-2.06.94zm-11 1L8.5 8.5l.94-2.06 2.06-.94-2.06-.94L8.5 2.5l-.94 2.06-2.06.94zm10 10l.94 2.06.94-2.06 2.06-.94-2.06-.94-.94-2.06-.94 2.06-2.06.94z\"/><path d=\"M17.41 7.96l-1.37-1.37c-.4-.4-.92-.59-1.43-.59-.52 0-1.04.2-1.43.59L10.3 9.45l-7.72 7.72c-.78.78-.78 2.05 0 2.83L4 21.41c.39.39.9.59 1.41.59.51 0 1.02-.2 1.41-.59l7.78-7.78 2.81-2.81c.8-.78.8-2.07 0-2.86zM5.41 20L4 18.59l7.72-7.72 1.47 1.35L5.41 20z\"/>\n",
              "  </svg>\n",
              "      </button>\n",
              "      \n",
              "  <style>\n",
              "    .colab-df-container {\n",
              "      display:flex;\n",
              "      flex-wrap:wrap;\n",
              "      gap: 12px;\n",
              "    }\n",
              "\n",
              "    .colab-df-convert {\n",
              "      background-color: #E8F0FE;\n",
              "      border: none;\n",
              "      border-radius: 50%;\n",
              "      cursor: pointer;\n",
              "      display: none;\n",
              "      fill: #1967D2;\n",
              "      height: 32px;\n",
              "      padding: 0 0 0 0;\n",
              "      width: 32px;\n",
              "    }\n",
              "\n",
              "    .colab-df-convert:hover {\n",
              "      background-color: #E2EBFA;\n",
              "      box-shadow: 0px 1px 2px rgba(60, 64, 67, 0.3), 0px 1px 3px 1px rgba(60, 64, 67, 0.15);\n",
              "      fill: #174EA6;\n",
              "    }\n",
              "\n",
              "    [theme=dark] .colab-df-convert {\n",
              "      background-color: #3B4455;\n",
              "      fill: #D2E3FC;\n",
              "    }\n",
              "\n",
              "    [theme=dark] .colab-df-convert:hover {\n",
              "      background-color: #434B5C;\n",
              "      box-shadow: 0px 1px 3px 1px rgba(0, 0, 0, 0.15);\n",
              "      filter: drop-shadow(0px 1px 2px rgba(0, 0, 0, 0.3));\n",
              "      fill: #FFFFFF;\n",
              "    }\n",
              "  </style>\n",
              "\n",
              "      <script>\n",
              "        const buttonEl =\n",
              "          document.querySelector('#df-22143610-aaca-43b0-8b4c-bed9a55adf76 button.colab-df-convert');\n",
              "        buttonEl.style.display =\n",
              "          google.colab.kernel.accessAllowed ? 'block' : 'none';\n",
              "\n",
              "        async function convertToInteractive(key) {\n",
              "          const element = document.querySelector('#df-22143610-aaca-43b0-8b4c-bed9a55adf76');\n",
              "          const dataTable =\n",
              "            await google.colab.kernel.invokeFunction('convertToInteractive',\n",
              "                                                     [key], {});\n",
              "          if (!dataTable) return;\n",
              "\n",
              "          const docLinkHtml = 'Like what you see? Visit the ' +\n",
              "            '<a target=\"_blank\" href=https://colab.research.google.com/notebooks/data_table.ipynb>data table notebook</a>'\n",
              "            + ' to learn more about interactive tables.';\n",
              "          element.innerHTML = '';\n",
              "          dataTable['output_type'] = 'display_data';\n",
              "          await google.colab.output.renderOutput(dataTable, element);\n",
              "          const docLink = document.createElement('div');\n",
              "          docLink.innerHTML = docLinkHtml;\n",
              "          element.appendChild(docLink);\n",
              "        }\n",
              "      </script>\n",
              "    </div>\n",
              "  </div>\n",
              "  "
            ]
          },
          "metadata": {},
          "execution_count": 5
        }
      ],
      "source": [
        "train_df = pd.read_csv(\"/content/drive/MyDrive/imdb-reviews.csv\", sep='\\t')\n",
        "\n",
        "print(train_df.describe())\n",
        "train_df.head()"
      ]
    },
    {
      "cell_type": "markdown",
      "source": [
        "### Loading test set"
      ],
      "metadata": {
        "id": "feFNUIpWh9ys"
      }
    },
    {
      "cell_type": "code",
      "source": [
        "test_df = pd.read_csv(\"/content/drive/MyDrive/imdb-reviews-test.csv\", sep='\\t') \n",
        "\n",
        "print(test_df.describe())\n",
        "test_df.head()"
      ],
      "metadata": {
        "colab": {
          "base_uri": "https://localhost:8080/",
          "height": 368
        },
        "id": "ba3LhfhVh883",
        "outputId": "28778922-4e3a-4088-f8e2-f7186ac5e810"
      },
      "execution_count": 6,
      "outputs": [
        {
          "output_type": "stream",
          "name": "stdout",
          "text": [
            "            rating\n",
            "count  5401.000000\n",
            "mean      5.447695\n",
            "std       3.495698\n",
            "min       1.000000\n",
            "25%       2.000000\n",
            "50%       4.000000\n",
            "75%       9.000000\n",
            "max      10.000000\n"
          ]
        },
        {
          "output_type": "execute_result",
          "data": {
            "text/plain": [
              "                                              review  rating\n",
              "0  I saw this film at the 2002 Toronto Internatio...     9.0\n",
              "1  The Stock Market Crash of 1929 and the Depress...    10.0\n",
              "2  Basically this is an overlong, unfunny, action...     1.0\n",
              "3  And I am afraid that I cannot imagine why. It ...     1.0\n",
              "4  Bubbling just beneath the surface of Showtime ...     4.0"
            ],
            "text/html": [
              "\n",
              "  <div id=\"df-0db9ce97-fa63-4962-894b-8b9d0c74c6e7\">\n",
              "    <div class=\"colab-df-container\">\n",
              "      <div>\n",
              "<style scoped>\n",
              "    .dataframe tbody tr th:only-of-type {\n",
              "        vertical-align: middle;\n",
              "    }\n",
              "\n",
              "    .dataframe tbody tr th {\n",
              "        vertical-align: top;\n",
              "    }\n",
              "\n",
              "    .dataframe thead th {\n",
              "        text-align: right;\n",
              "    }\n",
              "</style>\n",
              "<table border=\"1\" class=\"dataframe\">\n",
              "  <thead>\n",
              "    <tr style=\"text-align: right;\">\n",
              "      <th></th>\n",
              "      <th>review</th>\n",
              "      <th>rating</th>\n",
              "    </tr>\n",
              "  </thead>\n",
              "  <tbody>\n",
              "    <tr>\n",
              "      <th>0</th>\n",
              "      <td>I saw this film at the 2002 Toronto Internatio...</td>\n",
              "      <td>9.0</td>\n",
              "    </tr>\n",
              "    <tr>\n",
              "      <th>1</th>\n",
              "      <td>The Stock Market Crash of 1929 and the Depress...</td>\n",
              "      <td>10.0</td>\n",
              "    </tr>\n",
              "    <tr>\n",
              "      <th>2</th>\n",
              "      <td>Basically this is an overlong, unfunny, action...</td>\n",
              "      <td>1.0</td>\n",
              "    </tr>\n",
              "    <tr>\n",
              "      <th>3</th>\n",
              "      <td>And I am afraid that I cannot imagine why. It ...</td>\n",
              "      <td>1.0</td>\n",
              "    </tr>\n",
              "    <tr>\n",
              "      <th>4</th>\n",
              "      <td>Bubbling just beneath the surface of Showtime ...</td>\n",
              "      <td>4.0</td>\n",
              "    </tr>\n",
              "  </tbody>\n",
              "</table>\n",
              "</div>\n",
              "      <button class=\"colab-df-convert\" onclick=\"convertToInteractive('df-0db9ce97-fa63-4962-894b-8b9d0c74c6e7')\"\n",
              "              title=\"Convert this dataframe to an interactive table.\"\n",
              "              style=\"display:none;\">\n",
              "        \n",
              "  <svg xmlns=\"http://www.w3.org/2000/svg\" height=\"24px\"viewBox=\"0 0 24 24\"\n",
              "       width=\"24px\">\n",
              "    <path d=\"M0 0h24v24H0V0z\" fill=\"none\"/>\n",
              "    <path d=\"M18.56 5.44l.94 2.06.94-2.06 2.06-.94-2.06-.94-.94-2.06-.94 2.06-2.06.94zm-11 1L8.5 8.5l.94-2.06 2.06-.94-2.06-.94L8.5 2.5l-.94 2.06-2.06.94zm10 10l.94 2.06.94-2.06 2.06-.94-2.06-.94-.94-2.06-.94 2.06-2.06.94z\"/><path d=\"M17.41 7.96l-1.37-1.37c-.4-.4-.92-.59-1.43-.59-.52 0-1.04.2-1.43.59L10.3 9.45l-7.72 7.72c-.78.78-.78 2.05 0 2.83L4 21.41c.39.39.9.59 1.41.59.51 0 1.02-.2 1.41-.59l7.78-7.78 2.81-2.81c.8-.78.8-2.07 0-2.86zM5.41 20L4 18.59l7.72-7.72 1.47 1.35L5.41 20z\"/>\n",
              "  </svg>\n",
              "      </button>\n",
              "      \n",
              "  <style>\n",
              "    .colab-df-container {\n",
              "      display:flex;\n",
              "      flex-wrap:wrap;\n",
              "      gap: 12px;\n",
              "    }\n",
              "\n",
              "    .colab-df-convert {\n",
              "      background-color: #E8F0FE;\n",
              "      border: none;\n",
              "      border-radius: 50%;\n",
              "      cursor: pointer;\n",
              "      display: none;\n",
              "      fill: #1967D2;\n",
              "      height: 32px;\n",
              "      padding: 0 0 0 0;\n",
              "      width: 32px;\n",
              "    }\n",
              "\n",
              "    .colab-df-convert:hover {\n",
              "      background-color: #E2EBFA;\n",
              "      box-shadow: 0px 1px 2px rgba(60, 64, 67, 0.3), 0px 1px 3px 1px rgba(60, 64, 67, 0.15);\n",
              "      fill: #174EA6;\n",
              "    }\n",
              "\n",
              "    [theme=dark] .colab-df-convert {\n",
              "      background-color: #3B4455;\n",
              "      fill: #D2E3FC;\n",
              "    }\n",
              "\n",
              "    [theme=dark] .colab-df-convert:hover {\n",
              "      background-color: #434B5C;\n",
              "      box-shadow: 0px 1px 3px 1px rgba(0, 0, 0, 0.15);\n",
              "      filter: drop-shadow(0px 1px 2px rgba(0, 0, 0, 0.3));\n",
              "      fill: #FFFFFF;\n",
              "    }\n",
              "  </style>\n",
              "\n",
              "      <script>\n",
              "        const buttonEl =\n",
              "          document.querySelector('#df-0db9ce97-fa63-4962-894b-8b9d0c74c6e7 button.colab-df-convert');\n",
              "        buttonEl.style.display =\n",
              "          google.colab.kernel.accessAllowed ? 'block' : 'none';\n",
              "\n",
              "        async function convertToInteractive(key) {\n",
              "          const element = document.querySelector('#df-0db9ce97-fa63-4962-894b-8b9d0c74c6e7');\n",
              "          const dataTable =\n",
              "            await google.colab.kernel.invokeFunction('convertToInteractive',\n",
              "                                                     [key], {});\n",
              "          if (!dataTable) return;\n",
              "\n",
              "          const docLinkHtml = 'Like what you see? Visit the ' +\n",
              "            '<a target=\"_blank\" href=https://colab.research.google.com/notebooks/data_table.ipynb>data table notebook</a>'\n",
              "            + ' to learn more about interactive tables.';\n",
              "          element.innerHTML = '';\n",
              "          dataTable['output_type'] = 'display_data';\n",
              "          await google.colab.output.renderOutput(dataTable, element);\n",
              "          const docLink = document.createElement('div');\n",
              "          docLink.innerHTML = docLinkHtml;\n",
              "          element.appendChild(docLink);\n",
              "        }\n",
              "      </script>\n",
              "    </div>\n",
              "  </div>\n",
              "  "
            ]
          },
          "metadata": {},
          "execution_count": 6
        }
      ]
    },
    {
      "cell_type": "markdown",
      "source": [
        "### Find sentiment"
      ],
      "metadata": {
        "id": "kOvQGhsJiein"
      }
    },
    {
      "cell_type": "code",
      "execution_count": 7,
      "metadata": {
        "colab": {
          "base_uri": "https://localhost:8080/",
          "height": 424
        },
        "id": "Rp-qZCZsw4dB",
        "outputId": "beb39ba6-c5f8-4560-cb35-bb66c4e91b83"
      },
      "outputs": [
        {
          "output_type": "execute_result",
          "data": {
            "text/plain": [
              "                                                url  rating  \\\n",
              "0  http://www.imdb.com/title/tt0120623/usercomments    10.0   \n",
              "1  http://www.imdb.com/title/tt0043117/usercomments     9.0   \n",
              "2  http://www.imdb.com/title/tt0043117/usercomments    10.0   \n",
              "3  http://www.imdb.com/title/tt0835204/usercomments     4.0   \n",
              "4  http://www.imdb.com/title/tt0499603/usercomments    10.0   \n",
              "\n",
              "                                              review  sentiment  \n",
              "0  I thought this was a quiet good movie. It was ...          1  \n",
              "1  Wagon Master is a very unique film amongst Joh...          1  \n",
              "2  This film has to be as near to perfect a film ...          1  \n",
              "3  I gave this 4 stars because it has a lot of in...          0  \n",
              "4  This movie is really genuine and random. It's ...          1  "
            ],
            "text/html": [
              "\n",
              "  <div id=\"df-08f3540a-a45d-4d03-8c7a-a1ff1d09623c\">\n",
              "    <div class=\"colab-df-container\">\n",
              "      <div>\n",
              "<style scoped>\n",
              "    .dataframe tbody tr th:only-of-type {\n",
              "        vertical-align: middle;\n",
              "    }\n",
              "\n",
              "    .dataframe tbody tr th {\n",
              "        vertical-align: top;\n",
              "    }\n",
              "\n",
              "    .dataframe thead th {\n",
              "        text-align: right;\n",
              "    }\n",
              "</style>\n",
              "<table border=\"1\" class=\"dataframe\">\n",
              "  <thead>\n",
              "    <tr style=\"text-align: right;\">\n",
              "      <th></th>\n",
              "      <th>url</th>\n",
              "      <th>rating</th>\n",
              "      <th>review</th>\n",
              "      <th>sentiment</th>\n",
              "    </tr>\n",
              "  </thead>\n",
              "  <tbody>\n",
              "    <tr>\n",
              "      <th>0</th>\n",
              "      <td>http://www.imdb.com/title/tt0120623/usercomments</td>\n",
              "      <td>10.0</td>\n",
              "      <td>I thought this was a quiet good movie. It was ...</td>\n",
              "      <td>1</td>\n",
              "    </tr>\n",
              "    <tr>\n",
              "      <th>1</th>\n",
              "      <td>http://www.imdb.com/title/tt0043117/usercomments</td>\n",
              "      <td>9.0</td>\n",
              "      <td>Wagon Master is a very unique film amongst Joh...</td>\n",
              "      <td>1</td>\n",
              "    </tr>\n",
              "    <tr>\n",
              "      <th>2</th>\n",
              "      <td>http://www.imdb.com/title/tt0043117/usercomments</td>\n",
              "      <td>10.0</td>\n",
              "      <td>This film has to be as near to perfect a film ...</td>\n",
              "      <td>1</td>\n",
              "    </tr>\n",
              "    <tr>\n",
              "      <th>3</th>\n",
              "      <td>http://www.imdb.com/title/tt0835204/usercomments</td>\n",
              "      <td>4.0</td>\n",
              "      <td>I gave this 4 stars because it has a lot of in...</td>\n",
              "      <td>0</td>\n",
              "    </tr>\n",
              "    <tr>\n",
              "      <th>4</th>\n",
              "      <td>http://www.imdb.com/title/tt0499603/usercomments</td>\n",
              "      <td>10.0</td>\n",
              "      <td>This movie is really genuine and random. It's ...</td>\n",
              "      <td>1</td>\n",
              "    </tr>\n",
              "  </tbody>\n",
              "</table>\n",
              "</div>\n",
              "      <button class=\"colab-df-convert\" onclick=\"convertToInteractive('df-08f3540a-a45d-4d03-8c7a-a1ff1d09623c')\"\n",
              "              title=\"Convert this dataframe to an interactive table.\"\n",
              "              style=\"display:none;\">\n",
              "        \n",
              "  <svg xmlns=\"http://www.w3.org/2000/svg\" height=\"24px\"viewBox=\"0 0 24 24\"\n",
              "       width=\"24px\">\n",
              "    <path d=\"M0 0h24v24H0V0z\" fill=\"none\"/>\n",
              "    <path d=\"M18.56 5.44l.94 2.06.94-2.06 2.06-.94-2.06-.94-.94-2.06-.94 2.06-2.06.94zm-11 1L8.5 8.5l.94-2.06 2.06-.94-2.06-.94L8.5 2.5l-.94 2.06-2.06.94zm10 10l.94 2.06.94-2.06 2.06-.94-2.06-.94-.94-2.06-.94 2.06-2.06.94z\"/><path d=\"M17.41 7.96l-1.37-1.37c-.4-.4-.92-.59-1.43-.59-.52 0-1.04.2-1.43.59L10.3 9.45l-7.72 7.72c-.78.78-.78 2.05 0 2.83L4 21.41c.39.39.9.59 1.41.59.51 0 1.02-.2 1.41-.59l7.78-7.78 2.81-2.81c.8-.78.8-2.07 0-2.86zM5.41 20L4 18.59l7.72-7.72 1.47 1.35L5.41 20z\"/>\n",
              "  </svg>\n",
              "      </button>\n",
              "      \n",
              "  <style>\n",
              "    .colab-df-container {\n",
              "      display:flex;\n",
              "      flex-wrap:wrap;\n",
              "      gap: 12px;\n",
              "    }\n",
              "\n",
              "    .colab-df-convert {\n",
              "      background-color: #E8F0FE;\n",
              "      border: none;\n",
              "      border-radius: 50%;\n",
              "      cursor: pointer;\n",
              "      display: none;\n",
              "      fill: #1967D2;\n",
              "      height: 32px;\n",
              "      padding: 0 0 0 0;\n",
              "      width: 32px;\n",
              "    }\n",
              "\n",
              "    .colab-df-convert:hover {\n",
              "      background-color: #E2EBFA;\n",
              "      box-shadow: 0px 1px 2px rgba(60, 64, 67, 0.3), 0px 1px 3px 1px rgba(60, 64, 67, 0.15);\n",
              "      fill: #174EA6;\n",
              "    }\n",
              "\n",
              "    [theme=dark] .colab-df-convert {\n",
              "      background-color: #3B4455;\n",
              "      fill: #D2E3FC;\n",
              "    }\n",
              "\n",
              "    [theme=dark] .colab-df-convert:hover {\n",
              "      background-color: #434B5C;\n",
              "      box-shadow: 0px 1px 3px 1px rgba(0, 0, 0, 0.15);\n",
              "      filter: drop-shadow(0px 1px 2px rgba(0, 0, 0, 0.3));\n",
              "      fill: #FFFFFF;\n",
              "    }\n",
              "  </style>\n",
              "\n",
              "      <script>\n",
              "        const buttonEl =\n",
              "          document.querySelector('#df-08f3540a-a45d-4d03-8c7a-a1ff1d09623c button.colab-df-convert');\n",
              "        buttonEl.style.display =\n",
              "          google.colab.kernel.accessAllowed ? 'block' : 'none';\n",
              "\n",
              "        async function convertToInteractive(key) {\n",
              "          const element = document.querySelector('#df-08f3540a-a45d-4d03-8c7a-a1ff1d09623c');\n",
              "          const dataTable =\n",
              "            await google.colab.kernel.invokeFunction('convertToInteractive',\n",
              "                                                     [key], {});\n",
              "          if (!dataTable) return;\n",
              "\n",
              "          const docLinkHtml = 'Like what you see? Visit the ' +\n",
              "            '<a target=\"_blank\" href=https://colab.research.google.com/notebooks/data_table.ipynb>data table notebook</a>'\n",
              "            + ' to learn more about interactive tables.';\n",
              "          element.innerHTML = '';\n",
              "          dataTable['output_type'] = 'display_data';\n",
              "          await google.colab.output.renderOutput(dataTable, element);\n",
              "          const docLink = document.createElement('div');\n",
              "          docLink.innerHTML = docLinkHtml;\n",
              "          element.appendChild(docLink);\n",
              "        }\n",
              "      </script>\n",
              "    </div>\n",
              "  </div>\n",
              "  "
            ]
          },
          "metadata": {},
          "execution_count": 7
        }
      ],
      "source": [
        "#Train set\n",
        "train_df['sentiment'] = train_df['rating'].apply(lambda x:0 if x<=4.0 else 1)\n",
        "train_df.head()\n"
      ]
    },
    {
      "cell_type": "code",
      "source": [
        "# Test set\n",
        "if not(test_df.empty):\n",
        "  test_df['sentiment'] = test_df['rating'].apply(lambda x:0 if x<=4.0 else 1)\n",
        "  print(test_df.head())"
      ],
      "metadata": {
        "colab": {
          "base_uri": "https://localhost:8080/"
        },
        "id": "myz8A9X2ia9P",
        "outputId": "fbeb25e5-e8e8-4237-f7f3-b40ffef1323b"
      },
      "execution_count": 8,
      "outputs": [
        {
          "output_type": "stream",
          "name": "stdout",
          "text": [
            "                                              review  rating  sentiment\n",
            "0  I saw this film at the 2002 Toronto Internatio...     9.0          1\n",
            "1  The Stock Market Crash of 1929 and the Depress...    10.0          1\n",
            "2  Basically this is an overlong, unfunny, action...     1.0          0\n",
            "3  And I am afraid that I cannot imagine why. It ...     1.0          0\n",
            "4  Bubbling just beneath the surface of Showtime ...     4.0          0\n"
          ]
        }
      ]
    },
    {
      "cell_type": "markdown",
      "metadata": {
        "id": "Tts5jt_Xw7iR"
      },
      "source": [
        "##Data Pre-processing\n"
      ]
    },
    {
      "cell_type": "markdown",
      "metadata": {
        "id": "jv1NeYSED-hH"
      },
      "source": [
        "### Cleaning data from urls, email and punctation and covert to lower case"
      ]
    },
    {
      "cell_type": "code",
      "source": [
        "def clean_data(df):\n",
        "  df['review'] = df['review'].replace(r'http\\S+', '', regex=True).replace(r'www\\S+', '', regex=True)\n",
        "  df['review'] = df['review'].replace(r'\\S*@\\S*\\s?', '', regex=True)\n",
        "  df['review'] = df['review'].replace(r'\\S*@\\S*\\s?', '', regex=True)\n",
        "  df['review'] = df['review'].str.lower()\n",
        "  df['review'] = df['review'].apply(lambda x:''.join([i for i in x  if i not in string.punctuation]))\n",
        "\n",
        "clean_data(train_df)\n",
        "if not(test_df.empty):\n",
        "  clean_data(test_df)\n",
        "\n",
        "train_df.head()\n"
      ],
      "metadata": {
        "colab": {
          "base_uri": "https://localhost:8080/",
          "height": 424
        },
        "id": "dsmIzYhk1IYG",
        "outputId": "15d07233-060d-4f5a-e282-99d14151c17d"
      },
      "execution_count": 9,
      "outputs": [
        {
          "output_type": "execute_result",
          "data": {
            "text/plain": [
              "                                                url  rating  \\\n",
              "0  http://www.imdb.com/title/tt0120623/usercomments    10.0   \n",
              "1  http://www.imdb.com/title/tt0043117/usercomments     9.0   \n",
              "2  http://www.imdb.com/title/tt0043117/usercomments    10.0   \n",
              "3  http://www.imdb.com/title/tt0835204/usercomments     4.0   \n",
              "4  http://www.imdb.com/title/tt0499603/usercomments    10.0   \n",
              "\n",
              "                                              review  sentiment  \n",
              "0  i thought this was a quiet good movie it was f...          1  \n",
              "1  wagon master is a very unique film amongst joh...          1  \n",
              "2  this film has to be as near to perfect a film ...          1  \n",
              "3  i gave this 4 stars because it has a lot of in...          0  \n",
              "4  this movie is really genuine and random its re...          1  "
            ],
            "text/html": [
              "\n",
              "  <div id=\"df-f8ff72ab-c1fe-484c-83fa-afcb83b9996b\">\n",
              "    <div class=\"colab-df-container\">\n",
              "      <div>\n",
              "<style scoped>\n",
              "    .dataframe tbody tr th:only-of-type {\n",
              "        vertical-align: middle;\n",
              "    }\n",
              "\n",
              "    .dataframe tbody tr th {\n",
              "        vertical-align: top;\n",
              "    }\n",
              "\n",
              "    .dataframe thead th {\n",
              "        text-align: right;\n",
              "    }\n",
              "</style>\n",
              "<table border=\"1\" class=\"dataframe\">\n",
              "  <thead>\n",
              "    <tr style=\"text-align: right;\">\n",
              "      <th></th>\n",
              "      <th>url</th>\n",
              "      <th>rating</th>\n",
              "      <th>review</th>\n",
              "      <th>sentiment</th>\n",
              "    </tr>\n",
              "  </thead>\n",
              "  <tbody>\n",
              "    <tr>\n",
              "      <th>0</th>\n",
              "      <td>http://www.imdb.com/title/tt0120623/usercomments</td>\n",
              "      <td>10.0</td>\n",
              "      <td>i thought this was a quiet good movie it was f...</td>\n",
              "      <td>1</td>\n",
              "    </tr>\n",
              "    <tr>\n",
              "      <th>1</th>\n",
              "      <td>http://www.imdb.com/title/tt0043117/usercomments</td>\n",
              "      <td>9.0</td>\n",
              "      <td>wagon master is a very unique film amongst joh...</td>\n",
              "      <td>1</td>\n",
              "    </tr>\n",
              "    <tr>\n",
              "      <th>2</th>\n",
              "      <td>http://www.imdb.com/title/tt0043117/usercomments</td>\n",
              "      <td>10.0</td>\n",
              "      <td>this film has to be as near to perfect a film ...</td>\n",
              "      <td>1</td>\n",
              "    </tr>\n",
              "    <tr>\n",
              "      <th>3</th>\n",
              "      <td>http://www.imdb.com/title/tt0835204/usercomments</td>\n",
              "      <td>4.0</td>\n",
              "      <td>i gave this 4 stars because it has a lot of in...</td>\n",
              "      <td>0</td>\n",
              "    </tr>\n",
              "    <tr>\n",
              "      <th>4</th>\n",
              "      <td>http://www.imdb.com/title/tt0499603/usercomments</td>\n",
              "      <td>10.0</td>\n",
              "      <td>this movie is really genuine and random its re...</td>\n",
              "      <td>1</td>\n",
              "    </tr>\n",
              "  </tbody>\n",
              "</table>\n",
              "</div>\n",
              "      <button class=\"colab-df-convert\" onclick=\"convertToInteractive('df-f8ff72ab-c1fe-484c-83fa-afcb83b9996b')\"\n",
              "              title=\"Convert this dataframe to an interactive table.\"\n",
              "              style=\"display:none;\">\n",
              "        \n",
              "  <svg xmlns=\"http://www.w3.org/2000/svg\" height=\"24px\"viewBox=\"0 0 24 24\"\n",
              "       width=\"24px\">\n",
              "    <path d=\"M0 0h24v24H0V0z\" fill=\"none\"/>\n",
              "    <path d=\"M18.56 5.44l.94 2.06.94-2.06 2.06-.94-2.06-.94-.94-2.06-.94 2.06-2.06.94zm-11 1L8.5 8.5l.94-2.06 2.06-.94-2.06-.94L8.5 2.5l-.94 2.06-2.06.94zm10 10l.94 2.06.94-2.06 2.06-.94-2.06-.94-.94-2.06-.94 2.06-2.06.94z\"/><path d=\"M17.41 7.96l-1.37-1.37c-.4-.4-.92-.59-1.43-.59-.52 0-1.04.2-1.43.59L10.3 9.45l-7.72 7.72c-.78.78-.78 2.05 0 2.83L4 21.41c.39.39.9.59 1.41.59.51 0 1.02-.2 1.41-.59l7.78-7.78 2.81-2.81c.8-.78.8-2.07 0-2.86zM5.41 20L4 18.59l7.72-7.72 1.47 1.35L5.41 20z\"/>\n",
              "  </svg>\n",
              "      </button>\n",
              "      \n",
              "  <style>\n",
              "    .colab-df-container {\n",
              "      display:flex;\n",
              "      flex-wrap:wrap;\n",
              "      gap: 12px;\n",
              "    }\n",
              "\n",
              "    .colab-df-convert {\n",
              "      background-color: #E8F0FE;\n",
              "      border: none;\n",
              "      border-radius: 50%;\n",
              "      cursor: pointer;\n",
              "      display: none;\n",
              "      fill: #1967D2;\n",
              "      height: 32px;\n",
              "      padding: 0 0 0 0;\n",
              "      width: 32px;\n",
              "    }\n",
              "\n",
              "    .colab-df-convert:hover {\n",
              "      background-color: #E2EBFA;\n",
              "      box-shadow: 0px 1px 2px rgba(60, 64, 67, 0.3), 0px 1px 3px 1px rgba(60, 64, 67, 0.15);\n",
              "      fill: #174EA6;\n",
              "    }\n",
              "\n",
              "    [theme=dark] .colab-df-convert {\n",
              "      background-color: #3B4455;\n",
              "      fill: #D2E3FC;\n",
              "    }\n",
              "\n",
              "    [theme=dark] .colab-df-convert:hover {\n",
              "      background-color: #434B5C;\n",
              "      box-shadow: 0px 1px 3px 1px rgba(0, 0, 0, 0.15);\n",
              "      filter: drop-shadow(0px 1px 2px rgba(0, 0, 0, 0.3));\n",
              "      fill: #FFFFFF;\n",
              "    }\n",
              "  </style>\n",
              "\n",
              "      <script>\n",
              "        const buttonEl =\n",
              "          document.querySelector('#df-f8ff72ab-c1fe-484c-83fa-afcb83b9996b button.colab-df-convert');\n",
              "        buttonEl.style.display =\n",
              "          google.colab.kernel.accessAllowed ? 'block' : 'none';\n",
              "\n",
              "        async function convertToInteractive(key) {\n",
              "          const element = document.querySelector('#df-f8ff72ab-c1fe-484c-83fa-afcb83b9996b');\n",
              "          const dataTable =\n",
              "            await google.colab.kernel.invokeFunction('convertToInteractive',\n",
              "                                                     [key], {});\n",
              "          if (!dataTable) return;\n",
              "\n",
              "          const docLinkHtml = 'Like what you see? Visit the ' +\n",
              "            '<a target=\"_blank\" href=https://colab.research.google.com/notebooks/data_table.ipynb>data table notebook</a>'\n",
              "            + ' to learn more about interactive tables.';\n",
              "          element.innerHTML = '';\n",
              "          dataTable['output_type'] = 'display_data';\n",
              "          await google.colab.output.renderOutput(dataTable, element);\n",
              "          const docLink = document.createElement('div');\n",
              "          docLink.innerHTML = docLinkHtml;\n",
              "          element.appendChild(docLink);\n",
              "        }\n",
              "      </script>\n",
              "    </div>\n",
              "  </div>\n",
              "  "
            ]
          },
          "metadata": {},
          "execution_count": 9
        }
      ]
    },
    {
      "cell_type": "code",
      "source": [
        "test_df.head()"
      ],
      "metadata": {
        "colab": {
          "base_uri": "https://localhost:8080/",
          "height": 206
        },
        "id": "daVYP8j3fFJb",
        "outputId": "28c1389f-88d3-441b-a114-ddcee47165a8"
      },
      "execution_count": 10,
      "outputs": [
        {
          "output_type": "execute_result",
          "data": {
            "text/plain": [
              "                                              review  rating  sentiment\n",
              "0  i saw this film at the 2002 toronto internatio...     9.0          1\n",
              "1  the stock market crash of 1929 and the depress...    10.0          1\n",
              "2  basically this is an overlong unfunny actionco...     1.0          0\n",
              "3  and i am afraid that i cannot imagine why it r...     1.0          0\n",
              "4  bubbling just beneath the surface of showtime ...     4.0          0"
            ],
            "text/html": [
              "\n",
              "  <div id=\"df-bf13df94-6d74-4018-b9b2-81b247d43ebe\">\n",
              "    <div class=\"colab-df-container\">\n",
              "      <div>\n",
              "<style scoped>\n",
              "    .dataframe tbody tr th:only-of-type {\n",
              "        vertical-align: middle;\n",
              "    }\n",
              "\n",
              "    .dataframe tbody tr th {\n",
              "        vertical-align: top;\n",
              "    }\n",
              "\n",
              "    .dataframe thead th {\n",
              "        text-align: right;\n",
              "    }\n",
              "</style>\n",
              "<table border=\"1\" class=\"dataframe\">\n",
              "  <thead>\n",
              "    <tr style=\"text-align: right;\">\n",
              "      <th></th>\n",
              "      <th>review</th>\n",
              "      <th>rating</th>\n",
              "      <th>sentiment</th>\n",
              "    </tr>\n",
              "  </thead>\n",
              "  <tbody>\n",
              "    <tr>\n",
              "      <th>0</th>\n",
              "      <td>i saw this film at the 2002 toronto internatio...</td>\n",
              "      <td>9.0</td>\n",
              "      <td>1</td>\n",
              "    </tr>\n",
              "    <tr>\n",
              "      <th>1</th>\n",
              "      <td>the stock market crash of 1929 and the depress...</td>\n",
              "      <td>10.0</td>\n",
              "      <td>1</td>\n",
              "    </tr>\n",
              "    <tr>\n",
              "      <th>2</th>\n",
              "      <td>basically this is an overlong unfunny actionco...</td>\n",
              "      <td>1.0</td>\n",
              "      <td>0</td>\n",
              "    </tr>\n",
              "    <tr>\n",
              "      <th>3</th>\n",
              "      <td>and i am afraid that i cannot imagine why it r...</td>\n",
              "      <td>1.0</td>\n",
              "      <td>0</td>\n",
              "    </tr>\n",
              "    <tr>\n",
              "      <th>4</th>\n",
              "      <td>bubbling just beneath the surface of showtime ...</td>\n",
              "      <td>4.0</td>\n",
              "      <td>0</td>\n",
              "    </tr>\n",
              "  </tbody>\n",
              "</table>\n",
              "</div>\n",
              "      <button class=\"colab-df-convert\" onclick=\"convertToInteractive('df-bf13df94-6d74-4018-b9b2-81b247d43ebe')\"\n",
              "              title=\"Convert this dataframe to an interactive table.\"\n",
              "              style=\"display:none;\">\n",
              "        \n",
              "  <svg xmlns=\"http://www.w3.org/2000/svg\" height=\"24px\"viewBox=\"0 0 24 24\"\n",
              "       width=\"24px\">\n",
              "    <path d=\"M0 0h24v24H0V0z\" fill=\"none\"/>\n",
              "    <path d=\"M18.56 5.44l.94 2.06.94-2.06 2.06-.94-2.06-.94-.94-2.06-.94 2.06-2.06.94zm-11 1L8.5 8.5l.94-2.06 2.06-.94-2.06-.94L8.5 2.5l-.94 2.06-2.06.94zm10 10l.94 2.06.94-2.06 2.06-.94-2.06-.94-.94-2.06-.94 2.06-2.06.94z\"/><path d=\"M17.41 7.96l-1.37-1.37c-.4-.4-.92-.59-1.43-.59-.52 0-1.04.2-1.43.59L10.3 9.45l-7.72 7.72c-.78.78-.78 2.05 0 2.83L4 21.41c.39.39.9.59 1.41.59.51 0 1.02-.2 1.41-.59l7.78-7.78 2.81-2.81c.8-.78.8-2.07 0-2.86zM5.41 20L4 18.59l7.72-7.72 1.47 1.35L5.41 20z\"/>\n",
              "  </svg>\n",
              "      </button>\n",
              "      \n",
              "  <style>\n",
              "    .colab-df-container {\n",
              "      display:flex;\n",
              "      flex-wrap:wrap;\n",
              "      gap: 12px;\n",
              "    }\n",
              "\n",
              "    .colab-df-convert {\n",
              "      background-color: #E8F0FE;\n",
              "      border: none;\n",
              "      border-radius: 50%;\n",
              "      cursor: pointer;\n",
              "      display: none;\n",
              "      fill: #1967D2;\n",
              "      height: 32px;\n",
              "      padding: 0 0 0 0;\n",
              "      width: 32px;\n",
              "    }\n",
              "\n",
              "    .colab-df-convert:hover {\n",
              "      background-color: #E2EBFA;\n",
              "      box-shadow: 0px 1px 2px rgba(60, 64, 67, 0.3), 0px 1px 3px 1px rgba(60, 64, 67, 0.15);\n",
              "      fill: #174EA6;\n",
              "    }\n",
              "\n",
              "    [theme=dark] .colab-df-convert {\n",
              "      background-color: #3B4455;\n",
              "      fill: #D2E3FC;\n",
              "    }\n",
              "\n",
              "    [theme=dark] .colab-df-convert:hover {\n",
              "      background-color: #434B5C;\n",
              "      box-shadow: 0px 1px 3px 1px rgba(0, 0, 0, 0.15);\n",
              "      filter: drop-shadow(0px 1px 2px rgba(0, 0, 0, 0.3));\n",
              "      fill: #FFFFFF;\n",
              "    }\n",
              "  </style>\n",
              "\n",
              "      <script>\n",
              "        const buttonEl =\n",
              "          document.querySelector('#df-bf13df94-6d74-4018-b9b2-81b247d43ebe button.colab-df-convert');\n",
              "        buttonEl.style.display =\n",
              "          google.colab.kernel.accessAllowed ? 'block' : 'none';\n",
              "\n",
              "        async function convertToInteractive(key) {\n",
              "          const element = document.querySelector('#df-bf13df94-6d74-4018-b9b2-81b247d43ebe');\n",
              "          const dataTable =\n",
              "            await google.colab.kernel.invokeFunction('convertToInteractive',\n",
              "                                                     [key], {});\n",
              "          if (!dataTable) return;\n",
              "\n",
              "          const docLinkHtml = 'Like what you see? Visit the ' +\n",
              "            '<a target=\"_blank\" href=https://colab.research.google.com/notebooks/data_table.ipynb>data table notebook</a>'\n",
              "            + ' to learn more about interactive tables.';\n",
              "          element.innerHTML = '';\n",
              "          dataTable['output_type'] = 'display_data';\n",
              "          await google.colab.output.renderOutput(dataTable, element);\n",
              "          const docLink = document.createElement('div');\n",
              "          docLink.innerHTML = docLinkHtml;\n",
              "          element.appendChild(docLink);\n",
              "        }\n",
              "      </script>\n",
              "    </div>\n",
              "  </div>\n",
              "  "
            ]
          },
          "metadata": {},
          "execution_count": 10
        }
      ]
    },
    {
      "cell_type": "markdown",
      "source": [
        "### Tokenization, lemmatization and remove stopwords"
      ],
      "metadata": {
        "id": "yzXju_EaUag4"
      }
    },
    {
      "cell_type": "code",
      "source": [
        "# Define stop words\n",
        "def stopwrds():\n",
        "  mywords=frozenset(['not', 'no', 'didnt','cannot', 'couldnt', 'never'])\n",
        "  stopw = ENGLISH_STOP_WORDS.union(['br'])\n",
        "  stopw = stopw.difference(mywords)\n",
        "  return list(stopw)"
      ],
      "metadata": {
        "id": "cwTSmKJOUuid"
      },
      "execution_count": 11,
      "outputs": []
    },
    {
      "cell_type": "code",
      "source": [
        "def process_data(data):\n",
        "  tokenizer = RegexpTokenizer(r'\\w+')\n",
        "  wnl = WordNetLemmatizer()\n",
        "\n",
        "\n",
        "  # Tokenize\n",
        "  print(\"\\nTokenization\")\n",
        "  reviews=[]\n",
        "  for i in range(len(data)):\n",
        "    reviews.append(tokenizer.tokenize(data.iloc[i]))\n",
        "    \n",
        "  # Removing stop words\n",
        "  print(\"Removing stop words\")\n",
        "  reviews_stop=[]\n",
        "  for i in range(len(reviews)):\n",
        "    reviews_stop.append([word for word in reviews[i] if not word in stopwrds()])\n",
        "\n",
        "  # Lemmatize\n",
        "  print(\"Lemmatizing\")\n",
        "  reviews=[]\n",
        "  for i in range(len(reviews_stop)):\n",
        "    reviews.append([wnl.lemmatize(x) for x in reviews_stop[i]])\n",
        "  return reviews"
      ],
      "metadata": {
        "id": "9xQWwaMJUvhw"
      },
      "execution_count": 12,
      "outputs": []
    },
    {
      "cell_type": "markdown",
      "metadata": {
        "id": "xJUie5ugE0pT"
      },
      "source": [
        "### GloVe"
      ]
    },
    {
      "cell_type": "markdown",
      "metadata": {
        "id": "Q-uRJpHyISAg"
      },
      "source": [
        "Transform GLOVe embeddings to Word2Vec format"
      ]
    },
    {
      "cell_type": "code",
      "execution_count": 13,
      "metadata": {
        "colab": {
          "base_uri": "https://localhost:8080/"
        },
        "id": "Gvkrfqn0xei-",
        "outputId": "2533d645-e160-4ad1-9781-bf07818715d6"
      },
      "outputs": [
        {
          "output_type": "execute_result",
          "data": {
            "text/plain": [
              "(400000, 300)"
            ]
          },
          "metadata": {},
          "execution_count": 13
        }
      ],
      "source": [
        "from gensim.scripts.glove2word2vec import glove2word2vec\n",
        "\n",
        "glove_input_file = 'glove.6B.300d.txt'\n",
        "w2v_output_file = 'glv_with_w2v_format.txt'\n",
        "\n",
        "glove2word2vec(glove_input_file, w2v_output_file)"
      ]
    },
    {
      "cell_type": "markdown",
      "metadata": {
        "id": "0VOhCxwpItH9"
      },
      "source": [
        "Create a map with words as keys and vectors as values \n"
      ]
    },
    {
      "cell_type": "code",
      "execution_count": 14,
      "metadata": {
        "id": "vPVU7l9RF1BR"
      },
      "outputs": [],
      "source": [
        "with open(w2v_output_file, 'r', encoding='UTF-8') as f:\n",
        "  words = set()\n",
        "  word_to_vec_map = {}\n",
        "  for line in f:\n",
        "    w_line = line.split()\n",
        "    curr_word = w_line[0]\n",
        "    word_to_vec_map[curr_word] = np.array(w_line[1:], dtype=np.float32)"
      ]
    },
    {
      "cell_type": "markdown",
      "metadata": {
        "id": "iqWuOqn3I3JL"
      },
      "source": [
        "Find the mean word vector for each review. "
      ]
    },
    {
      "cell_type": "code",
      "execution_count": 15,
      "metadata": {
        "id": "m5w96nad0wGD"
      },
      "outputs": [],
      "source": [
        "# Embeddings\n",
        "embed_vector_len = word_to_vec_map['moon'].shape[0]\n",
        "\n",
        "def get_embeddings(reviews):\n",
        "  embeddings=np.zeros((len(reviews), embed_vector_len), dtype=np.float32)\n",
        "  for i in range(len(reviews)):\n",
        "    z=np.zeros(embed_vector_len)\n",
        "    exist=0\n",
        "    for word in reviews[i]:\n",
        "      if word in word_to_vec_map.keys():\n",
        "        z= z + word_to_vec_map.get(word)\n",
        "        exist += 1\n",
        "    if exist!=0:\n",
        "      embeddings[i]= z/exist\n",
        "    else:\n",
        "      embeddings[i]= z\n",
        "\n",
        "  print(\"Matrix shape: \", embeddings.shape)\n",
        "  return embeddings\n"
      ]
    },
    {
      "cell_type": "markdown",
      "metadata": {
        "id": "WaY5RUu-ESaO"
      },
      "source": [
        "### Split data to validation and train sets"
      ]
    },
    {
      "cell_type": "code",
      "execution_count": 16,
      "metadata": {
        "id": "BkDVW0CqxBhQ"
      },
      "outputs": [],
      "source": [
        "X_train, X_val, y_train, y_val = train_test_split(train_df['review'], train_df['sentiment'], test_size=0.2)\n"
      ]
    },
    {
      "cell_type": "markdown",
      "source": [
        "### Perform cleaning and create word vectors"
      ],
      "metadata": {
        "id": "6vZumtanNRDz"
      }
    },
    {
      "cell_type": "code",
      "source": [
        "#Train set\n",
        "X_train=process_data(X_train)\n",
        "X_train=get_embeddings(X_train)\n",
        "\n",
        "#Validation set\n",
        "X_val=process_data(X_val)\n",
        "X_val=get_embeddings(X_val)\n",
        "\n",
        "#Test set\n",
        "if not (test_df.empty):\n",
        "  X_test=process_data(test_df['review'])\n",
        "  X_test=get_embeddings(X_test)\n"
      ],
      "metadata": {
        "colab": {
          "base_uri": "https://localhost:8080/"
        },
        "id": "nolfoETMXY_f",
        "outputId": "4c42ea1b-be8a-4d63-8d5e-b4be191d0d3e"
      },
      "execution_count": 17,
      "outputs": [
        {
          "output_type": "stream",
          "name": "stdout",
          "text": [
            "\n",
            "Tokenization\n",
            "Removing stop words\n",
            "Lemmatizing\n",
            "Matrix shape:  (36006, 300)\n",
            "\n",
            "Tokenization\n",
            "Removing stop words\n",
            "Lemmatizing\n",
            "Matrix shape:  (9002, 300)\n",
            "\n",
            "Tokenization\n",
            "Removing stop words\n",
            "Lemmatizing\n",
            "Matrix shape:  (5401, 300)\n"
          ]
        }
      ]
    },
    {
      "cell_type": "markdown",
      "source": [
        "### Convert to tensor"
      ],
      "metadata": {
        "id": "nHGnZqC0xZzR"
      }
    },
    {
      "cell_type": "code",
      "source": [
        "#x = torch.tensor(np.asarray(X_train), dtype=torch.float32)\n",
        "# Train\n",
        "X = torch.from_numpy(X_train)\n",
        "y = torch.tensor(y_train.to_numpy())\n",
        "\n",
        "print(f\"X train shape: {X.shape}\")\n",
        "print(f\"y train shape: {y.shape}\")\n",
        "\n",
        "# Validation\n",
        "#x_test = torch.tensor(np.asarray(X_val), dtype=torch.float)\n",
        "Xval = torch.from_numpy(X_val)\n",
        "yval = torch.tensor(y_val.to_numpy())#y_val.to_numpy().reshape(y_val.shape[0], 1), dtype=torch.float32\n",
        "\n",
        "print(f\"X val shape: {Xval.shape}\")\n",
        "print(f\"y val shape: {yval.shape}\")\n",
        "\n",
        "# Test\n",
        "Xtest = torch.from_numpy(X_test)\n",
        "ytest = torch.tensor(test_df['sentiment'].to_numpy())\n",
        "\n",
        "print(f\"X test shape: {Xtest.shape}\")\n",
        "print(f\"y test shape: {ytest.shape}\")\n"
      ],
      "metadata": {
        "colab": {
          "base_uri": "https://localhost:8080/"
        },
        "id": "wuM8UZB9xeCd",
        "outputId": "89ee5690-5873-40b1-cd42-087b7af1e0a1"
      },
      "execution_count": 18,
      "outputs": [
        {
          "output_type": "stream",
          "name": "stdout",
          "text": [
            "X train shape: torch.Size([36006, 300])\n",
            "y train shape: torch.Size([36006])\n",
            "X val shape: torch.Size([9002, 300])\n",
            "y val shape: torch.Size([9002])\n",
            "X test shape: torch.Size([5401, 300])\n",
            "y test shape: torch.Size([5401])\n"
          ]
        }
      ]
    },
    {
      "cell_type": "markdown",
      "metadata": {
        "id": "U0UQxP45ydgI"
      },
      "source": [
        "## Training, evaluation and testing"
      ]
    },
    {
      "cell_type": "markdown",
      "source": [
        "### Define training and evaluation procedure"
      ],
      "metadata": {
        "id": "S8OkXWqkOHtW"
      }
    },
    {
      "cell_type": "code",
      "source": [
        "def train(epochs, dataloader, model, loss_fn, optimizer):\n",
        "\n",
        "  train_metrics=[[],[],[],[]]   # Loss, f1, precision, recall \n",
        "  valid_metrics=[[],[],[],[]]\n",
        "\n",
        "  for epoch in range(epochs):\n",
        "\n",
        "    # TRAIN\n",
        "    model.train()         # Train mode\n",
        "    loss_sum=0 ; f1=0; pr=0; rc=0\n",
        "    for x_batch, y_batch in dataloader:\n",
        "      # Predict\n",
        "      y_pred = model(x_batch)\n",
        "\n",
        "      # Compute loss and metrics\n",
        "      loss = loss_fn(y_pred, y_batch)\n",
        "\n",
        "      loss_sum +=loss.item()\n",
        "      _, y_pred = torch.max(y_pred, 1)\n",
        "      f1 += f1_score(y_batch, y_pred, average='weighted')\n",
        "      pr += precision_score(y_batch, y_pred, average='weighted')\n",
        "      rc += recall_score(y_batch, y_pred, average='weighted')\n",
        "\n",
        "      # Backpropagation\n",
        "      optimizer.zero_grad()\n",
        "      loss.backward()\n",
        "      optimizer.step()\n",
        "\n",
        "    train_metrics[0].append(loss_sum/len(dataloader))\n",
        "    train_metrics[1].append(f1/len(dataloader))\n",
        "    train_metrics[2].append(pr/len(dataloader))\n",
        "    train_metrics[3].append(rc/len(dataloader))\n",
        "\n",
        "    # VALIDATION\n",
        "    with torch.no_grad():\n",
        "      model.eval()        # Evaluation mode\n",
        "      # Predict\n",
        "      y_pred_val = model(Xval)\n",
        "\n",
        "      # Loss and metrics\n",
        "      val_loss = loss_fn(y_pred_val, yval)\n",
        "      valid_metrics[0].append(val_loss.item())\n",
        "\n",
        "      _, y_pred_val = torch.max(y_pred_val, 1)\n",
        "      valid_metrics[1].append(f1_score(yval, y_pred_val, average='weighted'))\n",
        "      valid_metrics[2].append(precision_score(yval, y_pred_val, average='weighted'))\n",
        "      valid_metrics[3].append(recall_score(yval, y_pred_val, average='weighted'))\n",
        "\n",
        "      print(f\"Epoch {epoch} TRAIN Loss: {train_metrics[0][-1]} F1-score: {train_metrics[1][-1]} Precision: {train_metrics[2][-1]} Recall: {train_metrics[3][-1]}\")\n",
        "      print(f\"\\tTEST Loss: {valid_metrics[0][-1]} F1-score: {valid_metrics[1][-1]} Precision: {valid_metrics[2][-1]} Recall: {valid_metrics[3][-1]}\")\n",
        "\n",
        "  return train_metrics, valid_metrics\n"
      ],
      "metadata": {
        "id": "kOmTmc2Fb8Kk"
      },
      "execution_count": 108,
      "outputs": []
    },
    {
      "cell_type": "markdown",
      "source": [
        "### Define testing procedure"
      ],
      "metadata": {
        "id": "qpTxNCpOjqOa"
      }
    },
    {
      "cell_type": "code",
      "source": [
        "from nltk.metrics.scores import accuracy\n",
        "def test(model, Xtest, ytest):\n",
        "   with torch.no_grad():\n",
        "      model.eval()        # Evaluation mode\n",
        "      #Predict\n",
        "      y_pred = model(Xtest)\n",
        "      _, y_pred = torch.max(y_pred, 1)\n",
        "\n",
        "      # Calculate metrics\n",
        "      print(\"F1 score: \", f1_score(ytest, y_pred, average='weighted'))\n",
        "      print(\"precision score: \", precision_score(ytest, y_pred, average='weighted'))\n",
        "      print(\"recall score: \", recall_score(ytest, y_pred, average='weighted'))\n",
        "      print(\"Accuracy: \", accuracy_score(ytest, y_pred))\n",
        "\n",
        "      disp = ConfusionMatrixDisplay(confusion_matrix(ytest, y_pred), display_labels=['negative', 'positive'])\n",
        "      disp.plot()\n",
        "      plt.show()\n",
        "      "
      ],
      "metadata": {
        "id": "EQwC4ELtjnwT"
      },
      "execution_count": 58,
      "outputs": []
    },
    {
      "cell_type": "markdown",
      "source": [
        "### Define functions for plotting"
      ],
      "metadata": {
        "id": "9U1ULF9XjiYI"
      }
    },
    {
      "cell_type": "code",
      "source": [
        "def plot_metric(metric, figure, list_x, valid_metric, train_metric):\n",
        "  plt.subplot(1, 4, figure)\n",
        "  plt.plot(list_x, valid_metric, label = \"Validation\")\n",
        "  plt.plot(list_x, train_metric, label = \"Training\")\n",
        "  plt.legend()\n",
        "  plt.ylabel(metric)\n",
        "  plt.xlabel(\"epochs\")\n",
        "\n",
        "def plot_metrics(epochs, valid_metric, train_metric):\n",
        "  plt.figure(figsize=(20, 5))\n",
        "\n",
        "  list_x = [x for x in range(epochs)] \n",
        "\n",
        "  plot_metric(\"Loss\", 1, list_x, valid_metric[0], train_metric[0])\n",
        "  plot_metric(\"F1-score\", 2, list_x, valid_metric[1], train_metric[1])\n",
        "  plot_metric(\"Precision\", 3, list_x, valid_metric[2], train_metric[2])\n",
        "  plot_metric(\"Recall\", 4, list_x, valid_metric[3], train_metric[3])\n",
        "\n",
        "def plot_roc(model, Xtrain, ytrain, Xval, yval):\n",
        "  #Train\n",
        "  y_pred = model(Xtrain)\n",
        "  _, y_pred = torch.max(y_pred, 1)\n",
        "  fpr1, tpr1, thresholds = roc_curve(ytrain, y_pred)\n",
        "  roc_auc1 = auc(fpr1, tpr1)\n",
        "  #Validation\n",
        "  y_pred = model(Xval)\n",
        "  _, y_pred = torch.max(y_pred, 1)\n",
        "  fpr2, tpr2, thresholds = roc_curve(yval, y_pred)\n",
        "  roc_auc2 = auc(fpr2, tpr2)\n",
        "\n",
        "  plt.figure()\n",
        "  plt.plot(fpr1,tpr1, label=\"Train (AUC = {0:0.4f})\".format(roc_auc1))\n",
        "  plt.plot(fpr2,tpr2, label=\"Validation (AUC = {0:0.4f})\".format(roc_auc2))\n",
        "  plt.xlim([0.0, 1.0])\n",
        "  plt.ylim([0.0, 1.0])\n",
        "  plt.xlabel(\"False Positive Rate\")\n",
        "  plt.ylabel(\"True Positive Rate\")\n",
        "  plt.legend(loc=\"lower right\")\n",
        "  plt.show()\n"
      ],
      "metadata": {
        "id": "jqlAgl_aaSLK"
      },
      "execution_count": 277,
      "outputs": []
    },
    {
      "cell_type": "markdown",
      "source": [
        "## Create various models and trying different parameters"
      ],
      "metadata": {
        "id": "TdRnZKffOCGm"
      }
    },
    {
      "cell_type": "markdown",
      "source": [
        "### Model 1\n",
        "**My best model**"
      ],
      "metadata": {
        "id": "mNZMQG63khX3"
      }
    },
    {
      "cell_type": "markdown",
      "source": [
        "Network"
      ],
      "metadata": {
        "id": "U3lYdF31lEEb"
      }
    },
    {
      "cell_type": "code",
      "execution_count": 351,
      "metadata": {
        "id": "iFY_pTZGyitJ"
      },
      "outputs": [],
      "source": [
        "class Model_1(nn.Module):\n",
        "  def __init__(self, D_in, H1, H2, D_out):\n",
        "    super(Model_1, self).__init__()\n",
        "\n",
        "    self.linear1 = nn.Linear(D_in, H1)\n",
        "    self.linear2 = nn.Linear(H1, H2)\n",
        "    self.linear3 = nn.Linear(H2, D_out)\n",
        "    \n",
        "    self.dropout = nn.Dropout(p=0.7)\n",
        "    self.activation = nn.ReLU()\n",
        "  def forward(self, x):\n",
        "    h1 = self.dropout(self.activation(self.linear1(x)))\n",
        "    h2 = self.dropout(self.activation(self.linear2(h1)))\n",
        "    out = self.linear3(h2)\n",
        "\n",
        "    return out"
      ]
    },
    {
      "cell_type": "markdown",
      "source": [
        "Parameters"
      ],
      "metadata": {
        "id": "4osvvDb0lGWp"
      }
    },
    {
      "cell_type": "code",
      "execution_count": 352,
      "metadata": {
        "id": "HKV4B7g-ylTh"
      },
      "outputs": [],
      "source": [
        "#Define layer sizes\n",
        "D_in = embed_vector_len\n",
        "H1 = 256\n",
        "H2 = 128\n",
        "D_out = 2\n",
        "\n",
        "#Define Hyperparameters\n",
        "learning_rate = 1e-3\n",
        "\n",
        "#Define batch_size\n",
        "batch_size=1024\n",
        "\n",
        "#Initialise model, loss, optimizer\n",
        "model = Model_1(D_in, H1, H2, D_out)\n",
        "\n",
        "loss_func = nn.CrossEntropyLoss()\n",
        "optimizer = torch.optim.Adam(model.parameters(), lr=learning_rate)\n",
        "\n",
        "\n",
        "#Initialise dataloader\n",
        "\n",
        "train_dataset = torch.utils.data.TensorDataset(X, y)\n",
        "train_dataloader = torch.utils.data.DataLoader(train_dataset, batch_size=batch_size)"
      ]
    },
    {
      "cell_type": "markdown",
      "source": [
        "Training"
      ],
      "metadata": {
        "id": "zHuVX7vmlPOG"
      }
    },
    {
      "cell_type": "code",
      "source": [
        "train_scores, valid_scores = train(30, train_dataloader, model, loss_func, optimizer)"
      ],
      "metadata": {
        "colab": {
          "base_uri": "https://localhost:8080/"
        },
        "id": "ESOUcrrTwaAY",
        "outputId": "d6a6d512-65e3-412e-a246-dbef1f05ec53"
      },
      "execution_count": 353,
      "outputs": [
        {
          "output_type": "stream",
          "name": "stdout",
          "text": [
            "Epoch 0 TRAIN Loss: 0.6141745497783025 F1-score: 0.66081761057332 Precision: 0.6711155137384585 Recall: 0.6668679928045516\n",
            "\tTEST Loss: 0.472210168838501 F1-score: 0.7799365160922677 Precision: 0.7820269184942527 Recall: 0.7802710508775828\n",
            "Epoch 1 TRAIN Loss: 0.4574744916624493 F1-score: 0.7919004087575128 Precision: 0.7927956290465165 Recall: 0.7920627823795181\n",
            "\tTEST Loss: 0.40059566497802734 F1-score: 0.8228672973585435 Precision: 0.8233940026157397 Recall: 0.8229282381692957\n",
            "Epoch 2 TRAIN Loss: 0.4159342323740323 F1-score: 0.8156772044736216 Precision: 0.8162085878519262 Recall: 0.8157489985985609\n",
            "\tTEST Loss: 0.38545089960098267 F1-score: 0.8288082669876216 Precision: 0.8298708006397099 Recall: 0.8289269051321928\n",
            "Epoch 3 TRAIN Loss: 0.40736855649285847 F1-score: 0.8216682250914592 Precision: 0.8222380924692461 Recall: 0.8217440072791165\n",
            "\tTEST Loss: 0.3796629309654236 F1-score: 0.8324197977908722 Precision: 0.8329951595400478 Recall: 0.8324816707398356\n",
            "Epoch 4 TRAIN Loss: 0.3996478319168091 F1-score: 0.8253635027823437 Precision: 0.8259099137565058 Recall: 0.8254244190302878\n",
            "\tTEST Loss: 0.3754277229309082 F1-score: 0.8351475171024324 Precision: 0.8351486084188472 Recall: 0.8351477449455676\n",
            "Epoch 5 TRAIN Loss: 0.3956250424186389 F1-score: 0.824921444945541 Precision: 0.8253043228664726 Recall: 0.8249675132822959\n",
            "\tTEST Loss: 0.37285009026527405 F1-score: 0.8351475171024324 Precision: 0.8351486084188472 Recall: 0.8351477449455676\n",
            "Epoch 6 TRAIN Loss: 0.39320528424448437 F1-score: 0.8278874185969254 Precision: 0.8284624958406073 Recall: 0.8279606054426037\n",
            "\tTEST Loss: 0.37086209654808044 F1-score: 0.8365755515450267 Precision: 0.8367378755051189 Recall: 0.8365918684736725\n",
            "Epoch 7 TRAIN Loss: 0.388824049797323 F1-score: 0.8295103965544344 Precision: 0.8300220840521467 Recall: 0.8295748096552878\n",
            "\tTEST Loss: 0.369311660528183 F1-score: 0.837478524250237 Precision: 0.8375018096887833 Recall: 0.8374805598755832\n",
            "Epoch 8 TRAIN Loss: 0.3869285268916024 F1-score: 0.8309651854067961 Precision: 0.8312841316569466 Recall: 0.8310171022632196\n",
            "\tTEST Loss: 0.3691212236881256 F1-score: 0.8370022395319076 Precision: 0.8373339528403464 Recall: 0.8370362141746278\n",
            "Epoch 9 TRAIN Loss: 0.38603108790185714 F1-score: 0.8307174484567157 Precision: 0.8312851616657366 Recall: 0.8308043371402276\n",
            "\tTEST Loss: 0.3691771924495697 F1-score: 0.8381942069154286 Precision: 0.8388164679533912 Recall: 0.838258164852255\n",
            "Epoch 10 TRAIN Loss: 0.3844694486922688 F1-score: 0.8318562096438847 Precision: 0.8325022612948288 Recall: 0.831948562479083\n",
            "\tTEST Loss: 0.36922621726989746 F1-score: 0.8382910380026147 Precision: 0.8390501641206022 Recall: 0.8383692512774938\n",
            "Epoch 11 TRAIN Loss: 0.3830447511540519 F1-score: 0.8318153067531696 Precision: 0.8323813137552343 Recall: 0.8319122845548862\n",
            "\tTEST Loss: 0.3653547167778015 F1-score: 0.8405852611279302 Precision: 0.8406469550132083 Recall: 0.8405909797822706\n",
            "Epoch 12 TRAIN Loss: 0.3788819900817341 F1-score: 0.8366773264236307 Precision: 0.837071311799018 Recall: 0.8367365948167671\n",
            "\tTEST Loss: 0.36563053727149963 F1-score: 0.8377705776538288 Precision: 0.83819300806617 Recall: 0.8378138191512997\n",
            "Epoch 13 TRAIN Loss: 0.37958893593814635 F1-score: 0.8356276077587367 Precision: 0.8361169819205793 Recall: 0.835701203250502\n",
            "\tTEST Loss: 0.362784206867218 F1-score: 0.8402577205065541 Precision: 0.8402584670707942 Recall: 0.8402577205065541\n",
            "Epoch 14 TRAIN Loss: 0.37705420123206246 F1-score: 0.8368778206768638 Precision: 0.837278995220593 Recall: 0.8369127551874163\n",
            "\tTEST Loss: 0.36171919107437134 F1-score: 0.8430348675786649 Precision: 0.8430358735355484 Recall: 0.843034881137525\n",
            "Epoch 15 TRAIN Loss: 0.37564505719476277 F1-score: 0.8371516897690596 Precision: 0.8376575002142397 Recall: 0.8372294516608099\n",
            "\tTEST Loss: 0.36365798115730286 F1-score: 0.8407641165787588 Precision: 0.8412535543665531 Recall: 0.8408131526327483\n",
            "Epoch 16 TRAIN Loss: 0.3744877932800187 F1-score: 0.8373334944476181 Precision: 0.8378567590294169 Recall: 0.8374098607973561\n",
            "\tTEST Loss: 0.36259934306144714 F1-score: 0.8406999431551531 Precision: 0.840724711880699 Recall: 0.8407020662075094\n",
            "Epoch 17 TRAIN Loss: 0.3739048168063164 F1-score: 0.839294723130232 Precision: 0.8396018630900515 Recall: 0.8393316102953481\n",
            "\tTEST Loss: 0.3606783449649811 F1-score: 0.8421461760999878 Precision: 0.842147180905375 Recall: 0.8421461897356143\n",
            "Epoch 18 TRAIN Loss: 0.37373452219698167 F1-score: 0.8384967630659538 Precision: 0.838938522115412 Recall: 0.8385449349481259\n",
            "\tTEST Loss: 0.36067962646484375 F1-score: 0.8422509690283243 Precision: 0.8423195063799273 Recall: 0.8422572761608531\n",
            "Epoch 19 TRAIN Loss: 0.37208357122209335 F1-score: 0.8416200555268554 Precision: 0.8420996203100453 Recall: 0.8416739876171353\n",
            "\tTEST Loss: 0.3609505295753479 F1-score: 0.8418959397872038 Precision: 0.8421824215081383 Recall: 0.8419240168851366\n",
            "Epoch 20 TRAIN Loss: 0.37135226610634064 F1-score: 0.8400981302450743 Precision: 0.8406152303578672 Recall: 0.8401722122866465\n",
            "\tTEST Loss: 0.3591699004173279 F1-score: 0.8441440317393968 Precision: 0.8441650070318578 Recall: 0.8441457453899134\n",
            "Epoch 21 TRAIN Loss: 0.3696615919470787 F1-score: 0.842928459308921 Precision: 0.8434065868924501 Recall: 0.8429894709044512\n",
            "\tTEST Loss: 0.35840368270874023 F1-score: 0.8448058387196539 Precision: 0.8448770086733844 Recall: 0.8448122639413463\n",
            "Epoch 22 TRAIN Loss: 0.36630769239531624 F1-score: 0.8415920153456138 Precision: 0.8419860604878289 Recall: 0.8416465340528781\n",
            "\tTEST Loss: 0.3599499762058258 F1-score: 0.8447474191387452 Precision: 0.8454127442037966 Recall: 0.8448122639413463\n",
            "Epoch 23 TRAIN Loss: 0.3693417443169488 F1-score: 0.8407533852762374 Precision: 0.8415545358990763 Recall: 0.8408595318775101\n",
            "\tTEST Loss: 0.3590366244316101 F1-score: 0.8440118064397678 Precision: 0.8442503921216193 Recall: 0.8440346589646746\n",
            "Epoch 24 TRAIN Loss: 0.36707285046577454 F1-score: 0.8405478249322643 Precision: 0.8410210186480419 Recall: 0.8406019912985274\n",
            "\tTEST Loss: 0.35778337717056274 F1-score: 0.8463559557750957 Precision: 0.846481524117681 Recall: 0.84636747389469\n",
            "Epoch 25 TRAIN Loss: 0.36640694985787076 F1-score: 0.8438830660283786 Precision: 0.8445551176713375 Recall: 0.8439702821703481\n",
            "\tTEST Loss: 0.35691866278648376 F1-score: 0.8469187501193596 Precision: 0.8469668551728106 Recall: 0.8469229060208843\n",
            "Epoch 26 TRAIN Loss: 0.36673719270361793 F1-score: 0.8451133114482747 Precision: 0.8458183298826927 Recall: 0.845191312123494\n",
            "\tTEST Loss: 0.35643672943115234 F1-score: 0.8458019187429254 Precision: 0.8459123971612232 Recall: 0.8458120417684959\n",
            "Epoch 27 TRAIN Loss: 0.361527884999911 F1-score: 0.8446505355656582 Precision: 0.8453397525016156 Recall: 0.8447210064215195\n",
            "\tTEST Loss: 0.35627469420433044 F1-score: 0.8470886204100404 Precision: 0.8476371695006111 Recall: 0.8471450788713619\n",
            "Epoch 28 TRAIN Loss: 0.36144205762280357 F1-score: 0.846692511028728 Precision: 0.8472262540557473 Recall: 0.8467372092536815\n",
            "\tTEST Loss: 0.35482150316238403 F1-score: 0.847033820671672 Precision: 0.8470371818796969 Recall: 0.8470339924461231\n",
            "Epoch 29 TRAIN Loss: 0.3592020629180802 F1-score: 0.846200974664045 Precision: 0.8469663508303396 Recall: 0.8462629816139559\n",
            "\tTEST Loss: 0.3547055423259735 F1-score: 0.8473602598138676 Precision: 0.8474389427451541 Recall: 0.8473672517218396\n"
          ]
        }
      ]
    },
    {
      "cell_type": "markdown",
      "source": [
        "Plots"
      ],
      "metadata": {
        "id": "BktG-Zg2nr6z"
      }
    },
    {
      "cell_type": "code",
      "source": [
        "plot_metrics(30, valid_scores, train_scores)\n",
        "plot_roc(model, X, y, Xval, yval)"
      ],
      "metadata": {
        "colab": {
          "base_uri": "https://localhost:8080/",
          "height": 552
        },
        "id": "-eyLmqt0nufd",
        "outputId": "f022c99b-bf7a-420a-c936-ddef167121a9"
      },
      "execution_count": 355,
      "outputs": [
        {
          "output_type": "display_data",
          "data": {
            "text/plain": [
              "<Figure size 1440x360 with 4 Axes>"
            ],
            "image/png": "[encoded data removed]"
          },
          "metadata": {
            "needs_background": "light"
          }
        },
        {
          "output_type": "display_data",
          "data": {
            "text/plain": [
              "<Figure size 432x288 with 1 Axes>"
            ],
            "image/png": "[encoded data removed]"
          },
          "metadata": {
            "needs_background": "light"
          }
        }
      ]
    },
    {
      "cell_type": "markdown",
      "source": [
        "Testing"
      ],
      "metadata": {
        "id": "pYL3lIu-lRiB"
      }
    },
    {
      "cell_type": "code",
      "source": [
        "test(model, Xval, yval)"
      ],
      "metadata": {
        "colab": {
          "base_uri": "https://localhost:8080/",
          "height": 351
        },
        "id": "9FRSG4mvkgMZ",
        "outputId": "a9c22725-35d7-430a-f971-e982bf9491ec"
      },
      "execution_count": 358,
      "outputs": [
        {
          "output_type": "stream",
          "name": "stdout",
          "text": [
            "F1 score:  0.8473602598138676\n",
            "precision score:  0.8474389427451541\n",
            "recall score:  0.8473672517218396\n",
            "Accuracy:  0.8473672517218396\n"
          ]
        },
        {
          "output_type": "display_data",
          "data": {
            "text/plain": [
              "<Figure size 432x288 with 2 Axes>"
            ],
            "image/png": "[encoded data removed]"
          },
          "metadata": {
            "needs_background": "light"
          }
        }
      ]
    },
    {
      "cell_type": "code",
      "source": [
        "# Here you can see scores for test set you provided\n",
        "test(model, Xtest, ytest)"
      ],
      "metadata": {
        "colab": {
          "base_uri": "https://localhost:8080/",
          "height": 351
        },
        "id": "zumbZ8XG9pJq",
        "outputId": "54d98322-a51d-4c8a-96a8-60a3916c3d21"
      },
      "execution_count": 278,
      "outputs": [
        {
          "output_type": "stream",
          "name": "stdout",
          "text": [
            "F1 score:  0.8594729254185509\n",
            "precision score:  0.8594924122159503\n",
            "recall score:  0.8594704684317719\n",
            "Accuracy:  0.8594704684317719\n"
          ]
        },
        {
          "output_type": "display_data",
          "data": {
            "text/plain": [
              "<Figure size 432x288 with 2 Axes>"
            ],
            "image/png": "[encoded data removed]"
          },
          "metadata": {
            "needs_background": "light"
          }
        }
      ]
    },
    {
      "cell_type": "markdown",
      "source": [
        "### Model 2 \n",
        "*Changing number of layers and removing Dropout* "
      ],
      "metadata": {
        "id": "ChDa049i5BTU"
      }
    },
    {
      "cell_type": "markdown",
      "source": [
        "Network"
      ],
      "metadata": {
        "id": "eumxDK8X77-V"
      }
    },
    {
      "cell_type": "code",
      "execution_count": 281,
      "metadata": {
        "id": "rKXCNkfF77-V"
      },
      "outputs": [],
      "source": [
        "class Model_2(nn.Module):\n",
        "  def __init__(self, D_in, H1, D_out):\n",
        "    super(Model_2, self).__init__()\n",
        "\n",
        "    self.linear1 = nn.Linear(D_in, H1)\n",
        "    self.linear2 = nn.Linear(H1, D_out)\n",
        "    \n",
        "    self.dropout = nn.Dropout(p=0.7)\n",
        "    self.activation = nn.ReLU()\n",
        "\n",
        "  def forward(self, x):\n",
        "    h1 = self.dropout(self.activation(self.linear1(x)))\n",
        "    out = self.linear2(h1)\n",
        "\n",
        "    return out"
      ]
    },
    {
      "cell_type": "markdown",
      "source": [
        "Parameters"
      ],
      "metadata": {
        "id": "Dy0iajq977-W"
      }
    },
    {
      "cell_type": "code",
      "execution_count": 290,
      "metadata": {
        "id": "QH9imZx277-W"
      },
      "outputs": [],
      "source": [
        "#Initialise model, optimizer\n",
        "model = Model_2(D_in, H1, D_out)\n",
        "optimizer = torch.optim.Adam(model.parameters(), lr=learning_rate)\n"
      ]
    },
    {
      "cell_type": "markdown",
      "source": [
        "Training"
      ],
      "metadata": {
        "id": "Z7NzqFqo77-X"
      }
    },
    {
      "cell_type": "code",
      "source": [
        "train_scores, valid_scores = train(30, train_dataloader, model, loss_func, optimizer)"
      ],
      "metadata": {
        "colab": {
          "base_uri": "https://localhost:8080/"
        },
        "outputId": "54586314-28fe-4be7-f2dc-11966888be76",
        "id": "o0vhu76377-X"
      },
      "execution_count": 291,
      "outputs": [
        {
          "output_type": "stream",
          "name": "stdout",
          "text": [
            "Epoch 0 TRAIN Loss: 0.600871205329895 F1-score: 0.6995444423935395 Precision: 0.7077119808119715 Recall: 0.7049585058985943\n",
            "\tTEST Loss: 0.4986576735973358 F1-score: 0.7729292303571464 Precision: 0.7736588769170444 Recall: 0.7730504332370585\n",
            "Epoch 1 TRAIN Loss: 0.4673772114846442 F1-score: 0.7843075312101099 Precision: 0.7849606719278635 Recall: 0.7844310183442101\n",
            "\tTEST Loss: 0.42273783683776855 F1-score: 0.8111491805829708 Precision: 0.8111840446726656 Recall: 0.8111530770939791\n",
            "Epoch 2 TRAIN Loss: 0.42333195358514786 F1-score: 0.8093960419743857 Precision: 0.8097607836338153 Recall: 0.8094647470088687\n",
            "\tTEST Loss: 0.39743104577064514 F1-score: 0.8250214097100048 Precision: 0.8251801122576061 Recall: 0.8250388802488335\n",
            "Epoch 3 TRAIN Loss: 0.40531709293524426 F1-score: 0.8188400295232685 Precision: 0.8192413661722239 Recall: 0.8189002755814926\n",
            "\tTEST Loss: 0.3863345682621002 F1-score: 0.8302441054894466 Precision: 0.8303942999114791 Recall: 0.8302599422350588\n",
            "Epoch 4 TRAIN Loss: 0.3969813080297576 F1-score: 0.8224976576723689 Precision: 0.8228924566482291 Recall: 0.8225623849564926\n",
            "\tTEST Loss: 0.38153645396232605 F1-score: 0.8317544619748054 Precision: 0.8323160888301726 Recall: 0.8318151521884026\n",
            "Epoch 5 TRAIN Loss: 0.39313702864779365 F1-score: 0.8257404712903278 Precision: 0.8261707042997171 Recall: 0.8258130176957832\n",
            "\tTEST Loss: 0.37855908274650574 F1-score: 0.8338900968471544 Precision: 0.8342297754080391 Recall: 0.8339257942679404\n",
            "Epoch 6 TRAIN Loss: 0.3886355890168084 F1-score: 0.8264275515214897 Precision: 0.8267148193692464 Recall: 0.8264777861445783\n",
            "\tTEST Loss: 0.37559351325035095 F1-score: 0.8339069235395034 Precision: 0.8340898518492295 Recall: 0.8339257942679404\n",
            "Epoch 7 TRAIN Loss: 0.38625694976912606 F1-score: 0.8274979750582017 Precision: 0.8277579007479002 Recall: 0.8275445532128515\n",
            "\tTEST Loss: 0.3735640347003937 F1-score: 0.8342493338724297 Precision: 0.8343463734815073 Recall: 0.8342590535436569\n",
            "Epoch 8 TRAIN Loss: 0.383543005420102 F1-score: 0.829561836502416 Precision: 0.8298854024857236 Recall: 0.8296019363913989\n",
            "\tTEST Loss: 0.372058629989624 F1-score: 0.8349064217328028 Precision: 0.8350934163681658 Recall: 0.83492557209509\n",
            "Epoch 9 TRAIN Loss: 0.3816201529569096 F1-score: 0.830861553238551 Precision: 0.831215043046735 Recall: 0.8309219952727577\n",
            "\tTEST Loss: 0.3713670074939728 F1-score: 0.8350163176835367 Precision: 0.8352147106416536 Recall: 0.8350366585203288\n",
            "Epoch 10 TRAIN Loss: 0.3807286818822225 F1-score: 0.8304923887858194 Precision: 0.8307818419407905 Recall: 0.830546796561245\n",
            "\tTEST Loss: 0.36989203095436096 F1-score: 0.8362403895607874 Precision: 0.8364204645824579 Recall: 0.836258609197956\n",
            "Epoch 11 TRAIN Loss: 0.379171173605654 F1-score: 0.8300380714316984 Precision: 0.8303270542274055 Recall: 0.8300764908592704\n",
            "\tTEST Loss: 0.36910280585289 F1-score: 0.836586433877429 Precision: 0.8366434649102688 Recall: 0.8365918684736725\n",
            "Epoch 12 TRAIN Loss: 0.3760000202390883 F1-score: 0.8329495130286344 Precision: 0.833235049595871 Recall: 0.8329927784052878\n",
            "\tTEST Loss: 0.3680616319179535 F1-score: 0.8370246159477484 Precision: 0.8371419783395895 Recall: 0.8370362141746278\n",
            "Epoch 13 TRAIN Loss: 0.3742036935355928 F1-score: 0.8335400070965714 Precision: 0.8338979926423256 Recall: 0.8335941421937751\n",
            "\tTEST Loss: 0.36751168966293335 F1-score: 0.8382335874786616 Precision: 0.8384780191107329 Recall: 0.838258164852255\n",
            "Epoch 14 TRAIN Loss: 0.3739645125137435 F1-score: 0.8333915885033021 Precision: 0.8337169526490285 Recall: 0.8334313817771084\n",
            "\tTEST Loss: 0.3666984736919403 F1-score: 0.8380164188259738 Precision: 0.838212121796892 Recall: 0.8380359920017774\n",
            "Epoch 15 TRAIN Loss: 0.3730761698550648 F1-score: 0.8350075300434779 Precision: 0.8352543295325572 Recall: 0.8350410103957496\n",
            "\tTEST Loss: 0.365568071603775 F1-score: 0.838477005039788 Precision: 0.8385137388895243 Recall: 0.8384803377027328\n",
            "Epoch 16 TRAIN Loss: 0.37160147726535797 F1-score: 0.835266755155216 Precision: 0.835598741416885 Recall: 0.8352985509747323\n",
            "\tTEST Loss: 0.3649672269821167 F1-score: 0.838142870027413 Precision: 0.838188332722273 Recall: 0.8381470784270162\n",
            "Epoch 17 TRAIN Loss: 0.37186908970276517 F1-score: 0.8335666158299961 Precision: 0.8339067997706396 Recall: 0.8336166933358434\n",
            "\tTEST Loss: 0.36424848437309265 F1-score: 0.837694026216088 Precision: 0.8377837708407666 Recall: 0.8377027327260609\n",
            "Epoch 18 TRAIN Loss: 0.371699973113007 F1-score: 0.8361618654752642 Precision: 0.8366377353266574 Recall: 0.8362254355965528\n",
            "\tTEST Loss: 0.36402297019958496 F1-score: 0.8389206761119772 Precision: 0.8389643772511879 Recall: 0.8389246834036881\n",
            "Epoch 19 TRAIN Loss: 0.3683135153518783 F1-score: 0.8365154222515689 Precision: 0.8368895920945031 Recall: 0.8365643563838687\n",
            "\tTEST Loss: 0.3636838495731354 F1-score: 0.8400213021452178 Precision: 0.8401676578421888 Recall: 0.8400355476560765\n",
            "Epoch 20 TRAIN Loss: 0.3686782999171151 F1-score: 0.8374000357912476 Precision: 0.8376985783263794 Recall: 0.8374415631275101\n",
            "\tTEST Loss: 0.36252516508102417 F1-score: 0.8409218519885351 Precision: 0.8409494357645727 Recall: 0.8409242390579871\n",
            "Epoch 21 TRAIN Loss: 0.36759166336721844 F1-score: 0.837748283405035 Precision: 0.8380313955369559 Recall: 0.8377850595088687\n",
            "\tTEST Loss: 0.36199265718460083 F1-score: 0.8406993927257259 Precision: 0.8407299193671476 Recall: 0.8407020662075094\n",
            "Epoch 22 TRAIN Loss: 0.36643827044301563 F1-score: 0.8383028703581838 Precision: 0.838604259459713 Recall: 0.8383367454191767\n",
            "\tTEST Loss: 0.36162683367729187 F1-score: 0.8404682389959579 Precision: 0.8405893758169312 Recall: 0.8404798933570318\n",
            "Epoch 23 TRAIN Loss: 0.364366019765536 F1-score: 0.839410173928312 Precision: 0.8397491568194166 Recall: 0.8394401172397925\n",
            "\tTEST Loss: 0.3614165782928467 F1-score: 0.8413656249074695 Precision: 0.8413992974508387 Recall: 0.8413685847589425\n",
            "Epoch 24 TRAIN Loss: 0.3655227861470646 F1-score: 0.840390340104405 Precision: 0.8406736827701536 Recall: 0.8404212553338354\n",
            "\tTEST Loss: 0.3607442378997803 F1-score: 0.8421377215968935 Precision: 0.8422282269052639 Recall: 0.8421461897356143\n",
            "Epoch 25 TRAIN Loss: 0.36267442835701835 F1-score: 0.8425036931899229 Precision: 0.8427794534107528 Recall: 0.8425325651564592\n",
            "\tTEST Loss: 0.3607384264469147 F1-score: 0.8411440281729086 Precision: 0.8411716232015424 Recall: 0.8411464119084647\n",
            "Epoch 26 TRAIN Loss: 0.3649713711606132 F1-score: 0.8399740672256293 Precision: 0.8402645476824385 Recall: 0.840005203104083\n",
            "\tTEST Loss: 0.36032921075820923 F1-score: 0.8406987793858707 Precision: 0.8407356652486184 Recall: 0.8407020662075094\n",
            "Epoch 27 TRAIN Loss: 0.3641658417052693 F1-score: 0.8405872921413037 Precision: 0.8408004276391803 Recall: 0.8406153912525101\n",
            "\tTEST Loss: 0.36024075746536255 F1-score: 0.8415878019033972 Precision: 0.8416214882659956 Recall: 0.8415907576094201\n",
            "Epoch 28 TRAIN Loss: 0.36046987854772145 F1-score: 0.8417563197357705 Precision: 0.84221198021065 Recall: 0.8418089676413989\n",
            "\tTEST Loss: 0.35911262035369873 F1-score: 0.8409191507506241 Precision: 0.8409745888414809 Recall: 0.8409242390579871\n",
            "Epoch 29 TRAIN Loss: 0.3611023815141784 F1-score: 0.841986062606189 Precision: 0.842246770776649 Recall: 0.8420171571703481\n",
            "\tTEST Loss: 0.3591073155403137 F1-score: 0.8408035442369225 Precision: 0.8409045442580766 Recall: 0.8408131526327483\n"
          ]
        }
      ]
    },
    {
      "cell_type": "markdown",
      "source": [
        "Plots"
      ],
      "metadata": {
        "id": "62hNtz5y77-Y"
      }
    },
    {
      "cell_type": "code",
      "source": [
        "plot_metrics(30, valid_scores, train_scores)\n",
        "plot_roc(model,X, y, Xval, yval)"
      ],
      "metadata": {
        "colab": {
          "base_uri": "https://localhost:8080/",
          "height": 552
        },
        "outputId": "725793fa-df1c-4144-b95c-8b779b3ae9b2",
        "id": "wHKsrC_477-Y"
      },
      "execution_count": 292,
      "outputs": [
        {
          "output_type": "display_data",
          "data": {
            "text/plain": [
              "<Figure size 1440x360 with 4 Axes>"
            ],
            "image/png": "[encoded data removed]"
          },
          "metadata": {
            "needs_background": "light"
          }
        },
        {
          "output_type": "display_data",
          "data": {
            "text/plain": [
              "<Figure size 432x288 with 1 Axes>"
            ],
            "image/png": "[encoded data removed]"
          },
          "metadata": {
            "needs_background": "light"
          }
        }
      ]
    },
    {
      "cell_type": "markdown",
      "source": [
        "Testing"
      ],
      "metadata": {
        "id": "TJ0RsgQP77-Y"
      }
    },
    {
      "cell_type": "code",
      "source": [
        "test(model, Xval, yval)"
      ],
      "metadata": {
        "colab": {
          "base_uri": "https://localhost:8080/",
          "height": 351
        },
        "id": "UuOM2Gc7nPmI",
        "outputId": "8ae1a1e2-82e3-4b70-f889-ed1d39eab39b"
      },
      "execution_count": 294,
      "outputs": [
        {
          "output_type": "stream",
          "name": "stdout",
          "text": [
            "F1 score:  0.8408035442369225\n",
            "precision score:  0.8409045442580766\n",
            "recall score:  0.8408131526327483\n",
            "Accuracy:  0.8408131526327483\n"
          ]
        },
        {
          "output_type": "display_data",
          "data": {
            "text/plain": [
              "<Figure size 432x288 with 2 Axes>"
            ],
            "image/png": "[encoded data removed]"
          },
          "metadata": {
            "needs_background": "light"
          }
        }
      ]
    },
    {
      "cell_type": "code",
      "source": [
        "# Here you can see scores for test set you provided\n",
        "test(model, Xtest, ytest)"
      ],
      "metadata": {
        "colab": {
          "base_uri": "https://localhost:8080/",
          "height": 351
        },
        "outputId": "711dd06d-7e44-4aaf-ea8b-61f3f2c151b6",
        "id": "PVv4Mwkf77-Y"
      },
      "execution_count": 293,
      "outputs": [
        {
          "output_type": "stream",
          "name": "stdout",
          "text": [
            "F1 score:  0.8487116424792013\n",
            "precision score:  0.8487992149188431\n",
            "recall score:  0.8487317163488243\n",
            "Accuracy:  0.8487317163488243\n"
          ]
        },
        {
          "output_type": "display_data",
          "data": {
            "text/plain": [
              "<Figure size 432x288 with 2 Axes>"
            ],
            "image/png": "[encoded data removed]"
          },
          "metadata": {
            "needs_background": "light"
          }
        }
      ]
    },
    {
      "cell_type": "markdown",
      "source": [
        "### Model 3\n",
        "*Without activation function and dropout*"
      ],
      "metadata": {
        "id": "q46Uuxnu5apZ"
      }
    },
    {
      "cell_type": "markdown",
      "source": [
        "Network"
      ],
      "metadata": {
        "id": "fTrIzvtJ9vIy"
      }
    },
    {
      "cell_type": "code",
      "execution_count": 314,
      "metadata": {
        "id": "4FHczIIY9vIy"
      },
      "outputs": [],
      "source": [
        "class Model_3(nn.Module):\n",
        "  def __init__(self, D_in, H1, H2, D_out):\n",
        "    super(Model_3, self).__init__()\n",
        "\n",
        "    self.linear1 = nn.Linear(D_in, H1)\n",
        "    self.linear2 = nn.Linear(H1, H2)\n",
        "    self.linear3 = nn.Linear(H2, D_out)\n",
        "\n",
        "  def forward(self, x):\n",
        "    h1 = self.linear1(x)\n",
        "    h2 = self.linear2(h1)\n",
        "    out = self.linear3(h2)\n",
        "\n",
        "    return out"
      ]
    },
    {
      "cell_type": "markdown",
      "source": [
        "Parameters"
      ],
      "metadata": {
        "id": "9XSbhWtd9vIy"
      }
    },
    {
      "cell_type": "code",
      "execution_count": 315,
      "metadata": {
        "id": "I8UI0ZWR9vIy"
      },
      "outputs": [],
      "source": [
        "H1 = 256\n",
        "H2 = 128\n",
        "\n",
        "#Initialise model, loss, optimizer\n",
        "model = Model_3(D_in, H1, H2, D_out)\n",
        "optimizer = torch.optim.Adam(model.parameters(), lr=learning_rate)\n"
      ]
    },
    {
      "cell_type": "markdown",
      "source": [
        "Training"
      ],
      "metadata": {
        "id": "0REPeawJ9vIz"
      }
    },
    {
      "cell_type": "code",
      "source": [
        "train_scores, valid_scores = train(30, train_dataloader, model, loss_func, optimizer)"
      ],
      "metadata": {
        "colab": {
          "base_uri": "https://localhost:8080/"
        },
        "outputId": "3aaa21cb-386c-4bc0-abb6-ced28c39625e",
        "id": "SPW-GgdX9vIz"
      },
      "execution_count": 316,
      "outputs": [
        {
          "output_type": "stream",
          "name": "stderr",
          "text": [
            "/usr/local/lib/python3.8/dist-packages/sklearn/metrics/_classification.py:1318: UndefinedMetricWarning: Precision is ill-defined and being set to 0.0 in labels with no predicted samples. Use `zero_division` parameter to control this behavior.\n",
            "  _warn_prf(average, modifier, msg_start, len(result))\n"
          ]
        },
        {
          "output_type": "stream",
          "name": "stdout",
          "text": [
            "Epoch 0 TRAIN Loss: 0.5403529910577668 F1-score: 0.7085717293766631 Precision: 0.7468932098870767 Recall: 0.7277586910140562\n",
            "\tTEST Loss: 0.4210592806339264 F1-score: 0.807055460403767 Precision: 0.8093894131074574 Recall: 0.8073761386358587\n",
            "Epoch 1 TRAIN Loss: 0.4054506967465083 F1-score: 0.816907657700832 Precision: 0.8187088148517474 Recall: 0.8171416133283133\n",
            "\tTEST Loss: 0.39148837327957153 F1-score: 0.8253571306308817 Precision: 0.8282750845439858 Recall: 0.8257053988002666\n",
            "Epoch 2 TRAIN Loss: 0.38932394484678906 F1-score: 0.8259268183609949 Precision: 0.8271775204955967 Recall: 0.8260754606969545\n",
            "\tTEST Loss: 0.3857818841934204 F1-score: 0.8271516755001657 Precision: 0.829963089767123 Recall: 0.827482781604088\n",
            "Epoch 3 TRAIN Loss: 0.3871977917022175 F1-score: 0.8277105313982046 Precision: 0.829200455719578 Recall: 0.8279017763763387\n",
            "\tTEST Loss: 0.3831465542316437 F1-score: 0.830306536963449 Precision: 0.8327967860585892 Recall: 0.8305932015107754\n",
            "Epoch 4 TRAIN Loss: 0.38330768711037105 F1-score: 0.8300190446408516 Precision: 0.8311069711402215 Recall: 0.8301444711136212\n",
            "\tTEST Loss: 0.3823489844799042 F1-score: 0.8315290122019002 Precision: 0.8340391598647217 Recall: 0.8318151521884026\n",
            "Epoch 5 TRAIN Loss: 0.38381970508231056 F1-score: 0.8304296263184265 Precision: 0.8315995023335977 Recall: 0.8305693477033133\n",
            "\tTEST Loss: 0.380820631980896 F1-score: 0.8317988035870051 Precision: 0.8338897987915275 Recall: 0.8320373250388803\n",
            "Epoch 6 TRAIN Loss: 0.38143942919042373 F1-score: 0.830048535314017 Precision: 0.8310603942100383 Recall: 0.8301624466616465\n",
            "\tTEST Loss: 0.38132691383361816 F1-score: 0.8317667860642349 Precision: 0.8341425221910718 Recall: 0.8320373250388803\n",
            "Epoch 7 TRAIN Loss: 0.38246935109297436 F1-score: 0.8305547802786124 Precision: 0.8316241841326777 Recall: 0.8306778546477577\n",
            "\tTEST Loss: 0.3796568214893341 F1-score: 0.8336212148786761 Precision: 0.8353370801016584 Recall: 0.8338147078427016\n",
            "Epoch 8 TRAIN Loss: 0.3804982023106681 F1-score: 0.8307338367537613 Precision: 0.8317238606662599 Recall: 0.8308451906584673\n",
            "\tTEST Loss: 0.3803873062133789 F1-score: 0.8327957796496217 Precision: 0.8349288259143035 Recall: 0.8330371028660297\n",
            "Epoch 9 TRAIN Loss: 0.3816595615612136 F1-score: 0.8308671793613047 Precision: 0.831846159646889 Recall: 0.8309762487449799\n",
            "\tTEST Loss: 0.3788853585720062 F1-score: 0.8336408805894476 Precision: 0.8351800248910523 Recall: 0.8338147078427016\n",
            "Epoch 10 TRAIN Loss: 0.3799375808901257 F1-score: 0.8304138065114832 Precision: 0.8313475145284778 Recall: 0.8305196698251339\n",
            "\tTEST Loss: 0.37957197427749634 F1-score: 0.8328205478834915 Precision: 0.8347318358459918 Recall: 0.8330371028660297\n",
            "Epoch 11 TRAIN Loss: 0.3811298492881987 F1-score: 0.831144899495486 Precision: 0.8321167863960578 Recall: 0.8312520917001339\n",
            "\tTEST Loss: 0.3782196044921875 F1-score: 0.8329923485551681 Precision: 0.834362628568374 Recall: 0.8331481892912687\n",
            "Epoch 12 TRAIN Loss: 0.3795836882458793 F1-score: 0.8304032718455621 Precision: 0.8313559445397131 Recall: 0.8305105186370482\n",
            "\tTEST Loss: 0.3787172734737396 F1-score: 0.8319716311346151 Precision: 0.8335163206495434 Recall: 0.8321484114641191\n",
            "Epoch 13 TRAIN Loss: 0.38077688382731545 F1-score: 0.8306239725700991 Precision: 0.8316113298716643 Recall: 0.8307321081199799\n",
            "\tTEST Loss: 0.37764862179756165 F1-score: 0.8332301868247021 Precision: 0.8344630085962793 Recall: 0.8333703621417463\n",
            "Epoch 14 TRAIN Loss: 0.37939441535207963 F1-score: 0.8310799850588453 Precision: 0.8321214378353595 Recall: 0.8311978382279117\n",
            "\tTEST Loss: 0.377779483795166 F1-score: 0.8321028271093901 Precision: 0.8334706436581393 Recall: 0.8322594978893579\n",
            "Epoch 15 TRAIN Loss: 0.3806001403265529 F1-score: 0.83094658558662 Precision: 0.8320297811409271 Recall: 0.8310667801413989\n",
            "\tTEST Loss: 0.3767640292644501 F1-score: 0.8315941478606136 Precision: 0.8325442956161916 Recall: 0.8317040657631637\n",
            "Epoch 16 TRAIN Loss: 0.3793766498565674 F1-score: 0.8307750780806066 Precision: 0.8319356379763756 Recall: 0.8309040197247323\n",
            "\tTEST Loss: 0.37640559673309326 F1-score: 0.8321451235652766 Precision: 0.8331388774580548 Recall: 0.8322594978893579\n",
            "Epoch 17 TRAIN Loss: 0.380606090856923 F1-score: 0.8307706948853624 Precision: 0.8319997291870318 Recall: 0.8309040197247323\n",
            "\tTEST Loss: 0.3753772974014282 F1-score: 0.8335379754693627 Precision: 0.8340106801421792 Recall: 0.833592534992224\n",
            "Epoch 18 TRAIN Loss: 0.3795661942826377 F1-score: 0.8310459254486345 Precision: 0.8323942014327934 Recall: 0.8311978382279117\n",
            "\tTEST Loss: 0.3746333122253418 F1-score: 0.8341194828896654 Precision: 0.8343634213700268 Recall: 0.8341479671184181\n",
            "Epoch 19 TRAIN Loss: 0.3807174124651485 F1-score: 0.8310288265429798 Precision: 0.8324876583993928 Recall: 0.8311978382279117\n",
            "\tTEST Loss: 0.3741329312324524 F1-score: 0.834591155469582 Precision: 0.8345990820783687 Recall: 0.8345923128193735\n",
            "Epoch 20 TRAIN Loss: 0.379598264892896 F1-score: 0.8315945361572052 Precision: 0.833087418912748 Recall: 0.831767499686245\n",
            "\tTEST Loss: 0.3739214837551117 F1-score: 0.8340346688101804 Precision: 0.8340591354948718 Recall: 0.8340368806931793\n",
            "Epoch 21 TRAIN Loss: 0.38035429931349224 F1-score: 0.8315158374185727 Precision: 0.8328907882209362 Recall: 0.8316861194779117\n",
            "\tTEST Loss: 0.3742631673812866 F1-score: 0.834239825858238 Precision: 0.8344265785396853 Recall: 0.8342590535436569\n",
            "Epoch 22 TRAIN Loss: 0.37903891172673965 F1-score: 0.8314546013267807 Precision: 0.8326841841742857 Recall: 0.8316047392695783\n",
            "\tTEST Loss: 0.3740573823451996 F1-score: 0.8346865244717684 Precision: 0.834851742260423 Recall: 0.8347033992446123\n",
            "Epoch 23 TRAIN Loss: 0.3797564481695493 F1-score: 0.831510365571841 Precision: 0.8326786092993739 Recall: 0.8316589927418006\n",
            "\tTEST Loss: 0.37424352765083313 F1-score: 0.8335663284143048 Precision: 0.8338171067025885 Recall: 0.833592534992224\n",
            "Epoch 24 TRAIN Loss: 0.3785998423894246 F1-score: 0.8314156385926252 Precision: 0.8324997164629975 Recall: 0.8315504857973561\n",
            "\tTEST Loss: 0.3739742636680603 F1-score: 0.8347972491331844 Precision: 0.8349660262736759 Recall: 0.8348144856698512\n",
            "Epoch 25 TRAIN Loss: 0.3794395542807049 F1-score: 0.8319341138266412 Precision: 0.8329966655900161 Recall: 0.8320704693775101\n",
            "\tTEST Loss: 0.3741690218448639 F1-score: 0.8334556869793871 Precision: 0.8337021163637035 Recall: 0.8334814485669851\n",
            "Epoch 26 TRAIN Loss: 0.37836434774928623 F1-score: 0.8317019769591903 Precision: 0.8326989865577201 Recall: 0.8318263287525101\n",
            "\tTEST Loss: 0.3739165961742401 F1-score: 0.8345735178263015 Precision: 0.8347566832233573 Recall: 0.8345923128193735\n",
            "Epoch 27 TRAIN Loss: 0.379231055577596 F1-score: 0.832383203228662 Precision: 0.8333675970161809 Recall: 0.8325090727493306\n",
            "\tTEST Loss: 0.37411531805992126 F1-score: 0.833345947051034 Precision: 0.8335796652614506 Recall: 0.8333703621417463\n",
            "Epoch 28 TRAIN Loss: 0.37818873673677444 F1-score: 0.8317314497132867 Precision: 0.8327081192321723 Recall: 0.8318534554886212\n",
            "\tTEST Loss: 0.3738715648651123 F1-score: 0.8349079702198509 Precision: 0.8350803454791608 Recall: 0.83492557209509\n",
            "Epoch 29 TRAIN Loss: 0.3790687256389194 F1-score: 0.8321125205025108 Precision: 0.833098623175443 Recall: 0.8322378053882196\n",
            "\tTEST Loss: 0.37407034635543823 F1-score: 0.833569039811939 Precision: 0.8337946030810901 Recall: 0.833592534992224\n"
          ]
        }
      ]
    },
    {
      "cell_type": "markdown",
      "source": [
        "Plots"
      ],
      "metadata": {
        "id": "pBqt6YfG9vIz"
      }
    },
    {
      "cell_type": "code",
      "source": [
        "plot_metrics(30, valid_scores, train_scores)\n",
        "plot_roc(model, X, y, Xval, yval)"
      ],
      "metadata": {
        "colab": {
          "base_uri": "https://localhost:8080/",
          "height": 554
        },
        "outputId": "6ff6a6b0-ed65-42f8-ca1b-1e32551cca13",
        "id": "LxFGP8Y_9vIz"
      },
      "execution_count": 317,
      "outputs": [
        {
          "output_type": "display_data",
          "data": {
            "text/plain": [
              "<Figure size 1440x360 with 4 Axes>"
            ],
            "image/png": "[encoded data removed]"
          },
          "metadata": {
            "needs_background": "light"
          }
        },
        {
          "output_type": "display_data",
          "data": {
            "text/plain": [
              "<Figure size 432x288 with 1 Axes>"
            ],
            "image/png": "[encoded data removed]"
          },
          "metadata": {
            "needs_background": "light"
          }
        }
      ]
    },
    {
      "cell_type": "markdown",
      "source": [
        "Testing"
      ],
      "metadata": {
        "id": "PDy0lYjk9vI0"
      }
    },
    {
      "cell_type": "code",
      "source": [
        "test(model, Xval, yval)"
      ],
      "metadata": {
        "colab": {
          "base_uri": "https://localhost:8080/",
          "height": 351
        },
        "id": "uTutF-wQoSHL",
        "outputId": "4a6dc81d-cc69-4b4b-f2ec-8ce5b25f6f1a"
      },
      "execution_count": 318,
      "outputs": [
        {
          "output_type": "stream",
          "name": "stdout",
          "text": [
            "F1 score:  0.833569039811939\n",
            "precision score:  0.8337946030810901\n",
            "recall score:  0.833592534992224\n",
            "Accuracy:  0.833592534992224\n"
          ]
        },
        {
          "output_type": "display_data",
          "data": {
            "text/plain": [
              "<Figure size 432x288 with 2 Axes>"
            ],
            "image/png": "[encoded data removed]"
          },
          "metadata": {
            "needs_background": "light"
          }
        }
      ]
    },
    {
      "cell_type": "code",
      "source": [
        "# Here you can see scores for test set you provided\n",
        "test(model, Xtest, ytest)"
      ],
      "metadata": {
        "colab": {
          "base_uri": "https://localhost:8080/",
          "height": 351
        },
        "outputId": "e2a7e79e-f31c-44eb-dd09-03efa81c3d3c",
        "id": "IACgT01d9vI0"
      },
      "execution_count": 319,
      "outputs": [
        {
          "output_type": "stream",
          "name": "stdout",
          "text": [
            "F1 score:  0.8384850726689345\n",
            "precision score:  0.8388475101035554\n",
            "recall score:  0.8385484169598223\n",
            "Accuracy:  0.8385484169598223\n"
          ]
        },
        {
          "output_type": "display_data",
          "data": {
            "text/plain": [
              "<Figure size 432x288 with 2 Axes>"
            ],
            "image/png": "[encoded data removed]"
          },
          "metadata": {
            "needs_background": "light"
          }
        }
      ]
    },
    {
      "cell_type": "markdown",
      "source": [
        "### Trying different hyperparameters on Model 1"
      ],
      "metadata": {
        "id": "a5ESG1bp_3na"
      }
    },
    {
      "cell_type": "markdown",
      "source": [
        "#### Changing learning rate"
      ],
      "metadata": {
        "id": "HH-wLheWF2qQ"
      }
    },
    {
      "cell_type": "markdown",
      "source": [
        "Parameters"
      ],
      "metadata": {
        "id": "jMWdH3UEF2qR"
      }
    },
    {
      "cell_type": "code",
      "execution_count": 329,
      "metadata": {
        "id": "0NPLC26iF2qR"
      },
      "outputs": [],
      "source": [
        "#Define Hyperparameters\n",
        "learning_rate = 1e-4\n",
        "\n",
        "#Define batch_size\n",
        "batch_size=1024\n",
        "\n",
        "#Initialise model, optimizer\n",
        "model = Model_1(D_in, H1, H2, D_out)\n",
        "\n",
        "optimizer = torch.optim.Adam(model.parameters(), lr=learning_rate)\n",
        "\n",
        "\n",
        "#Initialise dataloader\n",
        "\n",
        "train_dataset = torch.utils.data.TensorDataset(X, y)\n",
        "train_dataloader = torch.utils.data.DataLoader(train_dataset, batch_size=batch_size)"
      ]
    },
    {
      "cell_type": "markdown",
      "source": [
        "Training"
      ],
      "metadata": {
        "id": "RcKfhz7KF2qR"
      }
    },
    {
      "cell_type": "code",
      "source": [
        "train_scores, valid_scores = train(60, train_dataloader, model, loss_func, optimizer)"
      ],
      "metadata": {
        "colab": {
          "base_uri": "https://localhost:8080/"
        },
        "outputId": "749d0ede-ecef-4c07-ea08-2e00142adad1",
        "id": "nFXmEHbfF2qS"
      },
      "execution_count": 330,
      "outputs": [
        {
          "output_type": "stream",
          "name": "stdout",
          "text": [
            "Epoch 0 TRAIN Loss: 0.6920314017269347 F1-score: 0.4959515596485258 Precision: 0.5289471535810127 Recall: 0.5230309257864793\n",
            "\tTEST Loss: 0.6872429251670837 F1-score: 0.5949896661915322 Precision: 0.7276898238087289 Recall: 0.6357476116418573\n",
            "Epoch 1 TRAIN Loss: 0.6834736896885766 F1-score: 0.5857880991008018 Precision: 0.5888194655661878 Recall: 0.5870379303673026\n",
            "\tTEST Loss: 0.6718040704727173 F1-score: 0.7530460177612467 Precision: 0.7530975504343522 Recall: 0.753054876694068\n",
            "Epoch 2 TRAIN Loss: 0.6641632715861002 F1-score: 0.6548649270675615 Precision: 0.6572294220903347 Recall: 0.6554375052292504\n",
            "\tTEST Loss: 0.6359542608261108 F1-score: 0.7540473295970416 Precision: 0.7552606302524703 Recall: 0.7542768273716952\n",
            "Epoch 3 TRAIN Loss: 0.6248313089211782 F1-score: 0.7065503116051327 Precision: 0.7093865413536524 Recall: 0.7072368249037818\n",
            "\tTEST Loss: 0.5788625478744507 F1-score: 0.7597318832584353 Precision: 0.7602822191745059 Recall: 0.759831148633637\n",
            "Epoch 4 TRAIN Loss: 0.5744061602486504 F1-score: 0.7313830375145878 Precision: 0.7327249726784069 Recall: 0.7316917409220215\n",
            "\tTEST Loss: 0.5235414505004883 F1-score: 0.7694937703494695 Precision: 0.7695019197953397 Recall: 0.7694956676294157\n",
            "Epoch 5 TRAIN Loss: 0.5320761733584933 F1-score: 0.7502809434930637 Precision: 0.7509027406712366 Recall: 0.7503912132906626\n",
            "\tTEST Loss: 0.4863594174385071 F1-score: 0.781369094413862 Precision: 0.781440293683869 Recall: 0.7813819151299711\n",
            "Epoch 6 TRAIN Loss: 0.5033403883377711 F1-score: 0.7682195325201465 Precision: 0.7686971792463447 Recall: 0.7683085859061245\n",
            "\tTEST Loss: 0.460607647895813 F1-score: 0.7941535848053248 Precision: 0.7941716611560768 Recall: 0.7941568540324372\n",
            "Epoch 7 TRAIN Loss: 0.480965342786577 F1-score: 0.7786115221287427 Precision: 0.7790113937954377 Recall: 0.7786801502886546\n",
            "\tTEST Loss: 0.4418283700942993 F1-score: 0.8022612437460591 Precision: 0.8022912548283606 Recall: 0.8022661630748722\n",
            "Epoch 8 TRAIN Loss: 0.46323248578442466 F1-score: 0.7913340256792308 Precision: 0.7917482063081603 Recall: 0.7913846139767403\n",
            "\tTEST Loss: 0.4272471070289612 F1-score: 0.807375872409446 Precision: 0.8073768814755516 Recall: 0.8073761386358587\n",
            "Epoch 9 TRAIN Loss: 0.45096103350321454 F1-score: 0.7954062420131504 Precision: 0.7957692539664755 Recall: 0.7954536243934069\n",
            "\tTEST Loss: 0.41699331998825073 F1-score: 0.8141523486537481 Precision: 0.8141539143161257 Recall: 0.8141524105754276\n",
            "Epoch 10 TRAIN Loss: 0.4407045261727439 F1-score: 0.8032898172537876 Precision: 0.8036268053375534 Recall: 0.8033337778196118\n",
            "\tTEST Loss: 0.40941372513771057 F1-score: 0.8177001416043732 Precision: 0.8177498035850062 Recall: 0.8177071761830704\n",
            "Epoch 11 TRAIN Loss: 0.4344682643810908 F1-score: 0.8065681843609585 Precision: 0.8069492090095136 Recall: 0.8066206884830991\n",
            "\tTEST Loss: 0.4039227068424225 F1-score: 0.8214841256557974 Precision: 0.821484156944952 Recall: 0.8214841146411909\n",
            "Epoch 12 TRAIN Loss: 0.4281781299246682 F1-score: 0.8087860448244404 Precision: 0.8091517399081734 Recall: 0.8088405052501674\n",
            "\tTEST Loss: 0.3989729881286621 F1-score: 0.8239278182746529 Precision: 0.823928616964934 Recall: 0.8239280159964453\n",
            "Epoch 13 TRAIN Loss: 0.4229833061496417 F1-score: 0.8126027126414844 Precision: 0.8128911544306896 Recall: 0.8126473994938085\n",
            "\tTEST Loss: 0.3954012095928192 F1-score: 0.8254822029990897 Precision: 0.8254939135916471 Recall: 0.825483225949789\n",
            "Epoch 14 TRAIN Loss: 0.41939348230759305 F1-score: 0.8145735896356341 Precision: 0.8148195950753745 Recall: 0.8146051000878515\n",
            "\tTEST Loss: 0.39269039034843445 F1-score: 0.8271491810459484 Precision: 0.827150881214111 Recall: 0.8271495223283715\n",
            "Epoch 15 TRAIN Loss: 0.41681011269489926 F1-score: 0.8146956352388771 Precision: 0.8150613970650377 Recall: 0.8147544605505355\n",
            "\tTEST Loss: 0.3901101052761078 F1-score: 0.8284825763637086 Precision: 0.828482675085262 Recall: 0.8284825594312375\n",
            "Epoch 16 TRAIN Loss: 0.41029758254686993 F1-score: 0.8192858146228822 Precision: 0.8195361933012213 Recall: 0.8193297277652276\n",
            "\tTEST Loss: 0.3875489830970764 F1-score: 0.8309229722631067 Precision: 0.830959189268604 Recall: 0.8309264607864919\n",
            "Epoch 17 TRAIN Loss: 0.4115079806910621 F1-score: 0.8175307219467255 Precision: 0.8178127579917328 Recall: 0.8175802167001339\n",
            "\tTEST Loss: 0.3861721456050873 F1-score: 0.83070413751773 Precision: 0.8307069394131461 Recall: 0.8307042879360143\n",
            "Epoch 18 TRAIN Loss: 0.4071991791327794 F1-score: 0.8197833075748694 Precision: 0.820033792444064 Recall: 0.8198314089692101\n",
            "\tTEST Loss: 0.38406112790107727 F1-score: 0.8318113333151252 Precision: 0.8318509583259598 Recall: 0.8318151521884026\n",
            "Epoch 19 TRAIN Loss: 0.40597092194689643 F1-score: 0.8211477580175853 Precision: 0.8214536040711541 Recall: 0.8211926481969545\n",
            "\tTEST Loss: 0.3830905556678772 F1-score: 0.8322580075085778 Precision: 0.8322683487999702 Recall: 0.8322594978893579\n",
            "Epoch 20 TRAIN Loss: 0.40267764114671284 F1-score: 0.8238913997323511 Precision: 0.8242201292367833 Recall: 0.8239324485441767\n",
            "\tTEST Loss: 0.3815717399120331 F1-score: 0.8332574423669528 Precision: 0.8332780053438777 Recall: 0.8332592757165075\n",
            "Epoch 21 TRAIN Loss: 0.403956005970637 F1-score: 0.8218474879440224 Precision: 0.8220833500164502 Recall: 0.8218842165537148\n",
            "\tTEST Loss: 0.38081926107406616 F1-score: 0.8331481069319047 Precision: 0.8331500808191843 Recall: 0.8331481892912687\n",
            "Epoch 22 TRAIN Loss: 0.3994331318471167 F1-score: 0.8251846579242011 Precision: 0.8254568304256781 Recall: 0.8252345318775101\n",
            "\tTEST Loss: 0.3796245753765106 F1-score: 0.8333694738388726 Precision: 0.8333752496558089 Recall: 0.8333703621417463\n",
            "Epoch 23 TRAIN Loss: 0.39954037550422883 F1-score: 0.8246720248816599 Precision: 0.8249345771823644 Recall: 0.8247008215152276\n",
            "\tTEST Loss: 0.37855395674705505 F1-score: 0.8340361597868657 Precision: 0.8340407085518969 Recall: 0.8340368806931793\n",
            "Epoch 24 TRAIN Loss: 0.39788617607620025 F1-score: 0.826503845766958 Precision: 0.8267540621445413 Recall: 0.8265454395707832\n",
            "\tTEST Loss: 0.37718355655670166 F1-score: 0.8345916698512659 Precision: 0.8346001107567336 Recall: 0.8345923128193735\n",
            "Epoch 25 TRAIN Loss: 0.39678716245624757 F1-score: 0.8263754225809647 Precision: 0.8266082015119366 Recall: 0.8264055571243306\n",
            "\tTEST Loss: 0.3765694499015808 F1-score: 0.8344807852050794 Precision: 0.8344833097688041 Recall: 0.8344812263941347\n",
            "Epoch 26 TRAIN Loss: 0.3963615364498562 F1-score: 0.8273492923405752 Precision: 0.8276121296804259 Recall: 0.8273866952183735\n",
            "\tTEST Loss: 0.37602704763412476 F1-score: 0.8353698365333441 Precision: 0.8353718170006165 Recall: 0.8353699177960453\n",
            "Epoch 27 TRAIN Loss: 0.3939393303460545 F1-score: 0.8274208650280894 Precision: 0.8276828854907268 Recall: 0.8274589242386212\n",
            "\tTEST Loss: 0.3753001093864441 F1-score: 0.8367020843648023 Precision: 0.8367131085470122 Recall: 0.8367029548989113\n",
            "Epoch 28 TRAIN Loss: 0.3938782372408443 F1-score: 0.8276837164171854 Precision: 0.8279282110658308 Recall: 0.8277210404116465\n",
            "\tTEST Loss: 0.37469610571861267 F1-score: 0.8377027187066025 Precision: 0.8377037177545071 Recall: 0.8377027327260609\n",
            "Epoch 29 TRAIN Loss: 0.3927732995814747 F1-score: 0.8285423061192998 Precision: 0.8287937443307531 Recall: 0.8285756960132196\n",
            "\tTEST Loss: 0.37413129210472107 F1-score: 0.8380323143579905 Precision: 0.8380617321406796 Recall: 0.8380359920017774\n",
            "Epoch 30 TRAIN Loss: 0.3920565868417422 F1-score: 0.8275956186263298 Precision: 0.8278212336821973 Recall: 0.8276305090152276\n",
            "\tTEST Loss: 0.37352800369262695 F1-score: 0.8378137871287555 Precision: 0.837815078472243 Recall: 0.8378138191512997\n",
            "Epoch 31 TRAIN Loss: 0.3895799054039849 F1-score: 0.8278200686411524 Precision: 0.8280526774973903 Recall: 0.827861249686245\n",
            "\tTEST Loss: 0.37296363711357117 F1-score: 0.8369238881140637 Precision: 0.8369326460628146 Recall: 0.836925127749389\n",
            "Epoch 32 TRAIN Loss: 0.38826387292808956 F1-score: 0.8307828923183649 Precision: 0.8310157462225845 Recall: 0.8308226395163989\n",
            "\tTEST Loss: 0.372349351644516 F1-score: 0.8380319625740192 Precision: 0.8380644211229297 Recall: 0.8380359920017774\n",
            "Epoch 33 TRAIN Loss: 0.3890133533212874 F1-score: 0.8306809628028878 Precision: 0.8309645395886411 Recall: 0.8307321081199799\n",
            "\tTEST Loss: 0.3718458414077759 F1-score: 0.8380358480974791 Precision: 0.8380364487854346 Recall: 0.8380359920017774\n",
            "Epoch 34 TRAIN Loss: 0.3874589287572437 F1-score: 0.8308163762643547 Precision: 0.8310398884957135 Recall: 0.8308451906584673\n",
            "\tTEST Loss: 0.3712823688983917 F1-score: 0.837812778409982 Precision: 0.837820008875619 Recall: 0.8378138191512997\n",
            "Epoch 35 TRAIN Loss: 0.3868099484178755 F1-score: 0.8319277303479484 Precision: 0.8320968378711864 Recall: 0.8319577136671686\n",
            "\tTEST Loss: 0.37082213163375854 F1-score: 0.8379237715447413 Precision: 0.8379317577455699 Recall: 0.8379249055765385\n",
            "Epoch 36 TRAIN Loss: 0.38547005421585506 F1-score: 0.8323395013166085 Precision: 0.8325915263470522 Recall: 0.8323734390687751\n",
            "\tTEST Loss: 0.37059664726257324 F1-score: 0.8387022876231346 Precision: 0.8387033894675892 Recall: 0.8387025105532104\n",
            "Epoch 37 TRAIN Loss: 0.3851149032513301 F1-score: 0.8311055145024867 Precision: 0.8313439591889079 Recall: 0.8311390091616465\n",
            "\tTEST Loss: 0.3701116442680359 F1-score: 0.8378121539580404 Precision: 0.8378244672861569 Recall: 0.8378138191512997\n",
            "Epoch 38 TRAIN Loss: 0.3856560405757692 F1-score: 0.8329450074291508 Precision: 0.8331456555362738 Recall: 0.8329748028572623\n",
            "\tTEST Loss: 0.36971214413642883 F1-score: 0.8390337536736954 Precision: 0.8390491534552584 Recall: 0.8390357698289269\n",
            "Epoch 39 TRAIN Loss: 0.3839133232831955 F1-score: 0.8321726251134279 Precision: 0.8323794633548935 Recall: 0.8322015274640228\n",
            "\tTEST Loss: 0.3692561089992523 F1-score: 0.8391452047474263 Precision: 0.8391575540040904 Recall: 0.8391468562541657\n",
            "Epoch 40 TRAIN Loss: 0.3850637434257401 F1-score: 0.8313094087956985 Precision: 0.8314966725333579 Recall: 0.8313334719084673\n",
            "\tTEST Loss: 0.36899134516716003 F1-score: 0.8383674741053069 Precision: 0.8383807814349126 Recall: 0.8383692512774938\n",
            "Epoch 41 TRAIN Loss: 0.3821788902084033 F1-score: 0.8332856937735832 Precision: 0.8334885614646157 Recall: 0.833322874832664\n",
            "\tTEST Loss: 0.3690136671066284 F1-score: 0.8386969370991095 Precision: 0.8387431184647549 Recall: 0.8387025105532104\n",
            "Epoch 42 TRAIN Loss: 0.3831813409924507 F1-score: 0.8334971373866893 Precision: 0.8337191016832651 Recall: 0.8335307375334673\n",
            "\tTEST Loss: 0.3684189021587372 F1-score: 0.838474326010389 Precision: 0.8385242780078471 Recall: 0.8384803377027328\n",
            "Epoch 43 TRAIN Loss: 0.382573689851496 F1-score: 0.8329407550065063 Precision: 0.833286605687697 Recall: 0.8329839540453481\n",
            "\tTEST Loss: 0.36796891689300537 F1-score: 0.8390355016736585 Precision: 0.839036910853968 Recall: 0.8390357698289269\n",
            "Epoch 44 TRAIN Loss: 0.38276364819871056 F1-score: 0.8344758705607469 Precision: 0.8346865329743811 Recall: 0.8345073000334673\n",
            "\tTEST Loss: 0.367736279964447 F1-score: 0.8385898804544981 Precision: 0.8386012726747064 Recall: 0.8385914241279716\n",
            "Epoch 45 TRAIN Loss: 0.3814054884844356 F1-score: 0.8345904834900435 Precision: 0.8348016491591418 Recall: 0.8346249581659974\n",
            "\tTEST Loss: 0.3674716651439667 F1-score: 0.8394725185874907 Precision: 0.8395370550175697 Recall: 0.8394801155298822\n",
            "Epoch 46 TRAIN Loss: 0.3791591202219327 F1-score: 0.835200540273653 Precision: 0.8354512385999389 Recall: 0.8352263219544845\n",
            "\tTEST Loss: 0.3672093451023102 F1-score: 0.8390349931689023 Precision: 0.839040201139941 Recall: 0.8390357698289269\n",
            "Epoch 47 TRAIN Loss: 0.3789964872929785 F1-score: 0.8356560607477959 Precision: 0.8358641374958475 Recall: 0.8356829008743306\n",
            "\tTEST Loss: 0.3668863773345947 F1-score: 0.838808236230745 Precision: 0.8388525871771564 Recall: 0.8388135969784493\n",
            "Epoch 48 TRAIN Loss: 0.3823173741499583 F1-score: 0.8349181259466542 Precision: 0.8351068908065584 Recall: 0.8349459034052878\n",
            "\tTEST Loss: 0.36649268865585327 F1-score: 0.8385900955748333 Precision: 0.8385997159127874 Recall: 0.8385914241279716\n",
            "Epoch 49 TRAIN Loss: 0.37804459200965035 F1-score: 0.8344372996029527 Precision: 0.8347466263882454 Recall: 0.8344801732973561\n",
            "\tTEST Loss: 0.3660688102245331 F1-score: 0.8379233555286392 Precision: 0.8379347310924713 Recall: 0.8379249055765385\n",
            "Epoch 50 TRAIN Loss: 0.37797072860929704 F1-score: 0.8354337567381674 Precision: 0.8356110672076884 Recall: 0.8354567357973561\n",
            "\tTEST Loss: 0.36593833565711975 F1-score: 0.8387006156251178 Precision: 0.8387149497516304 Recall: 0.8387025105532104\n",
            "Epoch 51 TRAIN Loss: 0.3789726785487599 F1-score: 0.8354729256985514 Precision: 0.8357322863378063 Recall: 0.8354884381275101\n",
            "\tTEST Loss: 0.36574238538742065 F1-score: 0.8394720193617701 Precision: 0.8395410306697473 Recall: 0.8394801155298822\n",
            "Epoch 52 TRAIN Loss: 0.3768622916605737 F1-score: 0.8354937444376862 Precision: 0.8357932145663597 Recall: 0.8355289648176037\n",
            "\tTEST Loss: 0.3654632270336151 F1-score: 0.8396994497410321 Precision: 0.8397219997425713 Recall: 0.8397022883803599\n",
            "Epoch 53 TRAIN Loss: 0.3762409637371699 F1-score: 0.8365229165940228 Precision: 0.8367304772551876 Recall: 0.8365555320239291\n",
            "\tTEST Loss: 0.3651861846446991 F1-score: 0.8398065112595368 Precision: 0.8398646567964022 Recall: 0.8398133748055988\n",
            "Epoch 54 TRAIN Loss: 0.37674759245581096 F1-score: 0.8362923475482558 Precision: 0.8365391892491503 Recall: 0.8363202157588687\n",
            "\tTEST Loss: 0.3649003803730011 F1-score: 0.8389216779349049 Precision: 0.8389455078228902 Recall: 0.8389246834036881\n",
            "Epoch 55 TRAIN Loss: 0.37600965880685383 F1-score: 0.8379653852462066 Precision: 0.8382136769402027 Recall: 0.8380115514139893\n",
            "\tTEST Loss: 0.3646436631679535 F1-score: 0.8391463004629082 Precision: 0.8391498039712658 Recall: 0.8391468562541657\n",
            "Epoch 56 TRAIN Loss: 0.3746953879793485 F1-score: 0.8372844854347219 Precision: 0.8375062071333824 Recall: 0.8373239049949799\n",
            "\tTEST Loss: 0.3646605312824249 F1-score: 0.8400304308837714 Precision: 0.8400730867558505 Recall: 0.8400355476560765\n",
            "Epoch 57 TRAIN Loss: 0.3752983435988426 F1-score: 0.8375903071377901 Precision: 0.8378873069230658 Recall: 0.8376272015143909\n",
            "\tTEST Loss: 0.36477193236351013 F1-score: 0.840027730226135 Precision: 0.8400945618491984 Recall: 0.8400355476560765\n",
            "Epoch 58 TRAIN Loss: 0.375213086605072 F1-score: 0.837474436813155 Precision: 0.8376954307707749 Recall: 0.8375049677878179\n",
            "\tTEST Loss: 0.36435285210609436 F1-score: 0.8398112398987239 Precision: 0.8398277600611501 Recall: 0.8398133748055988\n",
            "Epoch 59 TRAIN Loss: 0.37372227178679573 F1-score: 0.8391207652448451 Precision: 0.8394144609500903 Recall: 0.8391642742846385\n",
            "\tTEST Loss: 0.363923579454422 F1-score: 0.8416998612733029 Precision: 0.8417153497914905 Recall: 0.841701844034659\n"
          ]
        }
      ]
    },
    {
      "cell_type": "markdown",
      "source": [
        "Plots"
      ],
      "metadata": {
        "id": "9T5zWOVyF2qS"
      }
    },
    {
      "cell_type": "code",
      "source": [
        "plot_metrics(60, valid_scores, train_scores)\n",
        "plot_roc(model, X, y, Xval, yval)"
      ],
      "metadata": {
        "colab": {
          "base_uri": "https://localhost:8080/",
          "height": 553
        },
        "outputId": "8c912351-ff3b-4aab-eca8-527a29dfb5ec",
        "id": "G8jDM9z2F2qS"
      },
      "execution_count": 331,
      "outputs": [
        {
          "output_type": "display_data",
          "data": {
            "text/plain": [
              "<Figure size 1440x360 with 4 Axes>"
            ],
            "image/png": "[encoded data removed]"
          },
          "metadata": {
            "needs_background": "light"
          }
        },
        {
          "output_type": "display_data",
          "data": {
            "text/plain": [
              "<Figure size 432x288 with 1 Axes>"
            ],
            "image/png": "[encoded data removed]"
          },
          "metadata": {
            "needs_background": "light"
          }
        }
      ]
    },
    {
      "cell_type": "markdown",
      "source": [
        "Testing"
      ],
      "metadata": {
        "id": "iOpKDEkFF2qS"
      }
    },
    {
      "cell_type": "code",
      "source": [
        "# Here you can see scores for test set you provided\n",
        "test(model, Xtest, ytest)"
      ],
      "metadata": {
        "colab": {
          "base_uri": "https://localhost:8080/",
          "height": 351
        },
        "outputId": "5128eeaa-da29-4d64-900f-bbacce49d888",
        "id": "qVKuRieTF2qS"
      },
      "execution_count": 332,
      "outputs": [
        {
          "output_type": "stream",
          "name": "stdout",
          "text": [
            "F1 score:  0.8429915109959858\n",
            "precision score:  0.8429912146818689\n",
            "recall score:  0.8429920385113868\n",
            "Accuracy:  0.8429920385113868\n"
          ]
        },
        {
          "output_type": "display_data",
          "data": {
            "text/plain": [
              "<Figure size 432x288 with 2 Axes>"
            ],
            "image/png": "[encoded data removed]"
          },
          "metadata": {
            "needs_background": "light"
          }
        }
      ]
    },
    {
      "cell_type": "markdown",
      "source": [
        "#### Trying different optimizers"
      ],
      "metadata": {
        "id": "22G0RjnGF_Vw"
      }
    },
    {
      "cell_type": "markdown",
      "source": [
        "Parameters"
      ],
      "metadata": {
        "id": "kXSNDZoEF_Vx"
      }
    },
    {
      "cell_type": "code",
      "execution_count": 347,
      "metadata": {
        "id": "lFoC951BF_Vx"
      },
      "outputs": [],
      "source": [
        "#Define Hyperparameters\n",
        "learning_rate = 1e-3\n",
        "\n",
        "\n",
        "#Initialise model, loss, optimizer\n",
        "model = Model_1(D_in, H1, H2, D_out)\n",
        "\n",
        "optimizer = torch.optim.Adagrad(model.parameters(), lr=learning_rate)"
      ]
    },
    {
      "cell_type": "markdown",
      "source": [
        "Training"
      ],
      "metadata": {
        "id": "GE702hNoF_Vy"
      }
    },
    {
      "cell_type": "code",
      "source": [
        "train_scores, valid_scores = train(55, train_dataloader, model, loss_func, optimizer)"
      ],
      "metadata": {
        "colab": {
          "base_uri": "https://localhost:8080/"
        },
        "outputId": "79d29b9e-2642-4055-b18a-47ed529fc17e",
        "id": "DHpzSxPGF_Vy"
      },
      "execution_count": 348,
      "outputs": [
        {
          "output_type": "stream",
          "name": "stdout",
          "text": [
            "Epoch 0 TRAIN Loss: 0.6693282839324739 F1-score: 0.6042932384233373 Precision: 0.6214856732246494 Recall: 0.6164024587935074\n",
            "\tTEST Loss: 0.6226182579994202 F1-score: 0.7479536025399888 Precision: 0.7490401511632584 Recall: 0.7481670739835592\n",
            "Epoch 1 TRAIN Loss: 0.6028736117813323 F1-score: 0.7148824875817164 Precision: 0.7160478559165316 Recall: 0.7151983585383199\n",
            "\tTEST Loss: 0.5487799048423767 F1-score: 0.7640518038762341 Precision: 0.7640538904048558 Recall: 0.7640524327927127\n",
            "Epoch 2 TRAIN Loss: 0.5524996502531899 F1-score: 0.7424359624381301 Precision: 0.7430402782692132 Recall: 0.7425424353664659\n",
            "\tTEST Loss: 0.5058119893074036 F1-score: 0.7760426032372799 Precision: 0.7760795730922421 Recall: 0.776049766718507\n",
            "Epoch 3 TRAIN Loss: 0.5192951237161955 F1-score: 0.7587989209593027 Precision: 0.7593037390505981 Recall: 0.7588684817394579\n",
            "\tTEST Loss: 0.47880879044532776 F1-score: 0.7853804543745683 Precision: 0.7853861626263201 Recall: 0.7853810264385692\n",
            "Epoch 4 TRAIN Loss: 0.5007646398411857 F1-score: 0.7695394765412059 Precision: 0.7699964802840776 Recall: 0.7696149180053548\n",
            "\tTEST Loss: 0.46155494451522827 F1-score: 0.7959325571720365 Precision: 0.7959412694351348 Recall: 0.7959342368362586\n",
            "Epoch 5 TRAIN Loss: 0.4858308384815852 F1-score: 0.7776561422218413 Precision: 0.7781223258360451 Recall: 0.7777169877426373\n",
            "\tTEST Loss: 0.44883739948272705 F1-score: 0.8017107138201717 Precision: 0.8017107164782059 Recall: 0.8017107309486781\n",
            "Epoch 6 TRAIN Loss: 0.47321126278903747 F1-score: 0.7834688139581497 Precision: 0.7838979119295753 Recall: 0.7835172068482262\n",
            "\tTEST Loss: 0.4390358328819275 F1-score: 0.8050086959427566 Precision: 0.805274839232274 Recall: 0.8050433237058432\n",
            "Epoch 7 TRAIN Loss: 0.46377236975563896 F1-score: 0.7891639141745285 Precision: 0.7895466406216702 Recall: 0.7892141482597055\n",
            "\tTEST Loss: 0.4307805597782135 F1-score: 0.8081533009034122 Precision: 0.8081552716235122 Recall: 0.8081537436125306\n",
            "Epoch 8 TRAIN Loss: 0.45694655428330105 F1-score: 0.7927224600877223 Precision: 0.7930575873433161 Recall: 0.7927631750962182\n",
            "\tTEST Loss: 0.4244782626628876 F1-score: 0.810483377939399 Precision: 0.8105033222042932 Recall: 0.8104865585425461\n",
            "Epoch 9 TRAIN Loss: 0.45142754250102574 F1-score: 0.7975581009439193 Precision: 0.797951539972513 Recall: 0.7976054609061245\n",
            "\tTEST Loss: 0.41969022154808044 F1-score: 0.8121521247269918 Precision: 0.8121602341680143 Recall: 0.8121528549211287\n",
            "Epoch 10 TRAIN Loss: 0.4472614758544498 F1-score: 0.7977073495611053 Precision: 0.7981278963677683 Recall: 0.7977773725108768\n",
            "\tTEST Loss: 0.4157460033893585 F1-score: 0.8147061963802963 Precision: 0.8147226471900101 Recall: 0.8147078427016219\n",
            "Epoch 11 TRAIN Loss: 0.4424695430530442 F1-score: 0.800752595036756 Precision: 0.801096607925781 Recall: 0.8008018401731928\n",
            "\tTEST Loss: 0.4123504161834717 F1-score: 0.8158175250710619 Precision: 0.8158243972452226 Recall: 0.8158187069540103\n",
            "Epoch 12 TRAIN Loss: 0.4395792831977208 F1-score: 0.803773675245917 Precision: 0.8040825600802268 Recall: 0.803813234709672\n",
            "\tTEST Loss: 0.409372478723526 F1-score: 0.8169292097453233 Precision: 0.8169308645111782 Recall: 0.8169295712063985\n",
            "Epoch 13 TRAIN Loss: 0.4362147847811381 F1-score: 0.8073563607404122 Precision: 0.807629158160085 Recall: 0.8073939638763387\n",
            "\tTEST Loss: 0.40675094723701477 F1-score: 0.8192508434632781 Precision: 0.819353061236576 Recall: 0.8192623861364141\n",
            "Epoch 14 TRAIN Loss: 0.43275579975710976 F1-score: 0.8072977509236907 Precision: 0.8075847663890856 Recall: 0.8073259836219879\n",
            "\tTEST Loss: 0.4044027626514435 F1-score: 0.8203703975490513 Precision: 0.8203983422757436 Recall: 0.8203732503888025\n",
            "Epoch 15 TRAIN Loss: 0.43182211452060276 F1-score: 0.8070563547170956 Precision: 0.8074138477738126 Recall: 0.8070909941850737\n",
            "\tTEST Loss: 0.40251389145851135 F1-score: 0.8205954077420692 Precision: 0.820596384623666 Recall: 0.8205954232392801\n",
            "Epoch 16 TRAIN Loss: 0.42904699097077054 F1-score: 0.8083882644812744 Precision: 0.8087115319031615 Recall: 0.8084202042545181\n",
            "\tTEST Loss: 0.4008193612098694 F1-score: 0.8216922251189428 Precision: 0.8218179091914662 Recall: 0.8217062874916685\n",
            "Epoch 17 TRAIN Loss: 0.42675762871901196 F1-score: 0.8098451966993995 Precision: 0.810149460969556 Recall: 0.8098984479585006\n",
            "\tTEST Loss: 0.39928558468818665 F1-score: 0.8231504110197734 Precision: 0.8231504110197734 Recall: 0.8231504110197734\n",
            "Epoch 18 TRAIN Loss: 0.42276918556955123 F1-score: 0.8121313519551409 Precision: 0.8123918717826215 Recall: 0.8121682694318942\n",
            "\tTEST Loss: 0.3976050019264221 F1-score: 0.8242589331042205 Precision: 0.8242829567956584 Recall: 0.8242612752721618\n",
            "Epoch 19 TRAIN Loss: 0.42159002357059056 F1-score: 0.813959120985136 Precision: 0.8142683591793439 Recall: 0.8139857607513387\n",
            "\tTEST Loss: 0.3961738049983978 F1-score: 0.823926983929699 Precision: 0.8239386614157914 Recall: 0.8239280159964453\n",
            "Epoch 20 TRAIN Loss: 0.4223496640721957 F1-score: 0.8114823232959483 Precision: 0.8117194510042329 Recall: 0.8115260521251674\n",
            "\tTEST Loss: 0.3953297734260559 F1-score: 0.8241501302563559 Precision: 0.824151719236565 Recall: 0.8241501888469229\n",
            "Epoch 21 TRAIN Loss: 0.4185129205385844 F1-score: 0.8146991096409915 Precision: 0.8149665303623865 Recall: 0.8147364850025101\n",
            "\tTEST Loss: 0.3940543830394745 F1-score: 0.8251497250133508 Precision: 0.825153474918105 Recall: 0.8251499666740725\n",
            "Epoch 22 TRAIN Loss: 0.41854965107308495 F1-score: 0.8126625109361485 Precision: 0.8128810289894245 Recall: 0.812696750543842\n",
            "\tTEST Loss: 0.39317283034324646 F1-score: 0.8255922634608073 Precision: 0.8256137701510635 Recall: 0.8255943123750278\n",
            "Epoch 23 TRAIN Loss: 0.41616738670402104 F1-score: 0.81574985615396 Precision: 0.8159758540387859 Recall: 0.8157715497406293\n",
            "\tTEST Loss: 0.39207008481025696 F1-score: 0.8261466658833776 Precision: 0.8261778644419401 Recall: 0.8261497445012219\n",
            "Epoch 24 TRAIN Loss: 0.41748018314441043 F1-score: 0.81571876958306 Precision: 0.8159821488815129 Recall: 0.8157581497866465\n",
            "\tTEST Loss: 0.3915140926837921 F1-score: 0.8268162480928086 Precision: 0.8268172330348809 Recall: 0.826816263052655\n",
            "Epoch 25 TRAIN Loss: 0.4164329717556636 F1-score: 0.8146417832644102 Precision: 0.814905004003912 Recall: 0.8146907290620817\n",
            "\tTEST Loss: 0.390779048204422 F1-score: 0.8272604147744735 Precision: 0.8272636713027159 Recall: 0.8272606087536103\n",
            "Epoch 26 TRAIN Loss: 0.4156073166264428 F1-score: 0.8159282822038795 Precision: 0.8161281737081647 Recall: 0.8159522857053213\n",
            "\tTEST Loss: 0.39020606875419617 F1-score: 0.8277041231252832 Precision: 0.8277140984363761 Recall: 0.8277049544545656\n",
            "Epoch 27 TRAIN Loss: 0.4137794135345353 F1-score: 0.8164611781408709 Precision: 0.8166738109519742 Recall: 0.8164859960676037\n",
            "\tTEST Loss: 0.38943418860435486 F1-score: 0.8289190684958925 Precision: 0.8289950419655339 Recall: 0.8289269051321928\n",
            "Epoch 28 TRAIN Loss: 0.41112224343750214 F1-score: 0.8163712676034116 Precision: 0.8165925277869707 Recall: 0.8163820647172021\n",
            "\tTEST Loss: 0.3887609541416168 F1-score: 0.8283648500115096 Precision: 0.8284294038495746 Recall: 0.8283714730059987\n",
            "Epoch 29 TRAIN Loss: 0.41084755294852787 F1-score: 0.818272905924725 Precision: 0.8185355113007199 Recall: 0.8183123117469879\n",
            "\tTEST Loss: 0.38817933201789856 F1-score: 0.8284816450743231 Precision: 0.8284925085692785 Recall: 0.8284825594312375\n",
            "Epoch 30 TRAIN Loss: 0.41088150276078117 F1-score: 0.8179667955118146 Precision: 0.8181720238926675 Recall: 0.8179913665076974\n",
            "\tTEST Loss: 0.38757073879241943 F1-score: 0.8290299004937685 Precision: 0.8291082710969078 Recall: 0.8290379915574316\n",
            "Epoch 31 TRAIN Loss: 0.41075292643573547 F1-score: 0.8191333151922894 Precision: 0.8194175799368522 Recall: 0.8191761185366465\n",
            "\tTEST Loss: 0.3869709372520447 F1-score: 0.8293680671273621 Precision: 0.8294009934323691 Recall: 0.8293712508331482\n",
            "Epoch 32 TRAIN Loss: 0.4107898589637544 F1-score: 0.8182716946620667 Precision: 0.8185671061208121 Recall: 0.8183214629350737\n",
            "\tTEST Loss: 0.3865824341773987 F1-score: 0.8294796290895448 Precision: 0.8295080604684699 Recall: 0.829482337258387\n",
            "Epoch 33 TRAIN Loss: 0.4102009062965711 F1-score: 0.8195903958446278 Precision: 0.819789939802713 Recall: 0.8196192975025101\n",
            "\tTEST Loss: 0.3862247169017792 F1-score: 0.828926922020795 Precision: 0.828927266241212 Recall: 0.8289269051321928\n",
            "Epoch 34 TRAIN Loss: 0.40803511689106625 F1-score: 0.819138312621631 Precision: 0.8193567393089792 Recall: 0.8191669673485609\n",
            "\tTEST Loss: 0.38563647866249084 F1-score: 0.8299226386078898 Precision: 0.8299638447288465 Recall: 0.8299266829593424\n",
            "Epoch 35 TRAIN Loss: 0.40599779701895183 F1-score: 0.8195080089341684 Precision: 0.8196864795249124 Recall: 0.8195241905120482\n",
            "\tTEST Loss: 0.38511860370635986 F1-score: 0.8304786173938902 Precision: 0.8305148039967851 Recall: 0.8304821150855366\n",
            "Epoch 36 TRAIN Loss: 0.40812449819511837 F1-score: 0.8202637466434082 Precision: 0.8204468168570589 Recall: 0.8202837391231593\n",
            "\tTEST Loss: 0.3848695755004883 F1-score: 0.8310319278909379 Precision: 0.8310883594300263 Recall: 0.8310375472117307\n",
            "Epoch 37 TRAIN Loss: 0.40726998696724576 F1-score: 0.8195825473638575 Precision: 0.8197778264332869 Recall: 0.8196143950803213\n",
            "\tTEST Loss: 0.38454243540763855 F1-score: 0.8309253758530052 Precision: 0.8309381543645441 Recall: 0.8309264607864919\n",
            "Epoch 38 TRAIN Loss: 0.4059141269988484 F1-score: 0.8222662703332397 Precision: 0.822545395824446 Recall: 0.8223002687834673\n",
            "\tTEST Loss: 0.3840513229370117 F1-score: 0.8320268946577069 Precision: 0.8321289379435051 Recall: 0.8320373250388803\n",
            "Epoch 39 TRAIN Loss: 0.404249918129709 F1-score: 0.8209800504312827 Precision: 0.8212097475692569 Recall: 0.8210024342160307\n",
            "\tTEST Loss: 0.38359832763671875 F1-score: 0.8314775112090496 Precision: 0.8315224055673526 Recall: 0.831481892912686\n",
            "Epoch 40 TRAIN Loss: 0.40300670514504117 F1-score: 0.8214741849385049 Precision: 0.821696165656645 Recall: 0.8214910422941767\n",
            "\tTEST Loss: 0.38320302963256836 F1-score: 0.8312549410923585 Precision: 0.8313035289711689 Recall: 0.8312597200622084\n",
            "Epoch 41 TRAIN Loss: 0.40391030576494 F1-score: 0.8231718540710505 Precision: 0.8233334553507701 Recall: 0.8231817242930054\n",
            "\tTEST Loss: 0.3828749358654022 F1-score: 0.8315898370866412 Precision: 0.8316229015839376 Recall: 0.8315929793379249\n",
            "Epoch 42 TRAIN Loss: 0.40408515599038863 F1-score: 0.8209021017551225 Precision: 0.8211042484876041 Recall: 0.8209210540076974\n",
            "\tTEST Loss: 0.3826483488082886 F1-score: 0.8319238596353973 Precision: 0.8319495907129479 Recall: 0.8319262386136415\n",
            "Epoch 43 TRAIN Loss: 0.40434865405162174 F1-score: 0.822248958640904 Precision: 0.8225442658185905 Recall: 0.8222819664072959\n",
            "\tTEST Loss: 0.382435142993927 F1-score: 0.8315901529792193 Precision: 0.8316201669978359 Recall: 0.8315929793379249\n",
            "Epoch 44 TRAIN Loss: 0.4023630867401759 F1-score: 0.8216890581907039 Precision: 0.8218402504169364 Recall: 0.8217077293549196\n",
            "\tTEST Loss: 0.3820417821407318 F1-score: 0.8323645707610082 Precision: 0.8324253104207777 Recall: 0.8323705843145968\n",
            "Epoch 45 TRAIN Loss: 0.40345335089498097 F1-score: 0.8219031155706064 Precision: 0.8220899609920012 Recall: 0.8219204944779117\n",
            "\tTEST Loss: 0.3818058669567108 F1-score: 0.8319232622885305 Precision: 0.8319548028220383 Recall: 0.8319262386136415\n",
            "Epoch 46 TRAIN Loss: 0.40264692902565 F1-score: 0.8228920986210093 Precision: 0.8231392429274682 Recall: 0.8229196081199799\n",
            "\tTEST Loss: 0.38150545954704285 F1-score: 0.8322553247786795 Precision: 0.8322984810285708 Recall: 0.8322594978893579\n",
            "Epoch 47 TRAIN Loss: 0.4020239081647661 F1-score: 0.8243175325869534 Precision: 0.8245089972727443 Recall: 0.8243439251798862\n",
            "\tTEST Loss: 0.38122981786727905 F1-score: 0.8322563680744248 Precision: 0.8322894740294081 Recall: 0.8322594978893579\n",
            "Epoch 48 TRAIN Loss: 0.400381105641524 F1-score: 0.8258589893906538 Precision: 0.8260604168368151 Recall: 0.8258855735441767\n",
            "\tTEST Loss: 0.3808896839618683 F1-score: 0.832142829088236 Precision: 0.8321993805260749 Recall: 0.8321484114641191\n",
            "Epoch 49 TRAIN Loss: 0.4006054434511397 F1-score: 0.8243695226153027 Precision: 0.8245573481005276 Recall: 0.8243890274640228\n",
            "\tTEST Loss: 0.3806949555873871 F1-score: 0.832363643971337 Precision: 0.832433155890465 Recall: 0.8323705843145968\n",
            "Epoch 50 TRAIN Loss: 0.40127237058348125 F1-score: 0.8233966937821005 Precision: 0.8235918241930436 Recall: 0.8234167137299196\n",
            "\tTEST Loss: 0.3805430233478546 F1-score: 0.832592569173718 Precision: 0.8325958539302165 Recall: 0.8325927571650744\n",
            "Epoch 51 TRAIN Loss: 0.4014794346359041 F1-score: 0.8222651454428749 Precision: 0.822468983168291 Recall: 0.8222953663612784\n",
            "\tTEST Loss: 0.3803369700908661 F1-score: 0.8325887762129914 Precision: 0.8326301911083341 Recall: 0.8325927571650744\n",
            "Epoch 52 TRAIN Loss: 0.40029056121905643 F1-score: 0.8236638971124011 Precision: 0.8238612902858358 Recall: 0.823679156731091\n",
            "\tTEST Loss: 0.3800671398639679 F1-score: 0.832365431342624 Precision: 0.8324179904312027 Recall: 0.8323705843145968\n",
            "Epoch 53 TRAIN Loss: 0.40035513126187855 F1-score: 0.8228433650499546 Precision: 0.8230451800969324 Recall: 0.8228833301957832\n",
            "\tTEST Loss: 0.3798489272594452 F1-score: 0.8326976169500588 Precision: 0.8327605342805595 Recall: 0.8327038435903132\n",
            "Epoch 54 TRAIN Loss: 0.39895721193816924 F1-score: 0.8258701828313805 Precision: 0.8260888705981969 Recall: 0.8258855735441767\n",
            "\tTEST Loss: 0.3796013593673706 F1-score: 0.8331447466091896 Precision: 0.8331811156276981 Recall: 0.8331481892912687\n"
          ]
        }
      ]
    },
    {
      "cell_type": "markdown",
      "source": [
        "Plots"
      ],
      "metadata": {
        "id": "tEq0_7gjF_Vy"
      }
    },
    {
      "cell_type": "code",
      "source": [
        "plot_metrics(55, valid_scores, train_scores)\n",
        "plot_roc(model, X, y, Xval, yval)"
      ],
      "metadata": {
        "colab": {
          "base_uri": "https://localhost:8080/",
          "height": 553
        },
        "outputId": "5329f4fd-41b5-49e9-d8fc-daafde3a408c",
        "id": "7yURIP_ZF_Vy"
      },
      "execution_count": 349,
      "outputs": [
        {
          "output_type": "display_data",
          "data": {
            "text/plain": [
              "<Figure size 1440x360 with 4 Axes>"
            ],
            "image/png": "[encoded data removed]"
          },
          "metadata": {
            "needs_background": "light"
          }
        },
        {
          "output_type": "display_data",
          "data": {
            "text/plain": [
              "<Figure size 432x288 with 1 Axes>"
            ],
            "image/png": "[encoded data removed]"
          },
          "metadata": {
            "needs_background": "light"
          }
        }
      ]
    },
    {
      "cell_type": "markdown",
      "source": [
        "Testing"
      ],
      "metadata": {
        "id": "c1v_Nw8RF_Vz"
      }
    },
    {
      "cell_type": "code",
      "source": [
        "# Here you can see scores for test set you provided\n",
        "test(model, Xtest, ytest)"
      ],
      "metadata": {
        "colab": {
          "base_uri": "https://localhost:8080/",
          "height": 351
        },
        "outputId": "60cc6523-f020-47a9-b3dd-c5d8e00969d1",
        "id": "0D4zKZxxF_Vz"
      },
      "execution_count": 350,
      "outputs": [
        {
          "output_type": "stream",
          "name": "stdout",
          "text": [
            "F1 score:  0.8316825988006803\n",
            "precision score:  0.831729482044777\n",
            "recall score:  0.8316978337344936\n",
            "Accuracy:  0.8316978337344936\n"
          ]
        },
        {
          "output_type": "display_data",
          "data": {
            "text/plain": [
              "<Figure size 432x288 with 2 Axes>"
            ],
            "image/png": "[encoded data removed]"
          },
          "metadata": {
            "needs_background": "light"
          }
        }
      ]
    }
  ],
  "metadata": {
    "colab": {
      "collapsed_sections": [
        "8hiL2rnuE5ry",
        "74QJkz6XFbt9",
        "7lb6JuDoFxrR",
        "n3AfzzLtwwP-",
        "Tts5jt_Xw7iR",
        "yzXju_EaUag4",
        "xJUie5ugE0pT",
        "WaY5RUu-ESaO",
        "6vZumtanNRDz",
        "nHGnZqC0xZzR",
        "U0UQxP45ydgI",
        "S8OkXWqkOHtW",
        "qpTxNCpOjqOa",
        "9U1ULF9XjiYI",
        "mNZMQG63khX3",
        "XANrsQ0vPClB"
      ],
      "provenance": []
    },
    "kernelspec": {
      "display_name": "Python 3",
      "name": "python3"
    },
    "language_info": {
      "name": "python"
    }
  },
  "nbformat": 4,
  "nbformat_minor": 0
}